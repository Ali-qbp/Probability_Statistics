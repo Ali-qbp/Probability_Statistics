{
 "cells": [
  {
   "cell_type": "markdown",
   "metadata": {},
   "source": [
    "<div style=\"direction:rtl;line-height:300%;\">\n",
    "\t<font face=\"XB Zar\" size=5>\n",
    "\t\t<div align=center>\n",
    "\t\t\t<font face=\"IranNastaliq\" size=30>\n",
    "\t\t\t\t<p></p>\n",
    "\t\t\t\t<p></p>\n",
    "به نام خدا\n",
    "\t\t\t\t<p></p>\n",
    "\t\t\t</font>\n",
    "\t\t\t<font color=#FF7500>\n",
    "دانشگاه صنعتی شریف - دانشکده مهندسی کامپیوتر\n",
    "            </font>\n",
    "\t\t\t<p></p>\n",
    "\t\t\t<font color=blue>\n",
    "آمار و احتمال مهندسی\n",
    "            </font>\n",
    "\t\t\t<br />\n",
    "\t\t\t<br />\n",
    "پاییز ۱۳۹۷\n",
    "\t\t</div>\n",
    "\t\t<hr/>\n",
    "\t\t<font color=red size=6>\n",
    "\t\t\t<br />\n",
    "\t\t\t<div align=center>\n",
    "توزیع مزدوج پیشین\n",
    "            </div>\n",
    "\t\t</font>\n",
    "\t\t<br />\n",
    "\t\t<div align=center>\n",
    "رسول اخوان مهدوی\n",
    "        </div>\n",
    "\t\t<hr />\n",
    "\t\t<style type=\"text/css\" scoped>\n",
    "        p{\n",
    "        border: 1px solid #a2a9b1;background-color: #f8f9fa;display: inline-block;\n",
    "        };\n",
    "        </style>\n",
    "\t\t<div>\n",
    "\t\t\t<h3>فهرست مطالب</h3>\n",
    "\t\t\t<ul style=\"margin-right: 0;\">\n",
    "\t\t\t\t<li>\n",
    "                    <a href=\"#sec_intro_to_intro\">\n",
    "                        مقدمه\n",
    "                    </a>\n",
    "                </li>\n",
    "                <li>\n",
    "\t\t\t\t\t<a href=\"#sec_intro\">\n",
    "                        تعریف مسئله\n",
    "                    </a>\n",
    "\t\t\t\t</li>\n",
    "                <li>\n",
    "\t\t\t\t\t<a href=\"#sec_problem\">\n",
    "                        تعریف توزیع مزدوج پیشین\n",
    "                    </a>\n",
    "\t\t\t\t</li>\n",
    "                <li>\n",
    "\t\t\t\t\t<a href=\"#sec_t_test\">\n",
    "                        چرا اینکار را میکنیم؟\n",
    "                    </a>\n",
    "\t\t\t\t</li>\n",
    "                <li>\n",
    "\t\t\t\t\t<a href=\"#sec_conc\">\n",
    "نتیجه‌گیری\n",
    "                    </a>\n",
    "\t\t\t\t</li>\n",
    "\t\t\t</ul>\n",
    "\t\t</div>\n",
    "\t</font>\n",
    "</div>"
   ]
  },
  {
   "cell_type": "markdown",
   "metadata": {},
   "source": [
    "<p></p>\n",
    "<br />\n",
    "<div id=\"sec_intro_to_intro\" style=\"direction:rtl;line-height:300%;\">\n",
    "\t<font face=\"XB Zar\" size=5>\n",
    "\t\t<font color=#FF7500 size=6>\n",
    "مقدمه\n",
    "        </font>\n",
    "\t\t<p></p>\n",
    "\t\t<hr>\n",
    "         در قسمتهای قبلی با توزیع های پیشین و پسین برای یک پارامتر آشنا شدیم. حال می‌خواهیم بررسی کنیم که چطور بایستی این دو توزیع را به هم ارتباط دهیم. \n",
    "        <br>\n",
    "        جواب: از طریق درست نمایی! خب درست است. اما بیاید نگاهی به فرمول بیز بیندازید:\n",
    "        $$\n",
    "        P(\\theta|x) = \\frac{P(x|\\theta) P(\\theta)}{\\int_\\theta P(x|\\theta) P(\\theta)}\n",
    "        $$\n",
    "        به نظر سرراست می‌آید، اما با یک نگاه دقیق تر میبینید یک انتگرال در مخرج کسر خودنمایی میکند .\n",
    "        <br \\>\n",
    "        در این نوشته خواهیم دید که این مسئله چگونه باعث ایجاد مشکل میشود و چگونه میتوانیم اقدام به حل آن بکنیم.\n",
    "\t</font>\n",
    "</div>"
   ]
  },
  {
   "cell_type": "markdown",
   "metadata": {},
   "source": [
    "<p></p>\n",
    "<br />\n",
    "<div id=\"sec_intro\" style=\"direction:rtl;line-height:300%;\">\n",
    "\t<font face=\"XB Zar\" size=5>\n",
    "\t\t<font color=#FF7500 size=6>\n",
    "تعریف مسئله\n",
    "        </font>\n",
    "\t\t<p></p>\n",
    "\t\t<hr>\n",
    "        فرض کنید\n",
    "        $N$\n",
    "        سکه یکسان داریم که از سالم و ناسالم بودن آن هیچ اطلاعی ندارید. این سکه‌ها مانند یک توزیع دوجمله‌ای با پارامترهای\n",
    "        $N$\n",
    "        و\n",
    "        $P$\n",
    "        است که یک توزیع پیشین روی\n",
    "        $P$\n",
    "        داریم و میخوایم آن را بروزرسانی کنیم. با توجه به اینکه هیچ اطلاعی از سکه نداریم شاید توزیع پیشین پارامتر سکه را خطی در نظر بگیریم. طوری که\n",
    "        $$ \\mathbb{P}_P(p) = 2 p \\ \\ \\ \\ \\ p \\in [0,1] $$\n",
    "        (میتوانید بررسی کنید که این یک توزیع است)\n",
    "        حال توزیع پسین را محاسبه می‌کنیم. فرض کنید نمونه\n",
    "        x\n",
    "        را مشاهده کردیم:\n",
    "        $$\n",
    "        P(p|x) = \\frac{P(x|p) P(p)}{P(x)} = \\frac{P(x|p) P(p)}{\\int_{p'} P(x|p') P(p') d p '} = \n",
    "        \\frac{\\Pi \\beta ^ {x_i}(1 - \\beta) ^ {1 - x_i} \\times 2\\beta}\n",
    "        {\\int_{p'} \\Pi p' ^ {x_i}(1 - p') ^ {1 - x_i} \\times 2 p ' d p '} \n",
    "        $$\n",
    "        به نظر می‌آید با ساده سازی روابط به دست آمده می‌توان به توزیع پسین رسید. اما چند مشکل وجود دارد.:\n",
    "        <ul>\n",
    "            <li>\n",
    "                ممکن است محاسبه انتگرال موجود در مخرج کار مشکلی باشد و جواب تحلیلی نداشته باشد.\n",
    "            <li>\n",
    "                این روش الگوریتمیک نیست و برای دفعات بعد قابل استفاده نیست.\n",
    "        </ul>\n",
    "        شاید بتوان مشکل اول را با استفاده از روشهای عددی برای محاسبه انتگرال حل کرد، اما برای دفعات بعد باز با همین مشکل مواجه خواهیم بود که همان مشکل دوم خواهد بود.\n",
    "        به عبارتی اگر مشاهداتی جدید داشته باشیم مجبوریم دوباره همه این معادلات را نوشته و حل کنیم.\n",
    "        <br/>\n",
    "        میخواهیم با استفاده از مفهوم مزدوج پیشین این مشکلات را برطرف کنیم.\n",
    "        <br/>\n",
    "        اصولا در اکثر سناریو های موجود، تابع درستنمایی از شرایط طبیعی حاکم بر مسئله قابل استنتاج. پس ابزاری که در دست ما هست توزیع پیشین است. توزیع پیشین ابزاری برای مدل کردن توزیع احتمالاتی پارامتر مورد بحث است و تلاش برای این است که این مدل سازی تا حد ممکن به واقعیت نزدیک شود. اما اگر محدودیت های ریاضی مانع این کار شوند که فایده ای ندارد! برای همین با استنتاج تابع درستنمایی از شرایط حاکم بر مسئله، توزیعی را به عنوان توزیع پیشین متغیر انتخاب میکنیم که توانایی بروز شدن را داشته باشد.\n",
    "        \n",
    "    </font>\n",
    "</div>"
   ]
  },
  {
   "cell_type": "markdown",
   "metadata": {},
   "source": [
    "<p></p>\n",
    "<br />\n",
    "<div id=\"sec_intro\" style=\"direction:rtl;line-height:300%;\">\n",
    "    <font face=\"XB Zar\" size=5>\n",
    "        <font color=#FF7500 size=6>\n",
    "راه‌حل\n",
    "        </font>\n",
    "        <br/>\n",
    "        مثال قسمت قبل را اینگونه حل می‌کنیم. توزیع پیشین سکه را از خانواده\n",
    "        [توزیع بتا](https://en.wikipedia.org/wiki/Beta_distribution)\n",
    "        انتخاب می‌کنیم. تابع چگالی احتمال آن به این صورت است:\n",
    "        $$\n",
    "        f(x) = \\frac{x ^ {\\alpha - 1} (1 - x) ^ {\\beta - 1}}{B(\\alpha, \\beta)} \n",
    "        $$\n",
    "        که\n",
    "        $ B(\\alpha, \\beta) $ \n",
    "        ثابتی وابسته پارامترهای توزیع است و نرمالسازی را انجام می‌دهد.\n",
    "        <br>\n",
    "        توزیع پسین به این شکل خواهد بود:\n",
    "        $$\n",
    "        P(\\mu|x) = \\frac{P(x|\\mu) P(\\mu)}{\\int_{\\mu'} P(x|\\mu') P(\\mu')} = \n",
    "        \\frac{\\Pi \\mu ^ {x_i}(1 - \\mu) ^ {1 - x_i} \\times \\frac{\\mu ^ {\\alpha - 1} (1 - \\mu) ^ {\\beta - 1}}{B(\\alpha, \\beta)} }\n",
    "        {C}\n",
    "        = \\frac{1}{C * B(\\alpha, \\beta)} \\mu ^ {\\alpha + \\Sigma x_i - 1} (1 - \\mu) ^ {\\beta + N - \\Sigma x_i - 1}\n",
    "        = \\frac{\\mu ^ {\\alpha + \\Sigma x_i - 1} (1 - \\mu) ^ {\\beta + N - \\Sigma x_i - 1}}\n",
    "               {B(\\alpha + \\Sigma x_i , \\beta + N - \\Sigma x_i)}\n",
    "        $$\n",
    "       همانطور که دیده می‌شود، توزیع پیشین از همان خانواده توزیع پسین است و صرفا پارامترهای آن تغییر کرده است. در مخرج کسر هم یک ثابت داشتیم که از محاسبه آن بی‌نیاز شدیم. دلیل این بود که این ثابت صرفاً برای اینکه تابع مورد نظر\n",
    "       \"توزیع\"\n",
    "       (انتگرال زیر آن یک باشد)\n",
    "       قرار وجود دارد و لازم نیست در مراحل میانی محاسبه شود و قبلا برای توزیع بتا حساب شده است.\n",
    "    </font>\n",
    "</div>"
   ]
  },
  {
   "cell_type": "markdown",
   "metadata": {},
   "source": [
    "<p></p>\n",
    "<br/>\n",
    "<div id=\"sec_conc\" style=\"direction:rtl;line-height:300%;\">\n",
    "\t<font face=\"XB Zar\" size=5>\n",
    "\t\t<font color=#FF7500 size=6>\n",
    "بیایید به حقیقت برسیم\n",
    "        </font>\n",
    "\t\t<p></p>\n",
    "\t\t<hr>\n",
    "        در نمودار زیر، روند بروزرسانی فرض خود درباره سکه‌ها را میتوانیم مشاهده کنیم\n",
    "\t</font>\n",
    "</div>"
   ]
  },
  {
   "cell_type": "code",
   "execution_count": 54,
   "metadata": {},
   "outputs": [],
   "source": [
    "pl.beta <- function(a,b, asp = if(isLim) 1, ylim = if(isLim) c(0,1.1)) {\n",
    "  isLim <- a == 0\n",
    "  x <- seq(0, 1, length = 1025)\n",
    "  fx <- cbind(dbeta(x, a, b))\n",
    "  matplot(x, fx, ylab=\"\", type=\"l\", ylim=ylim, asp=asp,main = sprintf(\"As we learn...\"))\n",
    "  legend(\"topright\", sprintf(\"beta(x, %d,%d)\", a, b),\n",
    "         col=1:3, lty=1:3, bty = \"n\")\n",
    "}"
   ]
  },
  {
   "cell_type": "code",
   "execution_count": 55,
   "metadata": {},
   "outputs": [],
   "source": [
    "# Set the initial parameters, and the number of observations\n",
    "init_a=1; init_b=1; N = 100000;"
   ]
  },
  {
   "cell_type": "code",
   "execution_count": 62,
   "metadata": {},
   "outputs": [
    {
     "data": {
      "image/png": "[encoded data removed]",
      "text/plain": [
       "Plot with title \"As we learn...\""
      ]
     },
     "metadata": {},
     "output_type": "display_data"
    }
   ],
   "source": [
    "a = init_a; b = init_b;\n",
    "p = 0.3\n",
    "y <- rbinom(n = 1, N, p)\n",
    "a = a + y; b = b + N - y;\n",
    "\n",
    "pl.beta(a, b)"
   ]
  },
  {
   "cell_type": "markdown",
   "metadata": {},
   "source": [
    "<p></p>\n",
    "<br />\n",
    "<div id=\"sec_problem\" style=\"direction:rtl;line-height:300%;\">\n",
    "\t<font face=\"XB Zar\" size=5>\n",
    "\t\t<font color=#FF7500 size=6>\n",
    "تعریف توزیع مزدوج پیشین\n",
    "        </font>\n",
    "\t\t<p></p>\n",
    "\t\t<hr>\n",
    "        اگر توزیع های پیشین و پسین یک برای یک پارامتر در یک خانواده قرار بگیرند، این دو توزیع مزدوج خواهند بود و توزیع درستنمایی منتاظر با این توزیع، توزیع مزدوج آن خانواده است.\n",
    "<br />\n",
    "        در مثال بالا، توزیع بتا، مزدوج پیشین توزیع برنولی است.\n",
    "</font>\n",
    "</div>"
   ]
  },
  {
   "cell_type": "markdown",
   "metadata": {},
   "source": [
    "<div style=\"direction:rtl;line-height:300%;\">\n",
    "    <font face=\"XB Zar\" size=5>\n",
    "        تمرین ۱:\n",
    "        <br \\>\n",
    "        سعی کنید ثابت کنید توزیع مزدوج نرمال، نرمال است.\n",
    "        </font>\n",
    "</div>"
   ]
  },
  {
   "cell_type": "markdown",
   "metadata": {},
   "source": [
    "<p></p>\n",
    "<br />\n",
    "<div id=\"sec_problem\" style=\"direction:rtl;line-height:300%;\">\n",
    "\t<font face=\"XB Zar\" size=5>\n",
    "\t\t<font color=#FF7500 size=6>\n",
    "از کجا شروع کنیم؟\n",
    "        </font>\n",
    "\t\t<p></p>\n",
    "\t\t<hr>\n",
    "        حال آخرین سوالی که پیش می‌آید این است که مقدار اولیه پارامتر‌های توزیع پیشین را چه قرار دهیم؟\n",
    "        <br>\n",
    "        با قرار دادن مقادیر مختلف به عنوان پارامتر‌های توزیع پیشین میتوان تاثیر توزیع پیشین را در توزیع نهایی تغییر داد. مثلا\n",
    "        $Beta(2, 2)$\n",
    "        و\n",
    "        $Beta(10, 10)$\n",
    "        هر دو توزیع‌هایی با میانگین ۱ هستند، اما واریانس دومی کمتر از اولی هست و اطلاعات دقیقتری درباره توزیع در اختیار قرار ما قرار می‌دهد.\n",
    "        به شکل زیر دقت کنید:\n",
    "</font>\n",
    "</div>"
   ]
  },
  {
   "cell_type": "code",
   "execution_count": 48,
   "metadata": {},
   "outputs": [],
   "source": [
    "#Set your paratemers \n",
    "small_a=2;small_b=2;\n",
    "big_a=20; big_b=20;"
   ]
  },
  {
   "cell_type": "code",
   "execution_count": 47,
   "metadata": {},
   "outputs": [
    {
     "data": {
      "image/png": "[encoded data removed]",
      "text/plain": [
       "Plot with title \"How good is the prior??\""
      ]
     },
     "metadata": {},
     "output_type": "display_data"
    }
   ],
   "source": [
    "asp = if(isLim) 1;\n",
    "ylim = if(isLim) c(0,1.1);\n",
    "isLim <- a == 0\n",
    "x <- seq(0, 1, length = 1025)\n",
    "fx <- cbind(dbeta(x, small_a, small_b), dbeta(x, big_a, big_b))\n",
    "matplot(x, fx, ylab=\"\", type=\"l\", ylim=ylim, asp=asp,main = sprintf(\"How good is the prior??\"))\n",
    "legend(\"topright\",\n",
    "       paste0(c(sprintf(\"beta(%d,%d)\", small_a, small_b),  sprintf(\"beta(%d,%d)\", big_a, big_b))),\n",
    "     col=1:2, lty=1:2, bty = \"n\")\n",
    "\n"
   ]
  },
  {
   "cell_type": "markdown",
   "metadata": {},
   "source": [
    "<p></p>\n",
    "<br />\n",
    "<div id=\"sec_problem\" style=\"direction:rtl;line-height:300%;\">\n",
    "\t<font face=\"XB Zar\" size=5>\n",
    "\t\t<font color=#FF7500 size=6>\n",
    "        </font>\n",
    "\t\tشهود دیگری که برای این مسئله میتوان ارائه داد این است که مقادیر اولیه\n",
    "        $\\alpha$\n",
    "        و\n",
    "        $\\beta$\n",
    "        مانند داده‌هایی فرضی هستند که در کنار داده‌هایی که از این بعد دریافت خواهند شد قرار خواهند گرفت\n",
    "</font>\n",
    "</div>"
   ]
  },
  {
   "cell_type": "markdown",
   "metadata": {},
   "source": [
    "<p></p>\n",
    "<br/>\n",
    "<div id=\"sec_conc\" style=\"direction:rtl;line-height:300%;\">\n",
    "\t<font face=\"XB Zar\" size=5>\n",
    "\t\t<font color=#FF7500 size=6>\n",
    "خلاصه و نتیجه‌گیری\n",
    "        </font>\n",
    "\t\t<p></p>\n",
    "\t\t<hr>\n",
    "        می‌توانیم فواید استفاده از توزیع مزدوج را به صورت زیر خلاصه کنیم:\n",
    "        <ul>\n",
    "            <li>\n",
    "            محاسبات را برای محاسبه توزیع پسین آسان می‌کند.\n",
    "            </li>\n",
    "            <li>\n",
    "                امکان استفاده از آن به صورت الگوریتمیک برای به روزرسانی پارامترهای توزیع وجود دارد.\n",
    "            </li>\n",
    "\n",
    "        </ul>\n",
    "\t</font>\n",
    "</div>"
   ]
  },
  {
   "cell_type": "markdown",
   "metadata": {},
   "source": [
    "<p></p>\n",
    "<br/>\n",
    "<div id=\"sec_refs\" style=\"direction:rtl;line-height:300%;\">\n",
    "\t<font face=\"XB Zar\" size=5>\n",
    "\t\t<font color=#FF7500 size=6>\n",
    "منابع\n",
    "        </font>   \n",
    "        <ul>\n",
    "            <li>\n",
    "            Jeremy Orloff, and Jonathan Bloom. 18.05 Introduction to Probability and Statistics. Spring 2014. Massachusetts Institute of Technology: MIT OpenCourseWare, https://ocw.mit.edu. License: Creative Commons BY-NC-SA.\n",
    "            </li>\n",
    "            <li>https://en.wikipedia.org/wiki/Conjugate_prior</li>\n",
    "        </ul>\n",
    "\t</font>\n",
    "</div>"
   ]
  },
  {
   "cell_type": "code",
   "execution_count": 7,
   "metadata": {},
   "outputs": [
    {
     "data": {
      "image/png": "[encoded data removed]",
      "text/plain": [
       "Plot with title \"[dpq]beta(x, a=2, b=4)\""
      ]
     },
     "metadata": {},
     "output_type": "display_data"
    },
    {
     "data": {
      "image/png": "[encoded data removed]",
      "text/plain": [
       "Plot with title \"[dpq]beta(x, a=3, b=7)\""
      ]
     },
     "metadata": {},
     "output_type": "display_data"
    }
   ],
   "source": [
    "pl.beta(2, 4)\n",
    "pl.beta(3, 7)\n",
    "#pl.beta(3, 7, asp=1)\n",
    "\n",
    "\n",
    "#pl.beta(0, 0)   ## point masses at  {0, 1}\n",
    "\n",
    "#pl.beta(0, 2)   ## point mass at 0 ; the same as\n",
    "#pl.beta(1, Inf)\n",
    "\n",
    "#pl.beta(Inf, 2) ## point mass at 1 ; the same as\n",
    "#pl.beta(3, 0)\n",
    "\n",
    "#pl.beta(Inf, Inf)# point mass at 1/2\n"
   ]
  }
 ],
 "metadata": {
  "kernelspec": {
   "display_name": "R",
   "language": "R",
   "name": "ir"
  },
  "language_info": {
   "codemirror_mode": "r",
   "file_extension": ".r",
   "mimetype": "text/x-r-source",
   "name": "R",
   "pygments_lexer": "r",
   "version": "3.5.1"
  },
  "latex_envs": {
   "LaTeX_envs_menu_present": true,
   "autoclose": false,
   "autocomplete": true,
   "bibliofile": "biblio.bib",
   "cite_by": "apalike",
   "current_citInitial": 1,
   "eqLabelWithNumbers": true,
   "eqNumInitial": 1,
   "hotkeys": {
    "equation": "Ctrl-E",
    "itemize": "Ctrl-I"
   },
   "labels_anchors": false,
   "latex_user_defs": false,
   "report_style_numbering": false,
   "user_envs_cfg": false
  },
  "toc": {
   "base_numbering": 1,
   "nav_menu": {},
   "number_sections": true,
   "sideBar": true,
   "skip_h1_title": false,
   "title_cell": "Table of Contents",
   "title_sidebar": "Contents",
   "toc_cell": false,
   "toc_position": {},
   "toc_section_display": true,
   "toc_window_display": false
  },
  "varInspector": {
   "cols": {
    "lenName": 16,
    "lenType": 16,
    "lenVar": 40
   },
   "kernels_config": {
    "python": {
     "delete_cmd_postfix": "",
     "delete_cmd_prefix": "del ",
     "library": "var_list.py",
     "varRefreshCmd": "print(var_dic_list())"
    },
    "r": {
     "delete_cmd_postfix": ") ",
     "delete_cmd_prefix": "rm(",
     "library": "var_list.r",
     "varRefreshCmd": "cat(var_dic_list()) "
    }
   },
   "types_to_exclude": [
    "module",
    "function",
    "builtin_function_or_method",
    "instance",
    "_Feature"
   ],
   "window_display": false
  }
 },
 "nbformat": 4,
 "nbformat_minor": 1
}
