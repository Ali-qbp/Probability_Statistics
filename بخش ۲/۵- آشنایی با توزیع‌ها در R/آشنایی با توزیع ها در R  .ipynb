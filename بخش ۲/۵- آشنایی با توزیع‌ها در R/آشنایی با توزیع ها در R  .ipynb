{
 "cells": [
  {
   "cell_type": "markdown",
   "metadata": {},
   "source": [
    "<div style=\"direction:rtl;line-height:300%;\">\n",
    "\t<font face=\"XB Zar\" size=5>\n",
    "\t\t<div align=center>\n",
    "\t\t\t<font face=\"IranNastaliq\" size=30>\n",
    "\t\t\t\t<p></p>\n",
    "\t\t\t\t<p></p>\n",
    "به نام خدا\n",
    "\t\t\t\t<p></p>\n",
    "\t\t\t</font>\n",
    "\t\t\t<font color=#FF7500>\n",
    "دانشگاه صنعتی شریف - دانشکده مهندسی کامپیوتر\n",
    "            </font>\n",
    "\t\t\t<p></p>\n",
    "\t\t\t<font color=blue>\n",
    "آمار و احتمال مهندسی\n",
    "            </font>\n",
    "\t\t\t<br />\n",
    "\t\t\t<br />\n",
    "پاییز ۱۳۹۷\n",
    "\t\t</div>\n",
    "\t\t<hr/>\n",
    "\t\t<font color=red size=6>\n",
    "\t\t\t<br />\n",
    "\t\t\t<div align=center>\n",
    "آشنایی با توزیع ها\n",
    "                در\n",
    "                R\n",
    "            </div>\n",
    "\t\t</font>\n",
    "                    \t\t<div align=center>\n",
    "            آیدا رمضانی\n",
    "           </div>\n",
    "\t\t<br />\n",
    "\t\t<hr />\n",
    "\t\t<style type=\"text/css\" scoped>\n",
    "        p{\n",
    "        border: 1px solid #a2a9b1;background-color: #f8f9fa;display: inline-block;\n",
    "        };\n",
    "        </style>\n",
    "\t\t<div>\n",
    "\t\t\t<h3>فهرست مطالب</h3>\n",
    "\t\t\t<ul style=\"margin-right: 0;\">\n",
    "                <li>\n",
    "\t\t\t\t\t<a href=\"#sec_intro\">\n",
    "                        مقدمه\n",
    "                    </a>\n",
    "\t\t\t\t</li>\n",
    "                <li>\n",
    "\t\t\t\t\t<a href=\"#sec_R\">\n",
    "                        انواع توزیع ها در\n",
    "                        R\n",
    "                    </a>\n",
    "\t\t\t\t</li>\n",
    "                <li><a href = \"#sec_binomial\">  توزیع دو جمله ای </a></li>\n",
    "                <li><a href = \"#sec_poisson\">\n",
    "                    توزیع پوآسون\n",
    "                    </a>\n",
    "                </li>\n",
    "                <li> <a href =\"#sec_unifrom\"> توزیع یکنواخت  \n",
    "                </a>\n",
    "                </li>\n",
    "                <li> <a href =\"#sec_normal\"> توزیع نرمال</a></li>\n",
    "                <li> <a href =\"#sec_exponential\"> توزیع نمایی</a> </li>\n",
    "                <li><a href =\"#sec_geometric\"> توزیع هندسی </a></li>\n",
    "                <li>\n",
    "\t\t\t\t\t<a href=\"#sec_con\">\n",
    "خلاصه و نتیجه‌گیری \n",
    "                    </a>\n",
    "\t\t\t\t</li>\n",
    "                <li>\n",
    "\t\t\t\t\t<a href=\"#sec_resource\">\n",
    "منابع\n",
    "                    </a>\n",
    "\t\t\t\t</li>\n",
    "\t\t\t</ul>\n",
    "\t\t</div>\n",
    "\t</font>\n",
    "</div>"
   ]
  },
  {
   "cell_type": "markdown",
   "metadata": {},
   "source": [
    "<div id=\"#sec_intro\" style=\"direction:rtl;line-height:300%;\">\n",
    "\t<font face=\"XB Zar\" size=5>\n",
    "\t\t<font color=#FF7500 size=6>\n",
    "مقدمه\n",
    "        </font>\n",
    "\t\t<p></p>\n",
    "\t\t<hr>\n",
    "        همان طور که در قبل مشاهده کردید توزیع یک احتمال نشان دهنده  احتمال وقوع مقادیر ممکن برای آن است. همچنین یاد گرفته اید که رویداد های متفاوت چه توزیعی دارند. مثلا میدانید در پرتاب متوالی یک سکه، متغیر تصادفی تعداد شیر (یا خط) های آمده از توزیع دو جمله ای پیروی میکند. \n",
    "<br/>\n",
    "در این قسمت قصد داریم نشان دهیم چگونه میتوان با استفاده از ابزار های \n",
    "        R\n",
    "        برخی توزیع های معروف را که با آن ها بیشتر در مطالعات آماری سر و کار داریم محاسبه کرد. \n",
    "<br/><br/>\n",
    "\t</font>\n",
    "</div>"
   ]
  },
  {
   "cell_type": "markdown",
   "metadata": {},
   "source": [
    "<p></p>\n",
    "<br />\n",
    "<div id=\"sec_R\" style=\"direction:rtl;line-height:300%;\">\n",
    "\t<font face=\"XB Zar\" size=5>\n",
    "\t\t<font color=#FF7500 size=6>\n",
    "آشنایی با توزیع ها در \n",
    "            R\n",
    "        </font>\n",
    "\t\t<p></p>\n",
    "\t\t<hr> \n",
    "        توزیع هایی که به آن ها خواهیم پرداخت عبارت اند از:\n",
    "        <ul>\n",
    "            <li> توزیع دو جمله ای</li>\n",
    "            <li>توزیع پوآسون </li>\n",
    "            <li>توزیع یکنواخت </li>\n",
    "            <li> توزیع نرمال</li>\n",
    "            <li>توزیع نمایی </li>\n",
    "            <li> توزیع هندسی</li>\n",
    "        </ul>\n",
    "\t</font>\n",
    "</div>"
   ]
  },
  {
   "cell_type": "markdown",
   "metadata": {},
   "source": [
    "<div id=\"#sec_binomial\" style=\"direction:rtl;line-height:300%;\">\n",
    "\t<font face=\"XB Zar\" size=5>\n",
    "\t\t<font color=#FF7500 size=6>\n",
    "توزیع دو جمله ای\n",
    "        </font>\n",
    "\t\t<p></p>\n",
    "\t\t<hr>  \n",
    "        فرض کنید در یک آزمون 4 گزینه ای، 10 عدد سوال دارید و میخواهید به طور رندوم به این سوال ها پاسخ دهید. احتمال اینکه تعداد جواب های درست شما کمتر مساوی 6 باشد چقدر است؟\n",
    "<br/>\n",
    "        میدانید که توزیع تعداد سوال های درست، توزیع دو جمله ای با پارامتر\n",
    "        0.25\n",
    "        است. (زیرا تنها یک گزینه از 4 گزینه صحیح میباشد)\n",
    "        احتمال داشتن 6 پاسخ درست در امتحان برابر است با:\n",
    "        <br/>\n",
    "        <div dir = \"ltr\">\n",
    "        $P(x \\, = 6) = \\binom{10}{6} \\times p^6 \\times (1 - p)^4$\n",
    " </div>\n",
    " جواب این عبارت را در\n",
    " R\n",
    " به صورت زیر حساب میکنیم:\n",
    "    <br/>\n",
    "\t</font>\n",
    "</div>"
   ]
  },
  {
   "cell_type": "code",
   "execution_count": 32,
   "metadata": {},
   "outputs": [
    {
     "data": {
      "text/html": [
       "0.0162220001220703"
      ],
      "text/latex": [
       "0.0162220001220703"
      ],
      "text/markdown": [
       "0.0162220001220703"
      ],
      "text/plain": [
       "[1] 0.016222"
      ]
     },
     "metadata": {},
     "output_type": "display_data"
    }
   ],
   "source": [
    "dbinom(6, size=10, prob=0.25) "
   ]
  },
  {
   "cell_type": "markdown",
   "metadata": {},
   "source": [
    "<div dir = \"rtl\">\n",
    "\t<font face=\"XB Zar\" size=5>\n",
    "\t\t<font color=#FF7500 size=6>\n",
    "        </font>\n",
    "        همچنین برای حساب کردن احتما داشتن کمتر مساوی 6 پاسخ درست داریم:\n",
    "\t\t <br/>\n",
    "\t</font>\n",
    "</div>"
   ]
  },
  {
   "cell_type": "code",
   "execution_count": 2,
   "metadata": {},
   "outputs": [
    {
     "data": {
      "text/html": [
       "0.996494293212891"
      ],
      "text/latex": [
       "0.996494293212891"
      ],
      "text/markdown": [
       "0.996494293212891"
      ],
      "text/plain": [
       "[1] 0.9964943"
      ]
     },
     "metadata": {},
     "output_type": "display_data"
    }
   ],
   "source": [
    "dbinom(6, size=10, prob=0.25) +\n",
    "dbinom(5, size=10, prob=0.25) +\n",
    "dbinom(4, size=10, prob=0.25) +\n",
    "dbinom(3, size=10, prob=0.25) +\n",
    "dbinom(2, size=10, prob=0.25) +\n",
    "dbinom(1, size=10, prob=0.25) +\n",
    "dbinom(0, size=10, prob=0.25) "
   ]
  },
  {
   "cell_type": "markdown",
   "metadata": {},
   "source": [
    "<div dir = \"rtl\">\n",
    "\t<font face=\"XB Zar\" size=5>\n",
    "\t\t<font color=#FF7500 size=6>\n",
    "        </font>\n",
    "        یا با استفاده از \n",
    "        CDF\n",
    "        توزیع:\n",
    "\t\t <br/>\n",
    "\t</font>\n",
    "</div>"
   ]
  },
  {
   "cell_type": "code",
   "execution_count": 33,
   "metadata": {},
   "outputs": [
    {
     "data": {
      "text/html": [
       "0.996494293212891"
      ],
      "text/latex": [
       "0.996494293212891"
      ],
      "text/markdown": [
       "0.996494293212891"
      ],
      "text/plain": [
       "[1] 0.9964943"
      ]
     },
     "metadata": {},
     "output_type": "display_data"
    }
   ],
   "source": [
    "pbinom(6, size=10, prob=0.25) "
   ]
  },
  {
   "cell_type": "markdown",
   "metadata": {},
   "source": [
    "<div dir = \"rtl\" style=\"direction:rtl;line-height:300%;\">\n",
    "\t<font face=\"XB Zar\" size=5>\n",
    "\t\t<font color=#FF7500 size=6>\n",
    "        </font>\n",
    "        امکان دیگری در \n",
    "        R\n",
    "      وجود دارد که به ما اجازه میدهد از توزیع ها نمونه تصادفی بگیریم. برای مثال برای توزیع دو جمله ای میتوانیم به طور \n",
    "        تصادفی 1000 نمونه گرفته که هر کدام نشان دهنده تعداد پاسخ های درست در یک امتحان 4 گزینه ای 10 سواله هستند\n",
    "        .\n",
    "\t\t <br/>\n",
    "\t</font>\n",
    "</div>"
   ]
  },
  {
   "cell_type": "code",
   "execution_count": 13,
   "metadata": {},
   "outputs": [
    {
     "data": {
      "text/html": [
       "<ol class=list-inline>\n",
       "\t<li>1</li>\n",
       "\t<li>1</li>\n",
       "\t<li>3</li>\n",
       "\t<li>2</li>\n",
       "\t<li>1</li>\n",
       "\t<li>4</li>\n",
       "\t<li>1</li>\n",
       "\t<li>2</li>\n",
       "\t<li>4</li>\n",
       "\t<li>4</li>\n",
       "\t<li>0</li>\n",
       "\t<li>1</li>\n",
       "\t<li>6</li>\n",
       "\t<li>2</li>\n",
       "\t<li>6</li>\n",
       "\t<li>3</li>\n",
       "\t<li>3</li>\n",
       "\t<li>4</li>\n",
       "\t<li>4</li>\n",
       "\t<li>4</li>\n",
       "\t<li>3</li>\n",
       "\t<li>3</li>\n",
       "\t<li>4</li>\n",
       "\t<li>1</li>\n",
       "\t<li>3</li>\n",
       "\t<li>1</li>\n",
       "\t<li>2</li>\n",
       "\t<li>1</li>\n",
       "\t<li>2</li>\n",
       "\t<li>2</li>\n",
       "\t<li>2</li>\n",
       "\t<li>7</li>\n",
       "\t<li>3</li>\n",
       "\t<li>3</li>\n",
       "\t<li>3</li>\n",
       "\t<li>3</li>\n",
       "\t<li>2</li>\n",
       "\t<li>2</li>\n",
       "\t<li>1</li>\n",
       "\t<li>5</li>\n",
       "\t<li>5</li>\n",
       "\t<li>4</li>\n",
       "\t<li>6</li>\n",
       "\t<li>2</li>\n",
       "\t<li>2</li>\n",
       "\t<li>2</li>\n",
       "\t<li>2</li>\n",
       "\t<li>2</li>\n",
       "\t<li>5</li>\n",
       "\t<li>4</li>\n",
       "</ol>\n"
      ],
      "text/latex": [
       "\\begin{enumerate*}\n",
       "\\item 1\n",
       "\\item 1\n",
       "\\item 3\n",
       "\\item 2\n",
       "\\item 1\n",
       "\\item 4\n",
       "\\item 1\n",
       "\\item 2\n",
       "\\item 4\n",
       "\\item 4\n",
       "\\item 0\n",
       "\\item 1\n",
       "\\item 6\n",
       "\\item 2\n",
       "\\item 6\n",
       "\\item 3\n",
       "\\item 3\n",
       "\\item 4\n",
       "\\item 4\n",
       "\\item 4\n",
       "\\item 3\n",
       "\\item 3\n",
       "\\item 4\n",
       "\\item 1\n",
       "\\item 3\n",
       "\\item 1\n",
       "\\item 2\n",
       "\\item 1\n",
       "\\item 2\n",
       "\\item 2\n",
       "\\item 2\n",
       "\\item 7\n",
       "\\item 3\n",
       "\\item 3\n",
       "\\item 3\n",
       "\\item 3\n",
       "\\item 2\n",
       "\\item 2\n",
       "\\item 1\n",
       "\\item 5\n",
       "\\item 5\n",
       "\\item 4\n",
       "\\item 6\n",
       "\\item 2\n",
       "\\item 2\n",
       "\\item 2\n",
       "\\item 2\n",
       "\\item 2\n",
       "\\item 5\n",
       "\\item 4\n",
       "\\end{enumerate*}\n"
      ],
      "text/markdown": [
       "1. 1\n",
       "2. 1\n",
       "3. 3\n",
       "4. 2\n",
       "5. 1\n",
       "6. 4\n",
       "7. 1\n",
       "8. 2\n",
       "9. 4\n",
       "10. 4\n",
       "11. 0\n",
       "12. 1\n",
       "13. 6\n",
       "14. 2\n",
       "15. 6\n",
       "16. 3\n",
       "17. 3\n",
       "18. 4\n",
       "19. 4\n",
       "20. 4\n",
       "21. 3\n",
       "22. 3\n",
       "23. 4\n",
       "24. 1\n",
       "25. 3\n",
       "26. 1\n",
       "27. 2\n",
       "28. 1\n",
       "29. 2\n",
       "30. 2\n",
       "31. 2\n",
       "32. 7\n",
       "33. 3\n",
       "34. 3\n",
       "35. 3\n",
       "36. 3\n",
       "37. 2\n",
       "38. 2\n",
       "39. 1\n",
       "40. 5\n",
       "41. 5\n",
       "42. 4\n",
       "43. 6\n",
       "44. 2\n",
       "45. 2\n",
       "46. 2\n",
       "47. 2\n",
       "48. 2\n",
       "49. 5\n",
       "50. 4\n",
       "\n"
      ],
      "text/plain": [
       " [1] 1 1 3 2 1 4 1 2 4 4 0 1 6 2 6 3 3 4 4 4 3 3 4 1 3 1 2 1 2 2 2 7 3 3 3 3 2 2\n",
       "[39] 1 5 5 4 6 2 2 2 2 2 5 4"
      ]
     },
     "metadata": {},
     "output_type": "display_data"
    }
   ],
   "source": [
    "rbinom(n = 1000, size = 10,p =  0.25) -> data_binomial\n",
    "data_binomial[1:50]"
   ]
  },
  {
   "cell_type": "markdown",
   "metadata": {},
   "source": [
    "<div dir = \"rtl\" style=\"direction:rtl;line-height:300%;\">\n",
    "\t<font face=\"XB Zar\" size=5>\n",
    "\t\t<font color=#FF7500 size=6>\n",
    "        </font>\n",
    "       برای درک بیشتر نمودار فراوانی نمونه به دست آمده را میکشیم\n",
    "         .\n",
    "         <br/>\n",
    "\t</font>\n",
    "</div>"
   ]
  },
  {
   "cell_type": "code",
   "execution_count": 92,
   "metadata": {},
   "outputs": [
    {
     "data": {
      "image/png": "[encoded data removed]",
      "text/plain": [
       "Plot with title \"Histogram of data_binomial\""
      ]
     },
     "metadata": {},
     "output_type": "display_data"
    }
   ],
   "source": [
    "options(repr.plot.width=4.5, repr.plot.height=4.5)\n",
    "hist(data_binomial, col = \"violet\")"
   ]
  },
  {
   "cell_type": "markdown",
   "metadata": {},
   "source": [
    "<div id=\"#sec_poisson\" style=\"direction:rtl;line-height:300%;\">\n",
    "\t<font face=\"XB Zar\" size=5>\n",
    "\t\t<font color=#FF7500 size=6>\n",
    "توزیع پوآسون\n",
    "        </font>\n",
    "\t\t<hr>  \n",
    "         فرض کنید در هر دقیقه به طور متوسط 12 ماشین از روی پلی عبور میکنند. احتمال اینکه\n",
    "        17 \n",
    "        ماشین یا بیشتر در یک دقیقه مشخص از روی این پل عبور کنند چقدر است؟\n",
    "    <br/>\n",
    "        برای حل این سوال به سراغ توزیع پواسون میرویم. چون در این توزیع امید ریاضی برابر با مولفه \n",
    "        $\\lambda$\n",
    "        میباشد در نتیجه \n",
    "        $\\lambda = 12$\n",
    "<br/>\n",
    "        همچنین میدانیم در توزیع پواسون، احتمال عبور 16 ماشین از روی پل در یک دقیقه مشخص برابر است با:\n",
    "        <div dir = \"ltr\">\n",
    "        $P(x \\, = \\, 16) = \\frac{e^{-\\lambda} \\times \\lambda ^ {16}}{16!}$\n",
    "</div>\n",
    "و احتمال عبور کردن 16 ماشین یا کمتر بر روی پل برابر است با\n",
    "<div dir = \"ltr\">\n",
    "    $\\sum_{i = 0 }^{16} P(x \\, = \\,i)$\n",
    "</div>\n",
    "در \n",
    "R\n",
    "میتوان عبارت های نوشته شده را به ترتیب  به صورت زیر حساب کرد:\n",
    "\t</font>\n",
    "</div>"
   ]
  },
  {
   "cell_type": "code",
   "execution_count": 20,
   "metadata": {},
   "outputs": [
    {
     "data": {
      "text/html": [
       "0.0542933401099791"
      ],
      "text/latex": [
       "0.0542933401099791"
      ],
      "text/markdown": [
       "0.0542933401099791"
      ],
      "text/plain": [
       "[1] 0.05429334"
      ]
     },
     "metadata": {},
     "output_type": "display_data"
    }
   ],
   "source": [
    "dpois(x = 16, lambda = 12)"
   ]
  },
  {
   "cell_type": "code",
   "execution_count": 24,
   "metadata": {},
   "outputs": [
    {
     "data": {
      "text/html": [
       "0.898708992560162"
      ],
      "text/latex": [
       "0.898708992560162"
      ],
      "text/markdown": [
       "0.898708992560162"
      ],
      "text/plain": [
       "[1] 0.898709"
      ]
     },
     "metadata": {},
     "output_type": "display_data"
    }
   ],
   "source": [
    "ppois(16, lambda=12) #lower tail"
   ]
  },
  {
   "cell_type": "markdown",
   "metadata": {},
   "source": [
    "<div dir = \"rtl\" style=\"direction:rtl;line-height:300%;\">\n",
    "\t<font face=\"XB Zar\" size=5>\n",
    "\t\t<font color=#FF7500 size=6>\n",
    "        </font>\n",
    "      برای به دست آوردن احتمال رد شدن بیش از 16 اتوموبیل بر روی پل داریم:\n",
    "         <br/>\n",
    "\t</font>\n",
    "</div>"
   ]
  },
  {
   "cell_type": "code",
   "execution_count": 1,
   "metadata": {},
   "outputs": [
    {
     "data": {
      "text/html": [
       "0.101291007439838"
      ],
      "text/latex": [
       "0.101291007439838"
      ],
      "text/markdown": [
       "0.101291007439838"
      ],
      "text/plain": [
       "[1] 0.101291"
      ]
     },
     "metadata": {},
     "output_type": "display_data"
    }
   ],
   "source": [
    "1 - ppois(16, lambda=12) #lower tail"
   ]
  },
  {
   "cell_type": "markdown",
   "metadata": {},
   "source": [
    "<div dir = \"rtl\" style=\"direction:rtl;line-height:300%;\">\n",
    "\t<font face=\"XB Zar\" size=5>\n",
    "\t\t<font color=#FF7500 size=6>\n",
    "        </font>\n",
    "      و یا:\n",
    "         <br/>\n",
    "\t</font>\n",
    "</div>"
   ]
  },
  {
   "cell_type": "code",
   "execution_count": 27,
   "metadata": {},
   "outputs": [
    {
     "data": {
      "text/html": [
       "0.101291007439838"
      ],
      "text/latex": [
       "0.101291007439838"
      ],
      "text/markdown": [
       "0.101291007439838"
      ],
      "text/plain": [
       "[1] 0.101291"
      ]
     },
     "metadata": {},
     "output_type": "display_data"
    }
   ],
   "source": [
    "ppois(16, lambda=12, lower=FALSE) #upper tail"
   ]
  },
  {
   "cell_type": "markdown",
   "metadata": {},
   "source": [
    "<div dir = \"rtl\" style=\"direction:rtl;line-height:300%;\">\n",
    "\t<font face=\"XB Zar\" size=5>\n",
    "\t\t<font color=#FF7500 size=6>\n",
    "        </font>\n",
    "      برای گرفتن نمونه تصادفی از توزیع پوآسون نیز داریم:\n",
    "      <br/>\n",
    "\t</font>\n",
    "</div>"
   ]
  },
  {
   "cell_type": "code",
   "execution_count": 30,
   "metadata": {},
   "outputs": [
    {
     "data": {
      "text/html": [
       "<ol class=list-inline>\n",
       "\t<li>11</li>\n",
       "\t<li>12</li>\n",
       "\t<li>14</li>\n",
       "\t<li>16</li>\n",
       "\t<li>12</li>\n",
       "\t<li>10</li>\n",
       "\t<li>10</li>\n",
       "\t<li>14</li>\n",
       "\t<li>10</li>\n",
       "\t<li>7</li>\n",
       "\t<li>6</li>\n",
       "\t<li>15</li>\n",
       "\t<li>10</li>\n",
       "\t<li>15</li>\n",
       "\t<li>17</li>\n",
       "\t<li>10</li>\n",
       "\t<li>10</li>\n",
       "\t<li>8</li>\n",
       "\t<li>11</li>\n",
       "\t<li>10</li>\n",
       "\t<li>6</li>\n",
       "\t<li>12</li>\n",
       "\t<li>12</li>\n",
       "\t<li>9</li>\n",
       "\t<li>9</li>\n",
       "\t<li>11</li>\n",
       "\t<li>17</li>\n",
       "\t<li>9</li>\n",
       "\t<li>7</li>\n",
       "\t<li>7</li>\n",
       "\t<li>11</li>\n",
       "\t<li>9</li>\n",
       "\t<li>13</li>\n",
       "\t<li>11</li>\n",
       "\t<li>8</li>\n",
       "\t<li>7</li>\n",
       "\t<li>10</li>\n",
       "\t<li>11</li>\n",
       "\t<li>13</li>\n",
       "\t<li>12</li>\n",
       "\t<li>11</li>\n",
       "\t<li>14</li>\n",
       "\t<li>10</li>\n",
       "\t<li>18</li>\n",
       "\t<li>14</li>\n",
       "\t<li>10</li>\n",
       "\t<li>12</li>\n",
       "\t<li>17</li>\n",
       "\t<li>8</li>\n",
       "\t<li>11</li>\n",
       "</ol>\n"
      ],
      "text/latex": [
       "\\begin{enumerate*}\n",
       "\\item 11\n",
       "\\item 12\n",
       "\\item 14\n",
       "\\item 16\n",
       "\\item 12\n",
       "\\item 10\n",
       "\\item 10\n",
       "\\item 14\n",
       "\\item 10\n",
       "\\item 7\n",
       "\\item 6\n",
       "\\item 15\n",
       "\\item 10\n",
       "\\item 15\n",
       "\\item 17\n",
       "\\item 10\n",
       "\\item 10\n",
       "\\item 8\n",
       "\\item 11\n",
       "\\item 10\n",
       "\\item 6\n",
       "\\item 12\n",
       "\\item 12\n",
       "\\item 9\n",
       "\\item 9\n",
       "\\item 11\n",
       "\\item 17\n",
       "\\item 9\n",
       "\\item 7\n",
       "\\item 7\n",
       "\\item 11\n",
       "\\item 9\n",
       "\\item 13\n",
       "\\item 11\n",
       "\\item 8\n",
       "\\item 7\n",
       "\\item 10\n",
       "\\item 11\n",
       "\\item 13\n",
       "\\item 12\n",
       "\\item 11\n",
       "\\item 14\n",
       "\\item 10\n",
       "\\item 18\n",
       "\\item 14\n",
       "\\item 10\n",
       "\\item 12\n",
       "\\item 17\n",
       "\\item 8\n",
       "\\item 11\n",
       "\\end{enumerate*}\n"
      ],
      "text/markdown": [
       "1. 11\n",
       "2. 12\n",
       "3. 14\n",
       "4. 16\n",
       "5. 12\n",
       "6. 10\n",
       "7. 10\n",
       "8. 14\n",
       "9. 10\n",
       "10. 7\n",
       "11. 6\n",
       "12. 15\n",
       "13. 10\n",
       "14. 15\n",
       "15. 17\n",
       "16. 10\n",
       "17. 10\n",
       "18. 8\n",
       "19. 11\n",
       "20. 10\n",
       "21. 6\n",
       "22. 12\n",
       "23. 12\n",
       "24. 9\n",
       "25. 9\n",
       "26. 11\n",
       "27. 17\n",
       "28. 9\n",
       "29. 7\n",
       "30. 7\n",
       "31. 11\n",
       "32. 9\n",
       "33. 13\n",
       "34. 11\n",
       "35. 8\n",
       "36. 7\n",
       "37. 10\n",
       "38. 11\n",
       "39. 13\n",
       "40. 12\n",
       "41. 11\n",
       "42. 14\n",
       "43. 10\n",
       "44. 18\n",
       "45. 14\n",
       "46. 10\n",
       "47. 12\n",
       "48. 17\n",
       "49. 8\n",
       "50. 11\n",
       "\n"
      ],
      "text/plain": [
       " [1] 11 12 14 16 12 10 10 14 10  7  6 15 10 15 17 10 10  8 11 10  6 12 12  9  9\n",
       "[26] 11 17  9  7  7 11  9 13 11  8  7 10 11 13 12 11 14 10 18 14 10 12 17  8 11"
      ]
     },
     "metadata": {},
     "output_type": "display_data"
    }
   ],
   "source": [
    "rpois(n = 1000, lambda = 12) -> data_poi\n",
    "data_poi[1:50]"
   ]
  },
  {
   "cell_type": "code",
   "execution_count": 93,
   "metadata": {},
   "outputs": [
    {
     "data": {
      "image/png": "[encoded data removed]",
      "text/plain": [
       "Plot with title \"Histogram of data_poi\""
      ]
     },
     "metadata": {},
     "output_type": "display_data"
    }
   ],
   "source": [
    "hist(data_poi, col = \"violet\")"
   ]
  },
  {
   "cell_type": "markdown",
   "metadata": {},
   "source": [
    "<div dir = \"rtl\" style=\"direction:rtl;line-height:300%;\">\n",
    "\t<font face=\"XB Zar\" size=5>\n",
    "\t\t<font color=#FF7500 size=6>\n",
    "        </font>\n",
    "      دقت کنید که در نمودار کشیده شده این 1000 نمونه تصادفی، تعداد نمونه هایی که 12 شده اند بیشتر از بقیه اعداد است. دلیل این اتفاق چیست؟\n",
    "      <br/>\n",
    "\t</font>\n",
    "</div>"
   ]
  },
  {
   "cell_type": "markdown",
   "metadata": {},
   "source": [
    "<div id=\"#sec_uniform\" style=\"direction:rtl;line-height:300%;\">\n",
    "\t<font face=\"XB Zar\" size=5>\n",
    "\t\t<font color=#FF7500 size=6>\n",
    "توزیع یکنواخت\n",
    "        </font>\n",
    "\t\t<hr>  \n",
    "        میدانید در توزیع یکنواخت احتمال هر کدام از اعداد داخل محدوده با هم یکسان است.\n",
    "        R\n",
    "    این امکان را به ما میدهد تا در بازه های دلخواه اعداد رندوم تولید کنیم.\n",
    "        برای مثال میخواهیم در باز 0 تا 10 \n",
    "\t،\n",
    "        1000 \n",
    "        عدد رندوم تولید کنیم:\n",
    "    </font>\n",
    "</div>"
   ]
  },
  {
   "cell_type": "code",
   "execution_count": 36,
   "metadata": {},
   "outputs": [
    {
     "data": {
      "text/html": [
       "<ol class=list-inline>\n",
       "\t<li>1.8326599211432</li>\n",
       "\t<li>2.67034166771919</li>\n",
       "\t<li>1.67924475227483</li>\n",
       "\t<li>1.86372821219265</li>\n",
       "\t<li>1.22427977621555</li>\n",
       "\t<li>1.63659320957959</li>\n",
       "\t<li>2.1878444775939</li>\n",
       "\t<li>2.6159519625362</li>\n",
       "\t<li>2.30567771173082</li>\n",
       "\t<li>2.20323102688417</li>\n",
       "\t<li>0.224100155755877</li>\n",
       "\t<li>0.274901336990297</li>\n",
       "\t<li>0.736860376317054</li>\n",
       "\t<li>2.2302664979361</li>\n",
       "\t<li>2.46687947935425</li>\n",
       "\t<li>2.08721202425659</li>\n",
       "\t<li>0.765927338507026</li>\n",
       "\t<li>1.02450974984095</li>\n",
       "\t<li>2.29933094792068</li>\n",
       "\t<li>1.33762118616141</li>\n",
       "\t<li>1.62765868823044</li>\n",
       "\t<li>1.21842866647057</li>\n",
       "\t<li>1.13547185249627</li>\n",
       "\t<li>1.1540627265349</li>\n",
       "\t<li>0.226624741684645</li>\n",
       "\t<li>1.20968034490943</li>\n",
       "\t<li>1.08592317206785</li>\n",
       "\t<li>0.863236031960696</li>\n",
       "\t<li>0.305769032333046</li>\n",
       "\t<li>0.3639524448663</li>\n",
       "\t<li>0.00858998950570822</li>\n",
       "\t<li>1.87626915914007</li>\n",
       "\t<li>0.367091872030869</li>\n",
       "\t<li>0.568034697789699</li>\n",
       "\t<li>0.315164663130417</li>\n",
       "\t<li>0.1796569225844</li>\n",
       "\t<li>0.5117438652087</li>\n",
       "\t<li>0.468468437902629</li>\n",
       "\t<li>2.74673448968679</li>\n",
       "\t<li>0.599488614359871</li>\n",
       "\t<li>0.383267273660749</li>\n",
       "\t<li>0.601909553166479</li>\n",
       "\t<li>1.35396950715221</li>\n",
       "\t<li>2.61232695356011</li>\n",
       "\t<li>0.483554754406214</li>\n",
       "\t<li>1.07867298368365</li>\n",
       "\t<li>0.582822290947661</li>\n",
       "\t<li>1.58217012137175</li>\n",
       "\t<li>0.54072776902467</li>\n",
       "\t<li>1.14807852823287</li>\n",
       "</ol>\n"
      ],
      "text/latex": [
       "\\begin{enumerate*}\n",
       "\\item 1.8326599211432\n",
       "\\item 2.67034166771919\n",
       "\\item 1.67924475227483\n",
       "\\item 1.86372821219265\n",
       "\\item 1.22427977621555\n",
       "\\item 1.63659320957959\n",
       "\\item 2.1878444775939\n",
       "\\item 2.6159519625362\n",
       "\\item 2.30567771173082\n",
       "\\item 2.20323102688417\n",
       "\\item 0.224100155755877\n",
       "\\item 0.274901336990297\n",
       "\\item 0.736860376317054\n",
       "\\item 2.2302664979361\n",
       "\\item 2.46687947935425\n",
       "\\item 2.08721202425659\n",
       "\\item 0.765927338507026\n",
       "\\item 1.02450974984095\n",
       "\\item 2.29933094792068\n",
       "\\item 1.33762118616141\n",
       "\\item 1.62765868823044\n",
       "\\item 1.21842866647057\n",
       "\\item 1.13547185249627\n",
       "\\item 1.1540627265349\n",
       "\\item 0.226624741684645\n",
       "\\item 1.20968034490943\n",
       "\\item 1.08592317206785\n",
       "\\item 0.863236031960696\n",
       "\\item 0.305769032333046\n",
       "\\item 0.3639524448663\n",
       "\\item 0.00858998950570822\n",
       "\\item 1.87626915914007\n",
       "\\item 0.367091872030869\n",
       "\\item 0.568034697789699\n",
       "\\item 0.315164663130417\n",
       "\\item 0.1796569225844\n",
       "\\item 0.5117438652087\n",
       "\\item 0.468468437902629\n",
       "\\item 2.74673448968679\n",
       "\\item 0.599488614359871\n",
       "\\item 0.383267273660749\n",
       "\\item 0.601909553166479\n",
       "\\item 1.35396950715221\n",
       "\\item 2.61232695356011\n",
       "\\item 0.483554754406214\n",
       "\\item 1.07867298368365\n",
       "\\item 0.582822290947661\n",
       "\\item 1.58217012137175\n",
       "\\item 0.54072776902467\n",
       "\\item 1.14807852823287\n",
       "\\end{enumerate*}\n"
      ],
      "text/markdown": [
       "1. 1.8326599211432\n",
       "2. 2.67034166771919\n",
       "3. 1.67924475227483\n",
       "4. 1.86372821219265\n",
       "5. 1.22427977621555\n",
       "6. 1.63659320957959\n",
       "7. 2.1878444775939\n",
       "8. 2.6159519625362\n",
       "9. 2.30567771173082\n",
       "10. 2.20323102688417\n",
       "11. 0.224100155755877\n",
       "12. 0.274901336990297\n",
       "13. 0.736860376317054\n",
       "14. 2.2302664979361\n",
       "15. 2.46687947935425\n",
       "16. 2.08721202425659\n",
       "17. 0.765927338507026\n",
       "18. 1.02450974984095\n",
       "19. 2.29933094792068\n",
       "20. 1.33762118616141\n",
       "21. 1.62765868823044\n",
       "22. 1.21842866647057\n",
       "23. 1.13547185249627\n",
       "24. 1.1540627265349\n",
       "25. 0.226624741684645\n",
       "26. 1.20968034490943\n",
       "27. 1.08592317206785\n",
       "28. 0.863236031960696\n",
       "29. 0.305769032333046\n",
       "30. 0.3639524448663\n",
       "31. 0.00858998950570822\n",
       "32. 1.87626915914007\n",
       "33. 0.367091872030869\n",
       "34. 0.568034697789699\n",
       "35. 0.315164663130417\n",
       "36. 0.1796569225844\n",
       "37. 0.5117438652087\n",
       "38. 0.468468437902629\n",
       "39. 2.74673448968679\n",
       "40. 0.599488614359871\n",
       "41. 0.383267273660749\n",
       "42. 0.601909553166479\n",
       "43. 1.35396950715221\n",
       "44. 2.61232695356011\n",
       "45. 0.483554754406214\n",
       "46. 1.07867298368365\n",
       "47. 0.582822290947661\n",
       "48. 1.58217012137175\n",
       "49. 0.54072776902467\n",
       "50. 1.14807852823287\n",
       "\n"
      ],
      "text/plain": [
       " [1] 1.83265992 2.67034167 1.67924475 1.86372821 1.22427978 1.63659321\n",
       " [7] 2.18784448 2.61595196 2.30567771 2.20323103 0.22410016 0.27490134\n",
       "[13] 0.73686038 2.23026650 2.46687948 2.08721202 0.76592734 1.02450975\n",
       "[19] 2.29933095 1.33762119 1.62765869 1.21842867 1.13547185 1.15406273\n",
       "[25] 0.22662474 1.20968034 1.08592317 0.86323603 0.30576903 0.36395244\n",
       "[31] 0.00858999 1.87626916 0.36709187 0.56803470 0.31516466 0.17965692\n",
       "[37] 0.51174387 0.46846844 2.74673449 0.59948861 0.38326727 0.60190955\n",
       "[43] 1.35396951 2.61232695 0.48355475 1.07867298 0.58282229 1.58217012\n",
       "[49] 0.54072777 1.14807853"
      ]
     },
     "metadata": {},
     "output_type": "display_data"
    }
   ],
   "source": [
    "runif(1000, min = 0 , max = 3) -> data_unif \n",
    "data_unif[1:50]"
   ]
  },
  {
   "cell_type": "code",
   "execution_count": 94,
   "metadata": {},
   "outputs": [
    {
     "data": {
      "image/png": "[encoded data removed]",
      "text/plain": [
       "Plot with title \"Histogram of data_unif\""
      ]
     },
     "metadata": {},
     "output_type": "display_data"
    }
   ],
   "source": [
    "hist(data_unif, col = \"violet\")"
   ]
  },
  {
   "cell_type": "markdown",
   "metadata": {},
   "source": [
    "<div id=\"#sec_normal\" style=\"direction:rtl;line-height:300%;\">\n",
    "\t<font face=\"XB Zar\" size=5>\n",
    "\t\t<font color=#FF7500 size=6>\n",
    "توزیع نرمال\n",
    "        </font>\n",
    "\t\t<hr> \n",
    "        فرض کنید نتایج یک امتحان از توزیع نرمال پیروی میکنند. در این امتحان متوسط نمره دانشجویان 48 و واریانس آن 17 بوده است.\n",
    "       احتمال اینکه دانشجویی در این امتحان نمره 80 به بالا بگیرد چقدر است؟\n",
    "          <br/>\n",
    "        با توجه به توزیع نرمال داریم:\n",
    "        <div dir = \"ltr\">\n",
    "        $f(x) = \\frac{1}{\\sqrt{2 \\, \\pi \\, \\sigma^2}}e^{\\frac{(x - \\mu)^2}{2\\sigma^2}}$\n",
    " </div>\n",
    "    پس احتمال اینکه دانشجویی در این امتحان نمره بالا تر از 80 بگیرد برابر است با:\n",
    "    <div dir = \"ltr\">\n",
    "    $F(80) = P(x >= 80) =  \\int_{80}^{100} f(x) dx$ \n",
    "</div>\n",
    "میتوان این عبارت را در \n",
    "R\n",
    "به صورت زیر محاسبه کرد:\n",
    "    </font>\n",
    "</div>"
   ]
  },
  {
   "cell_type": "code",
   "execution_count": 84,
   "metadata": {},
   "outputs": [
    {
     "data": {
      "text/html": [
       "0.0298940554132321"
      ],
      "text/latex": [
       "0.0298940554132321"
      ],
      "text/markdown": [
       "0.0298940554132321"
      ],
      "text/plain": [
       "[1] 0.02989406"
      ]
     },
     "metadata": {},
     "output_type": "display_data"
    }
   ],
   "source": [
    "pnorm(80, mean=48, sd=17, lower.tail=FALSE) "
   ]
  },
  {
   "cell_type": "markdown",
   "metadata": {},
   "source": [
    "<div dir = \"rtl\" style=\"direction:rtl;line-height:300%;\">\n",
    "\t<font face=\"XB Zar\" size=5>\n",
    "\t\t<font color=#FF7500 size=6>\n",
    "        </font>\n",
    "    همچنین میتوان احتمال نقطه‌ای را اینگونه محاسبه کرد :\n",
    "   <br/>\n",
    "\t</font>\n",
    "</div>"
   ]
  },
  {
   "cell_type": "code",
   "execution_count": 85,
   "metadata": {},
   "outputs": [
    {
     "data": {
      "text/html": [
       "<ol class=list-inline>\n",
       "\t<li>0.00604482187806372</li>\n",
       "\t<li>0.00610356665538927</li>\n",
       "\t<li>0.0061626690812723</li>\n",
       "\t<li>0.00622212850905189</li>\n",
       "\t<li>0.00628194424857958</li>\n",
       "\t<li>0.00634211556589579</li>\n",
       "\t<li>0.00640264168291074</li>\n",
       "\t<li>0.00646352177708994</li>\n",
       "\t<li>0.00652475498114445</li>\n",
       "\t<li>0.00658634038272588</li>\n",
       "\t<li>0.00664827702412648</li>\n",
       "\t<li>0.00671056390198408</li>\n",
       "\t<li>0.00677319996699239</li>\n",
       "\t<li>0.00683618412361639</li>\n",
       "\t<li>0.00689951522981323</li>\n",
       "\t<li>0.00696319209675853</li>\n",
       "\t<li>0.00702721348857828</li>\n",
       "\t<li>0.00709157812208647</li>\n",
       "\t<li>0.00715628466652855</li>\n",
       "\t<li>0.00722133174333068</li>\n",
       "\t<li>0.00728671792585516</li>\n",
       "\t<li>0.00735244173916185</li>\n",
       "\t<li>0.00741850165977593</li>\n",
       "\t<li>0.00748489611546189</li>\n",
       "\t<li>0.00755162348500407</li>\n",
       "\t<li>0.00761868209799363</li>\n",
       "\t<li>0.00768607023462227</li>\n",
       "\t<li>0.00775378612548261</li>\n",
       "\t<li>0.00782182795137549</li>\n",
       "\t<li>0.0078901938431242</li>\n",
       "\t<li>0.00795888188139572</li>\n",
       "\t<li>0.00802789009652917</li>\n",
       "\t<li>0.00809721646837145</li>\n",
       "\t<li>0.00816685892612031</li>\n",
       "\t<li>0.00823681534817476</li>\n",
       "\t<li>0.00830708356199309</li>\n",
       "\t<li>0.00837766134395848</li>\n",
       "\t<li>0.00844854641925238</li>\n",
       "\t<li>0.00851973646173567</li>\n",
       "\t<li>0.00859122909383772</li>\n",
       "\t<li>0.0086630218864535</li>\n",
       "\t<li>0.00873511235884873</li>\n",
       "\t<li>0.00880749797857323</li>\n",
       "\t<li>0.0088801761613825</li>\n",
       "\t<li>0.00895314427116771</li>\n",
       "\t<li>0.00902639961989406</li>\n",
       "\t<li>0.00909993946754765</li>\n",
       "\t<li>0.00917376102209103</li>\n",
       "\t<li>0.00924786143942728</li>\n",
       "\t<li>0.00932223782337301</li>\n",
       "</ol>\n"
      ],
      "text/latex": [
       "\\begin{enumerate*}\n",
       "\\item 0.00604482187806372\n",
       "\\item 0.00610356665538927\n",
       "\\item 0.0061626690812723\n",
       "\\item 0.00622212850905189\n",
       "\\item 0.00628194424857958\n",
       "\\item 0.00634211556589579\n",
       "\\item 0.00640264168291074\n",
       "\\item 0.00646352177708994\n",
       "\\item 0.00652475498114445\n",
       "\\item 0.00658634038272588\n",
       "\\item 0.00664827702412648\n",
       "\\item 0.00671056390198408\n",
       "\\item 0.00677319996699239\n",
       "\\item 0.00683618412361639\n",
       "\\item 0.00689951522981323\n",
       "\\item 0.00696319209675853\n",
       "\\item 0.00702721348857828\n",
       "\\item 0.00709157812208647\n",
       "\\item 0.00715628466652855\n",
       "\\item 0.00722133174333068\n",
       "\\item 0.00728671792585516\n",
       "\\item 0.00735244173916185\n",
       "\\item 0.00741850165977593\n",
       "\\item 0.00748489611546189\n",
       "\\item 0.00755162348500407\n",
       "\\item 0.00761868209799363\n",
       "\\item 0.00768607023462227\n",
       "\\item 0.00775378612548261\n",
       "\\item 0.00782182795137549\n",
       "\\item 0.0078901938431242\n",
       "\\item 0.00795888188139572\n",
       "\\item 0.00802789009652917\n",
       "\\item 0.00809721646837145\n",
       "\\item 0.00816685892612031\n",
       "\\item 0.00823681534817476\n",
       "\\item 0.00830708356199309\n",
       "\\item 0.00837766134395848\n",
       "\\item 0.00844854641925238\n",
       "\\item 0.00851973646173567\n",
       "\\item 0.00859122909383772\n",
       "\\item 0.0086630218864535\n",
       "\\item 0.00873511235884873\n",
       "\\item 0.00880749797857323\n",
       "\\item 0.0088801761613825\n",
       "\\item 0.00895314427116771\n",
       "\\item 0.00902639961989406\n",
       "\\item 0.00909993946754765\n",
       "\\item 0.00917376102209103\n",
       "\\item 0.00924786143942728\n",
       "\\item 0.00932223782337301\n",
       "\\end{enumerate*}\n"
      ],
      "text/markdown": [
       "1. 0.00604482187806372\n",
       "2. 0.00610356665538927\n",
       "3. 0.0061626690812723\n",
       "4. 0.00622212850905189\n",
       "5. 0.00628194424857958\n",
       "6. 0.00634211556589579\n",
       "7. 0.00640264168291074\n",
       "8. 0.00646352177708994\n",
       "9. 0.00652475498114445\n",
       "10. 0.00658634038272588\n",
       "11. 0.00664827702412648\n",
       "12. 0.00671056390198408\n",
       "13. 0.00677319996699239\n",
       "14. 0.00683618412361639\n",
       "15. 0.00689951522981323\n",
       "16. 0.00696319209675853\n",
       "17. 0.00702721348857828\n",
       "18. 0.00709157812208647\n",
       "19. 0.00715628466652855\n",
       "20. 0.00722133174333068\n",
       "21. 0.00728671792585516\n",
       "22. 0.00735244173916185\n",
       "23. 0.00741850165977593\n",
       "24. 0.00748489611546189\n",
       "25. 0.00755162348500407\n",
       "26. 0.00761868209799363\n",
       "27. 0.00768607023462227\n",
       "28. 0.00775378612548261\n",
       "29. 0.00782182795137549\n",
       "30. 0.0078901938431242\n",
       "31. 0.00795888188139572\n",
       "32. 0.00802789009652917\n",
       "33. 0.00809721646837145\n",
       "34. 0.00816685892612031\n",
       "35. 0.00823681534817476\n",
       "36. 0.00830708356199309\n",
       "37. 0.00837766134395848\n",
       "38. 0.00844854641925238\n",
       "39. 0.00851973646173567\n",
       "40. 0.00859122909383772\n",
       "41. 0.0086630218864535\n",
       "42. 0.00873511235884873\n",
       "43. 0.00880749797857323\n",
       "44. 0.0088801761613825\n",
       "45. 0.00895314427116771\n",
       "46. 0.00902639961989406\n",
       "47. 0.00909993946754765\n",
       "48. 0.00917376102209103\n",
       "49. 0.00924786143942728\n",
       "50. 0.00932223782337301\n",
       "\n"
      ],
      "text/plain": [
       " [1] 0.006044822 0.006103567 0.006162669 0.006222129 0.006281944 0.006342116\n",
       " [7] 0.006402642 0.006463522 0.006524755 0.006586340 0.006648277 0.006710564\n",
       "[13] 0.006773200 0.006836184 0.006899515 0.006963192 0.007027213 0.007091578\n",
       "[19] 0.007156285 0.007221332 0.007286718 0.007352442 0.007418502 0.007484896\n",
       "[25] 0.007551623 0.007618682 0.007686070 0.007753786 0.007821828 0.007890194\n",
       "[31] 0.007958882 0.008027890 0.008097216 0.008166859 0.008236815 0.008307084\n",
       "[37] 0.008377661 0.008448546 0.008519736 0.008591229 0.008663022 0.008735112\n",
       "[43] 0.008807498 0.008880176 0.008953144 0.009026400 0.009099939 0.009173761\n",
       "[49] 0.009247861 0.009322238"
      ]
     },
     "metadata": {},
     "output_type": "display_data"
    }
   ],
   "source": [
    "y <- dnorm(seq(20, 60, by = .1), mean = 48, sd = 17)\n",
    "y[1:50]"
   ]
  },
  {
   "cell_type": "code",
   "execution_count": 102,
   "metadata": {},
   "outputs": [
    {
     "data": {
      "image/png": "[encoded data removed]",
      "text/plain": [
       "plot without title"
      ]
     },
     "metadata": {},
     "output_type": "display_data"
    }
   ],
   "source": [
    "plot(seq(20, 60, by = .1), y, col = \"purple\")\n"
   ]
  },
  {
   "cell_type": "markdown",
   "metadata": {},
   "source": [
    "<div dir = \"rtl\" style=\"direction:rtl;line-height:300%;\">\n",
    "\t<font face=\"XB Zar\" size=5>\n",
    "\t\t<font color=#FF7500 size=6>\n",
    "        </font>\n",
    "        همچنین برای توزیع نرمال استاندارد داریم:\n",
    "        <br/>\n",
    "\t</font>\n",
    "</div>"
   ]
  },
  {
   "cell_type": "code",
   "execution_count": 2,
   "metadata": {},
   "outputs": [
    {
     "data": {
      "image/png": "[encoded data removed]",
      "text/plain": [
       "plot without title"
      ]
     },
     "metadata": {},
     "output_type": "display_data"
    }
   ],
   "source": [
    "dnorm(x = seq(-3, 3, by = 0.05)) -> y_standard_normal\n",
    "plot(seq(-3,3, by = 0.05), y_standard_normal, col = \"purple\")"
   ]
  },
  {
   "cell_type": "markdown",
   "metadata": {},
   "source": [
    "<div dir = \"rtl\" style=\"direction:rtl;line-height:300%;\">\n",
    "\t<font face=\"XB Zar\" size=5>\n",
    "\t\t<font color=#FF7500 size=6>\n",
    "        </font>\n",
    "        مانند قبل میتوانیم نمونه تصادفی از توزیع نرمال بگیریم.\n",
    "      <br/>\n",
    "\t</font>\n",
    "</div>"
   ]
  },
  {
   "cell_type": "code",
   "execution_count": 88,
   "metadata": {},
   "outputs": [
    {
     "data": {
      "text/html": [
       "<ol class=list-inline>\n",
       "\t<li>61.019739904656</li>\n",
       "\t<li>53.9118907337414</li>\n",
       "\t<li>44.1543982214448</li>\n",
       "\t<li>67.3373264348973</li>\n",
       "\t<li>33.6433738096932</li>\n",
       "\t<li>28.5863930202466</li>\n",
       "\t<li>53.3107141416462</li>\n",
       "\t<li>47.5682256419656</li>\n",
       "\t<li>33.2510808230667</li>\n",
       "\t<li>24.8548029753835</li>\n",
       "\t<li>42.8383305379657</li>\n",
       "\t<li>72.2571500970961</li>\n",
       "\t<li>53.8115568469312</li>\n",
       "\t<li>61.0332747306995</li>\n",
       "\t<li>44.4243956811805</li>\n",
       "\t<li>39.9059392618709</li>\n",
       "\t<li>4.62193582511736</li>\n",
       "\t<li>45.1167104954643</li>\n",
       "\t<li>69.6320513461998</li>\n",
       "\t<li>41.998579641882</li>\n",
       "\t<li>61.5673909789143</li>\n",
       "\t<li>41.2230201870987</li>\n",
       "\t<li>54.6635918287101</li>\n",
       "\t<li>69.0287378057936</li>\n",
       "\t<li>45.0393744305058</li>\n",
       "\t<li>54.867473982658</li>\n",
       "\t<li>43.5353316568688</li>\n",
       "\t<li>39.6408119740796</li>\n",
       "\t<li>52.0436973057518</li>\n",
       "\t<li>103.839756566089</li>\n",
       "\t<li>56.7854468447303</li>\n",
       "\t<li>82.9006293212206</li>\n",
       "\t<li>35.1510799615314</li>\n",
       "\t<li>58.8590384779256</li>\n",
       "\t<li>26.9281348293709</li>\n",
       "\t<li>66.4039634229373</li>\n",
       "\t<li>72.0767448978027</li>\n",
       "\t<li>45.0871774069252</li>\n",
       "\t<li>55.3307107391511</li>\n",
       "\t<li>64.8984660556237</li>\n",
       "\t<li>64.7676961407646</li>\n",
       "\t<li>59.6554386143336</li>\n",
       "\t<li>42.693368207439</li>\n",
       "\t<li>60.3407825327539</li>\n",
       "\t<li>53.8731624520037</li>\n",
       "\t<li>45.3853380015229</li>\n",
       "\t<li>51.3810154346656</li>\n",
       "\t<li>60.6797833420653</li>\n",
       "\t<li>72.5660531882492</li>\n",
       "\t<li>79.7065535858022</li>\n",
       "</ol>\n"
      ],
      "text/latex": [
       "\\begin{enumerate*}\n",
       "\\item 61.019739904656\n",
       "\\item 53.9118907337414\n",
       "\\item 44.1543982214448\n",
       "\\item 67.3373264348973\n",
       "\\item 33.6433738096932\n",
       "\\item 28.5863930202466\n",
       "\\item 53.3107141416462\n",
       "\\item 47.5682256419656\n",
       "\\item 33.2510808230667\n",
       "\\item 24.8548029753835\n",
       "\\item 42.8383305379657\n",
       "\\item 72.2571500970961\n",
       "\\item 53.8115568469312\n",
       "\\item 61.0332747306995\n",
       "\\item 44.4243956811805\n",
       "\\item 39.9059392618709\n",
       "\\item 4.62193582511736\n",
       "\\item 45.1167104954643\n",
       "\\item 69.6320513461998\n",
       "\\item 41.998579641882\n",
       "\\item 61.5673909789143\n",
       "\\item 41.2230201870987\n",
       "\\item 54.6635918287101\n",
       "\\item 69.0287378057936\n",
       "\\item 45.0393744305058\n",
       "\\item 54.867473982658\n",
       "\\item 43.5353316568688\n",
       "\\item 39.6408119740796\n",
       "\\item 52.0436973057518\n",
       "\\item 103.839756566089\n",
       "\\item 56.7854468447303\n",
       "\\item 82.9006293212206\n",
       "\\item 35.1510799615314\n",
       "\\item 58.8590384779256\n",
       "\\item 26.9281348293709\n",
       "\\item 66.4039634229373\n",
       "\\item 72.0767448978027\n",
       "\\item 45.0871774069252\n",
       "\\item 55.3307107391511\n",
       "\\item 64.8984660556237\n",
       "\\item 64.7676961407646\n",
       "\\item 59.6554386143336\n",
       "\\item 42.693368207439\n",
       "\\item 60.3407825327539\n",
       "\\item 53.8731624520037\n",
       "\\item 45.3853380015229\n",
       "\\item 51.3810154346656\n",
       "\\item 60.6797833420653\n",
       "\\item 72.5660531882492\n",
       "\\item 79.7065535858022\n",
       "\\end{enumerate*}\n"
      ],
      "text/markdown": [
       "1. 61.019739904656\n",
       "2. 53.9118907337414\n",
       "3. 44.1543982214448\n",
       "4. 67.3373264348973\n",
       "5. 33.6433738096932\n",
       "6. 28.5863930202466\n",
       "7. 53.3107141416462\n",
       "8. 47.5682256419656\n",
       "9. 33.2510808230667\n",
       "10. 24.8548029753835\n",
       "11. 42.8383305379657\n",
       "12. 72.2571500970961\n",
       "13. 53.8115568469312\n",
       "14. 61.0332747306995\n",
       "15. 44.4243956811805\n",
       "16. 39.9059392618709\n",
       "17. 4.62193582511736\n",
       "18. 45.1167104954643\n",
       "19. 69.6320513461998\n",
       "20. 41.998579641882\n",
       "21. 61.5673909789143\n",
       "22. 41.2230201870987\n",
       "23. 54.6635918287101\n",
       "24. 69.0287378057936\n",
       "25. 45.0393744305058\n",
       "26. 54.867473982658\n",
       "27. 43.5353316568688\n",
       "28. 39.6408119740796\n",
       "29. 52.0436973057518\n",
       "30. 103.839756566089\n",
       "31. 56.7854468447303\n",
       "32. 82.9006293212206\n",
       "33. 35.1510799615314\n",
       "34. 58.8590384779256\n",
       "35. 26.9281348293709\n",
       "36. 66.4039634229373\n",
       "37. 72.0767448978027\n",
       "38. 45.0871774069252\n",
       "39. 55.3307107391511\n",
       "40. 64.8984660556237\n",
       "41. 64.7676961407646\n",
       "42. 59.6554386143336\n",
       "43. 42.693368207439\n",
       "44. 60.3407825327539\n",
       "45. 53.8731624520037\n",
       "46. 45.3853380015229\n",
       "47. 51.3810154346656\n",
       "48. 60.6797833420653\n",
       "49. 72.5660531882492\n",
       "50. 79.7065535858022\n",
       "\n"
      ],
      "text/plain": [
       " [1]  61.019740  53.911891  44.154398  67.337326  33.643374  28.586393\n",
       " [7]  53.310714  47.568226  33.251081  24.854803  42.838331  72.257150\n",
       "[13]  53.811557  61.033275  44.424396  39.905939   4.621936  45.116710\n",
       "[19]  69.632051  41.998580  61.567391  41.223020  54.663592  69.028738\n",
       "[25]  45.039374  54.867474  43.535332  39.640812  52.043697 103.839757\n",
       "[31]  56.785447  82.900629  35.151080  58.859038  26.928135  66.403963\n",
       "[37]  72.076745  45.087177  55.330711  64.898466  64.767696  59.655439\n",
       "[43]  42.693368  60.340783  53.873162  45.385338  51.381015  60.679783\n",
       "[49]  72.566053  79.706554"
      ]
     },
     "metadata": {},
     "output_type": "display_data"
    }
   ],
   "source": [
    "rnorm(n = 1000, mean = 48, sd = 17) -> data_normal\n",
    "data_normal[1:50]"
   ]
  },
  {
   "cell_type": "code",
   "execution_count": 98,
   "metadata": {},
   "outputs": [
    {
     "data": {
      "image/png": "[encoded data removed]",
      "text/plain": [
       "Plot with title \"Histogram of data_normal\""
      ]
     },
     "metadata": {},
     "output_type": "display_data"
    }
   ],
   "source": [
    "hist(data_normal, col = \"violet\")"
   ]
  },
  {
   "cell_type": "markdown",
   "metadata": {},
   "source": [
    "<div id=\"#sec_exponential\" style=\"direction:rtl;line-height:300%;\">\n",
    "\t<font face=\"XB Zar\" size=5>\n",
    "\t\t<font color=#FF7500 size=6>\n",
    "توزیع نمایی\n",
    "        </font>\n",
    "\t\t<p></p>\n",
    "\t\t<hr> \n",
    "            فرض کنید متوسط انجام سفارش یک مشتری در یک مغازه 3 دقیقه است. احتمال اینکه سفارش مشتری در کمتر از 2 دقیقه \n",
    "        آماده شود چقدر است؟\n",
    "\t<br/>\n",
    "        میدانید پارامتر توزیع نمایی برابر با معکوس امید ریاضی آن است. پس در اینجا داریم:\n",
    "        <div dir = \"ltr\">\n",
    "            $\\lambda = \\frac{1}{3}$\n",
    "</div>\n",
    "        <div dir = \"ltr\">\n",
    "           $f_{x \\ge 0}(x) = \\lambda e^{-\\lambda x}$\n",
    "</div>\n",
    "        <div dir = \"ltr\">\n",
    "           $f_{x < 0}(x) = 0$\n",
    "</div>\n",
    "        <div dir = \"ltr\">\n",
    "           $F(X) = \\int_{0}^{X} f(x) dx = 1 - e^{-\\lambda X}$\n",
    "</div>\n",
    "در نتیجه جواب مساله برابر است با:\n",
    "        <div dir = \"ltr\">\n",
    "           $F(2) = 1 - e^{-\\frac{1}{3} \\times 2}$\n",
    "</div>\n",
    "و در \n",
    "R\n",
    "برابر است با:\n",
    "    </font>\n",
    "</div>"
   ]
  },
  {
   "cell_type": "code",
   "execution_count": 65,
   "metadata": {},
   "outputs": [
    {
     "data": {
      "text/html": [
       "0.486582880967408"
      ],
      "text/latex": [
       "0.486582880967408"
      ],
      "text/markdown": [
       "0.486582880967408"
      ],
      "text/plain": [
       "[1] 0.4865829"
      ]
     },
     "metadata": {},
     "output_type": "display_data"
    }
   ],
   "source": [
    "pexp(2, rate=1/3) "
   ]
  },
  {
   "cell_type": "markdown",
   "metadata": {},
   "source": [
    "<div dir = \"rtl\" style=\"direction:rtl;line-height:300%;\">\n",
    "\t<font face=\"XB Zar\" size=5>\n",
    "\t\t<font color=#FF7500 size=6>\n",
    "        </font>\n",
    "       همچنین میتوانیم در \n",
    "        R\n",
    "        به تابع \n",
    "        PMF \n",
    "        این توزیع دسترسی داشته باشیم:\n",
    "      <br/>\n",
    "\t</font>\n",
    "</div>"
   ]
  },
  {
   "cell_type": "code",
   "execution_count": 103,
   "metadata": {},
   "outputs": [
    {
     "data": {
      "image/png": "[encoded data removed]",
      "text/plain": [
       "plot without title"
      ]
     },
     "metadata": {},
     "output_type": "display_data"
    }
   ],
   "source": [
    "exp_x = seq(-1, 5, by = .1)\n",
    "dexp(x = exp_x, rate = 1/3) -> exp_y\n",
    "plot(exp_x, exp_y, col = \"purple\")"
   ]
  },
  {
   "cell_type": "markdown",
   "metadata": {},
   "source": [
    "<div dir = \"rtl\" style=\"direction:rtl;line-height:300%;\">\n",
    "\t<font face=\"XB Zar\" size=5>\n",
    "\t\t<font color=#FF7500 size=6>\n",
    "        </font>\n",
    "      همچنین نمونه گیری تصادفی نیز به صورت زیر است:\n",
    "      <br/>\n",
    "\t</font>\n",
    "</div>"
   ]
  },
  {
   "cell_type": "code",
   "execution_count": 100,
   "metadata": {},
   "outputs": [
    {
     "data": {
      "text/html": [
       "<ol class=list-inline>\n",
       "\t<li>0.263033026346597</li>\n",
       "\t<li>3.70692380132589</li>\n",
       "\t<li>0.477021937681543</li>\n",
       "\t<li>0.0700598776708585</li>\n",
       "\t<li>5.09385413645722</li>\n",
       "\t<li>5.34904284191258</li>\n",
       "\t<li>0.131264105904847</li>\n",
       "\t<li>4.67696425503131</li>\n",
       "\t<li>0.456322742995186</li>\n",
       "\t<li>8.69825250037978</li>\n",
       "\t<li>0.430958578844225</li>\n",
       "\t<li>2.718820114494</li>\n",
       "\t<li>24.8100456562931</li>\n",
       "\t<li>0.324242415335397</li>\n",
       "\t<li>0.96293920963743</li>\n",
       "\t<li>0.903154327384448</li>\n",
       "\t<li>1.81889130128548</li>\n",
       "\t<li>0.494845190551132</li>\n",
       "\t<li>13.234534303261</li>\n",
       "\t<li>2.08138259767059</li>\n",
       "\t<li>5.26820070037965</li>\n",
       "\t<li>4.77393330235906</li>\n",
       "\t<li>1.66388255122275</li>\n",
       "\t<li>3.30122581018571</li>\n",
       "\t<li>2.00876982836053</li>\n",
       "\t<li>4.73653968968951</li>\n",
       "\t<li>0.167644560917657</li>\n",
       "\t<li>2.86768446384434</li>\n",
       "\t<li>1.50458905706182</li>\n",
       "\t<li>0.395853915251791</li>\n",
       "\t<li>1.0927592581138</li>\n",
       "\t<li>9.18275543996945</li>\n",
       "\t<li>0.642844753805548</li>\n",
       "\t<li>2.58839258259598</li>\n",
       "\t<li>1.84946393268183</li>\n",
       "\t<li>4.08436476799164</li>\n",
       "\t<li>2.88271249069402</li>\n",
       "\t<li>5.91643423003085</li>\n",
       "\t<li>11.101934255402</li>\n",
       "\t<li>0.752556071151048</li>\n",
       "\t<li>0.104492755877989</li>\n",
       "\t<li>1.61119603458792</li>\n",
       "\t<li>0.987106318585575</li>\n",
       "\t<li>0.610616657417268</li>\n",
       "\t<li>5.54594978270723</li>\n",
       "\t<li>1.60200764285401</li>\n",
       "\t<li>5.05368370165057</li>\n",
       "\t<li>0.0810574474744499</li>\n",
       "\t<li>5.55538955678172</li>\n",
       "\t<li>3.90650406001572</li>\n",
       "</ol>\n"
      ],
      "text/latex": [
       "\\begin{enumerate*}\n",
       "\\item 0.263033026346597\n",
       "\\item 3.70692380132589\n",
       "\\item 0.477021937681543\n",
       "\\item 0.0700598776708585\n",
       "\\item 5.09385413645722\n",
       "\\item 5.34904284191258\n",
       "\\item 0.131264105904847\n",
       "\\item 4.67696425503131\n",
       "\\item 0.456322742995186\n",
       "\\item 8.69825250037978\n",
       "\\item 0.430958578844225\n",
       "\\item 2.718820114494\n",
       "\\item 24.8100456562931\n",
       "\\item 0.324242415335397\n",
       "\\item 0.96293920963743\n",
       "\\item 0.903154327384448\n",
       "\\item 1.81889130128548\n",
       "\\item 0.494845190551132\n",
       "\\item 13.234534303261\n",
       "\\item 2.08138259767059\n",
       "\\item 5.26820070037965\n",
       "\\item 4.77393330235906\n",
       "\\item 1.66388255122275\n",
       "\\item 3.30122581018571\n",
       "\\item 2.00876982836053\n",
       "\\item 4.73653968968951\n",
       "\\item 0.167644560917657\n",
       "\\item 2.86768446384434\n",
       "\\item 1.50458905706182\n",
       "\\item 0.395853915251791\n",
       "\\item 1.0927592581138\n",
       "\\item 9.18275543996945\n",
       "\\item 0.642844753805548\n",
       "\\item 2.58839258259598\n",
       "\\item 1.84946393268183\n",
       "\\item 4.08436476799164\n",
       "\\item 2.88271249069402\n",
       "\\item 5.91643423003085\n",
       "\\item 11.101934255402\n",
       "\\item 0.752556071151048\n",
       "\\item 0.104492755877989\n",
       "\\item 1.61119603458792\n",
       "\\item 0.987106318585575\n",
       "\\item 0.610616657417268\n",
       "\\item 5.54594978270723\n",
       "\\item 1.60200764285401\n",
       "\\item 5.05368370165057\n",
       "\\item 0.0810574474744499\n",
       "\\item 5.55538955678172\n",
       "\\item 3.90650406001572\n",
       "\\end{enumerate*}\n"
      ],
      "text/markdown": [
       "1. 0.263033026346597\n",
       "2. 3.70692380132589\n",
       "3. 0.477021937681543\n",
       "4. 0.0700598776708585\n",
       "5. 5.09385413645722\n",
       "6. 5.34904284191258\n",
       "7. 0.131264105904847\n",
       "8. 4.67696425503131\n",
       "9. 0.456322742995186\n",
       "10. 8.69825250037978\n",
       "11. 0.430958578844225\n",
       "12. 2.718820114494\n",
       "13. 24.8100456562931\n",
       "14. 0.324242415335397\n",
       "15. 0.96293920963743\n",
       "16. 0.903154327384448\n",
       "17. 1.81889130128548\n",
       "18. 0.494845190551132\n",
       "19. 13.234534303261\n",
       "20. 2.08138259767059\n",
       "21. 5.26820070037965\n",
       "22. 4.77393330235906\n",
       "23. 1.66388255122275\n",
       "24. 3.30122581018571\n",
       "25. 2.00876982836053\n",
       "26. 4.73653968968951\n",
       "27. 0.167644560917657\n",
       "28. 2.86768446384434\n",
       "29. 1.50458905706182\n",
       "30. 0.395853915251791\n",
       "31. 1.0927592581138\n",
       "32. 9.18275543996945\n",
       "33. 0.642844753805548\n",
       "34. 2.58839258259598\n",
       "35. 1.84946393268183\n",
       "36. 4.08436476799164\n",
       "37. 2.88271249069402\n",
       "38. 5.91643423003085\n",
       "39. 11.101934255402\n",
       "40. 0.752556071151048\n",
       "41. 0.104492755877989\n",
       "42. 1.61119603458792\n",
       "43. 0.987106318585575\n",
       "44. 0.610616657417268\n",
       "45. 5.54594978270723\n",
       "46. 1.60200764285401\n",
       "47. 5.05368370165057\n",
       "48. 0.0810574474744499\n",
       "49. 5.55538955678172\n",
       "50. 3.90650406001572\n",
       "\n"
      ],
      "text/plain": [
       " [1]  0.26303303  3.70692380  0.47702194  0.07005988  5.09385414  5.34904284\n",
       " [7]  0.13126411  4.67696426  0.45632274  8.69825250  0.43095858  2.71882011\n",
       "[13] 24.81004566  0.32424242  0.96293921  0.90315433  1.81889130  0.49484519\n",
       "[19] 13.23453430  2.08138260  5.26820070  4.77393330  1.66388255  3.30122581\n",
       "[25]  2.00876983  4.73653969  0.16764456  2.86768446  1.50458906  0.39585392\n",
       "[31]  1.09275926  9.18275544  0.64284475  2.58839258  1.84946393  4.08436477\n",
       "[37]  2.88271249  5.91643423 11.10193426  0.75255607  0.10449276  1.61119603\n",
       "[43]  0.98710632  0.61061666  5.54594978  1.60200764  5.05368370  0.08105745\n",
       "[49]  5.55538956  3.90650406"
      ]
     },
     "metadata": {},
     "output_type": "display_data"
    },
    {
     "data": {
      "image/png": "[encoded data removed]",
      "text/plain": [
       "Plot with title \"Histogram of data_exp\""
      ]
     },
     "metadata": {},
     "output_type": "display_data"
    }
   ],
   "source": [
    "rexp(1000, rate = 1/3) -> data_exp\n",
    "data_exp[1:50]\n",
    "hist(data_exp, col = \"violet\")"
   ]
  },
  {
   "cell_type": "markdown",
   "metadata": {},
   "source": [
    "<div id=\"#sec_geometric\" style=\"direction:rtl;line-height:300%;\">\n",
    "\t<font face=\"XB Zar\" size=5>\n",
    "\t\t<font color=#FF7500 size=6>\n",
    "توزیع هندسی\n",
    "        </font>\n",
    "\t\t<hr>   \n",
    "        احتمال اینکه در پرتاب یک سکه، اولین باری که شیر می آید پرتاب هشتم باشد را بیابید.\n",
    "    <br/>\n",
    "        میدانید این رخداد از توزیع هندسی پیروی میکند. در نتیجه احتمال آن برابر است با:\n",
    "        <div dir = \"ltr\"> \n",
    "        $P(x = 7) = (1 - \\frac{1}{2})^6 \\times \\frac{1}{2}^1$\n",
    "</div>\n",
    "در\n",
    "R\n",
    "این مقدار به صورت زیر محاسبه میشود:\n",
    "    </font>\n",
    "</div>"
   ]
  },
  {
   "cell_type": "code",
   "execution_count": 82,
   "metadata": {},
   "outputs": [
    {
     "data": {
      "text/html": [
       "0.0078125"
      ],
      "text/latex": [
       "0.0078125"
      ],
      "text/markdown": [
       "0.0078125"
      ],
      "text/plain": [
       "[1] 0.0078125"
      ]
     },
     "metadata": {},
     "output_type": "display_data"
    }
   ],
   "source": [
    "dgeom(x = 6, prob = 1/2)\n",
    "#meaning P(x = 7)"
   ]
  },
  {
   "cell_type": "markdown",
   "metadata": {},
   "source": [
    "<div dir = \"rtl\" style=\"direction:rtl;line-height:300%;\">\n",
    "\t<font face=\"XB Zar\" size=5>\n",
    "\t\t<font color=#FF7500 size=6>\n",
    "        </font>\n",
    "        چون توابع این توزیع نیز مشابه با توزیع های پیش تر گفته شده است، اینبار شما مقادیر زیر را با استفاده از\n",
    "        R\n",
    "        حساب کنید:\n",
    "      <br/>\n",
    "       <ul>\n",
    "           <li>\n",
    "                یک نمونه تصادفی 1000 تایی از توزیع هندسی با پارامتر 0.45</li>\n",
    "           <li>\n",
    "               نمودار مستطیلی فراوانی داده به دست آمده را ترسیم کنید.</li>\n",
    "                      <li>\n",
    "                          احتمال اینکه اولین شیر در کمتر از 4 پرتاب مشاهده شود چقدر است؟\n",
    "             </li>\n",
    "           <ul/>\n",
    "\t</font>\n",
    "</div>"
   ]
  },
  {
   "cell_type": "markdown",
   "metadata": {},
   "source": [
    "<div id=\"#sec_conc\" style=\"direction:rtl;line-height:300%;\">\n",
    "\t<font face=\"XB Zar\" size=5>\n",
    "\t\t<font color=#FF7500 size=6>\n",
    "خلاصه و نتیجه گیری\n",
    "        </font>\n",
    "\t\t<hr>   \n",
    "        \t\t<font color=darkpink size=6>\n",
    "برای علاقه مندان:       </font>\n",
    "       تمامی توزیع های گفته شده دارای تابعی به صورت \n",
    "        qbinom, qnorm , ...\n",
    "       هستند. این توابع چه عملیاتی را انجام میدهند؟\n",
    "        <br/>         \n",
    "  </font>\n",
    "</div>"
   ]
  },
  {
   "cell_type": "markdown",
   "metadata": {},
   "source": [
    "<div dir = \"rtl\" style=\"direction:rtl;line-height:300%;\">\n",
    "\t<font face=\"XB Zar\" size=5>\n",
    "\t\t<font color=#FF7500 size=6>\n",
    "        </font>\n",
    "       توابع مربوط به توزیع ها در \n",
    "        R\n",
    "        را میتوان به طور کلی در جدول زیر خلاصه کرد:\n",
    "\t</font>\n",
    "</div>"
   ]
  },
  {
   "cell_type": "markdown",
   "metadata": {},
   "source": [
    "| پیشوند  | کاربرد|\n",
    "| --- | --- |\n",
    "|  نمونه گیری تصادفی از توزیع مربوطه| r|\n",
    "| توزیع به ازای ورودی داده شده CDF  محاسبه | p |\n",
    "| توزیع به ازای ورودی داده شده PMF محاسبه |d |\n",
    "| !شما بیابید | q |"
   ]
  },
  {
   "cell_type": "markdown",
   "metadata": {},
   "source": [
    "<div id=\"#sec_conc\" style=\"direction:rtl;line-height:300%;\">\n",
    "\t<font face=\"XB Zar\" size=5>\n",
    "\t\t<font color=#FF7500 size=6>\n",
    "خلاصه و نتیجه گیری\n",
    "        </font>\n",
    "\t\t<hr>   \n",
    "        \t\t<font color=darkpink size=6>\n",
    "       </font>\n",
    "        اکنون با نحوه استفاده از انواع توزیع ها در \n",
    "        R\n",
    "        آشنا شده اید. این به شما کمک میکند در هنگام مواجه با مسائل جدید بتوانید شهودی از داده ها و توزیع آن داشته باشید ، با دیدی باز تر به سراغ حل مساله بروید و در حل این مسائل از این ابزار های استفاده کنید. \n",
    "  </font>\n",
    "</div>"
   ]
  },
  {
   "cell_type": "markdown",
   "metadata": {},
   "source": [
    "<div id=\"#sec_resources\" style=\"direction:rtl;line-height:300%;\">\n",
    "\t<font face=\"XB Zar\" size=5>\n",
    "\t\t<font color=#FF7500 size=6>\n",
    "منابع\n",
    "        </font>\n",
    "\t\t<hr> \n",
    "        <ul> \n",
    "            <li> <a href=\"https://stat.ethz.ch/R-manual/R-devel/library/stats\"> wwww.stat.ethz.ch </a></li>\n",
    "            <li><a href= \"https://www.rdocumentation.org\"> www.rdocumentation.org </a> </li>\n",
    "            <li> <a href= \"https://www.r-bloggers.com\"> www.r-bloggers.com</a> </li>\n",
    "            <li> <a href= \"www.r-tutor.com\"> www.r-tutor.com </a> </li>\n",
    "            </ul>\n",
    "      </font>\n",
    "</div>"
   ]
  }
 ],
 "metadata": {
  "kernelspec": {
   "display_name": "R",
   "language": "R",
   "name": "ir"
  },
  "language_info": {
   "codemirror_mode": "r",
   "file_extension": ".r",
   "mimetype": "text/x-r-source",
   "name": "R",
   "pygments_lexer": "r",
   "version": "3.5.1"
  },
  "latex_envs": {
   "LaTeX_envs_menu_present": true,
   "autoclose": false,
   "autocomplete": true,
   "bibliofile": "biblio.bib",
   "cite_by": "apalike",
   "current_citInitial": 1,
   "eqLabelWithNumbers": true,
   "eqNumInitial": 1,
   "hotkeys": {
    "equation": "Ctrl-E",
    "itemize": "Ctrl-I"
   },
   "labels_anchors": false,
   "latex_user_defs": false,
   "report_style_numbering": false,
   "user_envs_cfg": false
  },
  "toc": {
   "base_numbering": 1,
   "nav_menu": {},
   "number_sections": true,
   "sideBar": true,
   "skip_h1_title": false,
   "title_cell": "Table of Contents",
   "title_sidebar": "Contents",
   "toc_cell": false,
   "toc_position": {},
   "toc_section_display": true,
   "toc_window_display": false
  },
  "varInspector": {
   "cols": {
    "lenName": 16,
    "lenType": 16,
    "lenVar": 40
   },
   "kernels_config": {
    "python": {
     "delete_cmd_postfix": "",
     "delete_cmd_prefix": "del ",
     "library": "var_list.py",
     "varRefreshCmd": "print(var_dic_list())"
    },
    "r": {
     "delete_cmd_postfix": ") ",
     "delete_cmd_prefix": "rm(",
     "library": "var_list.r",
     "varRefreshCmd": "cat(var_dic_list()) "
    }
   },
   "types_to_exclude": [
    "module",
    "function",
    "builtin_function_or_method",
    "instance",
    "_Feature"
   ],
   "window_display": false
  }
 },
 "nbformat": 4,
 "nbformat_minor": 2
}
