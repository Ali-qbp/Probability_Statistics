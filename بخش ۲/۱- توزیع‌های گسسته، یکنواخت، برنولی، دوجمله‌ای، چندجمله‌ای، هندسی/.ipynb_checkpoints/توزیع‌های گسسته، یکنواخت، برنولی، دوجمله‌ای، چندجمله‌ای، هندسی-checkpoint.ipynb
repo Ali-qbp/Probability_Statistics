{
 "cells": [
  {
   "cell_type": "markdown",
   "metadata": {},
   "source": [
    "<div style=\"direction:rtl;line-height:300%;\">\n",
    "\t<font face=\"XB Zar\" size=5>\n",
    "\t\t<div align=center>\n",
    "\t\t\t<font face=\"IranNastaliq\" size=30>\n",
    "\t\t\t\t<p></p>\n",
    "\t\t\t\t<p></p>\n",
    "به نام خدا\n",
    "\t\t\t\t<p></p>\n",
    "\t\t\t</font>\n",
    "\t\t\t<font color=#FF7500>\n",
    "دانشگاه صنعتی شریف - دانشکده مهندسی کامپیوتر\n",
    "            </font>\n",
    "\t\t\t<p></p>\n",
    "\t\t\t<font color=blue>\n",
    "آمار و احتمال مهندسی\n",
    "            </font>\n",
    "\t\t\t<br />\n",
    "\t\t\t<br />\n",
    "پاییز ۱۳۹۷\n",
    "\t\t</div>\n",
    "\t\t<hr/>\n",
    "\t\t<font color=red size=6>\n",
    "\t\t\t<br />\n",
    "\t\t\t<div align=center>\n",
    "                توزیع‌های گسسته، یکنواخت، برنولی، دوجمله‌ای، چندجمله‌ای، هندسی\n",
    "            </div>\n",
    "\t\t</font>\n",
    "\t\t<br />\n",
    "\t\t<div align=center>\n",
    "سپهر عبدوس\n",
    "        </div>\n",
    "\t\t<hr />\n",
    "\t\t<style type=\"text/css\" scoped>\n",
    "        p{\n",
    "        border: 1px solid #a2a9b1;background-color: #f8f9fa;display: inline-block;\n",
    "        };\n",
    "        </style>\n",
    "\t\t<div>\n",
    "\t\t\t<h3>فهرست مطالب</h3>\n",
    "\t\t\t<ul style=\"margin-right: 0;\">\n",
    "\t\t\t\t<li>\n",
    "                    <a href=\"#sec_intro\">\n",
    "                        مقدمه\n",
    "                    </a>\n",
    "                </li>\n",
    "                <li>\n",
    "                    <a href=\"#sec_uniform\">\n",
    "                        توزیع گسسته یکنواخت\n",
    "                    </a>\n",
    "                </li>\n",
    "                <li>\n",
    "                    <a href=\"#sec_bernoulli\">\n",
    "                        توزیع گسسته برنولی\n",
    "                    </a>\n",
    "                </li>\n",
    "                <li>\n",
    "                    <a href=\"#sec_binomial\">\n",
    "                        توزیع گسسته دوجمله‌ای\n",
    "                    </a>\n",
    "                </li>\n",
    "                <li style=\"list-style-type:square; margin-right: 50px\">\n",
    "\t\t\t\t\t<a href=\"#sec_problem_bionomial\">\n",
    "                        صورت مسئله\n",
    "                    </a>\n",
    "\t\t\t\t</li>\n",
    "                <li style=\"list-style-type:square; margin-right: 50px\">\n",
    "\t\t\t\t\t<a href=\"#sec_binom_binomial\">\n",
    "توزیع دو جمله ای\n",
    "                    </a>\n",
    "\t\t\t\t</li>\n",
    "                <li style=\"list-style-type:square; margin-right: 50px\">\n",
    "\t\t\t\t\t<a href=\"#sec_excpectectation_binomial\">\n",
    "امید ریاضی و واریانس\n",
    "                    </a>\n",
    "\t\t\t\t</li>\n",
    "                <li style=\"list-style-type:square; margin-right: 50px\">\n",
    "\t\t\t\t\t<a href=\"#sec_jam_again_binomial\">\n",
    "بازگشت به مسئله\n",
    "                    </a>\n",
    "\t\t\t\t</li>\n",
    "                <li style=\"list-style-type:square; margin-right: 50px\">\n",
    "\t\t\t\t\t<a href=\"#sec_conc_binomial\">\n",
    "خلاصه و نتیجه‌گیری\n",
    "                    </a>\n",
    "\t\t\t\t</li>\n",
    "                <li>\n",
    "                    <a href=\"#sec_multinomial\">\n",
    "                        توزیع گسسته چند جمله‌ای\n",
    "                    </a>\n",
    "                </li>\n",
    "                <li style=\"list-style-type:square; margin-right: 50px\">\n",
    "\t\t\t\t\t<a href=\"#sec_problem_multinomial\">\n",
    "                        صورت مسئله\n",
    "                    </a>\n",
    "\t\t\t\t</li>\n",
    "                <li style=\"list-style-type:square; margin-right: 50px\">\n",
    "\t\t\t\t\t<a href=\"#sec_binom_multinomial\">\n",
    "توزیع چند جمله ای\n",
    "                    </a>\n",
    "\t\t\t\t</li>\n",
    "                <li style=\"list-style-type:square; margin-right: 50px\">\n",
    "\t\t\t\t\t<a href=\"#sec_excpectectation_multinomial\">\n",
    "امید ریاضی و واریانس\n",
    "                    </a>\n",
    "\t\t\t\t</li>\n",
    "                <li style=\"list-style-type:square; margin-right: 50px\">\n",
    "\t\t\t\t\t<a href=\"#sec_jam_again_multinomial_multinomial\">\n",
    "بازگشت به مسئله\n",
    "                    </a>\n",
    "\t\t\t\t</li>\n",
    "                <li style=\"list-style-type:square; margin-right: 50px\">\n",
    "\t\t\t\t\t<a href=\"#sec_conc_multinomial\">\n",
    "خلاصه و نتیجه‌گیری\n",
    "                    </a>\n",
    "\t\t\t\t</li>\n",
    "                <li>\n",
    "                    <a href=\"#sec_geometric\">\n",
    "                        توزیع گسسته هندسی\n",
    "                    </a>\n",
    "                </li>\n",
    "                <li style=\"list-style-type:square; margin-right: 50px\">\n",
    "                    <a href=\"#sec_def_geometric\">\n",
    "                        تعریف دقیق\n",
    "                    </a>\n",
    "                </li>\n",
    "                <li style=\"list-style-type:square; margin-right: 50px\">\n",
    "                    <a href=\"#simple_sample_question_geometric\">\n",
    "                        انواع مسائل توزیع هندسی\n",
    "                    </a>\n",
    "                </li>\n",
    "                <li style=\"list-style-type:square; margin-right: 50px\">\n",
    "                    <a href=\"#expected_value_geometric\">\n",
    "                        امید ریاضی متغیر تصادفی هندسی\n",
    "                    </a>\n",
    "                </li>\n",
    "                <li style=\"list-style-type:square; margin-right: 50px\">\n",
    "                    <a href=\"#var_value_geometric\">\n",
    "                        واریانس متغیر تصادفی هندسی\n",
    "                    </a>\n",
    "                </li>\n",
    "                <li style=\"list-style-type:square; margin-right: 50px\">\n",
    "                    <a href=\"#sec_more_info_geometric\">\n",
    "                        جدول اطلاعات بیشتر\n",
    "                    </a>\n",
    "                </li>\n",
    "                <li style=\"list-style-type:square; margin-right: 50px\">\n",
    "                    <a href=\"#sec_memoryless_geometric\">\n",
    "                        توزیع هندسی، توزیعی بدون حافظه\n",
    "                    </a>\n",
    "                </li>\n",
    "                <li style=\"list-style-type:square; margin-right: 50px\">\n",
    "                    <a href=\"#sec_conc_geometric\">\n",
    "                        خلاصه و نتیجه‌گیری\n",
    "                    </a>\n",
    "                </li>\n",
    "                <li>\n",
    "                    <a href=\"#sec_refs\">\n",
    "                        منابع\n",
    "                    </a>\n",
    "                </li>\n",
    "\t\t\t</ul>\n",
    "\t\t</div>\n",
    "\t</font>\n",
    "</div>"
   ]
  },
  {
   "cell_type": "markdown",
   "metadata": {},
   "source": [
    "<p></p>\n",
    "<br />\n",
    "<div id=\"sec_intro\" style=\"direction:rtl;line-height:300%;\">\n",
    "\t<font face=\"XB Zar\" size=5>\n",
    "\t\t<font color=#FF7500 size=6>\n",
    "مقدمه\n",
    "        </font>\n",
    "\t\t<p></p>\n",
    "\t\t<hr>\n",
    "        واژه \"توزیع احتمالاتی گسسته\" زمانی به کار می‌رود که مقادیر مشاهده شده محدود به یک لیست از پیش‌تعریف شده از مقادیر باشند. این لیست می‌تواند تعداد محدود داشته و یا شمارا باشد.\n",
    "        توزیع احتمالاتی گسسته انواع مختلفی دارد که در این جزوه موارد زیر بررسی خواهد شد:\n",
    "        <ul>\n",
    "            <li>\n",
    "                توزیع گسسته یکنواخت\n",
    "            </li>\n",
    "            <li>\n",
    "                توزیع گسسته برنولی\n",
    "            </li>\n",
    "            <li>\n",
    "                توزیع گسسته دوجمله‌ای\n",
    "            </li>\n",
    "            <li>\n",
    "                توزیع گسسته چندجمله‌ای\n",
    "            </li>\n",
    "            <li>\n",
    "                توزیع گسسته هندسی\n",
    "            </li>\n",
    "        </ul>\n",
    "        </font>\n",
    "</div>"
   ]
  },
  {
   "cell_type": "markdown",
   "metadata": {},
   "source": [
    "<p></p>\n",
    "<br />\n",
    "<div id=\"sec_uniform\" style=\"direction:rtl;line-height:300%;\">\n",
    "\t<font face=\"XB Zar\" size=5>\n",
    "\t\t<font color=#FF7500 size=6>\n",
    "توزیع گسسته یکنواخت\n",
    "        </font>\n",
    "\t\t<p></p>\n",
    "\t\t<hr>\n",
    "        در نظریه احتمالات واژه \"توزیع احتمالاتی گسسته یکنواخت\" برای یک توزیع احتمالاتی گسسته متقارن به کار می‌رود که همه مقادیر با احتمال یکسان امکان دیده شدن را دارند. به این معنا که اگر یک لیست شامل n عدد داشته باشیم، احتمال ظهور هر یک از اعداد یکسان و برابر با $\\frac{1}{n}$ می‌باشد.\n",
    "        <br>\n",
    "        یک مثال از توزیع گسسته یکنواخت پرتاب یک تاس سالم می‌باشد. در این مثال مجموعه اعدادی که ممکن است دیده شود به شکل $\\{1, 2, 3, 4, 5, 6\\}$ بوده و احتمال دیده شدن هر عدد در هر بار پرتاب برابر با $\\frac{1}{6}$ است و از آن‌جا که احتمال دیده شدن همه اعضای مجموعه برابر است این توزیع یک توزیع یکنواخت به شمار می‌رود.\n",
    "        <br>\n",
    "        <b>\n",
    "            سوال: \n",
    "        </b>\n",
    "        حال فرض کنید دو تاس سالم در اختیار داریم. در هر بار دو تاس را پرتاب کرده و مجموع اعداد ظاهر شده را حساب می‌کنیم. بنابراین مجموعه‌ای که امکان دارد ظاهر شود به شکل $\\{2, 3, 4, 5, ..., 12\\}$ است. آیا این مسئله نیز یک مسئله توزیع گسسته یکنواخت است؟\n",
    "    <br>\n",
    "    کد زیر نشان می‌دهد که چگونه در پرتاب یک تاس به تعداد ۱۰۰۰۰ بار توزیع ما یکنواخت است:\n",
    "    </font>\n",
    "</div>"
   ]
  },
  {
   "cell_type": "code",
   "execution_count": 13,
   "metadata": {},
   "outputs": [
    {
     "data": {
      "image/png": "[encoded data removed]",
      "text/plain": [
       "Plot with title “boxplot of a uniform random distribution”"
      ]
     },
     "metadata": {},
     "output_type": "display_data"
    }
   ],
   "source": [
    "numcases <- 10000                           \n",
    "min <- 1                                  \n",
    "max <- 6\n",
    "x <- as.integer(runif(numcases,min,max+1) )        #generate random uniform numcases numbers from min to max\n",
    "                                        #as.integer truncates, round converts to integers, add .5 for equal intervals \n",
    "par(mfrow=c(2,1))                        \n",
    "hist(x,main=paste( numcases,\" roles of a single die\"),breaks=seq(min-.5,max+.5,1))          #show the histogram\n",
    "boxplot(x, horizontal=TRUE,range=1)              # and the boxplot\n",
    "title(\"boxplot of a uniform random distribution\")\n"
   ]
  },
  {
   "cell_type": "markdown",
   "metadata": {},
   "source": [
    "<div style=\"direction:rtl;line-height:300%;\">\n",
    "    <font face=\"XB Zar\" size=5>\n",
    "        حال این مانند کد بالا سوال مربوط به پرتاب دو تاس را بررسی می‌کنیم:\n",
    "</font>\n",
    "</div>"
   ]
  },
  {
   "cell_type": "code",
   "execution_count": 14,
   "metadata": {},
   "outputs": [
    {
     "data": {
      "image/png": "[encoded data removed]",
      "text/plain": [
       "Plot with title “boxplot of samples of size two taken from a uniform random distribution”"
      ]
     },
     "metadata": {},
     "output_type": "display_data"
    }
   ],
   "source": [
    "numcases <- 10000                            \n",
    "min <- 0                                   \n",
    "max <- 6\n",
    "x <- round(runif(numcases,min,max)+.5)+round(runif(numcases,min,max)+.5)\n",
    "par(mfrow=c(2,1))                        \n",
    "hist(x,breaks=seq(1.5,12.5),main=paste( numcases,\" roles of a pair of dice\"))                                          \n",
    "boxplot(x, horizontal=TRUE,range=1)      \n",
    "title(\"boxplot of samples of size two taken from a uniform random distribution\")"
   ]
  },
  {
   "cell_type": "markdown",
   "metadata": {},
   "source": [
    "<div style=\"direction:rtl;line-height:300%;\">\n",
    "    <font face=\"XB Zar\" size=5>\n",
    "        همان طور که از شکل واضح است در پرتاب دو تاس ما با یک مسئله احتمالاتی گسسته یکنواخت روبرو نیستیم. به توزیع دیده شده در این مسئله \"توزیع احتمالاتی گسسته نورمال\" گفته می‌شود.\n",
    "</font>\n",
    "</div>"
   ]
  },
  {
   "cell_type": "markdown",
   "metadata": {},
   "source": [
    "<div style=\"direction:rtl;line-height:300%;\">\n",
    "    <font face=\"XB Zar\" size=5>\n",
    "        فرض کنید بازه a و b را به n بازه مختلف تقسیم می‌شود یعنی مجموعه اتفاقات ممکن است n مقدار متفاوت داشته باشند. فرمول‌های توزیع احتمالاتی گسسته یکنواخت در این شرایط به شکل زیر خواهد بود:\n",
    "   <br>\n",
    "   میانگین و میانه: $\\mu = \\frac{a + b}{2}$\n",
    "   <br>\n",
    "   واریانس: $V = \\sigma ^ 2 = \\frac{(b - a + 2)(b - a)}{12}$\n",
    "   <br>\n",
    "   امید ریاضی: $E(X) = \\frac{1}{2} (a + b)$\n",
    "</font>\n",
    "</div>"
   ]
  },
  {
   "cell_type": "markdown",
   "metadata": {},
   "source": [
    "<p></p>\n",
    "<br />\n",
    "<div id=\"sec_bernoulli\" style=\"direction:rtl;line-height:300%;\">\n",
    "\t<font face=\"XB Zar\" size=5>\n",
    "\t\t<font color=#FF7500 size=6>\n",
    "توزیع گسسته برنولی\n",
    "        </font>\n",
    "\t\t<p></p>\n",
    "\t\t<hr>\n",
    "        <ul style=\"margin-right: 0;\">\n",
    "            <li>\n",
    "           یک تاس را به طور مکرر پرتاب می‌کنیم. به چه احتمالی اولین ۶ در ۱۰ امین بار ظاهر می‌شود؟  \n",
    "            </li>\n",
    "        </ul>\n",
    "\t</font>\n",
    "</div>"
   ]
  },
  {
   "cell_type": "markdown",
   "metadata": {},
   "source": [
    "<p></p>\n",
    "<br />\n",
    "<div id=\"sec_binomial\" style=\"direction:rtl;line-height:300%;\">\n",
    "\t<font face=\"XB Zar\" size=5>\n",
    "\t\t<font color=#FF7500 size=6>\n",
    "توزیع گسسته دوجمله‌ای\n",
    "        </font>\n",
    "\t\t<p></p>\n",
    "\t\t<hr>\n",
    "        بددنبال محبوب شدن مسابقه تلویزیونی محمدرضا گلزار و حمید گودرزی، علی تصمیم گرفته تا با راه انداختن مسابقه‌ای مشابه و پخش آن در یوتیوب مشهور شود. علی آه در بساط ندارد بنابراین سعی دارد سوالات آنقدر سخت باشند که همه شانسی جواب بدهند. او می‌خواهد بداند این مشهور شدن به طور متوسط به ازای هر قسمت  حدودا چقدر برایش آب می‌خورد.\n",
    "     </font>\n",
    "</div>"
   ]
  },
  {
   "cell_type": "markdown",
   "metadata": {},
   "source": [
    "<br />\n",
    "<div id=\"sec_problem_binomial\" style=\"direction:rtl;line-height:300%;\">\n",
    "\t<font face=\"XB Zar\" size=5>\n",
    "\t\t<font color=#FF7500 size=6>\n",
    "صورت مسئله\n",
    "        </font>\n",
    "\t\t<p></p>\n",
    "\t\t<hr>\n",
    "قرار است در هر قسمت از مسابقه علی ۱۰ نفر مسابقه بدهند که هر کدام ۲۰ سوال پیش رو دارند و در صورتی که از ۲۰ سوال ۱۸ یا بیشتر جواب درست داشته باشند ۵ میلیون برنده می شوند!\n",
    "سوالات هیچ ربطی به هم ندارند و کاملا از هم مستقل اند.\n",
    "سوالات چهارگزینه‌ای هستند و علی امیدوار است آنقدر سخت باشند که کسی روی زمین، جواب صحیح را نداند. برای همین محاسبات او با این پیش فرض است.\n",
    "<br>\n",
    "برای حل این مسئله احتمالاتی، علی نیاز دارد تا توزیع مربوطه را بداند و امید ریاضی آن را بدست آورد.\n",
    "\n",
    "</font>\n",
    "</div>"
   ]
  },
  {
   "cell_type": "markdown",
   "metadata": {},
   "source": [
    "\n",
    "<div style=\"direction:rtl;line-height:300%;\">\n",
    "\t<font face=\"XB Zar\" size=5>\n",
    "\t\t<font color=blue size=6>\n",
    "کنجکاوی:\n",
    "        </font><br/>\n",
    "آیا با اصل ضرب احتمالات مستقل، می توان احتمال موفقیت هر فرد را حساب کرد؟\n",
    "\n",
    "</font>\n",
    "</div>\n",
    "\n"
   ]
  },
  {
   "cell_type": "markdown",
   "metadata": {},
   "source": [
    "<p></p>\n",
    "<br />\n",
    "<div id=\"sec_binom_binomial\" style=\"direction:rtl;line-height:300%;\">\n",
    "\t<font face=\"XB Zar\" size=5>\n",
    "\t\t<font color=#FF7500 size=6>\n",
    "توزیع دو جمله ای\n",
    "        </font>\n",
    "\t\t<p></p>\n",
    "\t\t<hr>\n",
    "در یک آزمایش هنگامی که رخداد های مستقل  اما مشابه داریم، آن را\n",
    "        <b>دنباله ای از آزمایشات مستقل</b> \n",
    "        می نامیم. وقتی که هر رخداد فقط دو حالت ممکن داشته باشد، آن را \n",
    "        <b>آزمایش برنولی</b>\n",
    "        می نامیم. مثلا، در انداختن یک سکه فقط دو حالت \"شیر\" یا \"خط\" داریم.\n",
    "<br>\n",
    "آزمایشی را در نظر بگیرید که در آن $n$ بار یک سکه ناهمگن را می اندازیم. احتمال اینکه سکه رو بیاید برابر $p$ است، که عددی بین صفر و یک است. واضح است که این رویداد ها از هم مستقل اند. زیرا هر بار که این سکه را می اندازیم مستقل از نتایج قبل، با احتمال $p$ شیر می آید و  با احتمال $1-p$ خط.\n",
    "<br>\n",
    "حالات ممکن و احتمال هر رویداد در شرایطی که $n=3$ باشد، در تصویر زیر نشان داده شده است.  \n",
    "<br>\n",
    "<img src=\"figs/dbinom.png\" style=\"float:center; width:50%\"/>\n",
    "\n",
    "\n",
    "<br>\n",
    "با دانستن اینکه این رویدادها از هم مستقل اند می توانیم احتمالات را در هم ضرب کنیم و احتمال نهایی در هر کدام از حالات را بدست آوریم.  برای هر رخدادی که در آن $k$ بار شیر و $3-k$ بار خط آمده، عبارت \n",
    "$p^{k}(1-p)^{3-k}$\n",
    "را میبینیم. در حالت کلی بجای 3، $n$ میگذاریم و عبارت\n",
    "$p^{k}(1-p)^{n-k}$\n",
    "        \n",
    " بدست می آید.\n",
    "\n",
    "<br> <br>\n",
    "حال احتمال رویداد زیر را در نظر بگیرید:\n",
    "<br>\n",
    "$$p(k) = P(k\\:heads\\:in\\:n\\: tosses)$$\n",
    "\n",
    "<br>\n",
    "روی دادن $k$ بار شیر در $n$ پرتاب، در هر کدام از ترتیب های آمدن  شیر و خط، یکسان است و بر اساس فرمولی که در بالا بدست آمده بدست می آید و در همه ترتیب ها این احتمال ها برابر است. کافی است تعداد حالات مختلف $k$ بار شیر آمدن را در $n$ پرتاب حساب کنیم که برابر است با:\n",
    "${n \\choose k}$\n",
    "<br>\n",
    "و فرمول کلی می شود:   \n",
    "$$P(k)={n \\choose k}p^{k}(1-p)^{n-k}$$\n",
    "\n",
    "<br>\n",
    "اعداد\n",
    " ${n \\choose k}$\n",
    " ضرایب دوجمله ای نامیده می شوند.\n",
    "\n",
    "<br>\n",
    "\n",
    "متغیر تصادفی $X$ که  به صورت زیر تعریف شود از توزیع دو جمله ای پیروی می کند: \n",
    "<br>\n",
    "$$ X = occurrences\\: of\\: event\\: A\\: in\\: n \\: trials $$\n",
    "\n",
    "<br>\n",
    "$$X \\sim binomial(n,p)$$\n",
    "\n",
    "\n",
    "\n",
    "<br>\n",
    "\t</font>\n",
    "</div>\n",
    "\n"
   ]
  },
  {
   "cell_type": "code",
   "execution_count": 15,
   "metadata": {},
   "outputs": [
    {
     "ename": "ERROR",
     "evalue": "Error in dbinom(x, size, prob): object 'size' not found\n",
     "output_type": "error",
     "traceback": [
      "Error in dbinom(x, size, prob): object 'size' not found\nTraceback:\n",
      "1. dbinom(x, size, prob)"
     ]
    }
   ],
   "source": [
    "dbinom(x, size, prob)\n",
    "pbinom(x, size, prob)\n",
    "qbinom(p, size, prob)\n",
    "rbinom(n, size, prob)\n",
    "\n",
    "#find out the application of these methods"
   ]
  },
  {
   "cell_type": "markdown",
   "metadata": {},
   "source": [
    "<p></p>\n",
    "<br />\n",
    "<div id=\"sec_excpectectation_binomial\" style=\"direction:rtl;line-height:300%;\">\n",
    "\t<font face=\"XB Zar\" size=5>\n",
    "\t\t<font color=#FF7500 size=6>\n",
    "امیدریاضی و واریانس\n",
    "        </font>\n",
    "\t\t<p></p>\n",
    "\t\t<hr>\n",
    "        امیدریاضی:\n",
    "        <br>\n",
    "        \\begin{aligned} \\operatorname {E}[X]=np \\end{aligned}\n",
    "        <br>\n",
    " \\begin{aligned}\\mu &=\\sum _{k=0}^{n}k{\\binom {n}{k}}p^{k}(1-p)^{n-k}\\\\&=np\\sum _{k=0}^{n}k{\\frac {(n-1)!}{(n-k)!k!}}p^{k-1}(1-p)^{(n-1)-(k-1)}\\\\&=np\\sum _{k=1}^{n}{\\frac {(n-1)!}{((n-1)-(k-1))!(k-1)!}}p^{k-1}(1-p)^{(n-1)-(k-1)}\\\\&=np\\sum _{k=1}^{n}{\\binom {n-1}{k-1}}p^{k-1}(1-p)^{(n-1)-(k-1)}\\\\&=np\\sum _{\\ell =0}^{n-1}{\\binom {n-1}{\\ell }}p^{\\ell }(1-p)^{(n-1)-\\ell }&&{\\text{with }}\\ell :=k-1\\\\&=np\\sum _{\\ell =0}^{m}{\\binom {m}{\\ell }}p^{\\ell }(1-p)^{m-\\ell }&&{\\text{with }}m:=n-1\\\\&=np(p+(1-p))^{m}\\\\&=np\\end{aligned}\n",
    "\n",
    "<br>\n",
    "\n",
    "واریانس:\n",
    "\n",
    "<br>\n",
    "\n",
    " \\begin{aligned} \\operatorname {Var} (X)=np(1-p)\n",
    " \\end{aligned}\n",
    "\n",
    "<br>\n",
    "\\begin{aligned}\n",
    "\\operatorname {Var} (X)=\\operatorname {Var} (X_{1}+\\cdots +X_{n})=\\operatorname {Var} (X_{1})+\\cdots +\\operatorname {Var} (X_{n})=n\\operatorname {Var} (X_{1})=np(1-p)\n",
    "\\end{aligned}\n",
    "</font>\n",
    "</div>"
   ]
  },
  {
   "cell_type": "markdown",
   "metadata": {},
   "source": [
    "<p></p>\n",
    "<br />\n",
    "<div id=\"sec_jam_again_binomial\" style=\"direction:rtl;line-height:300%;\">\n",
    "\t<font face=\"XB Zar\" size=5>\n",
    "\t\t<font color=#FF7500 size=6>\n",
    "بازگشت به مسئله مسابقه\n",
    "        </font>\n",
    "\t\t<p></p>\n",
    "\t\t<hr>\n",
    "\n",
    "واضحا مساله علی دو توزیع دوجمله‌ای است. در هر سوال با فرض اینکه شخص هیچ دانشی نسبت به سوال ندارد، و اینکه ۴ گزینه وجود دارد، احتمال موفقیت ۰.۲۵ است.\n",
    "توزیع اول برای هر فرد و سوالاتش برقرار است. یعنی ۲۰ بار برای هر فرد آزمایش یکسانی تکرار می شود که احتمال موفقیت ۰.۲۵ است. حالا در ۲۰ سوال احتمال اینکه یک نفر بیشتر مساوی ۱۸ سوال پاسخ درست بدهد برابر است  با احتمال اینکه: دقیقا ۱۸ سوال + دقیقا ۱۹ + دقیقا ۲۰ سوال پاسخ درست بدهد.  \n",
    "\n",
    "<br><br>\n",
    "$$p(success\\: for\\: an\\: individual) = p(18) + p(19) + p(20) ={20 \\choose 18}(0.25)^{18}(1-0.25)^{20-18} + {20 \\choose 19}(0.25)^{19}(1-0.25)^{20-19} + {20 \\choose 20}(0.25)^{20}(1-0.25)^{20-20} = 1.55524 \\times 10^{-9} + 5.457 \\times 10^{-11} + 9.1 \\times 10^{-13} = 1.61072 \\times 10^{-9} $$\n",
    "<br><br>\n",
    "در مرحله بعد ۱۰ نفر داریم که هر نفر احتمال موفقیتی برابر مقدار بدست آمده در رابطه بالا دارد. بطور متوسط چقدر باید پول بدهد؟  باید امید ریاضی  توزیع جدید را بیابیم.\n",
    "\n",
    "<br>\n",
    "$$X \\sim binomial(n=10,p=1.61072 \\times 10^{-9})$$\n",
    "<br>\n",
    "$$E = np = 1.61072 \\times 10^{-8}$$\n",
    "<br>\n",
    "\n",
    "این در واقع امید ریاضی تعداد افراد موفق در هر قسمت از مسابقه است. علی به ازای هر نفر ۵ میلیون باید بدهد:\n",
    "\n",
    "<br><br>\n",
    "\n",
    "$$Ali’s\\:expense = E(X) * 5000000  = 0.080536\\: toman$$\n",
    "\n",
    "\n",
    "<br>\n",
    "علی در هر مسابقه بطور متوسط در هر قسمت 0.8 ریال  باید پول بدهد. اگرچه خیلی ارزان در می آید، اما نه کسی شرکت خواهد کرد و نه کسی آن را می بیند!\n",
    "\n",
    "</font>\n",
    "</div>"
   ]
  },
  {
   "cell_type": "markdown",
   "metadata": {},
   "source": [
    "<div style=\"direction:rtl;line-height:300%;\">\n",
    "\t<font face=\"XB Zar\" size=5>\n",
    "\t\t<font color=blue size=6>\n",
    "کنجکاوی:\n",
    "        </font><br/>\n",
    "برای محاسبه توزیع دو جمله‌ای با n های خیلی بزرگ چه باید کرد؟\n",
    "        <br>\n",
    "        نمودار توزیع دو جمله‌ای چه شکلی است؟\n",
    "        <br>\n",
    "        در صورتی که n به بی نهایت  میل کند نمودار توزیع دو جمله‌ای شبیه کدام توزیع می شود؟\n",
    "<br>\n",
    "        رابطه این توزیع با توزیعات نرمال و پواسون چیست و چه زمانی این ارتباط مفید است؟\n",
    "</font>\n",
    "</div>"
   ]
  },
  {
   "cell_type": "markdown",
   "metadata": {},
   "source": [
    "<div style=\"direction:rtl;line-height:300%;\">\n",
    "\t<font face=\"XB Zar\" size=5>\n",
    "\t\t<font color=darkpink size=6>\n",
    "تمرین:\n",
    "        </font>\n",
    "احتمال اینکه نوعی دیود قبل از ۱۰۰۰ ساعت کار خراب شود ۰.۱۵ است. احتمال اینکه در میان ۱۰۰ تا از این دیود ها، ۹۳ تا یا\n",
    "بیشتر قبل از ۱۰۰۰ ساعت سالم باشند (حداکثر ۷ تا خراب شوند) چیست؟ </font>\n",
    "\n",
    "</font>\n",
    "</div>"
   ]
  },
  {
   "cell_type": "markdown",
   "metadata": {},
   "source": [
    "<div style=\"direction:rtl;line-height:300%;\">\n",
    "\t<font face=\"XB Zar\" size=5>\n",
    "\t\t<font color=darkpink size=6>\n",
    "تمرین:\n",
    "        </font>\n",
    "در کد زیر با عدد n در مقادیر بالا یا مقادیر احتمالات نزدیک ۰.۵ و یا دور از آن شکل نمودار را رسم و مشاهدات خود را به کنجکاوی بالا ربط دهید.\n",
    "</font>\n",
    "</div>"
   ]
  },
  {
   "cell_type": "code",
   "execution_count": null,
   "metadata": {},
   "outputs": [],
   "source": [
    "# Create a sample of 50 numbers which are incremented by 1.\n",
    "x <- seq(0,50,by = 1)\n",
    "\n",
    "# Create the binomial distribution.\n",
    "y <- dbinom(x,50,0.5)\n",
    "\n",
    "# Give the chart file a name.\n",
    "png(file = \"dbinom.png\")\n",
    "\n",
    "# Plot the graph for this sample.\n",
    "plot(x,y)\n",
    "\n",
    "# Save the file.\n",
    "dev.off()"
   ]
  },
  {
   "cell_type": "markdown",
   "metadata": {},
   "source": [
    "<p></p>\n",
    "<br/>\n",
    "<div id=\"sec_conc_binomial\" style=\"direction:rtl;line-height:300%;\">\n",
    "\t<font face=\"XB Zar\" size=5>\n",
    "\t\t<font color=#FF7500 size=6>\n",
    "خلاصه و نتیجه‌گیری\n",
    "        </font>\n",
    "\t\t<p></p>\n",
    "\t\t<hr>\n",
    "        در این بخش با موارد زیر آشنا شدیم: \n",
    "        <ul>\n",
    "            <li>\n",
    "            توزیع دو جمله‌ای\n",
    "            </li>\n",
    "            <li>\n",
    "            آزمایش برنولی\n",
    "            </li>\n",
    "            <li>\n",
    "            امید ریاضی \n",
    "            </li>\n",
    "            <li>\n",
    "            واریانس\n",
    "            </li>\n",
    "        </ul>\n",
    "\t</font>\n",
    "</div>"
   ]
  },
  {
   "cell_type": "markdown",
   "metadata": {},
   "source": [
    "<p></p>\n",
    "<br />\n",
    "<div id=\"sec_multinomial\" style=\"direction:rtl;line-height:300%;\">\n",
    "\t<font face=\"XB Zar\" size=5>\n",
    "\t\t<font color=#FF7500 size=6>\n",
    "            توزیع گسسته چندجمله‌ای\n",
    "        </font>\n",
    "\t\t<p></p>\n",
    "\t\t<hr>\n",
    "علی یکی از دانشجویان دانشگاه صنعتی شریف است که تازه ازدواج کرده. همیشه دوست داشت چشمانش رنگی (آبی یا سبز) باشد، اما حال که نشده، دوست دارد حداقل فرزندانش این خصلت را داشته باشند.\n",
    "     </font>\n",
    "</div>"
   ]
  },
  {
   "cell_type": "markdown",
   "metadata": {},
   "source": [
    "<p></p>\n",
    "<br />\n",
    "<div id=\"sec_problem_multinomial\" style=\"direction:rtl;line-height:300%;\">\n",
    "\t<font face=\"XB Zar\" size=5>\n",
    "\t\t<font color=#FF7500 size=6>\n",
    "صورت مسئله\n",
    "        </font>\n",
    "\t\t<p></p>\n",
    "حال که هم او و هم همسرش  چشم قهوه ای هستند، او ناامید شده. اما بعد از سرچ کوتاهی، متوجه شده که خیلی هم احتمالش کم نیست.\n",
    "با توجه به احتمالات زیر، او می خواهد حساب کند که از سه فرزند آینده اش چقدر احتمال  دارد که دست کم یکی چشم رنگی باشد.\n",
    " \n",
    " \n",
    "</font>\n",
    "</div>"
   ]
  },
  {
   "cell_type": "markdown",
   "metadata": {},
   "source": [
    "<p></p>\n",
    "<br />\n",
    "<div id=\"sec_binom_multinomial\" style=\"direction:rtl;line-height:300%;\">\n",
    "\t<font face=\"XB Zar\" size=5>\n",
    "\t\t<font color=#FF7500 size=6>\n",
    "توزیع چند جمله ای\n",
    "        </font>\n",
    "\t\t<p></p>\n",
    "\t\t<hr>\n",
    "توضیحات فصل قبل در مورد توزیع دو جمله‌ای، انتقال این مفهوم را بسیار راحت تر می کنند. اگر آن را مطالعه نکرده اید، بهتر است ابتدا به آن نگاهی بیندازید.\n",
    "\n",
    "<br>\n",
    " توزیع چندجمله‌ای تعمیم توزیع دوجمله‌ای است. در واقع در این توزیع به ازای $n$ آزمایش تصادفی و مستقل، $k$ نتیجه هرکدام با احتمال بروز مشخص ثابت بروز می‌کنند. به زبان دیگر، توزیع چندجمله‌ای احتمال بروز هرگونه ترکیبی از $n$ برآمد تصادفی مستقل (که هرکدام می‌توانند از میان یکی از $k$ برآمد ممکن باشند) را بدست می‌دهد.\n",
    "\n",
    "\n",
    "<br>\n",
    "\n",
    "بعنوان مثال تاسی $k$ وجهی و ناهمگن داریم که احتمال آمدن عدد $i$ در آن $p_i$ است. آن را $n$ بار می اندازیم و $X_i$ متغیر تصادفی نشان دهنده‌ی تعداد دفعات آمدن عدد $i$ است. رابطه توزیع دوجمله‌ای بصورت زیر تغییر می کند:\n",
    "<br>\n",
    "\n",
    "\n",
    "\\begin{aligned}f(x_{1},\\ldots ,x_{k};n,p_{1},\\ldots ,p_{k})&{}=\\Pr(X_{1}=x_{1}{\\mbox{ and }}\\dots {\\mbox{ and }}X_{k}=x_{k})\\\\\\\\&{}={\\begin{cases}{\\displaystyle {n! \\over x_{1}!\\cdots x_{k}!}p_{1}^{x_{1}}\\cdots p_{k}^{x_{k}}},\\quad &{\\mbox{when }}\\sum _{i=1}^{k}x_{i}=n\\\\\\\\0&{\\mbox{otherwise,}}\\end{cases}}\\end{aligned}\n",
    "\n",
    "\n",
    "\n",
    "<br>\n",
    "تنها تفاوت اینست که اینجا دیگر آزمایشات برنولی نیستند بلکه چند حالت ممکن دارند. اما همچنان آزمایشات یکسان و مستقل هستند. \n",
    "\n",
    "<br> <br>\n",
    "\t</font>\n",
    "</div>\n"
   ]
  },
  {
   "cell_type": "markdown",
   "metadata": {},
   "source": [
    "<p></p>\n",
    "<br>\n",
    "<div id=\"sec_excpectectation_multinomial\" style=\"direction:rtl;line-height:300%;\">\n",
    "\t<font face=\"XB Zar\" size=5>\n",
    "\t\t<font color=#FF7500 size=6>\n",
    "            امید ریاضی و واریانس\n",
    "            </font>\n",
    "            <p></p>\n",
    "            <hr>\n",
    "            امید ریاضی رخ دادن حالت $i$ ام در $n$ بار آزمایش:\n",
    "            <br>\n",
    "            مشابه توزیع دوجمله‌ای:\n",
    "            <br>\n",
    "            \\begin{aligned} \\operatorname {E}[X_i]=np_i \\end{aligned}\n",
    "            <br>\n",
    "            <br>\n",
    "            واریانس:\n",
    "            <br>\n",
    "             \\begin{aligned} \\operatorname {Var} (X_i)=np_i(1-p_i)\n",
    "             \\end{aligned}\n",
    "            <br>\n",
    "    </font>\n",
    "</div>"
   ]
  },
  {
   "cell_type": "markdown",
   "metadata": {},
   "source": [
    "<p></p>\n",
    "<br />\n",
    "<div id=\"sec_jam_again_multinomial\" style=\"direction:rtl;line-height:300%;\">\n",
    "\t<font face=\"XB Zar\" size=5>\n",
    "\t\t<font color=#FF7500 size=6>\n",
    "بازگشت به مسئله چشم‌های رنگی\n",
    "        </font>\n",
    "\t\t<p></p>\n",
    "\t\t<hr>\n",
    "بدیهی است که مسئله علی از توزیع چندجمله‌ای پیروی  می کند. چون هر کدام از فرزندان او در واقع یک آزمایش مستقل از دیگری است که در آن سه احتمال برای رنگ چشمانشان ممکن است.\n",
    "احتمال اینکه حداقل یکی از فرزندان چشم رنگی باشد برابر است با:\n",
    "  دقیقا یک چشم آبی\n",
    " + دقیقا دو چشم آبی\n",
    "+ دقیقا سه چشم آبی\n",
    "+ دقیقا یک چشم سبز\n",
    "+ دقیقا دو چشم سیز\n",
    "+ دقیقا سه چشم سبز\n",
    "<br>\n",
    "که حالت مکمل آن زمانیست که هیچ کس چشمانش رنگی نباشد:\n",
    "<br><br>\n",
    "$$P(Brown = 3, Blue =0, Green =0) = 1 - {\\displaystyle {3! \\over 3!0!0!} (0.75)^3.(0.1875)^0.(0.625)^0} = 0.578 $$\n",
    "<br>\n",
    "بنظر می رسد اگر علی سه بچه داشته باشد با احتمال بیش از نصف یکی از آنها چشم رنگی می شود.\n",
    "</font>\n",
    "</div>"
   ]
  },
  {
   "cell_type": "markdown",
   "metadata": {},
   "source": [
    "<p></p>\n",
    "<br/>\n",
    "<div id=\"sec_conc_multinomial\" style=\"direction:rtl;line-height:300%;\">\n",
    "\t<font face=\"XB Zar\" size=5>\n",
    "\t\t<font color=#FF7500 size=6>\n",
    "خلاصه و نتیجه‌گیری\n",
    "        </font>\n",
    "\t\t<p></p>\n",
    "\t\t<hr>\n",
    "        در این بخش با موارد زیر آشنا شدیم:\n",
    "        <ul>\n",
    "            <li>\n",
    "            توزیع چند جمله‌ای\n",
    "            </li>\n",
    "            <li>\n",
    "            امید ریاضی \n",
    "            </li>\n",
    "            <li>\n",
    "            واریانس\n",
    "            </li>\n",
    "        </ul>\n",
    "\t</font>\n",
    "</div>"
   ]
  },
  {
   "cell_type": "markdown",
   "metadata": {},
   "source": [
    "<p></p>\n",
    "<br />\n",
    "<div id=\"sec_geometric\" style=\"direction:rtl;line-height:300%;\">\n",
    "\t<font face=\"XB Zar\" size=5>\n",
    "\t\t<font color=#FF7500 size=6>\n",
    "توزیع گسسته هندسی\n",
    "        </font>\n",
    "\t\t<p></p>\n",
    "\t\t<hr>\n",
    "        در نظریه احتمال واژه \"توزیع هندسی\" به بررسی مسئله‌ای با شرایط محیطی زیر می‌پردازد:\n",
    "        <ul style=\"margin-right: 0;\">\n",
    "            <li>\n",
    "                یک کار به صورت پشت‌سرهم تکرار می‌شود به صورتی که نتیجه هر بار انجام آن‌کار کاملا مستقل از دفعات قبل است که این کار می‌تواند پرتاب مکرر یک سکه و یا اجرای تست‌های گوناگون بر روی یک سیستم و اعمالی نظیر این دو باشد.همان طور که احتمالا مشخص است در هر دو مثال مطرح شده خروجی هر بار پرتاب سکه و خروجی هر بار اجرای یک تست گوناگون بر روی یک سیستم کاملا مستقل از پرتاب‌ها و تست‌های قبل است.\n",
    "            </li>\n",
    "            <li>\n",
    "                خروجی‌های کار انجام‌شده هر چیز که باشد بتوان آن را در یکی از گروه‌های \"موفقیت\" و \"شکست\" قرار داد. برای نمونه در دو مثال سکه \"آمدن شیر\" را \"موفقیت\" و \"آمدن خط\" را \"شکست\" در نظر بگیریم یا در مثال تست سیستم \"اجرای کامل تست\" را \"موفقیت\" و \"عدم اجرای کامل تست\" را \"شکست\" در نظر بگیریم. مهم نیست که چند نوع خروجی در گروه موفقیت و یا شکست قرار می‌گیرد و صرفا توانایی در دسته‌بندی خروجی‌ها به این شکل مد نظر است. بنابراین منظور از استقلال در مورد قبل این است که احتمال موفقیت و شکست در هر بار انجام کار برابر با احتمال موفقیت و شکست در دفعات قبل باشد.\n",
    "            </li>\n",
    "        </ul>\n",
    "        نکته مهمی که احتمالا تاکنون متوجه شدید این است که در بررسی \"\" به جزئیات خروجی‌های یک کار پرداخته نمی‌شود و تنها موفقیت و یا شکست آن مد نظر است. برای مثال در پرتاب یک تاس ممکن است ۶ خروجی متفاوت حاصل شود، حال فرض کنید با مسئله زیر روبرو می‌شویم:\n",
    "        یک تاس را دو بار می‌اندازیم، به چه احتمالی هر دو بار ۶ ظاهر می‌شود؟\n",
    "        طبق سوالی که در این مسئله مطرح شده است، ظاهر شدن ۶ به منزله‌ی موفقیت و ظاهر شدن هر عددی غیر از ۶ به منرله‌ای شکست تلقی می‌شود و از آن‌جا که هر بار پرتاب تاس مستقل از دفعات قبل است بنابراین مسئله ذکر شده در شرایط محیطی توزیع هندسی صدق می‌کند.\n",
    "     </font>\n",
    "</div>"
   ]
  },
  {
   "cell_type": "markdown",
   "metadata": {},
   "source": [
    "<p></p>\n",
    "<br />\n",
    "<div id=\"sec_def_geometric\" style=\"direction:rtl;line-height:300%;\">\n",
    "\t<font face=\"XB Zar\" size=5>\n",
    "\t\t<font color=#FF7500 size=6>\n",
    "تعریف دقیق\n",
    "        </font>\n",
    "\t\t<p></p>\n",
    "\t\t<hr>\n",
    "        معمولا توزیع هندسی به یکی از دو شکل زیر مطرح می‌شود:\n",
    "        <ul style=\"margin-right: 0;\">\n",
    "            <li>\n",
    "                احتمال وقوع K شکست قبل از وقوع اولین موفقیت. فرض کنید احتمال موفقیت p و در نتیجه احتمال شکست (1-p) می‌باشد و در این حالت ما (K-1) شکست و یک موفقیت نیاز داریم بنابراین احتمال مورد نظر ما برابر است با: \n",
    "            </li>\n",
    "        </ul>\n",
    "\t</font>\n",
    "</div>"
   ]
  },
  {
   "cell_type": "markdown",
   "metadata": {},
   "source": [
    "$Pr(X=k) = (1-p)^{k-1}p$"
   ]
  },
  {
   "cell_type": "markdown",
   "metadata": {},
   "source": [
    "<p></p>\n",
    "<br />\n",
    "<div id=\"sec_def\" style=\"direction:rtl;line-height:300%;\">\n",
    "\t<font face=\"XB Zar\" size=5>\n",
    "        <ul style=\"margin-right: 0;\">\n",
    "            <li>\n",
    "                احتمال وقوع K شکست قبل از وقوع اولین موفقیت. در این حالت ما به K شکست و سپس یک موفقیت نیاز داریم  بنابراین احتمال مورد نظر برابر است با:\n",
    "            </li>\n",
    "        </ul>\n",
    "\t</font>\n",
    "</div>"
   ]
  },
  {
   "cell_type": "markdown",
   "metadata": {},
   "source": [
    "$P(Y=k) = (1-p)^{k}p$"
   ]
  },
  {
   "cell_type": "markdown",
   "metadata": {},
   "source": [
    "<p></p>\n",
    "<br />\n",
    "<div id=\"simple_sample_question_geometric\" style=\"direction:rtl;line-height:300%;\">\n",
    "\t<font face=\"XB Zar\" size=5>\n",
    "\t\t<font color=#FF7500 size=6>\n",
    "انواع مسائل توزیع هندسی\n",
    "        </font>\n",
    "\t\t<p></p>\n",
    "\t\t<hr>\n",
    "        <ul style=\"margin-right: 0;\">\n",
    "            <li>\n",
    "           یک تاس را به طور مکرر پرتاب می‌کنیم. به چه احتمالی اولین ۶ در ۱۰ امین بار ظاهر می‌شود؟  \n",
    "            </li>\n",
    "        </ul>\n",
    "\t</font>\n",
    "</div>"
   ]
  },
  {
   "cell_type": "markdown",
   "metadata": {},
   "source": [
    "<div style=\"direction:rtl;line-height:300%;\">\n",
    "    <font face=\"XB Zar\" size=4>\n",
    "            در این سوال حالاتی که با پرتاب تاس ۱ تا ۵ ظاهر شود \"عدم موفقیت\" و اگر ۶ ظاهر شود \"موفقیت\" در نظر گرفته می‌شود بنابراین احتمال موفقیت $\\frac{1}{6}$ و احتمال عدم موفقیت $\\frac{5}{6}$ می‌باشد. احتمال ظاهر شدن اولین ۶ در ۱۰ امین بار به شکل زیر است:\n",
    "</font>\n",
    "</div>"
   ]
  },
  {
   "cell_type": "markdown",
   "metadata": {},
   "source": [
    "$Pr(X = 10) = (\\frac{5}{6})^9 \\times (\\frac{1}{6})^1$"
   ]
  },
  {
   "cell_type": "markdown",
   "metadata": {},
   "source": [
    "<div id=\"simple_sample_question\" style=\"direction:rtl;line-height:300%;\">\n",
    "\t<font face=\"XB Zar\" size=5>\n",
    "        <ul style=\"margin-right: 0;\">\n",
    "            <li>\n",
    "                در مسئله بالا احتمال ظهور اولین ۶ در دفعه ۴ ام یا پس از آن چیست؟\n",
    "            </li>\n",
    "        </ul>\n",
    "\t</font>\n",
    "</div>"
   ]
  },
  {
   "cell_type": "markdown",
   "metadata": {},
   "source": [
    "<div style=\"direction:rtl;line-height:300%;\">\n",
    "    <font face=\"XB Zar\" size=4>\n",
    "            در این سوال ما به دنبال حالاتی هستیم که اولین ۶ در دفعاتی بیشتر یا مساوی ۴ امین دفعه اتفاق بیافتد. در واقع ما به دنبال $Pr(X \\geq 4)$ هستیم.\n",
    "</font>\n",
    "</div>"
   ]
  },
  {
   "cell_type": "markdown",
   "metadata": {},
   "source": [
    "$Pr(X \\geq 4) = 1 - Pr(X = 1) - Pr(X = 2) - Pr(X = 3) = 1 - ((\\frac{5}{6})^0 \\times (\\frac{1}{6})^1) - ((\\frac{5}{6})^1 \\times (\\frac{1}{6})^1) - ((\\frac{5}{6})^2 \\times (\\frac{1}{6})^1)$"
   ]
  },
  {
   "cell_type": "markdown",
   "metadata": {},
   "source": [
    "<div id=\"simple_sample_question\" style=\"direction:rtl;line-height:300%;\">\n",
    "\t<font face=\"XB Zar\" size=5>\n",
    "        <ul style=\"margin-right: 0;\">\n",
    "            <li>\n",
    "                فرض کنید احتمال موفقیت $\\frac{2}{5}$ و احتمال شکست $\\frac{3}{5}$ می‌باشد. در ۱۰۰ نمونه پرتاب نمودار مربوط به تعداد مختلف پرتاب برای ظهور اولین موفقیت را رسم کنید (این ۱۰۰ نمونه را به صورت تصادفی تولید کنید).\n",
    "            </li>\n",
    "        </ul>\n",
    "\t</font>\n",
    "</div>"
   ]
  },
  {
   "cell_type": "code",
   "execution_count": 16,
   "metadata": {},
   "outputs": [
    {
     "data": {
      "image/png": "[encoded data removed]",
      "text/plain": [
       "Plot with title “”"
      ]
     },
     "metadata": {},
     "output_type": "display_data"
    }
   ],
   "source": [
    "sample <- rgeom(100, 2/5)\n",
    "hist(sample, col='light grey', border='grey', xlab=\"تعداد شکست‌ها\", ylab=\"فرکانس\", main=\"\")"
   ]
  },
  {
   "cell_type": "markdown",
   "metadata": {},
   "source": [
    "<p></p>\n",
    "<br>\n",
    "<div id=\"expected_value_geometric\" style=\"direction:rtl;line-height:300%;\">\n",
    "\t<font face=\"XB Zar\" size=5>\n",
    "\t\t<font color=#FF7500 size=6>\n",
    "امید ریاضی متغیر تصادفی هندسی\n",
    "        </font>\n",
    "\t\t<p></p>\n",
    "\t\t<hr>\n",
    "        امید ریاضی متغیر تصادفی هندسی با پارامتر p برابر است با $E[X] = \\frac{1}{p}$ می‌باشد که اثبات آن به شرح زیر است:\n",
    "        می‌دانیم $Pr(X=k) = (1-p)^{k-1}p$ بنابراین برای محاسبه امید ریاضی می‌بایست عبارت زیر را محاسبه کنیم:\n",
    "     </font>\n",
    "</div>"
   ]
  },
  {
   "cell_type": "markdown",
   "metadata": {},
   "source": [
    "$E[X] = \\sum_{x} xPr(X=x)$"
   ]
  },
  {
   "cell_type": "markdown",
   "metadata": {},
   "source": [
    "<div style=\"direction:rtl;line-height:300%;\">\n",
    "\t<font face=\"XB Zar\" size=5>\n",
    "        پس با ترکیب دو رابطه‌ی بالا برای متغیر تصادفی هندسی داریم:\n",
    "     </font>\n",
    "</div>"
   ]
  },
  {
   "cell_type": "markdown",
   "metadata": {},
   "source": [
    "$E[X] = \\sum_{k=0}^{\\infty} k(1-p)^{k-1}p$"
   ]
  },
  {
   "cell_type": "markdown",
   "metadata": {},
   "source": [
    "<div style=\"direction:rtl;line-height:300%;\">\n",
    "\t<font face=\"XB Zar\" size=5>\n",
    "        حال اگر فرض کنیم\n",
    "     </font>\n",
    "</div>"
   ]
  },
  {
   "cell_type": "markdown",
   "metadata": {},
   "source": [
    "$F(p) = \\sum_{k=0}^{\\infty} (1-p)^k = \\frac{1}{1-(1-p)} = \\frac{1}{p}$"
   ]
  },
  {
   "cell_type": "markdown",
   "metadata": {},
   "source": [
    "<div style=\"direction:rtl;line-height:300%;\">\n",
    "\t<font face=\"XB Zar\" size=5>\n",
    "        داریم\n",
    "     </font>\n",
    "</div>"
   ]
  },
  {
   "cell_type": "markdown",
   "metadata": {},
   "source": [
    "$\\frac{dF(p)}{dp} = - \\sum_{k=0}^{\\infty} k(1-p)^{k-1} = -\\frac{1}{p^2}$"
   ]
  },
  {
   "cell_type": "markdown",
   "metadata": {},
   "source": [
    "<div style=\"direction:rtl;line-height:300%;\">\n",
    "\t<font face=\"XB Zar\" size=5>\n",
    "        در نتیجه\n",
    "     </font>\n",
    "</div>"
   ]
  },
  {
   "cell_type": "markdown",
   "metadata": {},
   "source": [
    "$E[X] = p(\\frac{1}{p^2}) = \\frac{1}{p}$"
   ]
  },
  {
   "cell_type": "markdown",
   "metadata": {},
   "source": [
    "<p></p>\n",
    "<br>\n",
    "<div id=\"var_value_geometric\" style=\"direction:rtl;line-height:300%;\">\n",
    "\t<font face=\"XB Zar\" size=5>\n",
    "\t\t<font color=#FF7500 size=6>\n",
    "واریانس متغیر تصادفی هندسی\n",
    "        </font>\n",
    "\t\t<p></p>\n",
    "\t\t<hr>\n",
    "        واریانس متغیر تصادفی هندسی با پارامتر p برابر است با $var[X] = \\frac{1-p}{p^2}$ که اثبات آن به شرح زیر است:\n",
    "        فرض می‌کنیم پیشامد $A = \\{X = 1\\}$ و پیشامد $B = \\{X > 1\\}$ با توجه به اینکه A و B افرازهای فضای نمونه‌ی ما هستند، داریم:\n",
    "     </font>\n",
    "</div>"
   ]
  },
  {
   "cell_type": "markdown",
   "metadata": {},
   "source": [
    "$E[X^2] = E[X^2|A]P(A) + E[X^2|B]P(B)$"
   ]
  },
  {
   "cell_type": "markdown",
   "metadata": {},
   "source": [
    "<div style=\"direction:rtl;line-height:300%;\">\n",
    "\t<font face=\"XB Zar\" size=5>\n",
    "        می‌دانیم\n",
    "     </font>\n",
    "</div>"
   ]
  },
  {
   "cell_type": "markdown",
   "metadata": {},
   "source": [
    "$E[X^2|A] = E[X^2|X = 1] = 1$"
   ]
  },
  {
   "cell_type": "markdown",
   "metadata": {},
   "source": [
    "<div style=\"direction:rtl;line-height:300%;\">\n",
    "\t<font face=\"XB Zar\" size=5>\n",
    "        و\n",
    "     </font>\n",
    "</div>"
   ]
  },
  {
   "cell_type": "markdown",
   "metadata": {},
   "source": [
    "$E[X^2|B] = E[X|X > 1] = E[(X + 1)^2] = E[X^2 + 2X + 1] = E[X^2] + \\frac{2}{p} + 1$"
   ]
  },
  {
   "cell_type": "markdown",
   "metadata": {},
   "source": [
    "<div style=\"direction:rtl;line-height:300%;\">\n",
    "\t<font face=\"XB Zar\" size=5>\n",
    "        بنابراین\n",
    "     </font>\n",
    "</div>"
   ]
  },
  {
   "cell_type": "markdown",
   "metadata": {},
   "source": [
    "$E[X^2] = 1 \\times p + (E[X^2] + \\frac{2}{p} + 1)(1-p)$\n",
    "<br>\n",
    "$E[X^2] = \\frac{2-p}{p^2}$"
   ]
  },
  {
   "cell_type": "markdown",
   "metadata": {},
   "source": [
    "<div style=\"direction:rtl;line-height:300%;\">\n",
    "\t<font face=\"XB Zar\" size=5>\n",
    "        در نهایت از آنجا که $var[X] = E[X^2] - (E[X])^2$ داریم\n",
    "     </font>\n",
    "</div>"
   ]
  },
  {
   "cell_type": "markdown",
   "metadata": {},
   "source": [
    "$var[X] = \\frac{2 - p}{p^2} - \\frac{1}{p^2} = \\frac{1 - p}{p^2}$"
   ]
  },
  {
   "cell_type": "markdown",
   "metadata": {},
   "source": [
    "<p></p>\n",
    "<br />\n",
    "<div id=\"sec_memoryless_geometric\" style=\"direction:rtl;line-height:300%;\">\n",
    "\t<font face=\"XB Zar\" size=5>\n",
    "\t\t<font color=#FF7500 size=6>\n",
    "توزیع هندسی، توزیعی بدون حافظه\n",
    "        </font>\n",
    "\t\t<p></p>\n",
    "\t\t<hr>\n",
    "        فرض کنیم می‌دانیم تعداد دفعاتی که سکه‌ای را انداخته‌ایم از n بیشتر است، احتمال اینکه سکه را بیش از n+m دفعه بی‌اندازیم تا شیر بیاید برابر است با:\n",
    "     </font>\n",
    "</div>"
   ]
  },
  {
   "cell_type": "markdown",
   "metadata": {},
   "source": [
    "$Pr(X > n+m | X > n) = \\frac{Pr((X > n+m) \\cap (X > n))}{Pr(X > n)} = \\frac{(1 - p)^{n+m}}{(1 - p)^n} = (1 - p)^m$"
   ]
  },
  {
   "cell_type": "markdown",
   "metadata": {},
   "source": [
    "<div style=\"direction:rtl;line-height:300%;\">\n",
    "\t<font face=\"XB Zar\" size=5>\n",
    "        پس تنها m بار پرتاب بعدی اهمیت دارد و n بار پرتاب اولیه بی‌ارزش می‌شود.\n",
    "        <br><br>\n",
    "        <b>سوال:</b> آیا عکس این قضیه نیز درست است؟ یعنی اگر یک متغیر تصادفی گسسته بی‌حافظه باشد، هندسی است؟\n",
    "     </font>\n",
    "</div>"
   ]
  },
  {
   "cell_type": "markdown",
   "metadata": {},
   "source": [
    "<p></p>\n",
    "<br>\n",
    "<div id=\"sec_more_info_geometric\" style=\"direction:rtl;line-height:300%;\">\n",
    "\t<font face=\"XB Zar\" size=5>\n",
    "        <font color=#FF7500 size=6>\n",
    "        جدول اطلاعات بیشتر\n",
    "        </font>\n",
    "        <p></p>\n",
    "        <hr>\n",
    "        <table>\n",
    "            <tr>\n",
    "                <th>\n",
    "                    پارامترها\n",
    "                </th>\n",
    "                <td>\n",
    "                    $0 < p \\leq 1$\n",
    "                </td>\n",
    "            </tr>\n",
    "            <tr>\n",
    "                <th>\n",
    "                    تابع چگالی احتمال\n",
    "                </th>\n",
    "                <td>\n",
    "                    $(1 - p)^{k - 1}p$\n",
    "                </td>\n",
    "            </tr>\n",
    "            <tr>\n",
    "                <th>\n",
    "                    تابع توزیع تجمعی\n",
    "                </th>\n",
    "                <td>\n",
    "                    $1 - (1 - p)^{k}$\n",
    "                </td>\n",
    "            </tr>\n",
    "            <tr>\n",
    "                <th>\n",
    "                    میانگین\n",
    "                </th>\n",
    "                <td>\n",
    "                    $\\frac{1}{p}$\n",
    "                </td>\n",
    "            </tr>\n",
    "            <tr>\n",
    "                <th>\n",
    "                    میانه\n",
    "                </th>\n",
    "                <td>\n",
    "                    $\\lceil\\frac{-log(2)}{log(1 - p)}\\rceil$\n",
    "                </td>\n",
    "            </tr>\n",
    "            <tr>\n",
    "                <th>\n",
    "                    مد\n",
    "                </th>\n",
    "                <td>\n",
    "                    $1$\n",
    "                </td>\n",
    "            </tr>\n",
    "            <tr>\n",
    "                <th>\n",
    "                    واریانس\n",
    "                </th>\n",
    "                <td>\n",
    "                    $\\frac{1 - p}{p^2}$\n",
    "                </td>\n",
    "            </tr>\n",
    "            <tr>\n",
    "                <th>\n",
    "                    چولگی\n",
    "                </th>\n",
    "                <td>\n",
    "                    $\\frac{2 - p}{\\sqrt{1 - p}}$\n",
    "                </td>\n",
    "            </tr>\n",
    "            <tr>\n",
    "                <th>\n",
    "                    کشیدگی\n",
    "                </th>\n",
    "                <td>\n",
    "                    $6 + \\frac{p^2}{1 - p}$\n",
    "                </td>\n",
    "            </tr>\n",
    "            <tr>\n",
    "                <th>\n",
    "                    آنتروپی\n",
    "                </th>\n",
    "                <td>\n",
    "                    $-\\frac{1 - p}{p} ln(1-p) - ln(p)$\n",
    "                </td>\n",
    "            </tr>\n",
    "            <tr>\n",
    "                <th>\n",
    "                    تابع مولد گشتاور\n",
    "                </th>\n",
    "                <td>\n",
    "                    $\\frac{pe^t}{1 - (1 - p)e^t}$\n",
    "                </td>\n",
    "            </tr>\n",
    "            <tr>\n",
    "                <th>\n",
    "                    تابع مشخصه\n",
    "                </th>\n",
    "                <td>\n",
    "                    $\\frac{pe^{it}}{1 - (1 - p)e^{it}}$\n",
    "                </td>\n",
    "            </tr>\n",
    "        </table>\n",
    "    </font>\n",
    "</div>"
   ]
  },
  {
   "cell_type": "markdown",
   "metadata": {},
   "source": [
    "<p></p>\n",
    "<br/>\n",
    "<div id=\"sec_conc_geometric\" style=\"direction:rtl;line-height:300%;\">\n",
    "\t<font face=\"XB Zar\" size=5>\n",
    "\t\t<font color=#FF7500 size=6>\n",
    "خلاصه و نتیجه‌گیری\n",
    "        </font>\n",
    "\t\t<p></p>\n",
    "\t\t<hr>\n",
    "        در این بخش با موارد زیر آشنا شدیم:\n",
    "        <ul>\n",
    "            <li>\n",
    "            تعاریف توزیع هندسی\n",
    "            </li>\n",
    "            <li>\n",
    "            امید ریاضی متغیر تصادفی هندسی\n",
    "            </li>\n",
    "            <li>\n",
    "            واریانس متغیر تصادفی هندسی\n",
    "            </li>\n",
    "        </ul>\n",
    "\t</font>\n",
    "</div>"
   ]
  },
  {
   "cell_type": "markdown",
   "metadata": {},
   "source": [
    "<p></p>\n",
    "<br/>\n",
    "<div id=\"sec_refs\" style=\"direction:rtl;line-height:300%;\">\n",
    "\t<font face=\"XB Zar\" size=5>\n",
    "\t\t<font color=#FF7500 size=6>\n",
    "منابع\n",
    "        </font>\n",
    "\t\t<hr>       \n",
    "        <ul>\n",
    "            <li>\n",
    "                https://en.wikipedia.org/w/index.php?title=Discrete_probability_distribution&oldid=275375093\n",
    "            </li>\n",
    "            <li>\n",
    "                https://en.wikipedia.org/wiki/Discrete_uniform_distribution\n",
    "            </li>\n",
    "            <li>\n",
    "                https://en.wikipedia.org/wiki/Discrete_uniform_distribution\n",
    "            </li>\n",
    "            <li>\n",
    "           جزوه آمار و احتمال مهندسی، دانشکده برق دانشگاه صنعتی شریف دکتر مهدی نایبی،           \n",
    "            </li>\n",
    "            <li>\n",
    "            Jeremy Orloff, and Jonathan Bloom. 18.05 Introduction to Probability and Statistics. Spring 2014. Massachusetts Institute of Technology: MIT OpenCourseWare, https://ocw.mit.edu. License: Creative Commons BY-NC-SA.\n",
    "            </li>\n",
    "            <li>\n",
    "        https://www.pinterest.com/pin/140456082109163449/\n",
    "            </li>\n",
    "            <li>\n",
    "                https://en.wikipedia.org/wiki/Geometric_distribution\n",
    "            </li>\n",
    "            <li>\n",
    "                http://mathworld.wolfram.com/GeometricDistribution.html\n",
    "            </li>\n",
    "            <li>\n",
    "                https://courses.lumenlearning.com/introstats1/chapter/geometric-distribution/\n",
    "            </li>\n",
    "        </ul>\n",
    "\t</font>\n",
    "</div>"
   ]
  }
 ],
 "metadata": {
  "kernelspec": {
   "display_name": "R",
   "language": "R",
   "name": "ir"
  },
  "language_info": {
   "codemirror_mode": "r",
   "file_extension": ".r",
   "mimetype": "text/x-r-source",
   "name": "R",
   "pygments_lexer": "r",
   "version": "3.5.1"
  },
  "latex_envs": {
   "LaTeX_envs_menu_present": true,
   "autoclose": false,
   "autocomplete": true,
   "bibliofile": "biblio.bib",
   "cite_by": "apalike",
   "current_citInitial": 1,
   "eqLabelWithNumbers": true,
   "eqNumInitial": 1,
   "hotkeys": {
    "equation": "Ctrl-E",
    "itemize": "Ctrl-I"
   },
   "labels_anchors": false,
   "latex_user_defs": false,
   "report_style_numbering": false,
   "user_envs_cfg": false
  },
  "toc": {
   "base_numbering": 1,
   "nav_menu": {},
   "number_sections": true,
   "sideBar": true,
   "skip_h1_title": false,
   "title_cell": "Table of Contents",
   "title_sidebar": "Contents",
   "toc_cell": false,
   "toc_position": {},
   "toc_section_display": true,
   "toc_window_display": false
  },
  "varInspector": {
   "cols": {
    "lenName": 16,
    "lenType": 16,
    "lenVar": 40
   },
   "kernels_config": {
    "python": {
     "delete_cmd_postfix": "",
     "delete_cmd_prefix": "del ",
     "library": "var_list.py",
     "varRefreshCmd": "print(var_dic_list())"
    },
    "r": {
     "delete_cmd_postfix": ") ",
     "delete_cmd_prefix": "rm(",
     "library": "var_list.r",
     "varRefreshCmd": "cat(var_dic_list()) "
    }
   },
   "types_to_exclude": [
    "module",
    "function",
    "builtin_function_or_method",
    "instance",
    "_Feature"
   ],
   "window_display": false
  }
 },
 "nbformat": 4,
 "nbformat_minor": 1
}
