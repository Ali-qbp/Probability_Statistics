{
 "cells": [
  {
   "cell_type": "markdown",
   "metadata": {},
   "source": [
    "# بازخورد اول ۲۳ مهر"
   ]
  },
  {
   "cell_type": "markdown",
   "metadata": {},
   "source": [
    "<div dir=rtl>\n",
    "<ul>\n",
    "    <li>\n",
    "قسمت توزیع یکنواخت عالی بود.\n",
    "    </li>\n",
    "        <li>\n",
    "جزوه اصلا یکپارچگی نداره. \n",
    "    </li>\n",
    "    <li>\n",
    "        توزیع گسسته برنولی دو خطه و فکر کنم صورت مسئله‌ش نادرسته. -> توزیع برنولی رو هنوز ننوشته بودم که الان نوشتم.\n",
    "</li>\n",
    "        <li>\n",
    "قسمت توزیع برنولی خیلی جالب بود. فکر کنم تو این جزوه  کلا اگر مثال‌ها بعد از توضیح توزیع‌ها  بیاد بهتره.\n",
    "    </li>\n",
    "    <li>\n",
    "        به نظرم مسئله نژاد پرستانه قسمت توزیع دو جمله‌ای عوض شه بهتره. -> اصلاح شد\n",
    "</li>\n",
    "        <li>\n",
    "          لطفا اسم کسانی که از جزوه‌شون استفاده کردید رو هم اضافه کنید. لزومی نداره از جزوه نوشته شده توسط نفر قبلی استفاده بشه. در واقع هر جا لازم شد عوضش کنید :) -> اسم آقای حدادان اضافه شد. \n",
    "</li>\n",
    "       <li>\n",
    "جزوه یه سری ایرادات نگارشی داشت که سعی کردم برطرف کنم. -> مرسی :)) \n",
    "</li>\n",
    "    <li>\n",
    "        به نظرم جزوهٔ نهایی یه موارد غیرضروری مثل چولگی و این‌ها داره که خیلی مفید نیست فکر کنم. -> مواردی که غیر ضروری به نظر می‌رسید حذف گردید.\n",
    "</li>\n",
    "    <li>\n",
    " با همهٔ نظرات امیرعلی موافقم. -> عالی :))\n",
    "</li>\n",
    "    <li>\n",
    "اگه می‌شد یکم جذاب‌تر بشه بهتر بود. (طراحی گیف و این‌ها)\n",
    "</li>\n",
    "    <li>\n",
    "خسته نباشی :) -> مرسی :)\n",
    "</li>\n",
    "</ul>\n",
    "</div>"
   ]
  },
  {
   "cell_type": "code",
   "execution_count": null,
   "metadata": {},
   "outputs": [],
   "source": []
  }
 ],
 "metadata": {
  "kernelspec": {
   "display_name": "R",
   "language": "R",
   "name": "ir"
  },
  "language_info": {
   "codemirror_mode": "r",
   "file_extension": ".r",
   "mimetype": "text/x-r-source",
   "name": "R",
   "pygments_lexer": "r",
   "version": "3.4.3"
  },
  "latex_envs": {
   "LaTeX_envs_menu_present": true,
   "autoclose": false,
   "autocomplete": true,
   "bibliofile": "biblio.bib",
   "cite_by": "apalike",
   "current_citInitial": 1,
   "eqLabelWithNumbers": true,
   "eqNumInitial": 1,
   "hotkeys": {
    "equation": "Ctrl-E",
    "itemize": "Ctrl-I"
   },
   "labels_anchors": false,
   "latex_user_defs": false,
   "report_style_numbering": false,
   "user_envs_cfg": false
  },
  "toc": {
   "base_numbering": 1,
   "nav_menu": {},
   "number_sections": true,
   "sideBar": true,
   "skip_h1_title": false,
   "title_cell": "Table of Contents",
   "title_sidebar": "Contents",
   "toc_cell": false,
   "toc_position": {},
   "toc_section_display": true,
   "toc_window_display": false
  },
  "varInspector": {
   "cols": {
    "lenName": 16,
    "lenType": 16,
    "lenVar": 40
   },
   "kernels_config": {
    "python": {
     "delete_cmd_postfix": "",
     "delete_cmd_prefix": "del ",
     "library": "var_list.py",
     "varRefreshCmd": "print(var_dic_list())"
    },
    "r": {
     "delete_cmd_postfix": ") ",
     "delete_cmd_prefix": "rm(",
     "library": "var_list.r",
     "varRefreshCmd": "cat(var_dic_list()) "
    }
   },
   "types_to_exclude": [
    "module",
    "function",
    "builtin_function_or_method",
    "instance",
    "_Feature"
   ],
   "window_display": false
  }
 },
 "nbformat": 4,
 "nbformat_minor": 2
}
