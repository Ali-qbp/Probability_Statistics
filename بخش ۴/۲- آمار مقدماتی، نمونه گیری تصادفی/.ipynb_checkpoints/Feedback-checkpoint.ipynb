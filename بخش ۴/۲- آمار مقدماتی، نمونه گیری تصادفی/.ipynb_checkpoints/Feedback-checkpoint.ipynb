{
 "cells": [
  {
   "cell_type": "markdown",
   "metadata": {},
   "source": [
    "# بازخورد اول ۲۳ مهر"
   ]
  },
  {
   "cell_type": "markdown",
   "metadata": {},
   "source": [
    "<div dir=rtl>\n",
    "<ul>\n",
    "        <li>\n",
    "اول این که دستت درد نکنه    </li>\n",
    "    جزوه‌ی خیلی مهم و اساسی‌ای رو انتخاب کردی و مباحث کلیش هم عالیه\n",
    "    <li>فقط اولا هیچی شکل نداره \n",
    "        شکل خیییییلی مهمه برای جا افتادن مطلب.\n",
    "مثلا این قسمت که احتمال کل به جزئه و آمار جز به کله رو میتونی قشنگ با شکل نشون بدی\n",
    "    </li>\n",
    "    <li>بعد تو همون قسمت مقدمه خوب میشه اگر این انتخابات با یک دیتای واقعی نشون داده بشه و بچه‌ها ببینن با چقدر از داده میشه تخمین خوبی داشت.\n",
    "تخمین، آزمون فرض، و رگرسیون هم به نظر بدون شکل خوب جا نمیافته.\n",
    "</li>\n",
    "            <li>\n",
    "                در مورد نمونه گیری، فکر کنم کد این قسمت روی یک داده واقعی باشه خیلی بهتره.\n",
    "    </li>\n",
    "    <li>\n",
    "        بعد اگر بشه یه کم قسمت‌های مختلف بهتر پخش شن خیلی خوب میشه. مثلا «حتی در صورتی که نمونه‌گیری ما بدون جایگذاری هم باشد باز توزیع تمام  𝑋𝑖  ها با توزیع  𝑋  برابر است (چرا؟). اما درباره استقلال  𝑋𝑖  ها باید مراقب باشیم چراکه اگر نمونه‌گیری ما بدون جایگذاری باشد و تعداد اعضای جامعه متناهی باشد، دیگر  𝑋𝑖  ها مستقل نخواهند بود.» \n",
    "خوبه در یک بند و با یک رنگ مشخص این قسمت جدا شه که مثلا:\n",
    "«توجه: در نمونه گیری با جایگذاری درباره استقلال  𝑋𝑖  ها باید مراقب باشیم چراکه اگر نمونه‌گیری ما بدون جایگذاری باشد و تعداد اعضای جامعه متناهی باشد، دیگر  𝑋𝑖  ها مستقل نخواهند بود.»\n",
    "    </li>\n",
    "</ul>\n",
    "</div>"
   ]
  },
  {
   "cell_type": "code",
   "execution_count": null,
   "metadata": {},
   "outputs": [],
   "source": []
  }
 ],
 "metadata": {
  "kernelspec": {
   "display_name": "R",
   "language": "R",
   "name": "ir"
  },
  "language_info": {
   "codemirror_mode": "r",
   "file_extension": ".r",
   "mimetype": "text/x-r-source",
   "name": "R",
   "pygments_lexer": "r",
   "version": "3.5.1"
  },
  "latex_envs": {
   "LaTeX_envs_menu_present": true,
   "autoclose": false,
   "autocomplete": true,
   "bibliofile": "biblio.bib",
   "cite_by": "apalike",
   "current_citInitial": 1,
   "eqLabelWithNumbers": true,
   "eqNumInitial": 1,
   "hotkeys": {
    "equation": "Ctrl-E",
    "itemize": "Ctrl-I"
   },
   "labels_anchors": false,
   "latex_user_defs": false,
   "report_style_numbering": false,
   "user_envs_cfg": false
  },
  "toc": {
   "base_numbering": 1,
   "nav_menu": {},
   "number_sections": true,
   "sideBar": true,
   "skip_h1_title": false,
   "title_cell": "Table of Contents",
   "title_sidebar": "Contents",
   "toc_cell": false,
   "toc_position": {},
   "toc_section_display": true,
   "toc_window_display": false
  },
  "varInspector": {
   "cols": {
    "lenName": 16,
    "lenType": 16,
    "lenVar": 40
   },
   "kernels_config": {
    "python": {
     "delete_cmd_postfix": "",
     "delete_cmd_prefix": "del ",
     "library": "var_list.py",
     "varRefreshCmd": "print(var_dic_list())"
    },
    "r": {
     "delete_cmd_postfix": ") ",
     "delete_cmd_prefix": "rm(",
     "library": "var_list.r",
     "varRefreshCmd": "cat(var_dic_list()) "
    }
   },
   "types_to_exclude": [
    "module",
    "function",
    "builtin_function_or_method",
    "instance",
    "_Feature"
   ],
   "window_display": false
  }
 },
 "nbformat": 4,
 "nbformat_minor": 2
}
