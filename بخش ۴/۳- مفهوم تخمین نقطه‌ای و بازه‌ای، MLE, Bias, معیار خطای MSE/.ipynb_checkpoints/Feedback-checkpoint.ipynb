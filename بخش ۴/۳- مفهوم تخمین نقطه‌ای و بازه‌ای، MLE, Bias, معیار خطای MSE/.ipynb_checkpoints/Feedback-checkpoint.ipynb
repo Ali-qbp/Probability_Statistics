{
 "cells": [
  {
   "cell_type": "markdown",
   "metadata": {},
   "source": [
    "# بازخورد اول ۲۰ مهر"
   ]
  },
  {
   "cell_type": "markdown",
   "metadata": {},
   "source": [
    "<div dir=rtl>\n",
    "<ul>\n",
    "    <li>\n",
    "یکی این که فکر کنم بهتر باشه توی مقدمه مفاهیم با شکل توضیح داده شن\n",
    "</li>\n",
    "<li>\n",
    "مثلا تخمین نقطه‌ای/بازه‌ای خیلی رو شکل بهتر معلوم میشه\n",
    "</li>\n",
    "<li>\n",
    "بعد این که پاراگراف بندی نشدن و همشون پشت سر همه. خوبه پاراگراف‌های بی ربط از هم جدا بشن و بینشون شکل‌هایی بیاد که با نگاه بهشون کل مفهوم بیاد توی ذهن خواننده.\n",
    "</li>\n",
    "<li>\n",
    "همینطور اگه کد چند قسمت بشه (تولید داده و نمایش نمودارش / تعریف تخمین گر / استفاده از توابع تخمینگر و نمایش نتیجه) بهتره\n",
    "</li>\n",
    "<li>\n",
    "شکل bias-variance (سیبل) هیچ توضیحی نداره. شاید در حد یک خط بشه توصیفش کرد\n",
    "</li>\n",
    "<li>\n",
    "بعد این جمله که\n",
    "    <b>\n",
    "دقت کنید که با توجه به مقدار $\\theta$، ممکن است $T_a$ یا $T_b$ بهتر باشد. پس همیشه unbiased بهتر نیست.\n",
    "        </b>\n",
    "فکر کنم نیاز به توضیح بیشتر داره.\n",
    "من به شخصه قانع نشدم :)\n",
    "</li>\n",
    "<li>\n",
    "قسمت سازگاری هم پاراگراف بندیش خوب نیست \n",
    "</li>\n",
    "<li>\n",
    "    مثال MLE حتما شکل میخواد.\n",
    "    به نظرم هم این که نمودار داده چطوره و هم این که پارامتر رو چی بگیریم احتمال رخداد چقدر میشه قابل ترسیمن.\n",
    "    یعنی قبل محاسبات، ببینن که نمودار likelihood یک بیشینه داره. بعد توی محاسبه تلاش کنن اون رو پیدا کنن.\n",
    "    </li>\n",
    "<li>\n",
    "    فکر می‌کنم به صورت کلاسیک بهتر باشه MLE رو برای نرمال هم ببینن.\n",
    "    </li>\n",
    "    <li>\n",
    "        خوبه گفته بشه که جلوتر با تخمین بیزین آشنا میشن تا خیالشون راحت شه.\n",
    "    </li>\n",
    "</ul>\n",
    "</div>"
   ]
  },
  {
   "cell_type": "markdown",
   "metadata": {},
   "source": []
  }
 ],
 "metadata": {
  "kernelspec": {
   "display_name": "R",
   "language": "R",
   "name": "ir"
  },
  "language_info": {
   "codemirror_mode": "r",
   "file_extension": ".r",
   "mimetype": "text/x-r-source",
   "name": "R",
   "pygments_lexer": "r",
   "version": "3.5.1"
  },
  "latex_envs": {
   "LaTeX_envs_menu_present": true,
   "autoclose": false,
   "autocomplete": true,
   "bibliofile": "biblio.bib",
   "cite_by": "apalike",
   "current_citInitial": 1,
   "eqLabelWithNumbers": true,
   "eqNumInitial": 1,
   "hotkeys": {
    "equation": "Ctrl-E",
    "itemize": "Ctrl-I"
   },
   "labels_anchors": false,
   "latex_user_defs": false,
   "report_style_numbering": false,
   "user_envs_cfg": false
  },
  "toc": {
   "base_numbering": 1,
   "nav_menu": {},
   "number_sections": true,
   "sideBar": true,
   "skip_h1_title": false,
   "title_cell": "Table of Contents",
   "title_sidebar": "Contents",
   "toc_cell": false,
   "toc_position": {},
   "toc_section_display": true,
   "toc_window_display": false
  },
  "varInspector": {
   "cols": {
    "lenName": 16,
    "lenType": 16,
    "lenVar": 40
   },
   "kernels_config": {
    "python": {
     "delete_cmd_postfix": "",
     "delete_cmd_prefix": "del ",
     "library": "var_list.py",
     "varRefreshCmd": "print(var_dic_list())"
    },
    "r": {
     "delete_cmd_postfix": ") ",
     "delete_cmd_prefix": "rm(",
     "library": "var_list.r",
     "varRefreshCmd": "cat(var_dic_list()) "
    }
   },
   "types_to_exclude": [
    "module",
    "function",
    "builtin_function_or_method",
    "instance",
    "_Feature"
   ],
   "window_display": false
  }
 },
 "nbformat": 4,
 "nbformat_minor": 2
}
