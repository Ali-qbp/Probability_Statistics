{
 "cells": [
  {
   "cell_type": "markdown",
   "metadata": {},
   "source": [
    "<div style=\"direction:rtl;line-height:300%;\">\n",
    "\t<font face=\"XB Zar\" size=5>\n",
    "\t\t<div align=center>\n",
    "\t\t\t<font face=\"IranNastaliq\" size=30>\n",
    "\t\t\t\t<p></p>\n",
    "\t\t\t\t<p></p>\n",
    "به نام خدا\n",
    "\t\t\t\t<p></p>\n",
    "\t\t\t</font>\n",
    "\t\t\t<font color=#FF7500>\n",
    "دانشگاه صنعتی شریف - دانشکده مهندسی کامپیوتر\n",
    "            </font>\n",
    "\t\t\t<p></p>\n",
    "\t\t\t<font color=blue>\n",
    "آمار و احتمال مهندسی\n",
    "            </font>\n",
    "\t\t\t<br />\n",
    "\t\t\t<br />\n",
    "پاییز ۱۳۹۷\n",
    "\t\t</div>\n",
    "\t\t<hr/>\n",
    "\t\t<font color=red size=6>\n",
    "\t\t\t<br />\n",
    "\t\t\t<div align=center>\n",
    "\n",
    "            </div>\n",
    "\t\t</font>\n",
    "\t\t<br />\n",
    "\t\t<div align=center>\n",
    "علی شریفی زارچی، محمد امین ناظرزاده\n",
    "        </div>\n",
    "\t\t<hr />\n",
    "\t\t<style type=\"text/css\" scoped>\n",
    "        p{\n",
    "        border: 1px solid #a2a9b1;background-color: #f8f9fa;display: inline-block;\n",
    "        };\n",
    "        </style>\n",
    "\t\t<div>\n",
    "\t\t\t<h3>فهرست مطالب</h3>\n",
    "\t\t\t<ul style=\"margin-right: 0;\">\n",
    "                <li>\n",
    "\t\t\t\t\t<a href=\"#sec_intro\">\n",
    "                        مقدمه\n",
    "                    </a>\n",
    "\t\t\t\t</li>\n",
    "                <li>\n",
    "\t\t\t\t\t<a href=\"#sec_problem\">\n",
    "                        بررسی مسئله\n",
    "                    </a>\n",
    "\t\t\t\t</li>\n",
    "                <li>\n",
    "\t\t\t\t\t<a href=\"#sec_math\">\n",
    "                          ریاضیات\n",
    "                    </a>\n",
    "\t\t\t\t</li>\n",
    "                <li>\n",
    "\t\t\t\t\t<a href=\"#sec_gen\">\n",
    "تلاش برای تعمیم\n",
    "                    </a>\n",
    "\t\t\t\t</li>\n",
    "                <li>\n",
    "\t\t\t\t\t<a href=\"#sec_exp\">\n",
    "تمرین\n",
    "                    </a>\n",
    "\t\t\t\t</li>\n",
    "\t\t\t</ul>\n",
    "\t\t</div>\n",
    "\t</font>\n",
    "</div>"
   ]
  },
  {
   "cell_type": "markdown",
   "metadata": {},
   "source": [
    "<p></p>\n",
    "<br />\n",
    "<div id=\"sec_intro\" style=\"direction:rtl;line-height:300%;\">\n",
    "\t<font face=\"XB Zar\" size=5>\n",
    "\t\t<font color=#FF7500 size=6>\n",
    "مقدمه\n",
    "        </font>\n",
    "\t\t<p></p>\n",
    "\t\t<hr>\n",
    "        \n",
    "آندری مارکوف که در دانشگاه پترزبورگ تحصیل می‌کرد جوان تنبلی بود. روزی استادش، چبیشف، او و دوستش امینف! را به دفتر خود فراخواند تا از آن‌ها زهرچشمی بگیرد. او نامساوی را جلوی آن‌ها گذاشت و از آن‌ها خواست درستی یا نادرستی آن را اثبات کنند (در تاریخ گفته شده که این نامساوی بر خلاف نام آن توسط چبیشوف استفاده می‌شده است). نامساوی به صورت زیر بزرگ روی کاغذ نوشته شده بود: \n",
    "<br/><b>\n",
    "اگر متغیر تصادفی X <u>نامنفی</u> و عدد a نیز عدد دلخواه مثبتی باشد آنگاه داریم:\n",
    "<br/></b>\n",
    "<font size = 7>\n",
    "<center>\n",
    "$P(X\\geq a) \\leq \\frac{E[X]}{a}$\n",
    "</center>\n",
    "</font></div>"
   ]
  },
  {
   "cell_type": "markdown",
   "metadata": {},
   "source": [
    "<p></p>\n",
    "<br />\n",
    "<div id=\"sec_problem\" style=\"direction:rtl;line-height:300%;\">\n",
    "\t<font face=\"XB Zar\" size=5>\n",
    "\t\t<font color=#FF7500 size=6>\n",
    "بررسی مسئله\n",
    "        </font>\n",
    "\t\t<p></p>\n",
    "\t\t<hr>\n",
    "آن‌ها ابتدا می‌بایستی این نامساوی را روی تعدادی متغیر تصادفی دلخواه امتحان می‌کردند تا حدس‌هایی درمورد روش اثبات یا رد آن بیابند. از آنجا که امینف با کتاب‌خانه ggplot2 آشنا بود،‌ تصمیم گرفتند به صورت گرافیکی این‌کار را انجام دهند. \n",
    "مارکوف کار با یک تاس را پیشنهاد داد. آن‌ها تصمیم گرفتند مقدار امید ریاضی در نامساوی را ثابت نگه دارند و متغیر‌های دیگر (واریانس) را تغییر دهند. سه تاس شش وجهی با اعداد متفاوت را در نظر گرفتند و نتایج زیر به دست آمد:‌\n",
    "</div>"
   ]
  },
  {
   "cell_type": "code",
   "execution_count": 11,
   "metadata": {
    "scrolled": false
   },
   "outputs": [
    {
     "data": {},
     "metadata": {},
     "output_type": "display_data"
    },
    {
     "data": {
      "image/png": "[encoded data removed]",
      "text/plain": [
       "plot without title"
      ]
     },
     "metadata": {},
     "output_type": "display_data"
    }
   ],
   "source": [
    "  library(ggplot2)\n",
    "  x = c(seq(1,6,1) , seq(2.25,4.75,0.5) , seq(2.875, 4.125,0.25))\n",
    "  #dice1 is the left one and dice3 is the right one\n",
    "  #All are 6 faced dices with mean = 3\n",
    "  y = rep(c(1 , 5/6 , 4/6 ,3/6 , 2/6 , 1/6) , 3)\n",
    "  #y contains P(X>=a) for each face\n",
    "  facet = c(rep(\"dice1\" , 6), rep(\"dice2\" , 6) , rep(\"dice3\" , 6))\n",
    "  m = mean(x[1:6]) # m = 3\n",
    "  f1 = function(x){\n",
    "    return(m/x)\n",
    "  }\n",
    "  d = data.frame( x = x , y = y , facet = facet) #converting to data.frame for using in ggplot\n",
    "  g = ggplot(data = d , mapping = aes(x = x, y = y, color = facet)) +geom_point() + \n",
    "    facet_grid(. ~ facet)\n",
    "  g1 = g  + stat_function(fun = f1, mapping = aes(color = \"mean/x\")) + \n",
    "    ylim(0,2) + xlim(0,6) + ylab(\"P(X>=x)\")\n",
    "  g1 \n"
   ]
  },
  {
   "cell_type": "markdown",
   "metadata": {},
   "source": [
    "<div id=\"sec_intro\" style=\"direction:rtl;line-height:300%;\">\n",
    "\t<font face=\"XB Zar\" size=5>\n",
    "    مارکوف با خودش فکر کرد از آنجا که به نظر می‌رسد با کم کردن واریانس نامساوی در یکی از نقاط به تساوی نزدیک می‌شود، اگر واریانس صفر باشد (یعنی تنها یک نقطه داشته باشیم) نامساوی تبدیل به تساوی خواهد شد. (آیا این حدس درست بود؟)\n",
    "    <br/>\n",
    "    </div>"
   ]
  },
  {
   "cell_type": "markdown",
   "metadata": {},
   "source": [
    "<div id=\"sec_math\" style=\"direction:rtl;line-height:300%;\">\n",
    "\t<font face=\"XB Zar\" size=5>\n",
    "    <font color=#FF7500 size=6>\n",
    "ریاضیات\n",
    "        </font>\n",
    "        <hr>\n",
    "         امینف که در آن مدت با کاغذ و قلم خود ورمیرفت،‌ ایده خلاقانه‌ای به ذهنش رسید! رو به مارکوف گفت:«ما می‌دانیم که اگر تابع f در تمام نقاطی که متغیر تصادفی X در آن تعریف شده کوچکتر مساوی تابع g باشد آنگاه امید ریاضی آن نیز بر روی X کمتر از g است. به عبارتی: \n",
    "    <br/>\n",
    "    <center>\n",
    "    $ \\forall x : f(x) \\leq g(x) \\Rightarrow E[f(X)] \\leq E[g(X)] $\n",
    "    </center>\n",
    "   حال تابع مشخصه‌ای را در نظر بگیر که برای مقادیر بزرگ تر از a‌ دلخواه، یک و مقادیر کوچک تر صفر باشد. (تابع مشخصه)\n",
    "    <br/>\n",
    "    از آنجا که این تابع کوچکتر مساوی تابع \n",
    "    $ \\frac{x}{a}$\n",
    "  در تمام نقاط غیرمنفی است، پس :\n",
    "    <br/>\n",
    "    <center>\n",
    "    $ E[I_a(X)] \\leq E[\\frac{X}{a}] \\Rightarrow P(X \\geq a) \\leq \\frac{E[X]}{a}$\n",
    "    <br>\n",
    "    (چرا؟)\n",
    "    </center>\n",
    "    مارکوف داد زد:‌«‌ آفرین!» و به سرعت روی کاغذ چیز‌هایی نوشت: \n",
    "    <br/>\n",
    "    $E[X] = \\int^{+\\infty}_{0}xf(x) dx = \\int^{a}_{0}xf(x) dx + \\int^{+\\infty}_{a}xf(x)dx \\geq \\int^{+\\infty}_{a}xf(x)dx \\geq \\int^{+\\infty}_{a}af(x)dx = aP(X \\geq a) $\n",
    "    <br/>\n",
    "    <center>\n",
    "    $\\Rightarrow P(X \\geq a) \\leq \\frac{E[X]}{a}$\n",
    "    </center>\n",
    "\n",
    "    </div>"
   ]
  },
  {
   "cell_type": "markdown",
   "metadata": {},
   "source": [
    "<div id=\"sec_gen\" style=\"direction:rtl;line-height:300%;\">\n",
    "\t<font face=\"XB Zar\" size=5>\n",
    "    <font color=#FF7500 size=6>\n",
    "تلاش برای تعمیم\n",
    "        </font>\n",
    "<hr>\n",
    "    مارکوف از امینف خواست تا با تست کردن چند توزیع نرمال با میانگین یکسان، ببیند شرط نامنفی بودن متغیر تصادفی X برای این نامساوی لازم است یا خیر.\n",
    "امینف کد زیر را زد:\n",
    "</div>"
   ]
  },
  {
   "cell_type": "code",
   "execution_count": 12,
   "metadata": {},
   "outputs": [
    {
     "data": {},
     "metadata": {},
     "output_type": "display_data"
    },
    {
     "data": {
      "image/png": "[encoded data removed]",
      "text/plain": [
       "plot without title"
      ]
     },
     "metadata": {},
     "output_type": "display_data"
    }
   ],
   "source": [
    "library(ggplot2)\n",
    "m = 3.5 # m = E[X]\n",
    "f1 = function(x){\n",
    "  return(m/x)\n",
    "}\n",
    "g = ggplot(data = data.frame()) + stat_function(fun = pnorm , position = \"identity\",\n",
    "                                 mapping = aes(color = \"sd = 15\"), \n",
    "                                 args = list(mean = 3.5 , sd = 15 , lower.tail = F)) \n",
    "# p(X>=x) for N(3.5 , 15)\n",
    "g1 = g + stat_function(fun = pnorm , position = \"identity\",\n",
    "                                 mapping = aes(color = \"sd = 5\"), \n",
    "                                 args = list(mean = 3.5 , sd = 5, lower.tail = F))\n",
    "# p(X>=x) for N(3.5 , 5)\n",
    "g2 = g1 + stat_function(fun = pnorm , position = \"identity\",\n",
    "                                 mapping = aes(color = \"sd = 30\"), \n",
    "                                 args = list(mean = 3.5 , sd = 30, lower.tail = F))\n",
    "# p(X>=x) for N(3.5 , 30)\n",
    "g3 = g2  + stat_function(fun = f1, mapping = aes(color = \"mean/x\")) + \n",
    "  ylim(0,1)+ xlim(0,30) + xlab(\"x\") + ylab(\"P(X>=x)\")\n",
    "g3"
   ]
  },
  {
   "cell_type": "markdown",
   "metadata": {},
   "source": [
    "<div id=\"sec_intro\" style=\"direction:rtl;line-height:300%;\">\n",
    "\t<font face=\"XB Zar\" size=5>\n",
    "    آن‌طور که دیدند با بزرگ‌تر شدن واریانس از عددی (آن عدد چیست؟)، نامساوی نقض می‌شود.\n",
    "    <br/>\n",
    "    آن‌ها نتایج خود را به چبیشف نشان دادند. او که لبخندی بر لب داشت آن‌ها را تشویق کرد و حکیمانه گفت:«نکته اصلی در نامساوی‌ ای که اثباتش کردید این است که بدون دانستن pdf یک توزیع می‌توان کرانی بر روی CDF‌ آن به دست آورد.\n",
    "    <br>\n",
    "    حال اگر به جای متغیر تصادفی \n",
    "    $X$،\n",
    "    $(E[X]-X)^2$\n",
    "    و به جای $a$،\n",
    "    $a^2$\n",
    "    را قراردهیم آنگاه به دست میآید: \n",
    "    <br/>\n",
    "    <center>\n",
    "    $P(|X-E[X]| \\geq a) \\leq \\frac{Var(X)}{a^2}$\n",
    "</center>\n",
    "این نامساوی به نام <b>چبیشف</b>، یعنی نام من مشهور است.»\n",
    "    </div>"
   ]
  },
  {
   "cell_type": "markdown",
   "metadata": {},
   "source": [
    "<p></p>\n",
    "<br/>\n",
    "<div id=\"sec_conc\" style=\"direction:rtl;line-height:300%;\">\n",
    "\t<font face=\"XB Zar\" size=5>\n",
    "\t\t<font color=#FF7500 size=6>\n",
    "خلاصه و نتیجه‌گیری\n",
    "        </font>\n",
    "\t\t<p></p>\n",
    "\t\t<hr>\n",
    "        در این بخش با موارد زیر آشنا شدیم:\n",
    "        \n",
    "        <ul>\n",
    "            <li>\n",
    "            بررسی دونا مساوی احتمالاتی\n",
    "            </li>\n",
    "            <li>\n",
    "            نمایش شهودی این نامساوی ها\n",
    "            </li>\n",
    "            <li>\n",
    "            اثبات آنها با روابط ریاضی که قبلا خوانده‌ایم\n",
    "            </li>\n",
    "        </ul>\n",
    "\t</font>\n",
    "</div>"
   ]
  },
  {
   "cell_type": "markdown",
   "metadata": {},
   "source": [
    "<div id=\"sec_exp\" style=\"direction:rtl;line-height:300%;\">\n",
    "\t<font face=\"XB Zar\" size=5>\n",
    "    <font color=#FF7500 size=6>\n",
    "منابع\n",
    "        </font>\n",
    "        </div>\n",
    "<hr>\n",
    "<div id=\"sec_exp\" style=\"line-height:300%;\">\n",
    "\t<font face=\"XB Zar\" size=5>\n",
    " 1) Ross, Sheldon M. A First Course in Probability. Pearson, 2018.\n",
    " <br>\n",
    " 2) “Markov's Inequality.” Wikipedia, Wikimedia Foundation, 29 Aug. 2018, en.wikipedia.org/wiki/Markov's_inequality.\n",
    "</div>"
   ]
  }
 ],
 "metadata": {
  "kernelspec": {
   "display_name": "R",
   "language": "R",
   "name": "ir"
  },
  "language_info": {
   "codemirror_mode": "r",
   "file_extension": ".r",
   "mimetype": "text/x-r-source",
   "name": "R",
   "pygments_lexer": "r",
   "version": "3.5.1"
  },
  "latex_envs": {
   "LaTeX_envs_menu_present": true,
   "autoclose": false,
   "autocomplete": true,
   "bibliofile": "biblio.bib",
   "cite_by": "apalike",
   "current_citInitial": 1,
   "eqLabelWithNumbers": true,
   "eqNumInitial": 1,
   "hotkeys": {
    "equation": "Ctrl-E",
    "itemize": "Ctrl-I"
   },
   "labels_anchors": false,
   "latex_user_defs": false,
   "report_style_numbering": false,
   "user_envs_cfg": false
  },
  "toc": {
   "base_numbering": 1,
   "nav_menu": {},
   "number_sections": true,
   "sideBar": true,
   "skip_h1_title": false,
   "title_cell": "Table of Contents",
   "title_sidebar": "Contents",
   "toc_cell": false,
   "toc_position": {},
   "toc_section_display": true,
   "toc_window_display": false
  },
  "varInspector": {
   "cols": {
    "lenName": 16,
    "lenType": 16,
    "lenVar": 40
   },
   "kernels_config": {
    "python": {
     "delete_cmd_postfix": "",
     "delete_cmd_prefix": "del ",
     "library": "var_list.py",
     "varRefreshCmd": "print(var_dic_list())"
    },
    "r": {
     "delete_cmd_postfix": ") ",
     "delete_cmd_prefix": "rm(",
     "library": "var_list.r",
     "varRefreshCmd": "cat(var_dic_list()) "
    }
   },
   "types_to_exclude": [
    "module",
    "function",
    "builtin_function_or_method",
    "instance",
    "_Feature"
   ],
   "window_display": false
  }
 },
 "nbformat": 4,
 "nbformat_minor": 1
}
