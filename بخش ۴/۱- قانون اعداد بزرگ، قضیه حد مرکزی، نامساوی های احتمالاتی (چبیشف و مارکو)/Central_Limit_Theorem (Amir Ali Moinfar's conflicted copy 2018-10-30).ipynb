{
 "cells": [
  {
   "cell_type": "markdown",
   "metadata": {},
   "source": [
    "<div style=\"direction:rtl;line-height:300%;\">\n",
    "\t<font face=\"XB Zar\" size=5>\n",
    "\t\t<div align=center>\n",
    "\t\t\t<font face=\"IranNastaliq\" size=30>\n",
    "\t\t\t\t<p></p>\n",
    "\t\t\t\t<p></p>\n",
    "به نام خدا\n",
    "\t\t\t\t<p></p>\n",
    "\t\t\t</font>\n",
    "\t\t\t<font color=#FF7500>\n",
    "دانشگاه صنعتی شریف - دانشکده مهندسی کامپیوتر\n",
    "            </font>\n",
    "\t\t\t<p></p>\n",
    "\t\t\t<font color=blue>\n",
    "آمار و احتمال مهندسی\n",
    "            </font>\n",
    "\t\t\t<br />\n",
    "\t\t\t<br />\n",
    "پاییز ۱۳۹۷\n",
    "\t\t</div>\n",
    "\t\t<hr/>\n",
    "\t\t<font color=red size=6>\n",
    "\t\t\t<br />\n",
    "\t\t\t<div align=center>\n",
    "آمار و احتمال شیرین\n",
    "            </div>\n",
    "\t\t</font>\n",
    "\t\t<br />\n",
    "\t\t<div align=center>\n",
    "نگین مجیدی و علی شریفی زارچی\n",
    "        </div>\n",
    "\t\t<hr />\n",
    "\t\t<style type=\"text/css\" scoped>\n",
    "        p{\n",
    "        border: 1px solid #a2a9b1;background-color: #f8f9fa;display: inline-block;\n",
    "        };\n",
    "        </style>\n",
    "\t\t<div>\n",
    "\t\t\t<h3>فهرست مطالب</h3>\n",
    "\t\t\t<ul style=\"margin-right: 0;\">\n",
    "                <li>\n",
    "\t\t\t\t\t<a href=\"#sec_intro_to_intro\">\n",
    "                        مقدمه‌ای بر مقدمه\n",
    "                    </a>\n",
    "\t\t\t\t</li>\n",
    "                <li>\n",
    "\t\t\t\t\t<a href=\"#sec_intro\">\n",
    "                        مقدمه\n",
    "                    </a>\n",
    "\t\t\t\t</li>\n",
    "                <li>\n",
    "\t\t\t\t\t<a href=\"#sec_theorem\">\n",
    "                        صورت قضیه حد مرکزی\n",
    "                    </a>\n",
    "\t\t\t\t</li>\n",
    "                <li>\n",
    "\t\t\t\t\t<a href=\"#sec_astronomer\">\n",
    "                        مثال، دغدغه‌های یک ستاره شناس\n",
    "                    </a>\n",
    "\t\t\t\t</li>\n",
    "                <li>\n",
    "\t\t\t\t\t<a href=\"#sec_student\">\n",
    "مثال،دغدغه‌های یک دانشجو\n",
    "                    </a>\n",
    "\t\t\t\t</li>\n",
    "                <li>\n",
    "\t\t\t\t\t<a href=\"#sec_plane\">\n",
    "                        مثال، دغدغه های یک خلبان\n",
    "                    </a>\n",
    "\t\t\t\t</li>\n",
    "                <li>\n",
    "\t\t\t\t\t<a href=\"#sec_accidents\">\n",
    "                        مثال، تعداد تصادف‌ها\n",
    "                    </a>\n",
    "\t\t\t\t</li>\n",
    "                <li>\n",
    "\t\t\t\t\t<a href=\"#sec_conc\">\n",
    "خلاصه و نتیجه‌گیری\n",
    "                    </a>\n",
    "\t\t\t\t</li>\n",
    "\t\t\t</ul>\n",
    "\t\t</div>\n",
    "\t</font>\n",
    "</div>"
   ]
  },
  {
   "cell_type": "markdown",
   "metadata": {},
   "source": [
    "<p></p>\n",
    "<br />\n",
    "<div id=\"sec_intro_to_intro\" style=\"direction:rtl;line-height:300%;\">\n",
    "\t<font face=\"XB Zar\" size=5>\n",
    "\t\t<font color=#FF7500 size=6>\n",
    "مقدمه‌ای بر مقدمه\n",
    "        </font>\n",
    "\t\t<p></p>\n",
    "\t\t<hr>\n",
    "         تا حالا دقت کردید وقتی یک لودر یک توده خاک را به طور تصادفی از یک زمین برمی‌دارد و در نقطه‌ای تخلیه می‌کند خاک های \n",
    "        ریخته شده به چه شکلی در می‌آید؟\n",
    "        همانطور که میدانیم تعداد دانه های خاک بسیار زیاد است و این دانه‌ها از هم مستقل اند!\n",
    "<img src=\"figs/normal_dist_of_sand.jpg\" style=\"float:center; width:40%\"/>\n",
    "        <br /><br />\n",
    "        درست حدس زدید! به شکل منحنی نرمال در می‌آید :)\n",
    "        <br />\n",
    "\t</font>\n",
    "</div>"
   ]
  },
  {
   "cell_type": "markdown",
   "metadata": {},
   "source": [
    "<p></p>\n",
    "<br />\n",
    "<div id=\"sec_intro\" style=\"direction:rtl;line-height:300%;\">\n",
    "\t<font face=\"XB Zar\" size=5>\n",
    "\t\t<font color=#FF7500 size=6>\n",
    "مقدمه\n",
    "        </font>\n",
    "\t\t<p></p>\n",
    "\t\t<hr>\n",
    "قضیه حد مرکزی یکی از مهم ترین نتایج نظریه‌ی احتمال است. اگر بخواهیم شهودی ساده از آن ارائه کنیم، قضیه حد مرکزی بیان می‌کند که مجموع تعداد زیادی متغیر تصادفی مستقل توزیعی تقریبا نرمال دارند! \n",
    "<br />\n",
    "<br />\n",
    "این قضیه از دو جهت مهم است: اولا این قضیه روش ساده ای برای محاسبه‌ی احتمال‌های تقریبی برای مجموع متغیر‌های تصادفی ارائه میکند. دوما دلیل این را بیان می‌کند که چرا نمونه گیری های تجربی در بسیاری از جمعیت های طبیعی منحنی زنگی شکل دارند.\n",
    "<br><br>\n",
    "       قضیه‌ی حد مرکزی به صورت ناباورانه‌ای(!) عمومیت دارد. تنها فرض‌های لازم برای این قضیه استقلال متغیر‌ها و فرض خوش تعریف بودن و متناهی بودن میانگین و واریانس آن‌هاست؛ یعنی متغیر‌ها میتوانند گسسته،پیوسته و حتی هر دو این‌ها باشند.\n",
    "        <br>\n",
    "    </font>\n",
    "</div>"
   ]
  },
  {
   "cell_type": "markdown",
   "metadata": {},
   "source": [
    "<p></p>\n",
    "<br />\n",
    "<div id=\"sec_theorem\" style=\"direction:rtl;line-height:300%;\">\n",
    "\t<font face=\"XB Zar\" size=5>\n",
    "\t\t<font color=#FF7500 size=6>\n",
    "صورت قضیه حد مرکزی\n",
    "        </font>\n",
    "\t\t<p></p>\n",
    "\t\t<hr>\n",
    "        فرض کنید $X_1,X_2,...$ دنباله ای از متغیر های تصادفی مستقل با توزیع یکسان باشند که میانگین و واریانس آن‌ها به ترتیب برابر با $\\mu$ و $\\sigma^2$ باشد. آنگاه توزیع \n",
    "        $\\frac{X_1 + ... + X_n - n\\mu}{\\sigma\\sqrt{n}}$ وقتی که $n$ به بی نهایت میل می‌کند، به توزیع نرمال استاندارد میل می‌کند.\n",
    "        <br/> <br/>\n",
    "        به عبارتی دیگر برای $-\\infty < a < \\infty$ داریم:\n",
    "        <br/> <br/>\n",
    "        $$P\\{\\frac{X_1 + \\ldots +X_n - n\\mu}{\\sigma\\sqrt{n}}\\leq a\\}\\rightarrow \\frac{1}{\\sqrt{2\\pi}}\\int_{-\\infty}^{a}e^{-x^2/2}dx\\quad as\\quad n\\rightarrow \\infty$$\n",
    "\t</font>\n",
    "</div>"
   ]
  },
  {
   "cell_type": "markdown",
   "metadata": {},
   "source": [
    "<p></p>\n",
    "<br />\n",
    "<div id=\"sec_astronomer\" style=\"direction:rtl;line-height:300%;\">\n",
    "\t<font face=\"XB Zar\" size=5>\n",
    "\t\t<font color=#FF7500 size=6>\n",
    "مثال، دغدغه‌های یک ستاره شناس\n",
    "        </font>\n",
    "\t\t<p></p>\n",
    "\t\t<hr>\n",
    "       یک ستاره‌شناس خوش‌ذوق می‌خواهد فاصله‌ی خودش تا یک ستاره را اندازه بگیرد. اگرچه او در اندازه‌گیری فاصله اجرام آسمانی مهارت دارد اما می‌داند به دلیل تغییرات جوی سطح ستاره ها و خطای اندازه‌گیری، هر اندازه گیری نمی‌تواند نتیجه‌ی درست را نشان دهد اما می‌تواند یک تخمین باشد. در نتیجه تصمیم می‌گیرد تعداد نسبتا زیادی اندازه‌گیری انجام دهد و میانگین آن‌ها را به عنوان مقدار واقعی در نظر بگیرد. اگر این مقادیر اندازه گیری شده مستقل از هم و هم توزیع باشند و دارای میانگین $\\mu$ و واریانس 9 سال نوری باشند، این ستاره شناس چند اندازه‌گیری باید انجام دهد تا حدودا مطمئن شود که اندازه تخمین زده شده با دقت 1 سال نوری دقیق است؟\n",
    "        <br/><br/>\n",
    "        <font color=blue size=5>\n",
    "پاسخ:\n",
    "        </font>\n",
    "        <br/><br/>\n",
    "        فرض کنید این ستاره شناس می‌خواهد $n$ مشاهده انجام دهد. اگر متغیر های تصادفی $X_1, \\ldots, X_n$ نمایشگر این اندازه‌ها باشند، از قضیه‌ی حد مرکزی نتیجه می‌شود که\n",
    "        <br/>\n",
    "        $$Z_n = \\frac{\\sum_{i=1}^{n} X_i - n\\mu}{3\\sqrt{n}}$$\n",
    "        <br/>\n",
    "        توزیع تقریبا نرمال استاندارد دارد. در نتیجه،\n",
    "        <br/>\n",
    "        $$P\\{-1\\leq \\frac{\\sum_{i=1}^{n}X_i}{n}-\\mu\\leq 1 \\}= P\\{-\\frac{\\sqrt{n}}{3}\\leq Z_n \\leq \\frac{\\sqrt{n}}{3}\\} \\approx \\Phi(\\frac{\\sqrt{n}}{3})- \\Phi(\\frac{-\\sqrt{n}}{3}) = 2\\Phi(\\frac{\\sqrt{n}}{3})-1$$\n",
    "        حال به طور مثال اگر این ستاره شناس بخواهد 95 درصد مطمئن باشد باید $n$را طوری انتخاب کنیم که،\n",
    "        <br/>\n",
    "        $$2\\Phi(\\frac{\\sqrt{n}}{3})-1 = 0.95 \\Rightarrow \\Phi(\\frac{\\sqrt{n}}{3}) = 0.975$$\n",
    "        در نتیجه،\n",
    "        <br/>\n",
    "        $$\\frac{\\sqrt{n}}{3} = 1.96 \\Rightarrow n = 34.57$$\n",
    "        پس ستاره‌شناس باید حداقل 35 مشاهده انجام دهد.\n",
    "\t</font>\n",
    "</div>\n",
    "\n"
   ]
  },
  {
   "cell_type": "markdown",
   "metadata": {},
   "source": [
    "<p></p>\n",
    "<br />\n",
    "<div id=\"sec_student\" style=\"direction:rtl;line-height:300%;\">\n",
    "\t<font face=\"XB Zar\" size=5>\n",
    "\t\t<font color=#FF7500 size=6>\n",
    "مثال، دغدغه های یک دانشجو\n",
    "        </font>\n",
    "\t\t<p></p>\n",
    "\t\t<hr>\n",
    "      استاد درس آمار و احتمال مهندسی می‌خواهد 50 برگه‌ی امتحانی این درس را تصحیح کند. زمان نمره دهی به این برگه ها مستقل از هم است و توزیع یکسانی دارد. از آنجایی که استاد دقت زیادی در تصحیح برگه‌ها دارد هر برگه را با میانگین زمان نیم ساعت و واریانس 4 دقیقه تصحیح می‌کند. از طرفی دانشجویان مثل همیشه برای دیدن نمرات خود سر از پا نمی‌شناسند. به آنها کمک کنید احتمال این که استاد در نصف یک روز حداقل نصف برگه ‌ها را تصحیح کرده باشند را پیدا کنند. \n",
    "\t<br/><br/>\n",
    "    <font color=blue size=5>\n",
    "پاسخ:\n",
    "        </font>\n",
    "        <br/><br/>\n",
    "        فرض کنید $X_i$ زمان تصحیح برگه امتحانی $i$ ام باشد، پس زمان تصحیح نصف اول برگه ها به صورت \n",
    "        $$X = \\sum_{i=1}^{25}X_i$$\n",
    "        <br/>\n",
    "        خواهد بود. لذا احتمال اینکه استاد در 12 ساعت (720 دقیقه) این تعداد برگه ها را تصحیح کند برابر $P\\{X\\leq720\\}$ خواهد بود. طبق مستقل بودن متغیر‌ها،\n",
    "        $$E[X] = \\sum_{i=1}^{25}E[X_i] = 25(30) = 750$$\n",
    "        $$Var(X) = \\sum_{i=1}^{25}Var(X_i) = 25(16) = 400$$\n",
    "        <br/>\n",
    "        برای تقریب احتمال $P\\{X\\leq720\\}$ از قضیه حد مرکزی استفاده می‌کنیم.طبق این قضیه،\n",
    "        $$Z = \\frac{X-750}{\\sqrt{400}}$$\n",
    "        <br/>\n",
    "        تقریب توزیع نرمال استاندارد دارد، لذا\n",
    "        $$P\\{X\\leq720\\} = P\\{\\frac{X-750}{\\sqrt{400}}\\leq \\frac{720-750}{\\sqrt{400}}\\} \\approx P\\{Z\\leq -1.5\\} = \\Phi(-1.5)= 0.067$$\n",
    "        <br/>\n",
    "        همانطور که می‌بینیم این احتمال خیلی کم است :(\n",
    "    </font>\n",
    "</div>"
   ]
  },
  {
   "cell_type": "markdown",
   "metadata": {},
   "source": [
    "<p></p>\n",
    "<br />\n",
    "<div id=\"sec_plane\" style=\"direction:rtl;line-height:300%;\">\n",
    "\t<font face=\"XB Zar\" size=5>\n",
    "\t\t<font color=#FF7500 size=6>\n",
    "مثال، دغدغه‌های یک خلبان\n",
    "        </font>\n",
    "\t\t<p></p>\n",
    "\t\t<hr>\n",
    "     یک شرکت هواپیمایی می‌خواهد در پرواز یک هواپیما 100 بسته بار  در هواپیما قرار دهد. وزن بسته ها مستقل از هم اند و توزیع یکنواخت بین 10 تا 50 کیلو دارند. احتمال اینکه وزن کل بار هواپیما بیشتر از 3300 کیلوگرم شود،چقدر است؟  \n",
    "\t<br/>\n",
    "    <font color=blue size=5>\n",
    "پاسخ:\n",
    "        </font>\n",
    "        <br/><br/>\n",
    "        همانطور که می‌دانید محاسبه CDF وزن کل بار کار آسانی نیست  اما به کمک قضیه حد مرکزی میتوان تقریبی از این احتمال به دست آورد. حال اگر فرض کنیم وزن بار $i$ام برابر با $X_i$ است. ورن کل بار با  \n",
    "        $$X = \\sum_{i=1}^{100}X_i$$\n",
    "        <br/>\n",
    "        برابر خواهد بود. لذا احتمال اینکه وزن کل بار هواپیما بیشتر از 3300 کیلوگرم شود برابر $P\\{X\\geq3300\\}$ خواهد بود. طبق یکنواخت بودن توزیع وزن بارها،\n",
    "        $$E[X] = \\frac{10+50}{2} = 30$$\n",
    "        $$Var(X) = \\frac{(50-10)^2}{12} = 133.33$$\n",
    "        <br/>\n",
    "        پس خواهیم داشت:\n",
    "        $$P\\{X\\geq3300\\} = P\\{\\frac{X-30\\times100}{\\sqrt{133.33\\times100}}\\geq \\frac{3300-30\\times100}{\\sqrt{133.33\\times100}}\\} \\approx P\\{Z\\geq 2.59\\} = 1 - \\Phi(2.59)= 0.0048$$\n",
    "        <br/>\n",
    "    </font>\n",
    "</div>"
   ]
  },
  {
   "cell_type": "markdown",
   "metadata": {},
   "source": [
    "<p></p>\n",
    "<br />\n",
    "<div id=\"sec_accidents\" style=\"direction:rtl;line-height:300%;\">\n",
    "\t<font face=\"XB Zar\" size=5>\n",
    "\t\t<font color=#FF7500 size=6>\n",
    "مثال، تعداد تصادف‌ها\n",
    "        </font>\n",
    "\t\t<p></p>\n",
    "\t\t<hr>\n",
    "        در این مثال می‌خواهیم قضیه‌ی حد مرکزی را بر روی داده‌های واقعی بررسی کنیم. داده‌هایی که برای این مسئله انتخاب کردیم تعداد تصادفات در بریتانیا از سال 2005 تا 2015 را نشان می‌دهد.\n",
    "        <br/>\n",
    "        ابتدا داده ها را میخوانیم:\n",
    "        <br/>\n",
    "    </font>\n",
    "</div>"
   ]
  },
  {
   "cell_type": "code",
   "execution_count": 1,
   "metadata": {},
   "outputs": [
    {
     "data": {
      "text/html": [
       "<table>\n",
       "<thead><tr><th scope=col>Index</th><th scope=col>Date</th><th scope=col>Accidents</th></tr></thead>\n",
       "<tbody>\n",
       "\t<tr><td>1         </td><td>2005-01-01</td><td>308       </td></tr>\n",
       "\t<tr><td>2         </td><td>2005-01-02</td><td>306       </td></tr>\n",
       "\t<tr><td>3         </td><td>2005-01-03</td><td>293       </td></tr>\n",
       "\t<tr><td>4         </td><td>2005-01-04</td><td>473       </td></tr>\n",
       "\t<tr><td>5         </td><td>2005-01-05</td><td>523       </td></tr>\n",
       "\t<tr><td>6         </td><td>2005-01-06</td><td>553       </td></tr>\n",
       "</tbody>\n",
       "</table>\n"
      ],
      "text/latex": [
       "\\begin{tabular}{r|lll}\n",
       " Index & Date & Accidents\\\\\n",
       "\\hline\n",
       "\t 1          & 2005-01-01 & 308       \\\\\n",
       "\t 2          & 2005-01-02 & 306       \\\\\n",
       "\t 3          & 2005-01-03 & 293       \\\\\n",
       "\t 4          & 2005-01-04 & 473       \\\\\n",
       "\t 5          & 2005-01-05 & 523       \\\\\n",
       "\t 6          & 2005-01-06 & 553       \\\\\n",
       "\\end{tabular}\n"
      ],
      "text/markdown": [
       "Index | Date | Accidents | \n",
       "|---|---|---|---|---|---|\n",
       "| 1          | 2005-01-01 | 308        | \n",
       "| 2          | 2005-01-02 | 306        | \n",
       "| 3          | 2005-01-03 | 293        | \n",
       "| 4          | 2005-01-04 | 473        | \n",
       "| 5          | 2005-01-05 | 523        | \n",
       "| 6          | 2005-01-06 | 553        | \n",
       "\n"
      ],
      "text/plain": [
       "  Index Date       Accidents\n",
       "1 1     2005-01-01 308      \n",
       "2 2     2005-01-02 306      \n",
       "3 3     2005-01-03 293      \n",
       "4 4     2005-01-04 473      \n",
       "5 5     2005-01-05 523      \n",
       "6 6     2005-01-06 553      "
      ]
     },
     "metadata": {},
     "output_type": "display_data"
    }
   ],
   "source": [
    "accidentsData = read.csv('data/accidents.csv')\n",
    "head(accidentsData)"
   ]
  },
  {
   "cell_type": "markdown",
   "metadata": {},
   "source": [
    "<div style=\"direction:rtl;line-height:300%;\">\n",
    "\t<font face=\"XB Zar\" size=5>\n",
    "\t\tهمانطور که می‌بینیم، داده ها زمان و تعداد وقوع تصادف را در این 11 سال نشان میدهند.\n",
    "        <br/>\n",
    "        10000 بار از این داده ها نمونه‌های 100 تایی می‌گیریم و هر بار $$\\frac{X_1 + \\ldots +X_{100} - 100\\times\\mu}{\\sigma\\sqrt{100}}$$ را محاسبه می‌کنیم. \n",
    "\t</font>\n",
    "</div>"
   ]
  },
  {
   "cell_type": "code",
   "execution_count": 5,
   "metadata": {},
   "outputs": [],
   "source": [
    "set.seed(1)\n",
    "z = vector('numeric', 10000)\n",
    "mu = mean(accidentsData$Accidents)\n",
    "sigma = sd(accidentsData$Accidents)\n",
    "for (i in 1:10000) {\n",
    "  s = sample(accidentsData$Accidents, 100, replace = F)\n",
    "  z[i] = (sum(s) - 100*mu)/(sigma * 10)\n",
    "}"
   ]
  },
  {
   "cell_type": "markdown",
   "metadata": {},
   "source": [
    "<div style=\"direction:rtl;line-height:300%;\">\n",
    "\t<font face=\"XB Zar\" size=5>\n",
    "\t\tتابع توزیع احتمال آن را به همراه تابع توزیع احتمال متغیر نرمال استاندارد رسم می‌کنیم.\n",
    "        </font>\n",
    "</div>"
   ]
  },
  {
   "cell_type": "code",
   "execution_count": 7,
   "metadata": {},
   "outputs": [
    {
     "data": {
      "image/png": "[encoded data removed]",
      "text/plain": [
       "Plot with title \"Density Plot\""
      ]
     },
     "metadata": {},
     "output_type": "display_data"
    }
   ],
   "source": [
    "hist(z, breaks=50, freq=F, main=\"Density Plot\")\n",
    "curve(dnorm(x, mean=0, sd=1), add=TRUE, col='red', lwd=2) "
   ]
  },
  {
   "cell_type": "markdown",
   "metadata": {},
   "source": [
    "<div style=\"direction:rtl;line-height:300%;\">\n",
    "\t<font face=\"XB Zar\" size=5>\n",
    "    مشاهده می‌کنیم که توزیع مورد نظر  بسیار نزدیک به توزیع نرمال استاندارد است.\n",
    "    </font>\n",
    "</div>"
   ]
  },
  {
   "cell_type": "markdown",
   "metadata": {},
   "source": [
    "<div style=\"direction:rtl;line-height:300%;\">\n",
    "\t<font face=\"XB Zar\" size=5>\n",
    "\t\t<font color=blue size=6>\n",
    "کنجکاوی:\n",
    "        </font><br/>\n",
    "آیا قضیه حد مرکزی را می‌توان برای متغیرهای تصادفی مستقل غیرهم توزیع هم در نظر گرفت؟\n",
    "        <br/>\n",
    "        اگر جوابتان مثبت است، تعریف قضیه در این حالت چگونه خواهد بود؟\n",
    "        <br/>\n",
    "        دغدغه‌های این سه گروه را با هم مقایسه کنید :دی\n",
    "\t</font>\n",
    "</div>\n",
    "\n"
   ]
  },
  {
   "cell_type": "markdown",
   "metadata": {},
   "source": [
    "<div style=\"direction:rtl;line-height:300%;\">\n",
    "\t<font face=\"XB Zar\" size=5>\n",
    "\t\t<font color=darkpink size=6>\n",
    "تمرین:\n",
    "        </font>\n",
    "قضیه حد مرکزی را برای داده‌های دلخواه دیگری آزمایش کنید و توزیع نمونه گیری های خود را رسم کنید. این کار را برای تعداد نمونه گیری های مختلف امتحان کنید.\n",
    "</font>\n",
    "</div>\n",
    "\n"
   ]
  },
  {
   "cell_type": "markdown",
   "metadata": {},
   "source": [
    "<p></p>\n",
    "<br/>\n",
    "<div id=\"sec_conc\" style=\"direction:rtl;line-height:300%;\">\n",
    "\t<font face=\"XB Zar\" size=5>\n",
    "\t\t<font color=#FF7500 size=6>\n",
    "خلاصه و نتیجه‌گیری\n",
    "        </font>\n",
    "\t\t<p></p>\n",
    "\t\t<hr>\n",
    "        در این بخش با موارد زیر آشنا شدیم:\n",
    "        <ul>\n",
    "            <li>\n",
    "            قضیه حد مرکزی\n",
    "            </li>\n",
    "            <li>\n",
    "            اهمیت این قضیه\n",
    "            </li>\n",
    "            <li>\n",
    "            مشاهده این قضیه در داده‌های واقعی\n",
    "            </li>\n",
    "            <li>\n",
    "            کاربرد آن در بعضی مثال‌های تئوری\n",
    "            </li>\n",
    "        </ul>\n",
    "\t</font>\n",
    "</div>"
   ]
  },
  {
   "cell_type": "markdown",
   "metadata": {},
   "source": [
    "<p></p>\n",
    "<br/>\n",
    "<div id=\"sec_refs\" style=\"direction:rtl;line-height:300%;\">\n",
    "\t<font face=\"XB Zar\" size=5>\n",
    "\t\t<font color=#FF7500 size=6>\n",
    "منابع\n",
    "        </font>\n",
    "\t\t<hr>       \n",
    "        <ul>\n",
    "            <li>\n",
    "            Dimitri P. Bertsekas, and John N. Tsitsiklis. Introduction to Probability. Fall 2000. Massachusetts Institute of Technology: https://ocw.mit.edu/courses/mathematics/18-05-introduction-to-probability-and-statistics-spring-2014/readings/.\n",
    "            </li>\n",
    "            <li>\n",
    "Ross, Sheldon (2009). A first course in probability (8th ed.). Prentice Hall press. ISBN 978-0-13-603313-4.\n",
    "            </li>\n",
    "            <li>\n",
    "https://www.kaggle.com/silicon99/dft-accident-data/version/3\n",
    "            </li>\n",
    "        </ul>\n",
    "\t</font>\n",
    "</div>"
   ]
  },
  {
   "cell_type": "code",
   "execution_count": null,
   "metadata": {},
   "outputs": [],
   "source": []
  }
 ],
 "metadata": {
  "kernelspec": {
   "display_name": "R",
   "language": "R",
   "name": "ir"
  },
  "language_info": {
   "codemirror_mode": "r",
   "file_extension": ".r",
   "mimetype": "text/x-r-source",
   "name": "R",
   "pygments_lexer": "r",
   "version": "3.5.1"
  },
  "latex_envs": {
   "LaTeX_envs_menu_present": true,
   "autoclose": false,
   "autocomplete": true,
   "bibliofile": "biblio.bib",
   "cite_by": "apalike",
   "current_citInitial": 1,
   "eqLabelWithNumbers": true,
   "eqNumInitial": 1,
   "hotkeys": {
    "equation": "Ctrl-E",
    "itemize": "Ctrl-I"
   },
   "labels_anchors": false,
   "latex_user_defs": false,
   "report_style_numbering": false,
   "user_envs_cfg": false
  },
  "toc": {
   "base_numbering": 1,
   "nav_menu": {},
   "number_sections": true,
   "sideBar": true,
   "skip_h1_title": false,
   "title_cell": "Table of Contents",
   "title_sidebar": "Contents",
   "toc_cell": false,
   "toc_position": {},
   "toc_section_display": true,
   "toc_window_display": false
  },
  "varInspector": {
   "cols": {
    "lenName": 16,
    "lenType": 16,
    "lenVar": 40
   },
   "kernels_config": {
    "python": {
     "delete_cmd_postfix": "",
     "delete_cmd_prefix": "del ",
     "library": "var_list.py",
     "varRefreshCmd": "print(var_dic_list())"
    },
    "r": {
     "delete_cmd_postfix": ") ",
     "delete_cmd_prefix": "rm(",
     "library": "var_list.r",
     "varRefreshCmd": "cat(var_dic_list()) "
    }
   },
   "types_to_exclude": [
    "module",
    "function",
    "builtin_function_or_method",
    "instance",
    "_Feature"
   ],
   "window_display": false
  }
 },
 "nbformat": 4,
 "nbformat_minor": 1
}
