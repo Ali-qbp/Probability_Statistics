{
 "cells": [
  {
   "cell_type": "markdown",
   "metadata": {},
   "source": [
    "# بازخورد اول ۲۶ مهر"
   ]
  },
  {
   "cell_type": "markdown",
   "metadata": {},
   "source": [
    "<div dir=rtl>\n",
    "<ul>\n",
    "        <li>\n",
    "دستتون درد نکنه واقعا خوب نوشتید.\n",
    "    </li>\n",
    "    <li>\n",
    "فکر کنم جای خالی یک مثال عملی توی قسمت correlation حس میشه.\n",
    "        مثلا یکسری نمونه داریم که چند تا صفت دارند\n",
    "        (مثلا هر سطر یک آدم باشه و قد و وزن و قند خون و ... ویژگی‌های اون آدم باشن)\n",
    " بعد ببینن که هر پارامتر چقدر با پارامتر‌های دیگه کورلیشن دارند. \n",
    "    </li>\n",
    "    <li>\n",
    "        یه چیز دیگه هم که فکر کنم شاید بد نباشه  بهش اشاره بشه (بازم بسته به نظر خودتون داره) اینه که correlation نتیجه نمی‌دهد causation\n",
    "    هست.\n",
    "        فکر کنم بشه توی همون مثال correlation این چیزا رو مشاهده کرد (حدس زد)\n",
    "        https://en.wikipedia.org/wiki/Correlation_does_not_imply_causation\n",
    "</li>\n",
    "            <li>\n",
    "بعد این که اگه فایل تصاویر بره توی یه پوشه تمیزتر میشه پوشه بندی‌ها.\n",
    "    </li>\n",
    "</ul>\n",
    "</div>"
   ]
  },
  {
   "cell_type": "code",
   "execution_count": null,
   "metadata": {
    "collapsed": true
   },
   "outputs": [],
   "source": []
  }
 ],
 "metadata": {
  "kernelspec": {
   "display_name": "R",
   "language": "R",
   "name": "ir"
  },
  "language_info": {
   "codemirror_mode": "r",
   "file_extension": ".r",
   "mimetype": "text/x-r-source",
   "name": "R",
   "pygments_lexer": "r",
   "version": "3.4.3"
  },
  "latex_envs": {
   "LaTeX_envs_menu_present": true,
   "autoclose": false,
   "autocomplete": true,
   "bibliofile": "biblio.bib",
   "cite_by": "apalike",
   "current_citInitial": 1,
   "eqLabelWithNumbers": true,
   "eqNumInitial": 1,
   "hotkeys": {
    "equation": "Ctrl-E",
    "itemize": "Ctrl-I"
   },
   "labels_anchors": false,
   "latex_user_defs": false,
   "report_style_numbering": false,
   "user_envs_cfg": false
  },
  "toc": {
   "base_numbering": 1,
   "nav_menu": {},
   "number_sections": true,
   "sideBar": true,
   "skip_h1_title": false,
   "title_cell": "Table of Contents",
   "title_sidebar": "Contents",
   "toc_cell": false,
   "toc_position": {},
   "toc_section_display": true,
   "toc_window_display": false
  },
  "varInspector": {
   "cols": {
    "lenName": 16,
    "lenType": 16,
    "lenVar": 40
   },
   "kernels_config": {
    "python": {
     "delete_cmd_postfix": "",
     "delete_cmd_prefix": "del ",
     "library": "var_list.py",
     "varRefreshCmd": "print(var_dic_list())"
    },
    "r": {
     "delete_cmd_postfix": ") ",
     "delete_cmd_prefix": "rm(",
     "library": "var_list.r",
     "varRefreshCmd": "cat(var_dic_list()) "
    }
   },
   "types_to_exclude": [
    "module",
    "function",
    "builtin_function_or_method",
    "instance",
    "_Feature"
   ],
   "window_display": false
  }
 },
 "nbformat": 4,
 "nbformat_minor": 2
}
