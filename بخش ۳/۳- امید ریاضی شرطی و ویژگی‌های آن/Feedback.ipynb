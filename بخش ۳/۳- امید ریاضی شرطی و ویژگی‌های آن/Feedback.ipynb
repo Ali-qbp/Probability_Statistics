{
 "cells": [
  {
   "cell_type": "markdown",
   "metadata": {},
   "source": [
    "# بازخورد اول ۲۷ مهر"
   ]
  },
  {
   "cell_type": "markdown",
   "metadata": {},
   "source": [
    "<div dir=rtl>\n",
    "<ul>\n",
    "        <li>\n",
    "            مرسی خیلی زحمت کشیدی\n",
    "    </li>\n",
    "    <li>\n",
    "مثال‌های آخر جدا شن بهتر میشه.\n",
    "    </li>\n",
    "        <li>\n",
    "خوبه اول جزوه یک مثال خیییییلی ساده از یک رویداد واقعی ببینن. مثلا توزیع همزمان سطح سواد و حقوق رو توی یک جدول نشون داده بشه و ببینیم توزیع حقوق به شرط داشتن مدرک بالای دکترا چیه. بعد نتیجه بگیری که مدرک بالاتر موجب کاهش حقوق میشه :دی\n",
    "    </li>\n",
    "    <li>\n",
    "من گیر دادم به شکل :دی\n",
    "ولی جدی میشه اینو با شکل خووووب نشون داد. یعنی میشه برای یک متغیر تصادفی حقیقی امید ریاضی به شرط بودن توی یک بازه رو نشون داد. برای توزیع‌های چند متغیره هم  همینطور.\n",
    "    </li>\n",
    "</ul>\n",
    "</div>"
   ]
  },
  {
   "cell_type": "code",
   "execution_count": null,
   "metadata": {
    "collapsed": true
   },
   "outputs": [],
   "source": []
  }
 ],
 "metadata": {
  "kernelspec": {
   "display_name": "R",
   "language": "R",
   "name": "ir"
  },
  "language_info": {
   "codemirror_mode": "r",
   "file_extension": ".r",
   "mimetype": "text/x-r-source",
   "name": "R",
   "pygments_lexer": "r",
   "version": "3.4.3"
  },
  "latex_envs": {
   "LaTeX_envs_menu_present": true,
   "autoclose": false,
   "autocomplete": true,
   "bibliofile": "biblio.bib",
   "cite_by": "apalike",
   "current_citInitial": 1,
   "eqLabelWithNumbers": true,
   "eqNumInitial": 1,
   "hotkeys": {
    "equation": "Ctrl-E",
    "itemize": "Ctrl-I"
   },
   "labels_anchors": false,
   "latex_user_defs": false,
   "report_style_numbering": false,
   "user_envs_cfg": false
  },
  "toc": {
   "base_numbering": 1,
   "nav_menu": {},
   "number_sections": true,
   "sideBar": true,
   "skip_h1_title": false,
   "title_cell": "Table of Contents",
   "title_sidebar": "Contents",
   "toc_cell": false,
   "toc_position": {},
   "toc_section_display": true,
   "toc_window_display": false
  },
  "varInspector": {
   "cols": {
    "lenName": 16,
    "lenType": 16,
    "lenVar": 40
   },
   "kernels_config": {
    "python": {
     "delete_cmd_postfix": "",
     "delete_cmd_prefix": "del ",
     "library": "var_list.py",
     "varRefreshCmd": "print(var_dic_list())"
    },
    "r": {
     "delete_cmd_postfix": ") ",
     "delete_cmd_prefix": "rm(",
     "library": "var_list.r",
     "varRefreshCmd": "cat(var_dic_list()) "
    }
   },
   "types_to_exclude": [
    "module",
    "function",
    "builtin_function_or_method",
    "instance",
    "_Feature"
   ],
   "window_display": false
  }
 },
 "nbformat": 4,
 "nbformat_minor": 2
}
