{
 "cells": [
  {
   "cell_type": "markdown",
   "metadata": {},
   "source": [
    "### Stat 98"
   ]
  },
  {
   "cell_type": "markdown",
   "metadata": {},
   "source": [
    "<div dir=rtl>\n",
    "<ul>\n",
    "    <li>\n",
    "        توی قسمت معرفی ابزار از سایت \n",
    "        seeing-theory\n",
    "        استفاده بشه (اسکریپتی که گذاشتم)     \n",
    "     </li>\n",
    "    <li>\n",
    "        به طور کلی جزوه خوب هستش اما با استفاده از 3 لینک زیر کامل تر باید بشه.\n",
    "        اولین لینک ویکیپدیا هستش که به شکل خوبی کامله. مخصوصا برای مثال ها و misconception ها\n",
    "        دو لینک دیگه هم برای misconception ها هستش.\n",
    "        <br>\n",
    "        <a>https://en.wikipedia.org/wiki/Confidence_interval</a><br>\n",
    "        <a>https://www.statisticssolutions.com/misconceptions-about-confidence-intervals/</a><br>\n",
    "        <a>https://accendoreliability.com/confidence-interval-interpretations-misunderstandings/</a>\n",
    "    </li>\n",
    "     <br>\n",
    "    حتما با صفحه ویکیپدیا چک کنید تا تمام مطالب لازم پوشش داده بشه.\n",
    "    <br>\n",
    "    ذکر منبع فراموش نشه. (ویکیپدیا منبع نیست)\n",
    "</ul>\n",
    "</div>"
   ]
  }
 ],
 "metadata": {
  "kernelspec": {
   "display_name": "R",
   "language": "R",
   "name": "ir"
  },
  "language_info": {
   "codemirror_mode": "r",
   "file_extension": ".r",
   "mimetype": "text/x-r-source",
   "name": "R",
   "pygments_lexer": "r",
   "version": "3.6.1"
  }
 },
 "nbformat": 4,
 "nbformat_minor": 2
}
