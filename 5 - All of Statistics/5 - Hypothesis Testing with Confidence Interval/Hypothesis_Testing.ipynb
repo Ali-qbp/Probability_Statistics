{
 "cells": [
  {
   "cell_type": "markdown",
   "metadata": {},
   "source": [
    "<div style=\"direction:rtl;line-height:300%;\">\n",
    "\t<font face=\"XB Zar\" size=5>\n",
    "\t\t<div align=center>\n",
    "\t\t\t<font face=\"IranNastaliq\" size=30>\n",
    "\t\t\t\t<p></p>\n",
    "\t\t\t\t<p></p>\n",
    "به نام خدا\n",
    "\t\t\t\t<p></p>\n",
    "\t\t\t</font>\n",
    "\t\t\t<font color=#FF7500>\n",
    "دانشگاه صنعتی شریف - دانشکده مهندسی کامپیوتر\n",
    "            </font>\n",
    "\t\t\t<p></p>\n",
    "\t\t\t<font color=blue>\n",
    "آمار و احتمال مهندسی\n",
    "            </font>\n",
    "\t\t\t<br />\n",
    "\t\t\t<br />\n",
    "پاییز ۱۳۹۸\n",
    "\t\t</div>\n",
    "\t\t<hr/>\n",
    "\t\t<font color=red size=6>\n",
    "\t\t\t<br />\n",
    "\t\t\t<div align=center>\n",
    "                آزمون فرض\n",
    "                </div>\n",
    "\t\t</font>\n",
    "\t\t<br />\n",
    "\t\t<div align=center>\n",
    "              لیلی گلی، غزل ابراهیمی، امینه احمدی نژاد\n",
    "        </div>\n",
    "\t\t<hr />\n",
    "\t\t<style type=\"text/css\" scoped>\n",
    "        p{\n",
    "        border: 1px solid #a2a9b1;background-color: #f8f9fa;display: inline-block;\n",
    "        };\n",
    "        </style>\n",
    "\t\t<div>\n",
    "\t\t\t<h3>فهرست مطالب</h3>\n",
    "\t\t\t<ul style=\"margin-right: 0;\">\n",
    "                <li>\n",
    "\t\t\t\t\t<a href=\"#sec_intro\">\n",
    "                        مقدمه\n",
    "                    </a>\n",
    "\t\t\t\t</li>\n",
    "                <li>\n",
    "\t\t\t\t\t<a href=\"#sec_problem\">\n",
    "                        یک داستان\n",
    "                    </a>\n",
    "\t\t\t\t</li>\n",
    "                <li>\n",
    "\t\t\t\t\t<a href=\"#definitions\">\n",
    "                        تعاریف\n",
    "                    </a>\n",
    "\t\t\t\t</li>\n",
    "                 <li>\n",
    "\t\t\t\t\t<a href=\"#court_error\">\n",
    "                        خطا در دادگاه؟!\n",
    "                    </a>\n",
    "\t\t\t\t</li>\n",
    "                <li>\n",
    "\t\t\t\t\t<a href=\"#error\">\n",
    "                     انواع خطا\n",
    "                    </a>\n",
    "\t\t\t\t</li>\n",
    "                 <li>\n",
    "\t\t\t\t\t<a href=\"#summary\">\n",
    "                     خلاصه\n",
    "                    </a>\n",
    "\t\t\t\t</li>\n",
    "\t\t\t</ul>\n",
    "\t\t</div>\n",
    "\t</font>"
   ]
  },
  {
   "cell_type": "markdown",
   "metadata": {},
   "source": [
    "<p></p>\n",
    "\n",
    "<div id=\"sec_intro\" style=\"direction:rtl;line-height:300%;\">\n",
    "\t<font face=\"XB Zar\" size=5>\n",
    "\t\t<font color=#FF7500 size=6>\n",
    "مقدمه\n",
    "        </font>\n",
    "\t\t<p></p>\n",
    "\t\t<hr>\n",
    "ما در زندگی با فرضیات مختلفی روبه‌رو می‌شویم و می‌خواهیم درست یا غلط بودن این فرضیات را بررسی کنیم.\n",
    "        اغلب اوقات این فرضیه‌ها بیانگر وجود یا عدم وجود رابطه بین دو متغیراند.\n",
    "<br>\n",
    "به‌طور مثال ممکن است شما در زندگی روزمره خود با این جمله که «سرمایه‌گذاری در بازار ارز پرسودتر از سرمایه‌گذاری در بازار سهام است» روبه‌رو شده‌باشید و به این فکر بیفتید که این فرضیه را بررسی کنید و وجود تفاوت بین سرمایه‌گذاری در این دو بازار را نشان‌ دهید. \n",
    "<br> \n",
    "        یا در مثالی دیگر ممکن است بخواهید نشان دهید دانش‌آموزان ساکن پایتخت درصد قبولی بالاتری در کنکور دارند. در این جا شما میخواهید وجود رابطه بین محل سکونت و قبولی کنکور را نشان دهید یا به عبارت دیگر ادعای عدم وجود رابطه میان این دو متغیر را رد کنید.\n",
    " <br>       \n",
    "یا فرض کنید که یک شرکت دارویی دارید و به تازگی داروی جدیدی تولید کرده‌اید. می‌خواهید ببینید که آیا این دارو برای بیماری سرطان مواثر است یا خیر.عدم تاثیر دارو فرضی است که تغییر چندانی در شرایط فعلی ایجاد نمیکند و آن چه شما به دنبال آن هستید رد کردن این فرض و نشان دادن تاثیرگذار بودن این دارو است.\n",
    "<br>\n",
    "        در تمام این مثال‌ها فرضی وجود دارد که اثر يا تفاوت بين متغيرها را انکار میکند به‌طور مثال یکسان بودن سرمایه‌گذاری در بازار ارز و سهام، عدم تاثیر محل  سکونت در قبولی کنکور و بی‌تاثیر بودن دارو بر سرطان. چنین فرض‌هایی فرض پوچ یا فرض صفر ($H_0$) نام دارند و ما در بررسی خود معمولا به دنبال رد این فرضیه و نشان دادن یک فرض جایگزین ($H_1$) هستیم، که معمولا درستی آن برای ما سودمندتر است. در مثال‌های بالا پرسود تر بودن سرمایه‌گذاری در بازار ارز نسبت به بازار سهام،تاثیر محل سکونت در قبولی کنکور وموثر بودن دارو در درمان سرطان، فرض‌های جایگزین هستند که با  رد کردن فرض صفر میتوانیم به آن‌ها برسیم. \n",
    "<br>\n",
    "پس از مشخص کردن هرچه دقیق‌تر فرض صفر و فرض جایگزین در بررسی خود، لازم است که با استفاده از مشاهدات انجام شده به آزمون فرض بپردازیم.\n",
    "<br>\n",
    "برای درک چگونگی روند آزمون فرض داستان زیر را دنبال کنید.\n",
    "   </font>\n",
    "</div>"
   ]
  },
  {
   "cell_type": "markdown",
   "metadata": {},
   "source": [
    "<p></p>\n",
    "<br />\n",
    "<div id=\"sec_problem\" style=\"direction:rtl;line-height:300%;\">\n",
    "\t<font face=\"XB Zar\" size=5>\n",
    "\t\t<font color=#FF7500 size=6>\n",
    "یک داستان\n",
    "        </font>\n",
    "\t\t<p></p>\n",
    "\t\t<hr>\n",
    "       علی یک کلاهبردار حرفه‌ای است. او تصمیم گرفته در کلاهبرداری جدید خود 4 سکه را با ادعای اینکه سکه‌هایی کاملا عادلانه‌اند (احتمال شیر و خط آمدن هریک از آن‌ها دقیقا برابر یک دوم است) به قیمت بالایی بفروشد.حسن به این کسب و کار علی شک میکند و بعد از پیگیری‌های فراوان موفق میشود پای علی و سکه‌هایش را به دادگاه بکشاند.\n",
    "<br>  \n",
    "        در روز دادگاه از علی خواسته میشود که یکی از سکه‌هایش را به عنوان نمونه همراه خود بیاورد. چون علی کمی خوش‌شانس است یکی از سکه‌هایش واقعا یک سکه‌ی عادلانه است اما خود علی که از این موضوع خبر ندارد، یکی از سکه‌ها را به‌صورت تصادفی انتخاب میکند و به دادگاه میبرد.\n",
    "<br>\n",
    "     </font>\n",
    "</div>      "
   ]
  },
  {
   "cell_type": "code",
   "execution_count": 16,
   "metadata": {},
   "outputs": [
    {
     "data": {
      "text/html": [
       "0.2"
      ],
      "text/latex": [
       "0.2"
      ],
      "text/markdown": [
       "0.2"
      ],
      "text/plain": [
       "[1] 0.2"
      ]
     },
     "metadata": {},
     "output_type": "display_data"
    }
   ],
   "source": [
    "choose_coin <- function(){\n",
    "    rand <-sample(1:4,1)\n",
    "    coin_probs <- c(1/3 , 1/4 , 1/2 ,1/5)\n",
    "    coin_probs[rand]  #the coin that Ali randomly chooses\n",
    "  }\n",
    "selected_coin <-choose_coin()\n",
    "selected_coin"
   ]
  },
  {
   "cell_type": "markdown",
   "metadata": {},
   "source": [
    "<div id=\"sec_intro\" style=\"direction:rtl;line-height:300%;\">\n",
    "\t<font face=\"XB Zar\" size=5>\n",
    "از طرفی وکیل حسن که فردی زیرک و مسلط به درس آمار و احتمال است، برای پیروزی در این پرونده سعی کرد ابتدا مسئله‌ی این دادگاه را به زبان آماری برای خود بیان کند. از آنجا که وکیل به دنبال رد عادلانه بودن سکه‌ی علی است، <i>فرض صفر و فرض جایگزین</i> را به صورت زیر تعریف کرد:\n",
    "$$H_{0}  :p = \\frac{1}{2}$$\n",
    "$$H_{1} :p \\neq \\frac{1}{2}$$\n",
    "        که p در آنها احتمال رو آمدن سکه‌ی علی است.\n",
    "<br>\n",
    "    در گام بعدی، وکیل نیاز به مدرکی داشت تا با استفاده از آن عادلانه نبودن سکه‌ی علی را نشان دهد. او پس از تفکر بسیار درمورد اینکه چه ویژگی‌ای از سکه را مورد آزمایش قرار دهد تا مدرک یا به بیان آماری، <i>آماره‌</i>ی مورد نیاز برای رد ادعا‌ی علی را بدست آورد، به این نتیجه رسید : \n",
    "<br>\n",
    "        «اگر سکه‌ی علی را 100 بار پرتاب کنم و تعداد دفعاتی که رو می‌آید نزدیک 50 بار نباشد، مدرک مورد نیاز برای رد ادعای علی را پیدا کرده‌ام. به عبارت دیگر تعداد دفعات رو آمدن سکه در این آزمایش، آماره‌ی مورد نیاز من در این آزمون آماری است.»\n",
    "<br>\n",
    "  در روز دادگاه وکیل آزمایش خود را شرح داده و خواستار انجام آن میشود. قاضی نیز با انجام آزمایش موافقت میکند:\n",
    " <br>\n",
    "    </font>\n",
    "</div>       "
   ]
  },
  {
   "cell_type": "code",
   "execution_count": 17,
   "metadata": {},
   "outputs": [
    {
     "data": {
      "text/html": [
       "19"
      ],
      "text/latex": [
       "19"
      ],
      "text/markdown": [
       "19"
      ],
      "text/plain": [
       "[1] 19"
      ]
     },
     "metadata": {},
     "output_type": "display_data"
    }
   ],
   "source": [
    "test_statistic <- rbinom(1,100,prob = selected_coin)\n",
    "test_statistic\n"
   ]
  },
  {
   "cell_type": "markdown",
   "metadata": {},
   "source": [
    "<div id=\"sec_intro\" style=\"direction:rtl;line-height:300%;\">\n",
    "\t<font face=\"XB Zar\" size=5>\n",
    "        پس از انجام آزمایش و بدست آمدن تعداد دفعاتی که سکه رو آمده است، قاضی در تصمیم‌گیری‌اش دچار شک میشود و خطاب به وکیل میگوید:\n",
    "        «منظور از عبارت \"نزدیک 50 بار نباشد\" چیست؟ چه میزان فاصله‌ی نتیجه‌ی آزمایش از 50، میتواند با سطح اطمینان بالایی ادعای علی را رد کند؟»\n",
    " <br>\n",
    "        وکیل پاسخ میدهد: « چه میزان از اطمینان برای صدور حکم دادگاه نیاز است؟»\n",
    " <br>\n",
    "        قاضی: « 95% اطمینان کافی است.»\n",
    " <br>\n",
    "         سپس وکیل با استفاده از دانش آماری خود توضیح میدهد:« از آن جا که تعداد دفعاتی که سکه رو می‌آید یک متغیر تصادفی حاصل از جمع تعداد زیادی متغیر برنولی مستقل است، با استفاده از قضیه‌ی حد مرکزی میتوانیم بگوییم این متغیر تصادفی از یک توزیع نرمال پیروی میکند. حال اگر ادعای علی درست باشد و سکه عادلانه باشد، داریم:\n",
    "        $$Y_i = \\begin{cases} 1 & \\text{if heads}\\\\ 0 & \\text{otherwise}\\end{cases} $$ \n",
    "        $$X = \\sum_{i=1}^{100} Y_i $$\n",
    "<br>\n",
    "که $Y_i$ نتیجه‌ی پرتاب iام و X تعداد پرتاب‌های رو آمده است.\n",
    "<br>\n",
    "$$ Y_i \\sim \\text{ Bernoulli(p = }\\frac{1}{2}\\text{)}$$\n",
    "$$ E[Y_i] = p = \\frac{1}{2} $$ $$ Var[Y_i] = pq = \\frac{1}{4} $$ \n",
    "<br>\n",
    "پس:\n",
    "<br>\n",
    "$$ E[X] = \\mu = np = 100 \\times \\frac{1}{2} = 50$$\n",
    "$$ Var[X] = \\sigma^{2} = npq = 100 \\times \\frac{1}{4} = 25 $$\n",
    "$$ CLT: X \\sim Normal(\\mu = 50 , \\sigma = 5) $$\n",
    "<br>\n",
    "حال که یک متغیر نرمال داریم میتوانیم از یک تست آماری معروف به نام z-test استفاده کنیم. برای این کار ابتدا متغیر X را به به یک متغیر نرمال استاندارد تبدیل میکنیم:\n",
    "<br>\n",
    "$$ Z = \\frac{X - \\mu}{\\sigma} = \\frac{X - 50}{5} $$\n",
    "$$ Z \\sim Normal(0,1)$$\n",
    "   </font>\n",
    "</div>\n",
    "\n"
   ]
  },
  {
   "cell_type": "code",
   "execution_count": 18,
   "metadata": {},
   "outputs": [
    {
     "data": {
      "text/html": [
       "-6.2"
      ],
      "text/latex": [
       "-6.2"
      ],
      "text/markdown": [
       "-6.2"
      ],
      "text/plain": [
       "[1] -6.2"
      ]
     },
     "metadata": {},
     "output_type": "display_data"
    }
   ],
   "source": [
    "z <- (test_statistic - 0.5*100)/((100*0.5*0.5)**(1/2))\n",
    "z\n"
   ]
  },
  {
   "cell_type": "markdown",
   "metadata": {},
   "source": [
    "<div id=\"sec_intro\" style=\"direction:rtl;line-height:300%;\">\n",
    "\t<font face=\"XB Zar\" size=5>\n",
    "<br>\n",
    "حال Z یک متغیر نرمال استاندارد است. برای Z بازه‌ی اطمینان 95% را میابیم. همانطور که میدانید بازه‌ی اطمینان 95% نشان دهدنده‌ی ناحیه‌ای است که اگر از متغیری که از توزیع نرمال استاندارد پیروی میکند نمونه‌ای بگیریم، به احتمال 95 درصد در این بازه می‌افتد:\n",
    "<br>\n",
    "$$Pr{\\{|Z|< a\\}} = 0.95$$\n",
    "$$a = |\\phi^{-1}(\\frac{1-0.95}{2})| = |\\phi^{-1}(0.25)| = 1.96$$\n",
    "$$ CI = [-1.96,1.96]$$\n",
    "   </font>\n",
    "</div>        \n"
   ]
  },
  {
   "cell_type": "code",
   "execution_count": 19,
   "metadata": {},
   "outputs": [
    {
     "data": {
      "text/html": [
       "1.95996398454005"
      ],
      "text/latex": [
       "1.95996398454005"
      ],
      "text/markdown": [
       "1.95996398454005"
      ],
      "text/plain": [
       "[1] 1.959964"
      ]
     },
     "metadata": {},
     "output_type": "display_data"
    }
   ],
   "source": [
    "threshold <- abs(qnorm(0.025))\n",
    "threshold"
   ]
  },
  {
   "cell_type": "markdown",
   "metadata": {},
   "source": [
    "<div id=\"sec_intro\" style=\"direction:rtl;line-height:300%;\">\n",
    "\t<font face=\"XB Zar\" size=5>\n",
    "<br>\n",
    "پس اگر سکه عادلانه باشد و X واقعا از یک توزیع چندجمله‌ای با p = 0.5 بیاید به تبع آن Z باید یک متغیر نرمال استاندارد باشد و درنتیجه یک نمونه از Z فقط با احتمال 5% خارج از این بازه‌ی اطمینان می‌افتد پس درصورتی که نمونه‌ی گرفته شده بیرون از این بازه قرار بگیرد، با سطح اطمینان 95% میتوانیم ادعای عادلانه بودن سکه را رد کنیم.\n",
    "<br>\n",
    "<img src=\"figs/acceptance_region.png\">\n",
    "   </font>\n",
    "</div>        \n",
    "\n"
   ]
  },
  {
   "cell_type": "code",
   "execution_count": 20,
   "metadata": {},
   "outputs": [
    {
     "name": "stdout",
     "output_type": "stream",
     "text": [
      " H0: The coin is fair \n",
      "Test result on H0: FALSE"
     ]
    }
   ],
   "source": [
    "test_res <- abs(z)<= threshold\n",
    "cat(\" H0: The coin is fair \\nTest result on H0:\",test_res)"
   ]
  },
  {
   "cell_type": "markdown",
   "metadata": {},
   "source": [
    "<div id=\"sec_intro\" style=\"direction:rtl;line-height:300%;\">\n",
    "\t<font face=\"XB Zar\" size=5>\n",
    "<br>\n",
    "اگرچه با بدست آمدن مقدار x پس از 100 بار پرتاب سکه میتوانیم متغیر تصادفی Z را با توجه به نمونه‌ی بدست آمده از X بدست بیاوریم و قرار گرفتن یا نگرفتن آن را در بازه‌ی اطمینان بالا بررسی کنیم، روش ملموس تر بدست آوردن بازه‌ی مورد قبول برای متغیر X  است. برای این کار داریم:\n",
    "<br>\n",
    "$$ -1.96 < Z < 1.96 $$\n",
    "$$ -1.96 < \\frac{X - \\mu}{\\sigma} < 1.96 $$\n",
    "$$ -1.96 <  \\frac{X - 50}{5} < 1.96 $$\n",
    "$$ 40.2 < X < 49.8 $$\n",
    "<br>\n",
    "پس اگر سکه بیش از 59 بار یا کمتر از 41 بار رو بیاید ادعای علی را رد میکنیم.»\n",
    "<br>\n",
    "قاضی که با توضیحات وکیل قانع شده بود با توجه به تعداد سکه‌های رو آمده حکم علی را صادر کرد.\n",
    "<br>\n",
    "        شما نیز میتوانید با اجرای قطعه کد زیر روند کامل دادگاه را، از ابتدا تا انتها طی کنید و از حکم علی مطلع شوید!\n",
    "     </font>\n",
    "</div>      "
   ]
  },
  {
   "cell_type": "code",
   "execution_count": 22,
   "metadata": {},
   "outputs": [
    {
     "name": "stdout",
     "output_type": "stream",
     "text": [
      " The true p in probability distribution of the coin Ali first chose was: 0.25 \n",
      " number of heads: 30 \n",
      " The judge decided Ali is guily!"
     ]
    }
   ],
   "source": [
    "judge <- function(selected_coin,coin_result,test_res){\n",
    "    court_res <- paste(\" The true p in probability distribution of the coin Ali first chose was:\", selected_coin,\"\\n\")\n",
    "    court_res <- paste(court_res,\"number of heads:\",coin_result,\"\\n\")\n",
    "    if(test_res){\n",
    "      court_res <- paste(court_res,\"The judge decided Ali is not guilty!\")\n",
    "    }else{\n",
    "      court_res <- paste(court_res,\"The judge decided Ali is guily!\")\n",
    "    }\n",
    "    return(court_res)\n",
    "  }\n",
    "  court_trial <- function(print, en){\n",
    "     selected_coin <- choose_coin()   #Ali chooses a coin\n",
    "     coin_result = rbinom(1,100,prob = selected_coin)   #flipping the coin 100 times\n",
    "     z <- (coin_result - 0.5*100)/((100*0.5*0.5)**(1/2)) #calculating z\n",
    "     threshold <-  abs(qnorm(0.025))   #finding the bounds of CI\n",
    "     test_res <- abs(z) <= threshold   #deciding the result\n",
    "     \n",
    "     if(print == 1){\n",
    "       full_res<-categorize_res(test_res, selected_coin)\n",
    "         if(en){\n",
    "           cat(full_res[1])}\n",
    "       return(full_res[2])\n",
    "         \n",
    "     }else if(print == 2){\n",
    "       cat(judge(selected_coin,coin_result,test_res))\n",
    "     }\n",
    "     \n",
    "     }\n",
    "\n",
    "court_trial(2,TRUE)"
   ]
  },
  {
   "cell_type": "markdown",
   "metadata": {},
   "source": [
    "<p></p>\n",
    "<br />\n",
    "<div id=\"definitions\" style=\"direction:rtl;line-height:300%;\">\n",
    "\t<font face=\"XB Zar\" size=5>\n",
    "\t\t<font color=#FF7500 size=6>\n",
    "تعاریف\n",
    "</font>\n",
    "\t\t<p></p>\n",
    "        فرض صفر(or null hypothesis $H_0$): فرضی است که ما درمورد پذیرش یا عدم پذیرش آن بحث میکنیم و معمولا وجود رابطه یا تفاوت میان دو متغیر را انکار میکند. در اکثر موارد ما به دنبال رد این فرض هستیم. \n",
    "        <br>\n",
    "        فرض جایگزین (or alternative hypothesis $H_1$): فرضی است که درصورت رد کردن فرض صفر آن را قبول میکنیم.\n",
    "\t\t<br>\n",
    "        آماره: متغیری است که از داده‌ی مشاهده شده بدست می‌آوریم و با استفاده از آن میتوانیم طی یک آزمون آماری شواهد کافی برای پذیرش یا عدم پذیرش فرض صفر را بدست بیاوریم.\n",
    "        <br>\n",
    "        <img src=\"figs/null_hypothesis.jpg\">\n",
    "        <br>\n",
    "        آزمون آماری: روشی ارائه میکند تا تصمیم‌گیری درمورد یک فرضیه را با استفاده از شواهد موجود ممکن سازد. هدف از یک آزمون آماری تشخیص این موضوع است که آیا شواهد موجود برای رد فرض صفر کافی است یا خیر. آزمون‌های آماری معروف بسیاری وجود دارد که در آینده با برخی از آن‌ها آشنا خواهید شد. در داستان بالا با آزمون آماری z یا z-test آشنا شدید.\n",
    "        <br>\n",
    "        ناحیه رد (rejection region): ناحیه‌ای است که اگر آماره (یا متغیر بدست آمده از آماره) در آن قرار گیرد فرض صفر را رد میکنیم.\n",
    "        <br>\n",
    "        ناحیه قبول (acceptance region): ناحیه‌ای است که اگر آماره (یا متغیر بدست آمده از آماره) در آن قرار گیرد فرض صفر را نمیتوانیم رد کنیم.\n",
    "        <br>\n",
    "        مقدار بحرانی (critical point): نقطه‌ای از توزیع مورد آزمون است که با آماره مقایسه میشود تا تصمیم نهایی درمورد فرض صفر گرفته شود.\n",
    "        <br>\n",
    "        <img src=\"figs/critical_value.png\">\n",
    "    </font>\n",
    "</div>       "
   ]
  },
  {
   "cell_type": "markdown",
   "metadata": {},
   "source": [
    "<p></p>\n",
    "<br />\n",
    "<div id=\"court_error\" style=\"direction:rtl;line-height:300%;\">\n",
    "\t<font face=\"XB Zar\" size=5>\n",
    "\t\t<font color=#FF7500 size=6>\n",
    "خطا در دادگاه؟!\n",
    "</font>\n",
    "\t\t<p></p>\n",
    "\t\t<hr>\n",
    "          آن روز در دادگاه بخت با علی یار نبود و قاضی او را گناهکار اعلام کرد. علی که ترسیده بود اعتراض کرد و گفت: « شاید دیدن این تعداد شیر کاملا شانسی باشد! حتی سکه‌ای که کاملا عادلانه باشد هم ممکن است در یک آزمایش تعداد دفعاتی که رو می‌آید نزدیک به نصف نباشد! من نتیجه‌ی این آزمون را نمی‌پذیرم!»\n",
    "        <br>\n",
    "وکیل که انتظار چنین واکنشی را داشت پاسخ داد: « وقتی آماره‌ی مورد بررسی ما، یعنی تعداد دفعاتی که سکه رو آمده است، در بازه‌ی اطمینان 95 درصدی، که از توزیع نرمال مطابق با روند بالا بدست آوردیم، قرار نگرفت این مفهوم را میرساند که <i>اگر سکه عادلانه بود فقط 5 درصد احتمال میرفت که نتیجه‌ی آزمایش در ناحیه بیرون از بازه‌ی اطمینان(ناحیه‌ی رد) قرار بگیرد، پس با سطح اطمینان 95 درصد میتوانیم عادلانه بودن سکه را رد کنیم. اما همانطور که گفته‌شد 5 درصد احتمال دارد که سکه واقعا عادلانه باشد و ما به اشتباه ادعای علی را رد کرده باشیم که به چنین خطایی، خطای نوع اول میگویند و احتمال وقوع این خطا را سطح معنی دار یا $\\alpha$  میگویند که در این مورد 0.05 است. </i>از طرفی قاضی در ابتدای محاکمه مشخص کرد که 95 درصد اطمینان برای تصمیم‌گیری در این دادگاه کافی است پس حکم علی معتبر است.»\n",
    "        <br>\n",
    "        قاضی که از توضیحات طولانی وکیل چیزی نفهمیده بود حکم تکرار دوباره‌ی آزمایش را داد. این‌بار نتیجه‌ی آزمایش در بازه‌ی اطمینان قرار گرفت و باعث اعتراض وکیل شد! این‌بار گفت: « جناب قاضی! من ادعا دارم که ما دچار خطای نوع دوم شده‌ایم و خواستار تکرار آزمایش هستم!<i> در یک آزمون آماری ممکن است با وجود نادرست بودن فرض صفر، یعنی عادلانه بودن سکه، آماره درون بازه‌ی اطمینان قراربگیرد و ما نتوانیم فرض صفر را رد کنیم. به چنین خطایی ، خطای نوع دوم میگویند و احتمال وقوع آن را با $\\beta$ نشان میدهند.</i>»\n",
    "        <br>\n",
    "   قاضی که از این دادگاه خسته شده بود حکم کرد که آزمایش را 1000 بار تکرار کنند و مطابق با مجموع نتیجه‌ها حکم علی را صادر کنند!\n",
    "        <br>\n",
    "         شما نیز میتوانید با اجرای چند قطعه کد زیر ابتدا با چگونگی خطای نوع اول و دوم آشنا شوید سپس از سرنوشت علی و نتیجه‌ی آزمون‌ها مطلع شوید.\n",
    "        \n",
    "</div>\n",
    "\n"
   ]
  },
  {
   "cell_type": "code",
   "execution_count": 23,
   "metadata": {},
   "outputs": [
    {
     "name": "stdout",
     "output_type": "stream",
     "text": [
      "H0: The coin is fair \n",
      "Test result on H0: TRUE \n",
      " The true p in probability distribution of the coin was: 0.5 \n",
      " The test did a great job!"
     ]
    },
    {
     "data": {
      "text/html": [
       "'0'"
      ],
      "text/latex": [
       "'0'"
      ],
      "text/markdown": [
       "'0'"
      ],
      "text/plain": [
       "[1] \"0\""
      ]
     },
     "metadata": {},
     "output_type": "display_data"
    }
   ],
   "source": [
    " categorize_res <- function(test_res, used_prob){\n",
    "    res_num <- 0\n",
    "    res<-paste(\"H0: The coin is fair \\nTest result on H0:\",test_res,\"\\n\")\n",
    "    res<-paste(res,\"The true p in probability distribution of the coin was:\", used_prob,\"\\n\")\n",
    "    if(!test_res && used_prob==0.5){\n",
    "      res<-paste(res,\"The test failed with Error type 1, true probability was\",used_prob,\"but the test results were:\",test_res)\n",
    "      res_num <-1\n",
    "      }else if(test_res && used_prob!=0.5){\n",
    "      res<-paste(res,\"The test failed with Error type 2, true probability was\",used_prob,\"but the test results were:\",test_res)\n",
    "      res_num <-2\n",
    "      }else{\n",
    "      res<-paste(res,\"The test did a great job!\")\n",
    "      if(!test_res){\n",
    "        res_num <- -1\n",
    "      }\n",
    "    }\n",
    "    return(c(res,res_num))\n",
    "  }\n",
    "court_trial(1,TRUE)\n",
    "\n"
   ]
  },
  {
   "cell_type": "code",
   "execution_count": 24,
   "metadata": {},
   "outputs": [
    {
     "name": "stdout",
     "output_type": "stream",
     "text": [
      "Ali is guilty"
     ]
    }
   ],
   "source": [
    "rep <- function(){\n",
    "  err_one <- 0\n",
    "  err_two <- 0\n",
    "  right_true <- 0\n",
    "  right_false <- 0\n",
    "  for (i in 1:1000){\n",
    "    result <- court_trial(1,FALSE)\n",
    "    if(result == -1){\n",
    "      right_false<-right_false+1\n",
    "    }else if(result ==0){\n",
    "      right_true <- right_true+1\n",
    "    }else if(result ==1){\n",
    "      err_one <- err_one+1\n",
    "    }else{\n",
    "      err_two <- err_two+1\n",
    "    }\n",
    "  } \n",
    "  alpha <-  err_one/(err_one+right_true)\n",
    "  beta <- err_two/(err_two+right_false)\n",
    "  power <- right_false/(err_two+right_false)\n",
    "  if(right_true+err_two > right_false + err_one){\n",
    "      r = \"Ali is not guilty\"\n",
    "  }else{\n",
    "      r = \"Ali is guilty\"\n",
    "  }    \n",
    "  return(c(r,alpha,beta,power))\n",
    "}\n",
    "rep_res <- rep()\n",
    "cat(rep_res[1])    \n"
   ]
  },
  {
   "cell_type": "code",
   "execution_count": 25,
   "metadata": {},
   "outputs": [
    {
     "name": "stdout",
     "output_type": "stream",
     "text": [
      "alpha estimator (percentage of error 1 in this test):  0.0688259109311741 \n",
      " beta estimator (percentage of error 2 in this test):  0.0239043824701195 \n",
      " power estimator:  0.97609561752988"
     ]
    }
   ],
   "source": [
    "cat(\"alpha estimator (percentage of error 1 in this test): \",rep_res[2],\"\\n beta estimator (percentage of error 2 in this test): \", rep_res[3], \n",
    "    \"\\n power estimator: \",rep_res[4])"
   ]
  },
  {
   "cell_type": "markdown",
   "metadata": {},
   "source": [
    "<div id=\"court_error\" style=\"direction:rtl;line-height:300%;\">\n",
    "\t<font face=\"XB Zar\" size=5>\n",
    "<br>\n",
    "همچنین میتوانید میزان $\\alpha$  و $\\beta$  را در 100 بار تکرار کد بالا در نمودار زیر بببینید.\n",
    "   </font>\n",
    "</div>"
   ]
  },
  {
   "cell_type": "code",
   "execution_count": 26,
   "metadata": {},
   "outputs": [
    {
     "data": {
      "image/png": "[encoded data removed]",
      "text/plain": [
       "plot without title"
      ]
     },
     "metadata": {},
     "output_type": "display_data"
    }
   ],
   "source": [
    "alphas = c()\n",
    "betas = c()\n",
    "for(i in 1:100){\n",
    "   res <- rep()\n",
    "   alphas <- c(alphas,res[2])\n",
    "   betas <- c(betas,res[3])\n",
    "}\n",
    "plot(alphas,col = \"red\", ylim = c(0,0.2), ylab = \"alpha and beta\")\n",
    "par(new=TRUE)\n",
    "plot(betas, col= \"blue\", ylim = c(0,0.2), ylab = \"alpha and beta\" )\n"
   ]
  },
  {
   "cell_type": "markdown",
   "metadata": {},
   "source": [
    "<p></p>\n",
    "<br />\n",
    "<div id=\"error\" style=\"direction:rtl;line-height:300%;\">\n",
    "\t<font face=\"XB Zar\" size=5>\n",
    "\t\t<font color=#FF7500 size=6>\n",
    "انواع خطا\n",
    "</font>\n",
    "\t\t<p></p>\n",
    "\t\t<hr>\n",
    "        <img src=\"figs/errors.jpg\" style=\"float:center; width:50%\"/>\n",
    "        <br>\n",
    "    خطای نوع اول (type one error): رد کردن فرض صفر درصورتی که فرض صفر واقعا درست است. احتمال وقوع این خطا را با $\\alpha$ نشان میدهند و سطح معنی‌دار (level of significance) مینامند. برابر بودن سطح معنی‌دار با $\\alpha$ ، معادل انجام آزمون با سطح اطمینان $1-\\alpha$ است.\n",
    "        <br>\n",
    "        خطای نوع دوم ( type two error): ناتوانی در رد کردن فرض صفر درصورتی که فرض صفر واقعا نادرست باشد. احتمال وقوع این خطا را با $\\beta$ نشان میدهند. همچنین $1-\\beta$ توان یا power نام دارد که نشان‌دهنده‌ی توانایی آزمون در رد کردن فرض نادرست یا احتمال رد کردن فرض صفر زمانی که واقعا نادرست است میباشد.\n",
    "        <br>\n",
    " <img src=\"figs/table.png\" style=\"float:center; width:50%\"/>\n",
    "    </font>\n",
    "</div>"
   ]
  },
  {
   "cell_type": "markdown",
   "metadata": {},
   "source": [
    "<div style=\"direction:rtl;line-height:300%;\">\n",
    "\t<font face=\"XB Zar\" size=5>\n",
    "\t\t<font color=blue size=6>\n",
    "کنجکاوی:\n",
    "        </font><br/>\n",
    "فرض کنید پس از انجام یک آزمون آماری آماره در ناحیه‌ی رد قرار گرفته است، آیا جمله‌ی زیر صحیح است؟\n",
    "        <br>\n",
    "        « اگر فرض صفر برقرار باشد فقط $\\alpha$ درصد احتمال دارد آماره خارج از بازه‌ی اطمینان قرار گیرد پس حال که آماره در ناحیه رد قرار گرفته است، با احتمال 95% فرض جایگزین درست است.»\n",
    "        <br>\n",
    "        (راهنمایی: به احتمال شرطی و قانون بیز بیندیشید!)\n",
    "\t</font>\n",
    "</div>"
   ]
  },
  {
   "cell_type": "markdown",
   "metadata": {},
   "source": [
    "<div style=\"direction:rtl;line-height:300%;\">\n",
    "\t<font face=\"XB Zar\" size=5>\n",
    "\t\t<font color=blue size=6>\n",
    "چند نکته مهم:\n",
    "        </font><br/>\n",
    "        -  همانطور که در بالا گفته شد، هدف از انجام آزمون آماری معمولا رد کردن فرض صفر است و اگر نتیجه‌ی آزمون آنقدر افراطی باشد که دیگر نتوانیم فرض صفر را بپذیریم، آن را رد میکنیم. اما اگر نتیجه‌ی آزمون معقول باشد یعنی آماره در ناحیه‌ی قبول قرار گیرد نمیتوانیم بگوییم که فرض صفر را میپذیریم زیرا که صرفا آزمون ما شواهد و مدارک کافی برای رد فرض صفر را ارائه نکرده است و  این به این معنی نیست که شاهدی بر درستی فرض صفر آورده باشیم. در این مواقع معمولا گفته میشود توانایی رد کردن فرض صفر را نداریم، اگرچه گاهی برای سادگی از عبارت پذیرفتن نیز استفاده میشود.\n",
    "        <br>\n",
    "        - انتخاب سطح معنی‌دار بر عهده‌ی فردی است که آزمون را انجام میدهد و از هیچ قانون خاصی پیروی نمیکند. هرچه سطح معنی‌دار کمتر باشد آزمون معتبرتر است. سطوح معنی‌دار مرسوم 5 و 10 درصد است و معمولا در موضوعات علمی از این مقادیر استفاده میشود.\n",
    "\t</font>\n",
    "</div>"
   ]
  },
  {
   "cell_type": "markdown",
   "metadata": {},
   "source": [
    "<p></p>\n",
    "<br />\n",
    "<div id=\"summary\" style=\"direction:rtl;line-height:300%;\">\n",
    "\t<font face=\"XB Zar\" size=5>\n",
    "\t\t<font color=#FF7500 size=6>\n",
    "خلاصه\n",
    "</font>\n",
    "\t\t<p></p>\n",
    "        <hr>\n",
    "        -  آزمون فرض روشی علمی است برای بررسی فرضیات.\n",
    "        <br>\n",
    "        - آزمون فرض 5 مرحله دارد:\n",
    "        <br>\n",
    "        1- تشخیص فرض صفر و فرض جایگزین\n",
    "        <br>\n",
    "        2- بدست آوردن آماره مناسب از مشاهدات\n",
    "        <br>\n",
    "        3- مشخص کردن سطح معنی‌دار\n",
    "        <br>\n",
    "        4- انتخاب آزمون آماری مناسب\n",
    "        <br>\n",
    "        5- رد کردن یا عدم توانایی در رد کردن با توجه به نتیجه‌ی آزمون آماری\n",
    "        <br>\n",
    "        - آزمون فرض ممکن است دچار دو نوع خطا شود:\n",
    "        <br>\n",
    "        1- خطای نوع اول ($\\alpha$)\n",
    "        <br>\n",
    "        2- خطای نوع دوم ($\\beta$)\n",
    "        <br>\n",
    "        \n",
    "  </font>\n",
    "        </div>\n",
    "\t\t"
   ]
  },
  {
   "cell_type": "markdown",
   "metadata": {},
   "source": [
    "<p></p>\n",
    "<br/>\n",
    "<div id=\"sec_refs\" style=\"direction:rtl;line-height:300%;\">\n",
    "\t<font face=\"XB Zar\" size=5>\n",
    "\t\t<font color=#FF7500 size=6>\n",
    "منابع\n",
    "        </font>\n",
    "\t\t<hr>       \n",
    "        <ul>\n",
    "            <li>\n",
    "            Statictical Models, A.C. Davison, Chapter 7\n",
    "            </li>\n",
    "            <li>\n",
    "                https://www.probabilitycourse.com/chapter9/9_1_8_bayesian_hypothesis_testing.php\n",
    "            </li>\n",
    "            <li>\n",
    "                https://newonlinecourses.science.psu.edu/stat502/node/139/\n",
    "            <\\li>\n",
    "            <li>\n",
    "                https://www.statisticshowto.datasciencecentral.com/probability-and-statistics/hypothesis-testing/#HTExamples\n",
    "            <\\li> \n",
    "            <li>\n",
    "                https://opentextbc.ca/researchmethods/chapter/understanding-null-hypothesis-testing/\n",
    "            <\\li>    \n",
    "            <li>\n",
    "            https://ocw.mit.edu/courses/mathematics/18-05-introduction-to-probability-and-statistics-spring-2014/readings/MIT18_05S14_Reading17a.pdf\n",
    "            </li>\n",
    "            <li>\n",
    "            https://ocw.mit.edu/courses/mathematics/18-05-introduction-to-probability-and-statistics-spring-2014/readings/MIT18_05S14_Reading17b.pdf\n",
    "            </li>\n",
    "            <li>\n",
    "            https://ocw.mit.edu/courses/mathematics/18-05-introduction-to-probability-and-statistics-spring-2014/readings/MIT18_05S14_Reading18.pdf\n",
    "            </li>\n",
    "            <li>\n",
    "            https://ocw.mit.edu/courses/mathematics/18-05-introduction-to-probability-and-statistics-spring-2014/readings/MIT18_05S14_Reading19.pdf\n",
    "            </li>\n",
    "            <li>\n",
    "                https://ocw.mit.edu/courses/mathematics/18-05-introduction-to-probability-and-statistics-spring-2014/readings/MIT18_05S14_Reading20.pdf\n",
    "            </li>\n",
    "        </ul> \n",
    "\t</font>\n",
    "</div>"
   ]
  },
  {
   "cell_type": "code",
   "execution_count": null,
   "metadata": {},
   "outputs": [],
   "source": []
  }
 ],
 "metadata": {
  "kernelspec": {
   "display_name": "R",
   "language": "R",
   "name": "ir"
  },
  "language_info": {
   "codemirror_mode": "r",
   "file_extension": ".r",
   "mimetype": "text/x-r-source",
   "name": "R",
   "pygments_lexer": "r",
   "version": "3.5.1"
  }
 },
 "nbformat": 4,
 "nbformat_minor": 2
}
