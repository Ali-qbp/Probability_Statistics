{
 "cells": [
  {
   "cell_type": "markdown",
   "metadata": {},
   "source": [
    "### Stat98"
   ]
  },
  {
   "cell_type": "markdown",
   "metadata": {},
   "source": [
    "<div dir=rtl>\n",
    "<ul>\n",
    "    <li>\n",
    "        از پکیج tidyr استفاده نشه لطفا و از خود پایه R استفاده بشه\n",
    "    </li>\n",
    "    <li>\n",
    "        عکس ها و دیتا توی پوشه source قرار بگیره\n",
    "    </li>\n",
    "    <li>\n",
    "        نکات گفته شده کامل هستند اما می خواستیم تو این جزوه بیشتر به موارد برداشت های اشتباه در مورد p-value پرداخته بشه.\n",
    "        <br>\n",
    "        از منابع مثل لینک های زیر و یا کتاب و سایت های مشابه استفاده بشه\n",
    "        <br>\n",
    "        <a>https://en.wikipedia.org/wiki/Misuse_of_p-values</a>\n",
    "        <br>\n",
    "        <a>https://www.ncbi.nlm.nih.gov/pmc/articles/PMC5804470/pdf/mjiri-31-65.pdf</a>\n",
    "        <br>\n",
    "        و ...\n",
    "    </li>\n",
    "</ul>\n",
    "</div>    "
   ]
  }
 ],
 "metadata": {
  "kernelspec": {
   "display_name": "Python 3",
   "language": "python",
   "name": "python3"
  },
  "language_info": {
   "codemirror_mode": {
    "name": "ipython",
    "version": 3
   },
   "file_extension": ".py",
   "mimetype": "text/x-python",
   "name": "python",
   "nbconvert_exporter": "python",
   "pygments_lexer": "ipython3",
   "version": "3.6.5"
  }
 },
 "nbformat": 4,
 "nbformat_minor": 4
}
