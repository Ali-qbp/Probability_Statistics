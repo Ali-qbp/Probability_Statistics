{
 "cells": [
  {
   "cell_type": "markdown",
   "metadata": {},
   "source": [
    "# بازخورد اول ۲۶ مهر"
   ]
  },
  {
   "cell_type": "markdown",
   "metadata": {},
   "source": [
    "<div dir=rtl>\n",
    "<ul>\n",
    "        <li>\n",
    "اول این که مرسی برای این جزوه عزیز :)\n",
    "    </li>\n",
    "    <li>\n",
    "مقدمه خیلی عالیه.\n",
    "    </li>\n",
    "    <li>\n",
    "        نمیدونم چرا تو کامپیوتر من بین جدول و متن بالاش خیییییلی فاصله میفاته.\n",
    "</li>\n",
    "        <li>\n",
    "به نظرم توزیع شرطی مثال میخواد. هم پیوسته و هم گسسته رو خوبه به صورت نمودرای ببینن داره چه اتفاقی میافته. یه همچین شکل‌هایی:<br>\n",
    "    https://python-graph-gallery.com/wp-content/uploads/82_seaborn_jointplot1.png\n",
    "            <br>\n",
    "            https://cdn-images-1.medium.com/max/1600/0*6tJ3GqBwKX21H1wJ.png\n",
    "    </li>\n",
    "        <li>\n",
    "            فکر کنم مثال توزیع شرطی گسسته خیلی خوب نیست. یعنی احساس می‌کنم جذاب نیست چون معلومه که هم احتمالن و آموزنده هم نیست.\n",
    "</li>\n",
    "        <li>\n",
    "            برای توزیع شرطی پیوسته خوبه نموداری توزیع و توزیع شرطی رو ببینن.\n",
    "</li>\n",
    "        <li>\n",
    "            تو جلسه قرار بود توزیع شرطی و توزیع مارجینال رو توی یک شکل ببینن آخر جزوه دیگه ؛)\n",
    "</li>\n",
    "       <li>\n",
    "           خوبه رنگ عبارت «مثال» عوض شه و قبلشون هم فاصله بیاد که معلوم شه مثال شروع شده. بعلاوه خوبه توی یک بلاک جدا بیان.\n",
    "</li>\n",
    "</ul>\n",
    "</div>"
   ]
  },
  {
   "cell_type": "code",
   "execution_count": null,
   "metadata": {
    "collapsed": true
   },
   "outputs": [],
   "source": []
  }
 ],
 "metadata": {
  "kernelspec": {
   "display_name": "R",
   "language": "R",
   "name": "ir"
  },
  "language_info": {
   "codemirror_mode": "r",
   "file_extension": ".r",
   "mimetype": "text/x-r-source",
   "name": "R",
   "pygments_lexer": "r",
   "version": "3.5.1"
  },
  "latex_envs": {
   "LaTeX_envs_menu_present": true,
   "autoclose": false,
   "autocomplete": true,
   "bibliofile": "biblio.bib",
   "cite_by": "apalike",
   "current_citInitial": 1,
   "eqLabelWithNumbers": true,
   "eqNumInitial": 1,
   "hotkeys": {
    "equation": "Ctrl-E",
    "itemize": "Ctrl-I"
   },
   "labels_anchors": false,
   "latex_user_defs": false,
   "report_style_numbering": false,
   "user_envs_cfg": false
  },
  "toc": {
   "base_numbering": 1,
   "nav_menu": {},
   "number_sections": true,
   "sideBar": true,
   "skip_h1_title": false,
   "title_cell": "Table of Contents",
   "title_sidebar": "Contents",
   "toc_cell": false,
   "toc_position": {},
   "toc_section_display": true,
   "toc_window_display": false
  },
  "varInspector": {
   "cols": {
    "lenName": 16,
    "lenType": 16,
    "lenVar": 40
   },
   "kernels_config": {
    "python": {
     "delete_cmd_postfix": "",
     "delete_cmd_prefix": "del ",
     "library": "var_list.py",
     "varRefreshCmd": "print(var_dic_list())"
    },
    "r": {
     "delete_cmd_postfix": ") ",
     "delete_cmd_prefix": "rm(",
     "library": "var_list.r",
     "varRefreshCmd": "cat(var_dic_list()) "
    }
   },
   "types_to_exclude": [
    "module",
    "function",
    "builtin_function_or_method",
    "instance",
    "_Feature"
   ],
   "window_display": false
  }
 },
 "nbformat": 4,
 "nbformat_minor": 2
}
