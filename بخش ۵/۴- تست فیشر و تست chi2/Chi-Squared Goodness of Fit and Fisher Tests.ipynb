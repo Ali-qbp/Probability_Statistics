{
 "cells": [
  {
   "cell_type": "markdown",
   "metadata": {},
   "source": [
    "<div style=\"direction:rtl;line-height:300%;\">\n",
    "\t<font face=\"XB Zar\" size=5>\n",
    "\t\t<div align=center>\n",
    "\t\t\t<font face=\"IranNastaliq\" size=30>\n",
    "\t\t\t\t<p></p>\n",
    "\t\t\t\t<p></p>\n",
    "به نام خدا\n",
    "\t\t\t\t<p></p>\n",
    "\t\t\t</font>\n",
    "\t\t\t<font color=#FF7500>\n",
    "دانشگاه صنعتی شریف - دانشکده مهندسی کامپیوتر\n",
    "            </font>\n",
    "\t\t\t<p></p>\n",
    "\t\t\t<font color=blue>\n",
    "آمار و احتمال مهندسی\n",
    "            </font>\n",
    "\t\t\t<br />\n",
    "\t\t\t<br />\n",
    "پاییز ۱۳۹۷\n",
    "\t\t</div>\n",
    "\t\t<hr/>\n",
    "\t\t<font color=red size=6>\n",
    "\t\t\t<br />\n",
    "\t\t\t<div align=center>\n",
    "آمار و احتمال شیرین\n",
    "            </div>\n",
    "\t\t</font>\n",
    "\t\t<br />\n",
    "\t\t<div align=center>\n",
    "صدرا صفادوست و احمدرضا یوسفخانی\n",
    "        </div>\n",
    "\t\t<hr />\n",
    "\t\t<style type=\"text/css\" scoped>\n",
    "        p{\n",
    "        border: 1px solid #a2a9b1;background-color: #f8f9fa;display: inline-block;\n",
    "        };\n",
    "        </style>\n",
    "\t\t<div>\n",
    "\t\t\t<h3>فهرست مطالب</h3>\n",
    "\t\t\t<ul style=\"margin-right: 0;\">\n",
    "                <li>\n",
    "\t\t\t\t\t<a href=\"#sec_intro\">\n",
    "                        مقدمه\n",
    "                    </a>\n",
    "\t\t\t\t</li>\n",
    "                <li>\n",
    "\t\t\t\t\t<a href=\"#sec_horses_problem\">\n",
    "مساله اسب‌ها                    </a>\n",
    "\t\t\t\t</li>\n",
    "                <li>\n",
    "\t\t\t\t\t<a href=\"#sec_chi2_test\">\n",
    "                        آزمون Chi-Squared\n",
    "                    </a>\n",
    "\t\t\t\t</li>\n",
    "                <li>\n",
    "\t\t\t\t\t<a href=\"#sec_horses_again\">\n",
    "بازگشت به مسئله اسب‌ها\n",
    "                    </a>\n",
    "\t\t\t\t</li>\n",
    "                <li>\n",
    "                    <a href=\"#sec_unfair_dice\">\n",
    "                        تاس ناسالم\n",
    "                    </a>\n",
    "                </li>\n",
    "                <li>\n",
    "                    <a href=\"#sec_fisher\">\n",
    "                        آزمون دقیق فیشر\n",
    "                    </a>\n",
    "                </li>\n",
    "                <li>\n",
    "                    <a href=\"#sec_purpose\">\n",
    "                        هدف آزمون فیشر\n",
    "                    </a>\n",
    "                </li>\n",
    "                <li>\n",
    "                    <a href=\"#sec_pvalue\">\n",
    "                        استفاده از آزمون فیشر\n",
    "                    </a>\n",
    "                </li>\n",
    "                <li>\n",
    "\t\t\t\t\t<a href=\"#sec_conc\">\n",
    "خلاصه و نتیجه‌گیری\n",
    "                    </a>\n",
    "\t\t\t\t</li>\n",
    "                <li>\n",
    "\t\t\t\t\t<a href=\"#sec_refs\">\n",
    "منابع\n",
    "                    </a>\n",
    "                </li>\n",
    "\t\t\t</ul>\n",
    "\t\t</div>\n",
    "\t</font>\n",
    "</div>"
   ]
  },
  {
   "cell_type": "markdown",
   "metadata": {},
   "source": [
    "<p></p>\n",
    "<br />\n",
    "<div id=\"sec_intro\" style=\"direction:rtl;line-height:300%;\">\n",
    "\t<font face=\"XB Zar\" size=5>\n",
    "\t\t<font color=#FF7500 size=6>\n",
    "مقدمه\n",
    "        </font>\n",
    "\t\t<p></p>\n",
    "\t\t<hr>\n",
    "        یکی از اولین استفاده‌ها از توزیع پواسون برروی داده‌های واقعی به سال 1898 برمی‌گردد. در این سال یک آماردان روسی به نام \n",
    "Ladislaus Bortkiewicz کتابی به نام \"قانون اعداد کوچک\" منتشر کرد که در آن به بررسی توزیع پواسون پرداخت. او در این کتاب داده‌های مربوط به تعداد سربازانی که بر اثر ضربه اسب کشته‌شده‌اند، را بررسی کرد و آن را با یک توزیع پواسون مدل کرد. می‌خواهیم ببینیم آیا مدل پواسون وی، مدل مناسبی است یا خیر. \n",
    "    </font>\n",
    "</div>"
   ]
  },
  {
   "cell_type": "markdown",
   "metadata": {},
   "source": [
    "<p></p>\n",
    "<br />\n",
    "<div id=\"sec_horses_problem\" style=\"direction:rtl;line-height:300%;\">\n",
    "\t<font face=\"XB Zar\" size=5>\n",
    "\t\t<font color=#FF7500 size=6>\n",
    "مساله اسب‌ها        </font>\n",
    "\t\t<p></p>\n",
    "\t\t<hr>\n",
    "        Bortkiewicz از داده‌های 14 لشگر که در طول 20 سال جمع آوری شده بود استفاده کرد. این داده‌ها به شکل زیر است: \n",
    "        (<a href=\"http://www.randomservices.org/random/data/HorseKicks.html\"> منبع </a>) \n",
    "    </font>\n",
    "</div>"
   ]
  },
  {
   "cell_type": "code",
   "execution_count": 65,
   "metadata": {},
   "outputs": [
    {
     "data": {
      "text/html": [
       "<table>\n",
       "<thead><tr><th scope=col>Year</th><th scope=col>GC</th><th scope=col>C1</th><th scope=col>C2</th><th scope=col>C3</th><th scope=col>C4</th><th scope=col>C5</th><th scope=col>C6</th><th scope=col>C7</th><th scope=col>C8</th><th scope=col>C9</th><th scope=col>C10</th><th scope=col>C11</th><th scope=col>C14</th><th scope=col>C15</th></tr></thead>\n",
       "<tbody>\n",
       "\t<tr><td>1875</td><td>0   </td><td>0   </td><td>0   </td><td>0   </td><td>0   </td><td>0   </td><td>0   </td><td>1   </td><td>1   </td><td>0   </td><td>0   </td><td>0   </td><td>1   </td><td>0   </td></tr>\n",
       "\t<tr><td>1876</td><td>2   </td><td>0   </td><td>0   </td><td>0   </td><td>1   </td><td>0   </td><td>0   </td><td>0   </td><td>0   </td><td>0   </td><td>0   </td><td>0   </td><td>1   </td><td>1   </td></tr>\n",
       "\t<tr><td>1877</td><td>2   </td><td>0   </td><td>0   </td><td>0   </td><td>0   </td><td>0   </td><td>1   </td><td>1   </td><td>0   </td><td>0   </td><td>1   </td><td>0   </td><td>2   </td><td>0   </td></tr>\n",
       "\t<tr><td>1878</td><td>1   </td><td>2   </td><td>2   </td><td>1   </td><td>1   </td><td>0   </td><td>0   </td><td>0   </td><td>0   </td><td>0   </td><td>1   </td><td>0   </td><td>1   </td><td>0   </td></tr>\n",
       "\t<tr><td>1879</td><td>0   </td><td>0   </td><td>0   </td><td>1   </td><td>1   </td><td>2   </td><td>2   </td><td>0   </td><td>1   </td><td>0   </td><td>0   </td><td>2   </td><td>1   </td><td>0   </td></tr>\n",
       "\t<tr><td>1880</td><td>0   </td><td>3   </td><td>2   </td><td>1   </td><td>1   </td><td>1   </td><td>0   </td><td>0   </td><td>0   </td><td>2   </td><td>1   </td><td>4   </td><td>3   </td><td>0   </td></tr>\n",
       "\t<tr><td>1881</td><td>1   </td><td>0   </td><td>0   </td><td>2   </td><td>1   </td><td>0   </td><td>0   </td><td>1   </td><td>0   </td><td>1   </td><td>0   </td><td>0   </td><td>0   </td><td>0   </td></tr>\n",
       "\t<tr><td>1882</td><td>1   </td><td>2   </td><td>0   </td><td>0   </td><td>0   </td><td>0   </td><td>1   </td><td>0   </td><td>1   </td><td>1   </td><td>2   </td><td>1   </td><td>4   </td><td>1   </td></tr>\n",
       "\t<tr><td>1883</td><td>0   </td><td>0   </td><td>1   </td><td>2   </td><td>0   </td><td>1   </td><td>2   </td><td>1   </td><td>0   </td><td>1   </td><td>0   </td><td>3   </td><td>0   </td><td>0   </td></tr>\n",
       "\t<tr><td>1884</td><td>3   </td><td>0   </td><td>1   </td><td>0   </td><td>0   </td><td>0   </td><td>0   </td><td>1   </td><td>0   </td><td>0   </td><td>2   </td><td>0   </td><td>1   </td><td>1   </td></tr>\n",
       "\t<tr><td>1885</td><td>0   </td><td>0   </td><td>0   </td><td>0   </td><td>0   </td><td>0   </td><td>1   </td><td>0   </td><td>0   </td><td>2   </td><td>0   </td><td>1   </td><td>0   </td><td>1   </td></tr>\n",
       "\t<tr><td>1886</td><td>2   </td><td>1   </td><td>0   </td><td>0   </td><td>1   </td><td>1   </td><td>1   </td><td>0   </td><td>0   </td><td>1   </td><td>0   </td><td>1   </td><td>3   </td><td>0   </td></tr>\n",
       "\t<tr><td>1887</td><td>1   </td><td>1   </td><td>2   </td><td>1   </td><td>0   </td><td>0   </td><td>3   </td><td>2   </td><td>1   </td><td>1   </td><td>0   </td><td>1   </td><td>2   </td><td>0   </td></tr>\n",
       "\t<tr><td>1888</td><td>0   </td><td>1   </td><td>1   </td><td>0   </td><td>0   </td><td>1   </td><td>1   </td><td>0   </td><td>0   </td><td>0   </td><td>0   </td><td>1   </td><td>1   </td><td>0   </td></tr>\n",
       "\t<tr><td>1889</td><td>0   </td><td>0   </td><td>1   </td><td>1   </td><td>0   </td><td>1   </td><td>1   </td><td>0   </td><td>0   </td><td>1   </td><td>2   </td><td>2   </td><td>0   </td><td>2   </td></tr>\n",
       "\t<tr><td>1890</td><td>1   </td><td>2   </td><td>0   </td><td>2   </td><td>0   </td><td>1   </td><td>1   </td><td>2   </td><td>0   </td><td>2   </td><td>1   </td><td>1   </td><td>2   </td><td>2   </td></tr>\n",
       "\t<tr><td>1891</td><td>0   </td><td>0   </td><td>0   </td><td>1   </td><td>1   </td><td>1   </td><td>0   </td><td>1   </td><td>1   </td><td>0   </td><td>3   </td><td>3   </td><td>1   </td><td>0   </td></tr>\n",
       "\t<tr><td>1892</td><td>1   </td><td>3   </td><td>2   </td><td>0   </td><td>1   </td><td>1   </td><td>3   </td><td>0   </td><td>1   </td><td>1   </td><td>0   </td><td>1   </td><td>1   </td><td>0   </td></tr>\n",
       "\t<tr><td>1893</td><td>0   </td><td>1   </td><td>0   </td><td>0   </td><td>0   </td><td>1   </td><td>0   </td><td>2   </td><td>0   </td><td>0   </td><td>1   </td><td>3   </td><td>0   </td><td>0   </td></tr>\n",
       "\t<tr><td>1894</td><td>1   </td><td>0   </td><td>0   </td><td>0   </td><td>0   </td><td>0   </td><td>0   </td><td>0   </td><td>1   </td><td>0   </td><td>1   </td><td>1   </td><td>0   </td><td>0   </td></tr>\n",
       "</tbody>\n",
       "</table>\n"
      ],
      "text/latex": [
       "\\begin{tabular}{r|lllllllllllllll}\n",
       " Year & GC & C1 & C2 & C3 & C4 & C5 & C6 & C7 & C8 & C9 & C10 & C11 & C14 & C15\\\\\n",
       "\\hline\n",
       "\t 1875 & 0    & 0    & 0    & 0    & 0    & 0    & 0    & 1    & 1    & 0    & 0    & 0    & 1    & 0   \\\\\n",
       "\t 1876 & 2    & 0    & 0    & 0    & 1    & 0    & 0    & 0    & 0    & 0    & 0    & 0    & 1    & 1   \\\\\n",
       "\t 1877 & 2    & 0    & 0    & 0    & 0    & 0    & 1    & 1    & 0    & 0    & 1    & 0    & 2    & 0   \\\\\n",
       "\t 1878 & 1    & 2    & 2    & 1    & 1    & 0    & 0    & 0    & 0    & 0    & 1    & 0    & 1    & 0   \\\\\n",
       "\t 1879 & 0    & 0    & 0    & 1    & 1    & 2    & 2    & 0    & 1    & 0    & 0    & 2    & 1    & 0   \\\\\n",
       "\t 1880 & 0    & 3    & 2    & 1    & 1    & 1    & 0    & 0    & 0    & 2    & 1    & 4    & 3    & 0   \\\\\n",
       "\t 1881 & 1    & 0    & 0    & 2    & 1    & 0    & 0    & 1    & 0    & 1    & 0    & 0    & 0    & 0   \\\\\n",
       "\t 1882 & 1    & 2    & 0    & 0    & 0    & 0    & 1    & 0    & 1    & 1    & 2    & 1    & 4    & 1   \\\\\n",
       "\t 1883 & 0    & 0    & 1    & 2    & 0    & 1    & 2    & 1    & 0    & 1    & 0    & 3    & 0    & 0   \\\\\n",
       "\t 1884 & 3    & 0    & 1    & 0    & 0    & 0    & 0    & 1    & 0    & 0    & 2    & 0    & 1    & 1   \\\\\n",
       "\t 1885 & 0    & 0    & 0    & 0    & 0    & 0    & 1    & 0    & 0    & 2    & 0    & 1    & 0    & 1   \\\\\n",
       "\t 1886 & 2    & 1    & 0    & 0    & 1    & 1    & 1    & 0    & 0    & 1    & 0    & 1    & 3    & 0   \\\\\n",
       "\t 1887 & 1    & 1    & 2    & 1    & 0    & 0    & 3    & 2    & 1    & 1    & 0    & 1    & 2    & 0   \\\\\n",
       "\t 1888 & 0    & 1    & 1    & 0    & 0    & 1    & 1    & 0    & 0    & 0    & 0    & 1    & 1    & 0   \\\\\n",
       "\t 1889 & 0    & 0    & 1    & 1    & 0    & 1    & 1    & 0    & 0    & 1    & 2    & 2    & 0    & 2   \\\\\n",
       "\t 1890 & 1    & 2    & 0    & 2    & 0    & 1    & 1    & 2    & 0    & 2    & 1    & 1    & 2    & 2   \\\\\n",
       "\t 1891 & 0    & 0    & 0    & 1    & 1    & 1    & 0    & 1    & 1    & 0    & 3    & 3    & 1    & 0   \\\\\n",
       "\t 1892 & 1    & 3    & 2    & 0    & 1    & 1    & 3    & 0    & 1    & 1    & 0    & 1    & 1    & 0   \\\\\n",
       "\t 1893 & 0    & 1    & 0    & 0    & 0    & 1    & 0    & 2    & 0    & 0    & 1    & 3    & 0    & 0   \\\\\n",
       "\t 1894 & 1    & 0    & 0    & 0    & 0    & 0    & 0    & 0    & 1    & 0    & 1    & 1    & 0    & 0   \\\\\n",
       "\\end{tabular}\n"
      ],
      "text/markdown": [
       "Year | GC | C1 | C2 | C3 | C4 | C5 | C6 | C7 | C8 | C9 | C10 | C11 | C14 | C15 | \n",
       "|---|---|---|---|---|---|---|---|---|---|---|---|---|---|---|---|---|---|---|---|\n",
       "| 1875 | 0    | 0    | 0    | 0    | 0    | 0    | 0    | 1    | 1    | 0    | 0    | 0    | 1    | 0    | \n",
       "| 1876 | 2    | 0    | 0    | 0    | 1    | 0    | 0    | 0    | 0    | 0    | 0    | 0    | 1    | 1    | \n",
       "| 1877 | 2    | 0    | 0    | 0    | 0    | 0    | 1    | 1    | 0    | 0    | 1    | 0    | 2    | 0    | \n",
       "| 1878 | 1    | 2    | 2    | 1    | 1    | 0    | 0    | 0    | 0    | 0    | 1    | 0    | 1    | 0    | \n",
       "| 1879 | 0    | 0    | 0    | 1    | 1    | 2    | 2    | 0    | 1    | 0    | 0    | 2    | 1    | 0    | \n",
       "| 1880 | 0    | 3    | 2    | 1    | 1    | 1    | 0    | 0    | 0    | 2    | 1    | 4    | 3    | 0    | \n",
       "| 1881 | 1    | 0    | 0    | 2    | 1    | 0    | 0    | 1    | 0    | 1    | 0    | 0    | 0    | 0    | \n",
       "| 1882 | 1    | 2    | 0    | 0    | 0    | 0    | 1    | 0    | 1    | 1    | 2    | 1    | 4    | 1    | \n",
       "| 1883 | 0    | 0    | 1    | 2    | 0    | 1    | 2    | 1    | 0    | 1    | 0    | 3    | 0    | 0    | \n",
       "| 1884 | 3    | 0    | 1    | 0    | 0    | 0    | 0    | 1    | 0    | 0    | 2    | 0    | 1    | 1    | \n",
       "| 1885 | 0    | 0    | 0    | 0    | 0    | 0    | 1    | 0    | 0    | 2    | 0    | 1    | 0    | 1    | \n",
       "| 1886 | 2    | 1    | 0    | 0    | 1    | 1    | 1    | 0    | 0    | 1    | 0    | 1    | 3    | 0    | \n",
       "| 1887 | 1    | 1    | 2    | 1    | 0    | 0    | 3    | 2    | 1    | 1    | 0    | 1    | 2    | 0    | \n",
       "| 1888 | 0    | 1    | 1    | 0    | 0    | 1    | 1    | 0    | 0    | 0    | 0    | 1    | 1    | 0    | \n",
       "| 1889 | 0    | 0    | 1    | 1    | 0    | 1    | 1    | 0    | 0    | 1    | 2    | 2    | 0    | 2    | \n",
       "| 1890 | 1    | 2    | 0    | 2    | 0    | 1    | 1    | 2    | 0    | 2    | 1    | 1    | 2    | 2    | \n",
       "| 1891 | 0    | 0    | 0    | 1    | 1    | 1    | 0    | 1    | 1    | 0    | 3    | 3    | 1    | 0    | \n",
       "| 1892 | 1    | 3    | 2    | 0    | 1    | 1    | 3    | 0    | 1    | 1    | 0    | 1    | 1    | 0    | \n",
       "| 1893 | 0    | 1    | 0    | 0    | 0    | 1    | 0    | 2    | 0    | 0    | 1    | 3    | 0    | 0    | \n",
       "| 1894 | 1    | 0    | 0    | 0    | 0    | 0    | 0    | 0    | 1    | 0    | 1    | 1    | 0    | 0    | \n",
       "\n"
      ],
      "text/plain": [
       "   Year GC C1 C2 C3 C4 C5 C6 C7 C8 C9 C10 C11 C14 C15\n",
       "1  1875 0  0  0  0  0  0  0  1  1  0  0   0   1   0  \n",
       "2  1876 2  0  0  0  1  0  0  0  0  0  0   0   1   1  \n",
       "3  1877 2  0  0  0  0  0  1  1  0  0  1   0   2   0  \n",
       "4  1878 1  2  2  1  1  0  0  0  0  0  1   0   1   0  \n",
       "5  1879 0  0  0  1  1  2  2  0  1  0  0   2   1   0  \n",
       "6  1880 0  3  2  1  1  1  0  0  0  2  1   4   3   0  \n",
       "7  1881 1  0  0  2  1  0  0  1  0  1  0   0   0   0  \n",
       "8  1882 1  2  0  0  0  0  1  0  1  1  2   1   4   1  \n",
       "9  1883 0  0  1  2  0  1  2  1  0  1  0   3   0   0  \n",
       "10 1884 3  0  1  0  0  0  0  1  0  0  2   0   1   1  \n",
       "11 1885 0  0  0  0  0  0  1  0  0  2  0   1   0   1  \n",
       "12 1886 2  1  0  0  1  1  1  0  0  1  0   1   3   0  \n",
       "13 1887 1  1  2  1  0  0  3  2  1  1  0   1   2   0  \n",
       "14 1888 0  1  1  0  0  1  1  0  0  0  0   1   1   0  \n",
       "15 1889 0  0  1  1  0  1  1  0  0  1  2   2   0   2  \n",
       "16 1890 1  2  0  2  0  1  1  2  0  2  1   1   2   2  \n",
       "17 1891 0  0  0  1  1  1  0  1  1  0  3   3   1   0  \n",
       "18 1892 1  3  2  0  1  1  3  0  1  1  0   1   1   0  \n",
       "19 1893 0  1  0  0  0  1  0  2  0  0  1   3   0   0  \n",
       "20 1894 1  0  0  0  0  0  0  0  1  0  1   1   0   0  "
      ]
     },
     "metadata": {},
     "output_type": "display_data"
    }
   ],
   "source": [
    "rawData=read.delim('data/HorseKicks.txt', sep='\\t')\n",
    "rawData"
   ]
  },
  {
   "cell_type": "markdown",
   "metadata": {},
   "source": [
    "<p></p>\n",
    "<br />\n",
    "<div style=\"direction:rtl;line-height:300%;\">\n",
    "\t<font face=\"XB Zar\" size=5>\n",
    "         هر سطر نشان‌دهنده یک سال و هر ستون نشان‌دهنده یک لشگر است. هر خانه از جدول هم مشخص می‌کند که در آن سال، چند نفر از آن لشگر بر اثر ضربه اسب کشته شده اند.\n",
    "        از آنجایی که داده‌ها مربوط به 14 لشگر در طول 20 سال است، پس در کل 280 نمونه داریم.\n",
    "        دانشمند روس \n",
    "        ابتدا جدول زیر را از روی 280 نمونه ساخت:\n",
    "                <img src=\"figs/horse-data.png\" style=\"float:center; width:50%\"/> \n",
    "     یعنی در طی 20 سال و مشاهده 280 نمونه، 144 بار هیچ سربازی بر اثر ضربه اسب کشته نشد.\n",
    "     91 بار، 1 نفر در لشگر کشته شد. 32 بار، 2 نفر در لشگر کشته شد و...\n",
    "     <br>\n",
    "        وی فرض کرد که تعداد افراد کشته‌شده در یک لشگر در یک سال  از توزیع پواسون با پارامتر $\\lambda$ پیروی می‌کنند و $\\lambda$ را از روی داده‌ها تخمین زد.\n",
    "   در داده‌های بالا، در کل 280 نمونه داریم، و 196 نفر کشته‌شده اند، بنابراین بر اساس تخمین بیشیشنه بخت (MLE)، $\\lambda$ را می‌توان با $\\hat{\\lambda}=\\frac{196}{280}=0.7$ تخمین زد.\n",
    "        می‌خواهیم با استفاده از آزمونی، این فرض را بررسی کنیم.\n",
    "</font>\n",
    "</div>"
   ]
  },
  {
   "cell_type": "markdown",
   "metadata": {},
   "source": [
    "<p></p>\n",
    "<br />\n",
    "<div id=\"sec_chi2_test\" style=\"direction:rtl;line-height:300%;\">\n",
    "\t<font face=\"XB Zar\" size=5>\n",
    "\t\t<font color=#FF7500 size=6>\n",
    "آزمون Chi-Squared        </font>\n",
    "\t\t<p></p>\n",
    "\t\t<hr>\n",
    "        فرض کنید که n نمونه و  یک تابع توزیع احتمال مشخصی داریم. در حالت کلی ممکن است تعدادی از  پارامترهای این توزیع (مانند میانگین، واریانس و ...) مشخص نباشند و بخواهیم آن ها را از روی نمونه‌ها با روش‌هایی مانند تخمین بیشینه بخت (MLE) تخمین بزنیم. فرض کنید s تا از پارامترها را تخمین زده باشیم. می‌خواهیم بررسی کنیم که آیا n نمونه ما از این توزیع مشخص پیروی می‌کنند یا خیر. \n",
    "        <br>\n",
    "        Chi-Squared Goodness of Fit Test یک روش برای آزمودن این فرض است. به این صورت عمل می‌کنیم:\n",
    "        <ul>\n",
    "            <li>\n",
    "             فرض صفر این است، که نمونه‌ها از توزیع مشخص شده پیروی می‌کنند.   \n",
    "             </li>\n",
    "            <li>\n",
    "        ابتدا نمونه‌ها را به k گروه تقسیم می‌کنیم.\n",
    "            </li>\n",
    "            <li>\n",
    "        $O_i$ را برابر با تعداد نمونه‌هایی که در گروه شماره i هستند، قرار می‌دهیم.\n",
    "            </li>\n",
    "            <li>\n",
    "            از طریق تابع توزیع احتمال مدنظر ما، احتمال اینکه یک متغیر تصادفی در گروه شماره i قرار بگیرد را محاسبه می‌کنیم و $p_i$ می‌نامیم.\n",
    "            </li>\n",
    "            <li>\n",
    "            $E_i=n\\times p_i$ تعریف می‌کنیم.\n",
    "            به عبارتی $E_i$ نشان می‌دهد که بر اساس توزیع احتمال مورد نظر ما، انتظار داریم که چه تعدادی از n نمونه ما در گروه i قرار بگیرند.\n",
    "            </li>\n",
    "            <li>\n",
    "            آماره $\\chi_{0}^2$ را به شکل زیر محاسبه می‌کنیم:\n",
    "    $$\\chi_0^2=\\sum_{i=1}^{k}{\\frac{(O_i-E_i)^2}{E_i}}$$\n",
    "        این آماره از توزیع $\\chi^2$ پیروی می‌کند.\n",
    "        $\\chi^2$ خانواده‌ای از توزیع‌هاست که مانند توزیع تی، با درجه آزادی مشخص می‌شوند.\n",
    "        <br>\n",
    "        نمودار چگالی احتمال توزیع $\\chi^2$ به ازای درجه آزادی (df) های مختلف:\n",
    "        <img src=\"figs/chi2.png\" style=\"float:center; width:50%\"/> \n",
    "        همچنین می‌توانید از این لینک برای مشاهده جدول توزیع $\\chi^2$ استفاده کنید:\n",
    "        <a href=\"https://www.medcalc.org/manual/chi-square-table.php\"> جدول توزیع $\\chi^2$ </a>\n",
    "    </li>\n",
    "        <li>\n",
    "        درجه آزادی آماره محاسبه شده، برابر با $k-s-1$ است که $k$ همان تعداد گروه‌ها و\n",
    "    $s$ برابر با تعداد پارامترهای تابع توزیع احتمال مدنظر ما است که از روی نمونه‌ها تخمین زده‌ایم.\n",
    "    </li>\n",
    "    <li>\n",
    "    اگر فرض کنیم که $X$ متغیر تصادفی باشد که از توزیع $\\chi^2$ با درجه آزادی $k-s-1$ پیروی می‌کند، در آن صورت مقدار p-value آزمون برابر است با احتمال اینکه $X$ بزرگتر از $\\chi_0^2$ باشد. \n",
    "    یعنی قسمت قرمز رنگ در شکل زیر:\n",
    "            <img src=\"figs/chisquare-pvalue.png\" style=\"float:center; width:50%\"/>\n",
    "    </li>\n",
    "    <li>\n",
    "    اگر p-value کمتر از $\\alpha$ باشد، فرض صفر را رد می‌کنیم یعنی نمونه‌ها از توزیع موردنظر پیروی نمی‌کنند.\n",
    "    </li>\n",
    "        </ul>\n",
    "</font>\n",
    "</div>\n",
    "\n"
   ]
  },
  {
   "cell_type": "markdown",
   "metadata": {},
   "source": [
    "<p></p>\n",
    "<br />\n",
    "<div id=\"sec_horses_again\" style=\"direction:rtl;line-height:300%;\">\n",
    "\t<font face=\"XB Zar\" size=5>\n",
    "\t\t<font color=#FF7500 size=6>\n",
    "بازگشت به مسئله اسب‌ها\n",
    "        </font>\n",
    "\t\t<p></p>\n",
    "\t\t<hr>\n",
    "        در اینجا، فرض صفر ما این است که داده‌های جدول فراوانی که در بالا دیدیم از توزیع پواسون با پارامتر 0.7 پیروی می‌کنند. ابتدا 280 نمونه را به شکل آن جدول در می‌آوریم: \n",
    "    </font>\n",
    "</div>"
   ]
  },
  {
   "cell_type": "code",
   "execution_count": 66,
   "metadata": {},
   "outputs": [
    {
     "data": {
      "text/html": [
       "<table>\n",
       "<thead><tr><th scope=col>Group</th><th scope=col>Deaths</th><th scope=col>Observed</th></tr></thead>\n",
       "<tbody>\n",
       "\t<tr><td>1  </td><td>0  </td><td>144</td></tr>\n",
       "\t<tr><td>2  </td><td>1  </td><td> 91</td></tr>\n",
       "\t<tr><td>3  </td><td>2  </td><td> 32</td></tr>\n",
       "\t<tr><td>4  </td><td>3  </td><td> 11</td></tr>\n",
       "\t<tr><td>5  </td><td>4  </td><td>  2</td></tr>\n",
       "\t<tr><td>6  </td><td>5+ </td><td>  0</td></tr>\n",
       "</tbody>\n",
       "</table>\n"
      ],
      "text/latex": [
       "\\begin{tabular}{r|lll}\n",
       " Group & Deaths & Observed\\\\\n",
       "\\hline\n",
       "\t 1   & 0   & 144\\\\\n",
       "\t 2   & 1   &  91\\\\\n",
       "\t 3   & 2   &  32\\\\\n",
       "\t 4   & 3   &  11\\\\\n",
       "\t 5   & 4   &   2\\\\\n",
       "\t 6   & 5+  &   0\\\\\n",
       "\\end{tabular}\n"
      ],
      "text/markdown": [
       "Group | Deaths | Observed | \n",
       "|---|---|---|---|---|---|\n",
       "| 1   | 0   | 144 | \n",
       "| 2   | 1   |  91 | \n",
       "| 3   | 2   |  32 | \n",
       "| 4   | 3   |  11 | \n",
       "| 5   | 4   |   2 | \n",
       "| 6   | 5+  |   0 | \n",
       "\n"
      ],
      "text/plain": [
       "  Group Deaths Observed\n",
       "1 1     0      144     \n",
       "2 2     1       91     \n",
       "3 3     2       32     \n",
       "4 4     3       11     \n",
       "5 5     4        2     \n",
       "6 6     5+       0     "
      ]
     },
     "metadata": {},
     "output_type": "display_data"
    }
   ],
   "source": [
    "horseData=read.csv('data/count.csv')\n",
    "horseData"
   ]
  },
  {
   "cell_type": "markdown",
   "metadata": {},
   "source": [
    "<div style=\"direction:rtl;line-height:300%;\">\n",
    "\t<font face=\"XB Zar\" size=5>\n",
    "یعنی داده‌ها را به 6 گروه تقسیم کردیم (k=6) و هر سطر نشان‌دهنده یک گروه است که ستون Group، شماره گروه را نشان می‌دهد.\n",
    "        توجه کنید که مقادیر $O_i$ برابر با ستون Observed می‌باشد.\n",
    "        <br>\n",
    "        اکنون مقادیر $p_i$ را حساب می‌کنیم.\n",
    "        توجه کنید که $p_i$ یعنی احتمال این که متغیر تصادفی $X$ که از توزیع پواسون با پارامتر 0.7 پیروی می‌کند، با چه احتمالی در گروه شماره i قرار می‌گیرد. بنابراین:\n",
    "        $$\\begin{align}\n",
    "        p_1 & = P(X=0) = \\frac{e^{-0.7}{0.7}^0}{0!} = 0.4966\\\\\n",
    "        p_2 & = P(X=1) = \\frac{e^{-0.7}{0.7}^1}{1!} = 0.3476\\\\\n",
    "        p_3 & = P(X=2) = \\frac{e^{-0.7}{0.7}^2}{2!} = 0.1217\\\\\n",
    "        p_4 & = P(X=3) = \\frac{e^{-0.7}{0.7}^3}{3!} = 0.0284\\\\\n",
    "        p_5 & = P(X=4) = \\frac{e^{-0.7}{0.7}^4}{4!} = 0.0050\\\\\n",
    "        p_6 & = P(X\\geq5) =  1-P(X<=4) = 0.0007\n",
    "        \\end{align}$$\n",
    "همان محاسبات را در R انجام می‌دهیم:        \n",
    "        </font>\n",
    "\t</font>\n",
    "</div>"
   ]
  },
  {
   "cell_type": "code",
   "execution_count": 67,
   "metadata": {},
   "outputs": [
    {
     "data": {
      "text/html": [
       "<table>\n",
       "<thead><tr><th scope=col>Group</th><th scope=col>Deaths</th><th scope=col>Observed</th><th scope=col>Probabilites</th></tr></thead>\n",
       "<tbody>\n",
       "\t<tr><td>1           </td><td>0           </td><td>144         </td><td>0.4965853038</td></tr>\n",
       "\t<tr><td>2           </td><td>1           </td><td> 91         </td><td>0.3476097127</td></tr>\n",
       "\t<tr><td>3           </td><td>2           </td><td> 32         </td><td>0.1216633994</td></tr>\n",
       "\t<tr><td>4           </td><td>3           </td><td> 11         </td><td>0.0283881265</td></tr>\n",
       "\t<tr><td>5           </td><td>4           </td><td>  2         </td><td>0.0049679221</td></tr>\n",
       "\t<tr><td>6           </td><td>5+          </td><td>  0         </td><td>0.0007855354</td></tr>\n",
       "</tbody>\n",
       "</table>\n"
      ],
      "text/latex": [
       "\\begin{tabular}{r|llll}\n",
       " Group & Deaths & Observed & Probabilites\\\\\n",
       "\\hline\n",
       "\t 1            & 0            & 144          & 0.4965853038\\\\\n",
       "\t 2            & 1            &  91          & 0.3476097127\\\\\n",
       "\t 3            & 2            &  32          & 0.1216633994\\\\\n",
       "\t 4            & 3            &  11          & 0.0283881265\\\\\n",
       "\t 5            & 4            &   2          & 0.0049679221\\\\\n",
       "\t 6            & 5+           &   0          & 0.0007855354\\\\\n",
       "\\end{tabular}\n"
      ],
      "text/markdown": [
       "Group | Deaths | Observed | Probabilites | \n",
       "|---|---|---|---|---|---|\n",
       "| 1            | 0            | 144          | 0.4965853038 | \n",
       "| 2            | 1            |  91          | 0.3476097127 | \n",
       "| 3            | 2            |  32          | 0.1216633994 | \n",
       "| 4            | 3            |  11          | 0.0283881265 | \n",
       "| 5            | 4            |   2          | 0.0049679221 | \n",
       "| 6            | 5+           |   0          | 0.0007855354 | \n",
       "\n"
      ],
      "text/plain": [
       "  Group Deaths Observed Probabilites\n",
       "1 1     0      144      0.4965853038\n",
       "2 2     1       91      0.3476097127\n",
       "3 3     2       32      0.1216633994\n",
       "4 4     3       11      0.0283881265\n",
       "5 5     4        2      0.0049679221\n",
       "6 6     5+       0      0.0007855354"
      ]
     },
     "metadata": {},
     "output_type": "display_data"
    }
   ],
   "source": [
    "probabilities = dpois(0:4, lambda=0.7)\n",
    "probabilities = c(probabilities, 1 - sum(probabilities))\n",
    "horseData$Probabilites = probabilities\n",
    "horseData"
   ]
  },
  {
   "cell_type": "markdown",
   "metadata": {},
   "source": [
    "<div style=\"direction:rtl;line-height:300%;\">\n",
    "\t<font face=\"XB Zar\" size=5>\n",
    "    اکنون مقادیر $E_i$ را محاسبه می‌کنیم:\n",
    "        $$\\begin{align}\n",
    "        E_1 & = 280\\times p_1 = 280\\times 0.4966 = 139.04 \\\\\n",
    "        E_2 & = 280\\times p_2 = 280\\times 0.3476 = 97.33 \\\\\n",
    "        E_3 & = 280\\times p_3 = 280\\times 0.1217 = 34.07 \\\\\n",
    "        E_4 & = 280\\times p_4 = 280\\times 0.0284 = 7.95 \\\\\n",
    "        E_5 & = 280\\times p_5 = 280\\times 0.0050 = 1.4 \\\\\n",
    "        E_6 & = 280\\times p_6 = 280\\times 0.0007 = 0.21 \\\\\n",
    "        \\end{align}$$\n",
    "        محاسبات بالا در R:\n",
    "</font>\n",
    "</div>\n"
   ]
  },
  {
   "cell_type": "code",
   "execution_count": 68,
   "metadata": {},
   "outputs": [
    {
     "data": {
      "text/html": [
       "<table>\n",
       "<thead><tr><th scope=col>Group</th><th scope=col>Deaths</th><th scope=col>Observed</th><th scope=col>Probabilites</th><th scope=col>Expected</th></tr></thead>\n",
       "<tbody>\n",
       "\t<tr><td>1           </td><td>0           </td><td>144         </td><td>0.4965853038</td><td>139.0438851 </td></tr>\n",
       "\t<tr><td>2           </td><td>1           </td><td> 91         </td><td>0.3476097127</td><td> 97.3307195 </td></tr>\n",
       "\t<tr><td>3           </td><td>2           </td><td> 32         </td><td>0.1216633994</td><td> 34.0657518 </td></tr>\n",
       "\t<tr><td>4           </td><td>3           </td><td> 11         </td><td>0.0283881265</td><td>  7.9486754 </td></tr>\n",
       "\t<tr><td>5           </td><td>4           </td><td>  2         </td><td>0.0049679221</td><td>  1.3910182 </td></tr>\n",
       "\t<tr><td>6           </td><td>5+          </td><td>  0         </td><td>0.0007855354</td><td>  0.2199499 </td></tr>\n",
       "</tbody>\n",
       "</table>\n"
      ],
      "text/latex": [
       "\\begin{tabular}{r|lllll}\n",
       " Group & Deaths & Observed & Probabilites & Expected\\\\\n",
       "\\hline\n",
       "\t 1            & 0            & 144          & 0.4965853038 & 139.0438851 \\\\\n",
       "\t 2            & 1            &  91          & 0.3476097127 &  97.3307195 \\\\\n",
       "\t 3            & 2            &  32          & 0.1216633994 &  34.0657518 \\\\\n",
       "\t 4            & 3            &  11          & 0.0283881265 &   7.9486754 \\\\\n",
       "\t 5            & 4            &   2          & 0.0049679221 &   1.3910182 \\\\\n",
       "\t 6            & 5+           &   0          & 0.0007855354 &   0.2199499 \\\\\n",
       "\\end{tabular}\n"
      ],
      "text/markdown": [
       "Group | Deaths | Observed | Probabilites | Expected | \n",
       "|---|---|---|---|---|---|\n",
       "| 1            | 0            | 144          | 0.4965853038 | 139.0438851  | \n",
       "| 2            | 1            |  91          | 0.3476097127 |  97.3307195  | \n",
       "| 3            | 2            |  32          | 0.1216633994 |  34.0657518  | \n",
       "| 4            | 3            |  11          | 0.0283881265 |   7.9486754  | \n",
       "| 5            | 4            |   2          | 0.0049679221 |   1.3910182  | \n",
       "| 6            | 5+           |   0          | 0.0007855354 |   0.2199499  | \n",
       "\n"
      ],
      "text/plain": [
       "  Group Deaths Observed Probabilites Expected   \n",
       "1 1     0      144      0.4965853038 139.0438851\n",
       "2 2     1       91      0.3476097127  97.3307195\n",
       "3 3     2       32      0.1216633994  34.0657518\n",
       "4 4     3       11      0.0283881265   7.9486754\n",
       "5 5     4        2      0.0049679221   1.3910182\n",
       "6 6     5+       0      0.0007855354   0.2199499"
      ]
     },
     "metadata": {},
     "output_type": "display_data"
    }
   ],
   "source": [
    "horseData$Expected = 280 * horseData$Probabilites\n",
    "horseData"
   ]
  },
  {
   "cell_type": "markdown",
   "metadata": {},
   "source": [
    "<div style=\"direction:rtl;line-height:300%;\">\n",
    "\t<font face=\"XB Zar\" size=5>\n",
    "اکنون آماره آزمون را محاسبه می‌کنیم:\n",
    "        $$\\begin{align}\n",
    "        \\chi_{0}^2 =\\sum_{i=1}^{6}\\frac{(O_i-E_i)^2}{E_i}=\n",
    "        \\frac{(144-139.04)^2}{139.04} +\n",
    "        \\frac{(91-97.33)^2}{97.33} +\n",
    "        \\frac{(32-34.07)^2}{34.07} +\n",
    "        \\frac{(11-7.95)^2}{7.95} +\n",
    "        \\frac{(2-1.4)^2}{1.4} +\n",
    "        \\frac{(0-0.21)^2}{0.21} = 2.3716\n",
    "        \\end{align}$$\n",
    "        این محاسبات در R به شکل زیر است:\n",
    "</font>\n",
    "</div>\n",
    "\n"
   ]
  },
  {
   "cell_type": "code",
   "execution_count": 69,
   "metadata": {},
   "outputs": [
    {
     "data": {
      "text/html": [
       "2.37159295349603"
      ],
      "text/latex": [
       "2.37159295349603"
      ],
      "text/markdown": [
       "2.37159295349603"
      ],
      "text/plain": [
       "[1] 2.371593"
      ]
     },
     "metadata": {},
     "output_type": "display_data"
    }
   ],
   "source": [
    "testStatistic = sum((horseData$Observed-horseData$Expected)^2/horseData$Expected)\n",
    "testStatistic"
   ]
  },
  {
   "cell_type": "markdown",
   "metadata": {},
   "source": [
    "<div style=\"direction:rtl;line-height:300%;\">\n",
    "\t<font face=\"XB Zar\" size=5>\n",
    "    از آنجایی که داده‌ها را 6 گروه کرده‌بودیم و 1 پارامتر توزیع (پارامتر $\\lambda$) را تخمین زده بودیم، بنابراین درجه آزادی برابر با $6-1-1=4$ می‌باشد.\n",
    "        با استفاده از این <a href=\"https://www.di-mgt.com.au/chisquare-calculator.html\"> لینک </a> \n",
    "        مقدار p-value را حساب می‌کنیم که برابر با 0.6677 است.\n",
    "        <br>\n",
    "        این محاسبه را می‌توانیم به شکل زیر در R انجام دهیم:\n",
    "</font>\n",
    "</div>\n",
    "\n"
   ]
  },
  {
   "cell_type": "code",
   "execution_count": 70,
   "metadata": {},
   "outputs": [
    {
     "name": "stdout",
     "output_type": "stream",
     "text": [
      "[1] \"p value is : 0.667766849295279\"\n"
     ]
    }
   ],
   "source": [
    "pValue = pchisq(testStatistic, df=4, lower.tail = FALSE)\n",
    "print(paste0(\"p value is : \", pValue))"
   ]
  },
  {
   "cell_type": "markdown",
   "metadata": {},
   "source": [
    "<div style=\"direction:rtl;line-height:300%;\">\n",
    "\t<font face=\"XB Zar\" size=5>\n",
    "        مشاهد می‌کنیم که مقدار p-value بسیار بیشتر از $\\alpha=0.05$ است بنابراین نمی‌توانیم فرض صفر را رد کنیم به عبارتی این فرض که داده‌ها از توزیع پواسون با پارامتر 0.7 می‌آیند به حدی ضعیف نبوده که بتوانیم آن را رد کنیم.\n",
    "        <br>\n",
    "        جالب است بدانید که این مساله از اولین مساله‌هایی در تاریخ است که با توزیع پواسون به خوبی مدل شده است.\n",
    "</font>\n",
    "</div>\n",
    "\n"
   ]
  },
  {
   "cell_type": "markdown",
   "metadata": {},
   "source": [
    "<p></p>\n",
    "<br/>\n",
    "<div id=\"sec_unfair_dice\" style=\"direction:rtl;line-height:300%;\">\n",
    "\t<font face=\"XB Zar\" size=5>\n",
    "\t\t<font color=#FF7500 size=6>\n",
    "تاس ناسالم\n",
    "        </font>\n",
    "\t\t<p></p>\n",
    "\t\t<hr>\n",
    "به بررسی یک مثال دیگر می‌پردازیم:        <br>\n",
    "        یکی از دانشجویانی که درس آمار و احتمال را نگذرانده، همواره در بازی تخته نرد به دوستانش می‌بازد!\n",
    "        او برای اینکه بتواند دوستانش را در این بازی شکست دهد، تصمیم می‌گیرد تاسی طراحی کند که احتمال 6  آمدن آن بسیار زیاد باشد.\n",
    "        این دانشجو یک تاس ناسالم می‌سازد و ادعا می‌کند که احتمال  6 آمدن این تاس برابر $\\frac{1}{2}$ و احتمال\n",
    "        1 تا 5 آمدن تاس همگی برابر $\\frac{1}{10}$ است.\n",
    "        <br>\n",
    "        برای بررسی ادعای او، تاس را 1000 بار پرتاب می‌کنیم و مشاهد می‌کنیم اعداد 1 تا 6، به ترتیب به تعداد\n",
    "        $454, 81, 150, 132, 112, 71$\n",
    "    بار می‌آیند.\n",
    "    این بار با استفاده از دستور chisq.test در R، آزمون Chi-Squared Goodness of Fit را بر روی داده‌ها اعمال می‌کنیم:\n",
    "\t</font>\n",
    "</div>"
   ]
  },
  {
   "cell_type": "code",
   "execution_count": 71,
   "metadata": {},
   "outputs": [
    {
     "data": {
      "text/plain": [
       "\tChi-squared test for given probabilities\n",
       "data:  observations\n",
       "X-squared = 52.932, df = 5, p-value = 3.473e-10\n"
      ]
     },
     "metadata": {},
     "output_type": "display_data"
    }
   ],
   "source": [
    "observations = c(71,112,132,150,81,454)\n",
    "probs = c(0.1,0.1,0.1,0.1,0.1,0.5)\n",
    "chisq.test(observations, p=probs)"
   ]
  },
  {
   "cell_type": "markdown",
   "metadata": {},
   "source": [
    "<p></p>\n",
    "<br/>\n",
    "<div style=\"direction:rtl;line-height:300%;\">\n",
    "\t<font face=\"XB Zar\" size=5>\n",
    "    مشاهده می‌کنیم که مقدار p-value بسیار کوچک است بنابراین ادعای آن دانشجو رد می‌شود.\n",
    "    <br><br>\n",
    "        <font color=blue size=6>\n",
    "کنجکاوی:\n",
    "        </font><br/>\n",
    "        آیا در مثال اسب‌ها، می‌توانستیم از تابع chisq.test برای اجرای آزمون Chi-Sqaured Goodness of Fit استفاده کنیم؟\n",
    "      (راهنمایی: توسط کد زیر، این کار را انجام دهید و به درجه آزادی آزمون توجه کنید)\n",
    "\t</font>\n",
    "</div>"
   ]
  },
  {
   "cell_type": "code",
   "execution_count": null,
   "metadata": {},
   "outputs": [],
   "source": [
    "observations = horseData$Observed\n",
    "probs = horseData$Probabilites\n",
    "chisq.test(observations, p=probs)"
   ]
  },
  {
   "cell_type": "markdown",
   "metadata": {},
   "source": [
    "<div style=\"direction:rtl;line-height:300%;\">\n",
    "\t<font face=\"XB Zar\" size=5>\n",
    "\t\t<font color=darkpink size=6>\n",
    "تمرین:\n",
    "        </font>\n",
    "       فرض کنید آزمایشی انجام دادیم و به نتایج زیر رسیدیم. ستون Type نوع داده و ستون Count تعداد مشاهدات ما از هر تایپ را مشخص می‌کند.\n",
    "      فرض یکنواخت بودن توزیع متغیر تایپ را  به کمک آزمون Chi-Squared بررسی کنید. \n",
    "    </font>\n",
    "</div>\n",
    "\n"
   ]
  },
  {
   "cell_type": "code",
   "execution_count": 72,
   "metadata": {},
   "outputs": [
    {
     "data": {
      "text/html": [
       "<table>\n",
       "<thead><tr><th scope=col>Type</th><th scope=col>Count</th></tr></thead>\n",
       "<tbody>\n",
       "\t<tr><td>A  </td><td>441</td></tr>\n",
       "\t<tr><td>B  </td><td>390</td></tr>\n",
       "\t<tr><td>C  </td><td>369</td></tr>\n",
       "\t<tr><td>D  </td><td>381</td></tr>\n",
       "\t<tr><td>E  </td><td>445</td></tr>\n",
       "</tbody>\n",
       "</table>\n"
      ],
      "text/latex": [
       "\\begin{tabular}{r|ll}\n",
       " Type & Count\\\\\n",
       "\\hline\n",
       "\t A   & 441\\\\\n",
       "\t B   & 390\\\\\n",
       "\t C   & 369\\\\\n",
       "\t D   & 381\\\\\n",
       "\t E   & 445\\\\\n",
       "\\end{tabular}\n"
      ],
      "text/markdown": [
       "Type | Count | \n",
       "|---|---|---|---|---|\n",
       "| A   | 441 | \n",
       "| B   | 390 | \n",
       "| C   | 369 | \n",
       "| D   | 381 | \n",
       "| E   | 445 | \n",
       "\n"
      ],
      "text/plain": [
       "  Type Count\n",
       "1 A    441  \n",
       "2 B    390  \n",
       "3 C    369  \n",
       "4 D    381  \n",
       "5 E    445  "
      ]
     },
     "metadata": {},
     "output_type": "display_data"
    }
   ],
   "source": [
    "testdata = read.csv('data/test.csv')\n",
    "testdata"
   ]
  },
  {
   "cell_type": "markdown",
   "metadata": {},
   "source": [
    "<p></p>\n",
    "<br />\n",
    "<div id=\"sec_fisher\" style=\"direction:rtl;line-height:300%;\">\n",
    "\t<font face=\"XB Zar\" size=5>\n",
    "\t\t<font color=#FF7500 size=6>\n",
    "آزمون دقیق فیشر\n",
    "        </font>\n",
    "\t\t<p></p>\n",
    "\t\t<hr>\n",
    "          این دفترچه به بررسی آزمون فیشر خواهیم پرداخت.\n",
    "رونالد فیشر بیولوژیست و آماردان انگلیسی، خدمات زیادی به علم آمار کرد و او را به نوعی سازنده پایه‌های آمار نوین می‌دانند.\n",
    "<br/>\n",
    "<img src=\"figs/Youngronaldfisher.JPG\" style=\"float:center; width:50%\"/>\n",
    "<br/>\n",
    "داستان این توزیع از آنجا شروع شد که فیشر قصد داشت صحبت صحبت دوستش مبنی بر ترتیب ریخته شدن شیر یا چای در لیوانش را بررسی کند.  \n",
    "    </font>\n",
    "</div>"
   ]
  },
  {
   "cell_type": "markdown",
   "metadata": {},
   "source": [
    "<p></p>\n",
    "<br />\n",
    "<div id=\"sec_purpose\" style=\"direction:rtl;line-height:300%;\">\n",
    "\t<font face=\"XB Zar\" size=5>\n",
    "\t\t<font color=#FF7500 size=6>\n",
    "هدف آزمون فیشر\n",
    "        </font>\n",
    "\t\t<p></p>\n",
    "\t\t<hr>\n",
    "        این آزمون به درد بررسی شدت رابطه بین دو نوع طبقه‌بندی می‌خورد و زمانی استفاده می‌شود که با جداول مجاورت روبرو هستیم. برای مثال می‌خواهیم ببینیم پسران بیشتر از سوغات سفر خوششان می‌آید یا دختر‌ها. پس دو طبقه‌بندی جنسیت و علاقه به سوغات داریم. این آزمون در هنگام استفاده بسیار شبیه آزمون مربعی خی است. معمولا وقتی مقادیر ما کوچک است از این آزمون استفاده می‌شود. \n",
    "\t</font>\n",
    "</div>"
   ]
  },
  {
   "cell_type": "markdown",
   "metadata": {},
   "source": [
    "<p></p>\n",
    "<br />\n",
    "<div id=\"sec_pvalue\" style=\"direction:rtl;line-height:300%;\">\n",
    "\t<font face=\"XB Zar\" size=5>\n",
    "\t\t<font color=#FF7500 size=6>\n",
    "    استفاده از آزمون فیشر\n",
    "</font> <p></p>\n",
    "\t\t<hr>\n",
    "        مانند هر آزمونی فرضی، این آزمون هم باید پی-مقدار حساب کند.\n",
    "برای مثال فرض کنید جدول زیر به عنوان تعداد افرادی که در هر گروه مثال قبل هستند داده شده است.\n",
    "        (ابتدا به مسئله در حالت پارامتریک نگاه کنید)\n",
    "<table>\n",
    "  <tr>\n",
    "    <td></td>  \n",
    "      <td>پسر </td>  \n",
    "      <td> دختر</td>  \n",
    "            <td> جمع سطر</td>  \n",
    "  </tr>\n",
    "  <tr>\n",
    "      <td>سوغات دوست ندارند </td>\n",
    "    <td>c</td>\n",
    "    <td>d</td>\n",
    "      <td>c+d</td>  \n",
    "  </tr>\n",
    "  <tr>\n",
    "      <td>سوغات دوست دارند</td>\n",
    "    <td>a</td>\n",
    "    <td>b</td>\n",
    "    <td>a+b</td>\n",
    "  </tr>\n",
    "  <tr>\n",
    "      <td>جمع ستون </td>\n",
    "    <td>a+c</td>\n",
    "    <td>b+d</td>\n",
    "    <td>a+b+c+d</td>\n",
    "  </tr>          \n",
    "</table>\n",
    "حالت مطلوب ما حالتی است که از بین کسانی که سوغات دوست دارند،\n",
    "$a$\n",
    "نفر پسر باشند. در این حالت باید از بین $a + b$ نفر که \n",
    "$a$\n",
    "تا پسر و \n",
    "$b$\n",
    "تا دختر هستند، پسران را انتخاب کنیم.\n",
    "همچنین در بین افرادی که سوغات دوست ندارند هم باید این کار را انجام دهیم و \n",
    "$c$\n",
    "پسر را از بین\n",
    "$c + d$\n",
    "نفر انتخاب کنیم\n",
    ". حالت کلی ما هم انتخاب \n",
    "$a + c$\n",
    "نفر از \n",
    "$a + b + c + d$\n",
    "نفر است.\n",
    "رونالد فیشر نشان داد  احتمال بدست آمدن جدول مجاورتی به مثابه بالا، از توزیع فوق هندسی پیروی می‌کند. \n",
    "پس پی-مقدار ما به صورت زیر به دست می‌آید:\n",
    "$$p = \\frac{\\binom{a+b}{a} \\times \\binom{c+d}{c}}{\\binom{a + b + c + d}{a + c}}$$\n",
    "البته می‌توان  مسئله را با از دید دختران از بین جمعیت هم بررسی کرد و پی-مقدار به دست آمده تفاوتی نخواهد داشت.\n",
    "فرض صفر این توزیع به شکل زیر است:\n",
    "        <br></br>\n",
    "فرض صفر: طبقه بندی اول تاثیری بر روی طبقه بندی دوم ندارد. \n",
    "مثلا در مثال قبلی، دختر یا پسر بودن، تاثیری بر علاقه به سوغات ندارد.\n",
    "به بیان دیگر، این تست، تست استقلال دو طبقه‌بندی است.\n",
    "    <br></br>\n",
    "     برای مثال فرض کنید \n",
    "     $a = 7, b = 9, c= 21 , d = 24$\n",
    "     در اینصورت پی-مقدار به دست آوردن جدول زیر برابر است با:\n",
    "<table>\n",
    "  <tr>\n",
    "    <td></td>  \n",
    "      <td>پسر </td>  \n",
    "      <td> دختر</td>  \n",
    "            <td> جمع سطر</td>  \n",
    "  </tr>\n",
    "  <tr>\n",
    "      <td>سوغات دوست ندارند </td>\n",
    "    <td>21</td>\n",
    "    <td>24</td>\n",
    "      <td>45</td>  \n",
    "  </tr>\n",
    "  <tr>\n",
    "      <td>سوغات دوست دارند</td>\n",
    "    <td>7</td>\n",
    "    <td>9</td>\n",
    "    <td>16</td>\n",
    "  </tr>\n",
    "  <tr>\n",
    "      <td>جمع ستون </td>\n",
    "    <td>28</td>\n",
    "    <td>33</td>\n",
    "    <td>61</td>\n",
    "  </tr>          \n",
    "</table>\n",
    "<br/>\n",
    "$$p-value =\\frac{{16\\choose7}\\times {45\\choose21}}{{61\\choose28}} = 0.2252$$\n",
    "با سطح اطمینان ۵ درصد، با این پی-مقدار نمی‌توان فرض صفر را رد کرد و در نتیجه نمی‌توان فرض استقلال طبقه بندی‌مان، یعنی اینکه علاقه به سوغات در پسران و دختران متفاوت است، را پذیرفت.\n",
    "        </font>\n",
    "</div>"
   ]
  },
  {
   "cell_type": "markdown",
   "metadata": {},
   "source": [
    "<p></p>\n",
    "<br />\n",
    "<div id=\"sec_conditional_continuous\" style=\"direction:rtl;line-height:300%;\">\n",
    "\t<font face=\"XB Zar\" size=5>\n",
    "\t\t<font color=#FF7500 size=6>\n",
    "        </font>\n",
    "\t\t<p></p>\n",
    "\t\t<hr>\n",
    "        <font color=\"red\"> مثال:</font>\n",
    "فرض کنید برای درمان نوعی بیماری خاص\n",
    "از دو داروی \n",
    "$x$\n",
    "و \n",
    "$y$\n",
    "استفاده کرده‌ایم.\n",
    "می‌خواهیم تاثیر این دو دارو و اینکه ایا تفاوتی بین استفاده از این دو دارو برای درمان بیماری وجود دارد را بررسی کنیم.\n",
    "طبقه بندی دوم ما در اینجا بهبودی بیمار یا بهبود نیافتن اوست. فرض کنید جدول زیر را به ما داده‌اند:\n",
    "<table>\n",
    "  <tr>\n",
    "      <td></td>\n",
    "      <td>استفاده از داروی $x$</td>\n",
    "      <td>استفاده از داروی $y$</td>\n",
    "      <td>مجموع سطر</td>\n",
    "    </tr>\n",
    "  <tr>\n",
    "    <td>بیمار بهبود یافته</td>\n",
    "    <td>45</td>  \n",
    "    <td>55 </td>\n",
    "    <td>100</td>\n",
    "  </tr>\n",
    "  <tr>\n",
    "    <td>بیمار تغییری نکرده</td>\n",
    "    <td>19</td>  \n",
    "    <td>81 </td>  \n",
    "    <td>100</td>\n",
    "  </tr>\n",
    "  <tr>\n",
    "      <td>مجموع ستون</td>\n",
    "      <td>64</td>\n",
    "      <td>136</td>\n",
    "      <td>200</td>\n",
    "    </tr>  \n",
    "</table>\n",
    "احتمال بدست آمدن چنین جدولی و معنادار بودن آن از لحاظ آماری، طبق آزمون فیشر اینگونه بدست می‌آید:\n",
    "$$ p-value = \\frac{\\binom{100}{45} \\times \\binom{100}{19}}{\\binom{200}{64}} = 0.000047874$$ \n",
    "با سطح \n",
    "$0.05$\n",
    "می‌توان فرض صفر را رد کرد. پس می‌توان گفت درمان با داروی \n",
    "$x$\n",
    "با درمان با داروی \n",
    "$y$\n",
    "متفاوت است.\n",
    "همچنین با توجه به مقادیر جدول، می‌توان گفت داروی \n",
    "$x$\n",
    "توانسته است بهتر از داروی دیگر، به بهبود بیماری کمک کند.\n",
    "        </font>\n",
    "</div>"
   ]
  },
  {
   "cell_type": "markdown",
   "metadata": {},
   "source": [
    "<p></p>\n",
    "<br/>\n",
    "<div id=\"sec_conc\" style=\"direction:rtl;line-height:300%;\">\n",
    "\t<font face=\"XB Zar\" size=5>\n",
    "\t\t<font color=#FF7500 size=6>\n",
    "خلاصه و نتیجه‌گیری\n",
    "        </font>\n",
    "\t\t<p></p>\n",
    "\t\t<hr>\n",
    "        در این بخش با موارد زیر آشنا شدیم:\n",
    "        <ul>\n",
    "            <li>\n",
    "            توزیع $\\chi^2$\n",
    "            </li>\n",
    "            <li>\n",
    "            آزمون Chi-Squared Goodness of Fit\n",
    "            </li>\n",
    "            <li>\n",
    "            پیاده‌سازی این آزمون در R\n",
    "            </li>\n",
    "            <li>\n",
    "            آزمون دقیق فیشر\n",
    "            </li>\n",
    "        </ul>\n",
    "\t</font>\n",
    "</div>"
   ]
  },
  {
   "cell_type": "markdown",
   "metadata": {},
   "source": [
    "<p></p>\n",
    "<br/>\n",
    "<div id=\"sec_refs\" style=\"direction:rtl;line-height:300%;\">\n",
    "\t<font face=\"XB Zar\" size=5>\n",
    "\t\t<font color=#FF7500 size=6>\n",
    "منابع\n",
    "        </font>\n",
    "\t\t<hr> \n",
    "        <div style=\"direction:ltr\">\n",
    "        <ul>\n",
    "            <li>\n",
    "            Banks, Jerry, John S. Carson, and Barry L. Nelson. Discrete-Event System Simulation.\n",
    "            </li>\n",
    "            <li>\n",
    "            Sheldon M. Ross. Simulation. Fifth Edition\n",
    "            </li>\n",
    "            <li>\n",
    "                https://web.stanford.edu/class/psych252/cheatsheets/chisquare.html\n",
    "            </li>\n",
    "            <li>        http://www.randomservices.org/random/data/HorseKicks.html\n",
    "            </li>\n",
    "            <li>\n",
    "             https://en.wikipedia.org/wiki/Fisher%27s_exact_test\n",
    "            </li>\n",
    "            <li>http://www.statisticshowto.com/fishers-exact-test-independence/\n",
    "            </li>\n",
    "        </ul>\n",
    "        </div>\n",
    "\t</font>\n",
    "</div>"
   ]
  },
  {
   "cell_type": "code",
   "execution_count": null,
   "metadata": {},
   "outputs": [],
   "source": []
  }
 ],
 "metadata": {
  "kernelspec": {
   "display_name": "R",
   "language": "R",
   "name": "ir"
  },
  "language_info": {
   "codemirror_mode": "r",
   "file_extension": ".r",
   "mimetype": "text/x-r-source",
   "name": "R",
   "pygments_lexer": "r",
   "version": "3.5.2"
  },
  "latex_envs": {
   "LaTeX_envs_menu_present": true,
   "autoclose": false,
   "autocomplete": true,
   "bibliofile": "biblio.bib",
   "cite_by": "apalike",
   "current_citInitial": 1,
   "eqLabelWithNumbers": true,
   "eqNumInitial": 1,
   "hotkeys": {
    "equation": "Ctrl-E",
    "itemize": "Ctrl-I"
   },
   "labels_anchors": false,
   "latex_user_defs": false,
   "report_style_numbering": false,
   "user_envs_cfg": false
  },
  "toc": {
   "base_numbering": 1,
   "nav_menu": {},
   "number_sections": true,
   "sideBar": true,
   "skip_h1_title": false,
   "title_cell": "Table of Contents",
   "title_sidebar": "Contents",
   "toc_cell": false,
   "toc_position": {},
   "toc_section_display": true,
   "toc_window_display": false
  },
  "varInspector": {
   "cols": {
    "lenName": 16,
    "lenType": 16,
    "lenVar": 40
   },
   "kernels_config": {
    "python": {
     "delete_cmd_postfix": "",
     "delete_cmd_prefix": "del ",
     "library": "var_list.py",
     "varRefreshCmd": "print(var_dic_list())"
    },
    "r": {
     "delete_cmd_postfix": ") ",
     "delete_cmd_prefix": "rm(",
     "library": "var_list.r",
     "varRefreshCmd": "cat(var_dic_list()) "
    }
   },
   "types_to_exclude": [
    "module",
    "function",
    "builtin_function_or_method",
    "instance",
    "_Feature"
   ],
   "window_display": false
  }
 },
 "nbformat": 4,
 "nbformat_minor": 1
}
