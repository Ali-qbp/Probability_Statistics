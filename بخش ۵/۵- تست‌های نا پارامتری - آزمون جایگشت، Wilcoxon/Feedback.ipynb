{
 "cells": [
  {
   "cell_type": "markdown",
   "metadata": {},
   "source": [
    "# بازخورد اول ۲۷ مهر"
   ]
  },
  {
   "cell_type": "markdown",
   "metadata": {},
   "source": [
    "<div dir=rtl>\n",
    "<ul>\n",
    "    <li>\n",
    "        عالیه خسته نباشید :دی\n",
    "    </li>\n",
    "    <li>\n",
    "        خلاصه و نتیجه‌گیری معنادار تر هم بشه عالی‌تر هم میشه :دی\n",
    "    </li>\n",
    "    <li>\n",
    "        خوبه اونجا که گفته شده: «با کمی بررسی موشکافانه، متوجه می‌شویم که در این روش ما از تمام آنچه که در داده پنهان است استفاده نکرده‌ایم.»\n",
    "        خوبه از اون طرف این که تست t یکسری فرض نرمال بودن و غیره پشتش داره که ممکنه غلط باشه هم گفته شه. (هرچند آخر جزوه گفته میشه اما خوبه دونش همینجا کاشته شه تو ذهن خواننده)\n",
    "    </li>\n",
    "    <li>\n",
    "        اگه تو اولین کد wilcox یه نمودار قشنگی از مسئله (که هم جفت بودن رو نشون بده و هم مقادیر رو) نشون داده بشه عالی میشه.\n",
    "    </li>\n",
    "        <li>\n",
    "            به میلاد:\n",
    "            اگر نگران تلگرام و حساسیت‌های نسبت به اونی میشه داستان رو به فیلتر شدن بله توی کره شمالی تغییر داد :دی\n",
    "    </li>    \n",
    "</ul>\n",
    "</div>"
   ]
  }
 ],
 "metadata": {
  "kernelspec": {
   "display_name": "R",
   "language": "R",
   "name": "ir"
  },
  "language_info": {
   "codemirror_mode": "r",
   "file_extension": ".r",
   "mimetype": "text/x-r-source",
   "name": "R",
   "pygments_lexer": "r",
   "version": "3.5.1"
  },
  "latex_envs": {
   "LaTeX_envs_menu_present": true,
   "autoclose": false,
   "autocomplete": true,
   "bibliofile": "biblio.bib",
   "cite_by": "apalike",
   "current_citInitial": 1,
   "eqLabelWithNumbers": true,
   "eqNumInitial": 1,
   "hotkeys": {
    "equation": "Ctrl-E",
    "itemize": "Ctrl-I"
   },
   "labels_anchors": false,
   "latex_user_defs": false,
   "report_style_numbering": false,
   "user_envs_cfg": false
  },
  "toc": {
   "base_numbering": 1,
   "nav_menu": {},
   "number_sections": true,
   "sideBar": true,
   "skip_h1_title": false,
   "title_cell": "Table of Contents",
   "title_sidebar": "Contents",
   "toc_cell": false,
   "toc_position": {},
   "toc_section_display": true,
   "toc_window_display": false
  },
  "varInspector": {
   "cols": {
    "lenName": 16,
    "lenType": 16,
    "lenVar": 40
   },
   "kernels_config": {
    "python": {
     "delete_cmd_postfix": "",
     "delete_cmd_prefix": "del ",
     "library": "var_list.py",
     "varRefreshCmd": "print(var_dic_list())"
    },
    "r": {
     "delete_cmd_postfix": ") ",
     "delete_cmd_prefix": "rm(",
     "library": "var_list.r",
     "varRefreshCmd": "cat(var_dic_list()) "
    }
   },
   "types_to_exclude": [
    "module",
    "function",
    "builtin_function_or_method",
    "instance",
    "_Feature"
   ],
   "window_display": false
  }
 },
 "nbformat": 4,
 "nbformat_minor": 2
}
