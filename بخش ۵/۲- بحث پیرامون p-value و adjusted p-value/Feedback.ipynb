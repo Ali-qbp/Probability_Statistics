{
 "cells": [
  {
   "cell_type": "markdown",
   "metadata": {},
   "source": [
    "# بازخورد اول ۲۷ مهر"
   ]
  },
  {
   "cell_type": "markdown",
   "metadata": {},
   "source": [
    "<div dir=rtl>\n",
    "<ul>\n",
    "            <li>\n",
    "اول این که مرسی خیلی زحمت کشیدید\n",
    "</li>\n",
    "        <li>\n",
    "قسمت توصیف p-value عالیه.\n",
    "</li>\n",
    "    <li>\n",
    "    تو قسمت adj-p-value فکر کنم همه متد‌ها زیادن و برای بچه‌ها سخت میشه. اگه روش‌های به جز بونفرونی برن توی یه بخش «برای مطالعه بیشتر» ممنون میشم.\n",
    "    </li>\n",
    "    <li>\n",
    "توضیح adjusted-p-value یه کم ناملموس و نادقیقه.\n",
    "        مثلا واقعا چرا «گر  𝑝−𝑣𝑎𝑙𝑢𝑒  ۰.۰۵ باشد، آنگاه ۵ درصد احتمال خطا در قبول یک ژن وجود دارد. حال اگر ۱۰۰ ژن را امتحان کنیم، ۵ ژن به عنوان نمونه‌هایی برای رد فرض \n",
    "        صفر انتخاب می‌شوند »؟\n",
    "بعلاوه این که صورت مسئله چی هست خیلی برای دانشجو ناملموس خواهد بود. چرا که اصلا ژن چیه؟ تاثیر چیه؟ این ها بیوانفورماتیک نخوندن خب :دی\n",
    "</li>\n",
    "        <li>\n",
    "فکر کنم اگه این بخش با یک مثال عملی که کدش توی R هست شروع شه و بچه‌ها ببینن که الکی داره یکسری تفاوت مشاهده میشه خیلی قشنگ شه.\n",
    "            پیشنهاد من اینه که یک داده واقعی که چندین صفت عددی داره رو (میتونه ژن باشه ولی قبلش باید یه توضیح کمی داده شه) به صورت تصادفی به دو قسمت تقسیم کنید و روی تک تک مؤلفه‌ها تست بگیرید و ببینید که یکسری p-value واقعا کمند. بعد مشکل رو با روش بونفرونی حل کنید.\n",
    "    </li>\n",
    "        <li>\n",
    "            پیشاپیش مرسی از زحمتی که برای اصلاح می‌کشید.\n",
    "    </li>\n",
    "</ul>\n",
    "</div>"
   ]
  },
  {
   "cell_type": "code",
   "execution_count": null,
   "metadata": {
    "collapsed": true
   },
   "outputs": [],
   "source": []
  }
 ],
 "metadata": {
  "kernelspec": {
   "display_name": "R",
   "language": "R",
   "name": "ir"
  },
  "language_info": {
   "codemirror_mode": "r",
   "file_extension": ".r",
   "mimetype": "text/x-r-source",
   "name": "R",
   "pygments_lexer": "r",
   "version": "3.5.1"
  },
  "latex_envs": {
   "LaTeX_envs_menu_present": true,
   "autoclose": false,
   "autocomplete": true,
   "bibliofile": "biblio.bib",
   "cite_by": "apalike",
   "current_citInitial": 1,
   "eqLabelWithNumbers": true,
   "eqNumInitial": 1,
   "hotkeys": {
    "equation": "Ctrl-E",
    "itemize": "Ctrl-I"
   },
   "labels_anchors": false,
   "latex_user_defs": false,
   "report_style_numbering": false,
   "user_envs_cfg": false
  },
  "toc": {
   "base_numbering": 1,
   "nav_menu": {},
   "number_sections": true,
   "sideBar": true,
   "skip_h1_title": false,
   "title_cell": "Table of Contents",
   "title_sidebar": "Contents",
   "toc_cell": false,
   "toc_position": {},
   "toc_section_display": true,
   "toc_window_display": false
  },
  "varInspector": {
   "cols": {
    "lenName": 16,
    "lenType": 16,
    "lenVar": 40
   },
   "kernels_config": {
    "python": {
     "delete_cmd_postfix": "",
     "delete_cmd_prefix": "del ",
     "library": "var_list.py",
     "varRefreshCmd": "print(var_dic_list())"
    },
    "r": {
     "delete_cmd_postfix": ") ",
     "delete_cmd_prefix": "rm(",
     "library": "var_list.r",
     "varRefreshCmd": "cat(var_dic_list()) "
    }
   },
   "types_to_exclude": [
    "module",
    "function",
    "builtin_function_or_method",
    "instance",
    "_Feature"
   ],
   "window_display": false
  }
 },
 "nbformat": 4,
 "nbformat_minor": 2
}
