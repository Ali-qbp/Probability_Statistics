{
 "cells": [
  {
   "cell_type": "markdown",
   "metadata": {},
   "source": []
  },
  {
   "cell_type": "markdown",
   "metadata": {},
   "source": [
    "<div dir=rtl>\n",
    "<ul>\n",
    "    <li>\n",
    " خیلی عالی توضیح داده شده. دستتون درد نکنه\n",
    "    </li>\n",
    "        <li>\n",
    "توی شکل آخر، فرض جایگزین با $H_A$ نشون داده شده، که توی متن فقط گفته شده که فرض جایگزین رو با $H_1$ نشون میدیم.\n",
    "    </li>\n",
    "    <li>\n",
    "      یه نکته هم اینکه، فک کنم اکثر جاها وقتی فرض صفر رد نمیشه، نمیگن که فرض جایگزین قبول شد، میگن که فرض صفر رو نتونستیم رد کنیم. (fail to reject the null hypothesis)، فک کنم روی این یک مقدار تاکید بشه. \n",
    "        </li>\n",
    "</ul>\n",
    "</div>"
   ]
  },
  {
   "cell_type": "markdown",
   "metadata": {},
   "source": [
    "<div dir=rtl>\n",
    "<ul>\n",
    "    <li>\n",
    "ممنون خیلی زحمت کشیدید\n",
    "    </li>\n",
    "        <li>\n",
    "            اگه ممکنه یک خلاصه‌ی خوب هم تهش بذارید عالی میشه. (اون قسمت تعاریف خیلی شبیه خلاصه هست) حتی فکر کنم اون رو بذارید خلاصه و تعاریف رو با توضیح بیشتری بنویسید جالب تر میشه.\n",
    "    </li>\n",
    "    <li>\n",
    "        توی بخش تعاریف جای یک شگل قشنگ خالی است.  نمونه را برایتان ارسال می‌کنم\n",
    "        </li>\n",
    "        <li>\n",
    "            برای انواع خطا یک شکل مشهور وجود دارد. آن را هم اگر بگذارید فوق العاده می‌شود.\n",
    "            https://2378nh2nfow32gm3mb25krmuyy-wpengine.netdna-ssl.com/wp-content/uploads/2014/05/Type-I-and-II-errors1-625x468.jpg\n",
    "    </li>\n",
    "</ul>\n",
    "</div>"
   ]
  },
  {
   "cell_type": "markdown",
   "metadata": {},
   "source": [
    "من نفهمیدم کجا گفته شده‌است که فرض صفر رد نمبشود."
   ]
  },
  {
   "cell_type": "code",
   "execution_count": null,
   "metadata": {},
   "outputs": [],
   "source": []
  }
 ],
 "metadata": {
  "kernelspec": {
   "display_name": "R",
   "language": "R",
   "name": "ir"
  },
  "language_info": {
   "codemirror_mode": "r",
   "file_extension": ".r",
   "mimetype": "text/x-r-source",
   "name": "R",
   "pygments_lexer": "r",
   "version": "3.5.1"
  },
  "latex_envs": {
   "LaTeX_envs_menu_present": true,
   "autoclose": false,
   "autocomplete": true,
   "bibliofile": "biblio.bib",
   "cite_by": "apalike",
   "current_citInitial": 1,
   "eqLabelWithNumbers": true,
   "eqNumInitial": 1,
   "hotkeys": {
    "equation": "Ctrl-E",
    "itemize": "Ctrl-I"
   },
   "labels_anchors": false,
   "latex_user_defs": false,
   "report_style_numbering": false,
   "user_envs_cfg": false
  },
  "toc": {
   "base_numbering": 1,
   "nav_menu": {},
   "number_sections": true,
   "sideBar": true,
   "skip_h1_title": false,
   "title_cell": "Table of Contents",
   "title_sidebar": "Contents",
   "toc_cell": false,
   "toc_position": {},
   "toc_section_display": true,
   "toc_window_display": false
  },
  "varInspector": {
   "cols": {
    "lenName": 16,
    "lenType": 16,
    "lenVar": 40
   },
   "kernels_config": {
    "python": {
     "delete_cmd_postfix": "",
     "delete_cmd_prefix": "del ",
     "library": "var_list.py",
     "varRefreshCmd": "print(var_dic_list())"
    },
    "r": {
     "delete_cmd_postfix": ") ",
     "delete_cmd_prefix": "rm(",
     "library": "var_list.r",
     "varRefreshCmd": "cat(var_dic_list()) "
    }
   },
   "types_to_exclude": [
    "module",
    "function",
    "builtin_function_or_method",
    "instance",
    "_Feature"
   ],
   "window_display": false
  }
 },
 "nbformat": 4,
 "nbformat_minor": 2
}
