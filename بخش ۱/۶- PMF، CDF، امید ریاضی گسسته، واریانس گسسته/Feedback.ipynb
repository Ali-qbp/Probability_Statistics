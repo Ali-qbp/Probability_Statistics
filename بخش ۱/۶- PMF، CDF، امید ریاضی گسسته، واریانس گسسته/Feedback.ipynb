{
 "cells": [
  {
   "cell_type": "markdown",
   "metadata": {},
   "source": [
    "# بازخورد اول ۲۰ مهر"
   ]
  },
  {
   "cell_type": "markdown",
   "metadata": {},
   "source": [
    "<div dir=rtl>\n",
    "<ul>\n",
    "<li>\n",
    "    جزوه خیلی شبیه کتاب درسیه. خیلی قسمت‌هاش غیر لازمه (مثلا چرا تو این مبحث پایهای باید اسمی از اعداد مختلط برده بشه؟) و خیلی شهودهای لازم رو هم نداره و بعضا جبری سعی شده با قضیه برخورد بشه.\n",
    "</li>\n",
    "<li>\n",
    "    پیشنهاد می‌کنم بخش قبلی جزوه که از آقای کارگر باقی مونده رو به طور کلی حذف کنید چون اون قسمت صرفا تایپ شده‌ی جزوه‌ی دکتر نابیه  و واقعا برای قالب فعلی درس بی کیفیته. اصلا برای همینه که از ایشون به عنوان تیم تدریس انتخاب نشدن.\n",
    "</li>\n",
    "</ul>\n",
    "</div>"
   ]
  },
  {
   "cell_type": "markdown",
   "metadata": {},
   "source": [
    "# بازخورد دوم 24 مهر"
   ]
  },
  {
   "cell_type": "markdown",
   "metadata": {},
   "source": [
    "<div dir = \"rtl\"> \n",
    "    <ul>\n",
    "        <li> حرفی اضافه تر از بازخورد قبلی ندارم. بهتره که از قالب کلی دفترچه ها پیروی کنه(مثلن اول با یک سوال شروع شه و ...) </li>\n",
    "        <li> بعضی عکس ها باز نمیشن.</li>\n",
    "        <li> یه سری مربع کنار فهرست میان برا من. اونارو هم اگه میشه درست کنین.</li>\n",
    "    </ul>\n",
    "    </div>"
   ]
  },
  {
   "cell_type": "code",
   "execution_count": null,
   "metadata": {},
   "outputs": [],
   "source": []
  }
 ],
 "metadata": {
  "kernelspec": {
   "display_name": "R",
   "language": "R",
   "name": "ir"
  },
  "language_info": {
   "codemirror_mode": "r",
   "file_extension": ".r",
   "mimetype": "text/x-r-source",
   "name": "R",
   "pygments_lexer": "r",
   "version": "3.4.1"
  },
  "latex_envs": {
   "LaTeX_envs_menu_present": true,
   "autoclose": false,
   "autocomplete": true,
   "bibliofile": "biblio.bib",
   "cite_by": "apalike",
   "current_citInitial": 1,
   "eqLabelWithNumbers": true,
   "eqNumInitial": 1,
   "hotkeys": {
    "equation": "Ctrl-E",
    "itemize": "Ctrl-I"
   },
   "labels_anchors": false,
   "latex_user_defs": false,
   "report_style_numbering": false,
   "user_envs_cfg": false
  },
  "toc": {
   "base_numbering": 1,
   "nav_menu": {},
   "number_sections": true,
   "sideBar": true,
   "skip_h1_title": false,
   "title_cell": "Table of Contents",
   "title_sidebar": "Contents",
   "toc_cell": false,
   "toc_position": {},
   "toc_section_display": true,
   "toc_window_display": false
  },
  "varInspector": {
   "cols": {
    "lenName": 16,
    "lenType": 16,
    "lenVar": 40
   },
   "kernels_config": {
    "python": {
     "delete_cmd_postfix": "",
     "delete_cmd_prefix": "del ",
     "library": "var_list.py",
     "varRefreshCmd": "print(var_dic_list())"
    },
    "r": {
     "delete_cmd_postfix": ") ",
     "delete_cmd_prefix": "rm(",
     "library": "var_list.r",
     "varRefreshCmd": "cat(var_dic_list()) "
    }
   },
   "types_to_exclude": [
    "module",
    "function",
    "builtin_function_or_method",
    "instance",
    "_Feature"
   ],
   "window_display": false
  }
 },
 "nbformat": 4,
 "nbformat_minor": 2
}
