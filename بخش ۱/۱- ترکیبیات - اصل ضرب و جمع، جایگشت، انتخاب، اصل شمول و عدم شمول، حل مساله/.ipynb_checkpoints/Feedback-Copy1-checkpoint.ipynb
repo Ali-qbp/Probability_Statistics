{
 "cells": [
  {
   "cell_type": "markdown",
   "metadata": {},
   "source": [
    "# بازخورد اول ۲۳ مهر"
   ]
  },
  {
   "cell_type": "markdown",
   "metadata": {},
   "source": [
    "<div dir=rtl>\n",
    "<ul>\n",
    "    <li>\n",
    "خیلی خوبه به ویژه شکل‌ها فوق‌العاده هستند.\n",
    "</li>\n",
    "    <li>\n",
    "راه حل مسئله ی پله‌ها درسته؟!؟!\n",
    "</li>\n",
    "    <li>\n",
    "اگه میشد برای جایگشت دوری و ترکیب‌ها هم عکس مرتبط گذاشت عالی میشد.\n",
    "</li>\n",
    "    <li>\n",
    "خوبه در قسمت خلاصه، خیلی معنادارتر خلاصه هر بخش گفته بشه. مثلا اگر چند پدیده جدا از هم داشته باشیم طبق اصل جمع ... یا مثلا در یک جایگشت دوری تعداد حالات ممکن برابر است با ...\n",
    "</li>\n",
    "    <li>\n",
    "این که آخر جزوه از احتمال صحبت شده جالبه. اما فکر نکنم بچه‌ها متوجه شن چون اولا احتمال تصادف با رویکرد فراوانی‌گرایانه که شاید قبلا دیدن نخونه و گیج شن و ثانیا استقلال رو هنوز نمیدونن چیه.\n",
    "</li>\n",
    "    <li>\n",
    "        مرسی برای جزوه خوش رنگ و لعاب\n",
    "</li>\n",
    "</ul>\n",
    "</div>"
   ]
  }
 ],
 "metadata": {
  "kernelspec": {
   "display_name": "R",
   "language": "R",
   "name": "ir"
  },
  "language_info": {
   "codemirror_mode": "r",
   "file_extension": ".r",
   "mimetype": "text/x-r-source",
   "name": "R",
   "pygments_lexer": "r",
   "version": "3.5.1"
  },
  "latex_envs": {
   "LaTeX_envs_menu_present": true,
   "autoclose": false,
   "autocomplete": true,
   "bibliofile": "biblio.bib",
   "cite_by": "apalike",
   "current_citInitial": 1,
   "eqLabelWithNumbers": true,
   "eqNumInitial": 1,
   "hotkeys": {
    "equation": "Ctrl-E",
    "itemize": "Ctrl-I"
   },
   "labels_anchors": false,
   "latex_user_defs": false,
   "report_style_numbering": false,
   "user_envs_cfg": false
  },
  "toc": {
   "base_numbering": 1,
   "nav_menu": {},
   "number_sections": true,
   "sideBar": true,
   "skip_h1_title": false,
   "title_cell": "Table of Contents",
   "title_sidebar": "Contents",
   "toc_cell": false,
   "toc_position": {},
   "toc_section_display": true,
   "toc_window_display": false
  },
  "varInspector": {
   "cols": {
    "lenName": 16,
    "lenType": 16,
    "lenVar": 40
   },
   "kernels_config": {
    "python": {
     "delete_cmd_postfix": "",
     "delete_cmd_prefix": "del ",
     "library": "var_list.py",
     "varRefreshCmd": "print(var_dic_list())"
    },
    "r": {
     "delete_cmd_postfix": ") ",
     "delete_cmd_prefix": "rm(",
     "library": "var_list.r",
     "varRefreshCmd": "cat(var_dic_list()) "
    }
   },
   "types_to_exclude": [
    "module",
    "function",
    "builtin_function_or_method",
    "instance",
    "_Feature"
   ],
   "window_display": false
  }
 },
 "nbformat": 4,
 "nbformat_minor": 2
}
