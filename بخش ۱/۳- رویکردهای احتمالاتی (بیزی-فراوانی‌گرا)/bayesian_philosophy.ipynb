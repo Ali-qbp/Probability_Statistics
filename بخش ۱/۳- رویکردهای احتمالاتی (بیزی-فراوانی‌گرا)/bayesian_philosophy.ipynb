{
 "cells": [
  {
   "cell_type": "markdown",
   "metadata": {},
   "source": [
    "<div style=\"direction:rtl;line-height:300%;\">\n",
    "\t<font face=\"XB Zar\" size=5>\n",
    "\t\t<div align=center>\n",
    "\t\t\t<font face=\"IranNastaliq\" size=30>\n",
    "\t\t\t\t<p></p>\n",
    "\t\t\t\t<p></p>\n",
    "به نام خدا\n",
    "\t\t\t\t<p></p>\n",
    "\t\t\t</font>\n",
    "\t\t\t<font color=#FF7500>\n",
    "دانشگاه صنعتی شریف - دانشکده مهندسی کامپیوتر\n",
    "            </font>\n",
    "\t\t\t<p></p>\n",
    "\t\t\t<font color=blue>\n",
    "آمار و احتمال مهندسی\n",
    "            </font>\n",
    "\t\t\t<br />\n",
    "\t\t\t<br />\n",
    "پاییز ۱۳۹۷\n",
    "\t\t</div>\n",
    "\t\t<hr/>\n",
    "\t\t<font color=red size=6>\n",
    "\t\t\t<br />\n",
    "\t\t\t<div align=center>\n",
    "رویکرد‌های فراوانی‌گرا و بیزین\n",
    "            </div>\n",
    "\t\t</font>\n",
    "\t\t<br />\n",
    "\t\t<div align=center>\n",
    "میلاد آقاجوهری\n",
    "        </div>\n",
    "\t\t<hr />\n",
    "\t\t<style type=\"text/css\" scoped>\n",
    "        p{\n",
    "        border: 1px solid #a2a9b1;background-color: #f8f9fa;display: inline-block;\n",
    "        };\n",
    "        </style>\n",
    "\t\t<div>\n",
    "\t\t\t<h3>فهرست مطالب</h3>\n",
    "\t\t\t<ul style=\"margin-right: 0;\">\n",
    "                <li>\n",
    "                    <a href=\"#prob_what_is\">\n",
    "                        احتمال چیست؟\n",
    "                    </a>\n",
    "                </li>\n",
    "                <li>\n",
    "                    <a href=\"#frequentist_intro\">\n",
    "                       رویکرد فراوانی‌گرا\n",
    "                    </a>\n",
    "                </li>\n",
    "\t\t\t\t<li>\n",
    "                    <a href=\"#bayesian_intro\">\n",
    "                        فلسفه‌ی بیزین\n",
    "                    </a>\n",
    "                </li>\n",
    "                <li>\n",
    "                    <a href=\"#bayesian_cons_pros\">\n",
    "                        بیزین زیر نقد\n",
    "                    </a>\n",
    "                </li>\n",
    "\t\t\t</ul>\n",
    "\t\t</div>\n",
    "\t</font>\n",
    "</div>"
   ]
  },
  {
   "cell_type": "markdown",
   "metadata": {},
   "source": [
    "<p></p>\n",
    "<br />\n",
    "<div id=\"prob_what_is\" style=\"direction:rtl;line-height:300%;\">\n",
    "\t<font face=\"XB Zar\" size=5>\n",
    "\t\t<font color=#FF7500 size=6>\n",
    "احتمال چیست؟\n",
    "        </font>\n",
    "\t\t<p></p>\n",
    "\t\t<hr>\n",
    "فرض کنید که احمد برای موفقیت در مسابقات بسکتبال تلاش می‌کند. مربی او به او می‌گوید، احمد در حال حاضر در یک تلاش برای پرتاب توپ به داخل سبد به احتمال \n",
    "        $\\frac{1}{3}$\n",
    "        آن را به داخل سبد می‌اندازد ولی برای موفقیت در بسکتبال باید او به گونه‌ای تلاش کند که این احتمال به \n",
    "        $\\frac{1}{2}$\n",
    "        برسد.\n",
    "        سوال اساسی این است که وقتی می‌گوییم احتمال انداختن توپ به داخل سبد برابر با \n",
    "        $\\frac{1}{3}$\n",
    "        است، در واقع از چه حرف می‌زنیم؟\n",
    "        اگر بخواهیم تعریف دقیقی از احتمال یک رویداد بیان کنیم، چه می‌گوییم؟\n",
    "        قبل از اینکه به خواندن ادامه دهید، لطفا در ذهن خود کمی مرور کنید. آیا هیچ‌ تعریف دقیق‌تری از یک احساس شهودی نسبت به احتمال دارید؟\n",
    "     <img src = \"./figs/basketball.jpg\" scale = 0.5></img>\n",
    "    در دنیای آمار و احتمال، دو رویکرد به احتمال بسیار مطرح و مهم هستند. یکی از این رویکرد‌ها به احتمال \n",
    "    «بیزین»\n",
    "    و دیگری \n",
    "    «فراوانی‌گرا»\n",
    "    نام دارد.\n",
    "    در ادامه به توضیح هر کدام از آن‌ها می‌پردازیم.\n",
    "    </font>\n",
    "</div>"
   ]
  },
  {
   "cell_type": "markdown",
   "metadata": {},
   "source": [
    "<p></p>\n",
    "<br />\n",
    "<div id=\"frequentist_intro\" style=\"direction:rtl;line-height:300%;\">\n",
    "\t<font face=\"XB Zar\" size=5>\n",
    "\t\t<font color=#FF7500 size=6>\n",
    "رویکرد فراوانی‌گرا\n",
    "        </font>\n",
    "\t\t<p></p>\n",
    "\t\t<hr>\n",
    "رویکرد فراوانی‌گرا به احتمال یک پدیده به عنوان حد تعداد مرتبه‌های تکرار یک رویداد هنگامی که تعداد تکرار آن پدیده به بی‌نهایت میل می‌کند، نگاه می‌کند.\n",
    "       این تعریف در ابتدا بسیار پیچیده به نظر می‌رسد اما حرف آن بسیار ساده است.\n",
    "        در واقع مثلا وقتی می‌گوییم که \n",
    "        «احمد با سطح مهارت فعلی‌اش به احتمال یک سوم توپ را به داخل سبد می‌اندازد»\n",
    "       از نگاه فراوانی‌گرا در واقع ما گفته‌ایم  اگر احمد  \n",
    "        $n$\n",
    "        بار برای انداختن توپ به سبد تلاش کند، که\n",
    "        آنگاه\n",
    "        $lim_{n\\rightarrow \\infty} \\frac{hit}{n} = \\frac{1}{3}$\n",
    "        .\n",
    "        نگاهی به نمودار زیر بیاندازید\n",
    "        )\n",
    "        توصیه‌ی بسیار می‌کنم که چندین بار کد زیر را اجرا کنید تا حاصل اجراهای مختلف را ببینید. خط قرمز عدد یک سوم است)\n",
    "        :\n",
    "    </font>\n",
    "</div>"
   ]
  },
  {
   "cell_type": "code",
   "execution_count": 29,
   "metadata": {},
   "outputs": [
    {
     "data": {},
     "metadata": {},
     "output_type": "display_data"
    },
    {
     "data": {
      "image/png": "[encoded data removed]",
      "text/plain": [
       "plot without title"
      ]
     },
     "metadata": {},
     "output_type": "display_data"
    }
   ],
   "source": [
    "library(dplyr)\n",
    "library(ggplot2)\n",
    "tries <- 1000\n",
    "rbinom(size = 1, prob = 1/3, n = tries) -> hit\n",
    "hit <- cumsum(hit)\n",
    "hit.df <- data.frame(hit = hit, try = 1:tries)\n",
    "hit.df %>% mutate(fraction = hit/try) -> hit.df\n",
    "ggplot(hit.df)+geom_point(aes(x = try, y = fraction), alpha = 0.2, size = 0.05) + geom_abline(intercept = 0.33, slope = 0, color = \"red\")"
   ]
  },
  {
   "cell_type": "markdown",
   "metadata": {},
   "source": [
    "<p></p>\n",
    "<br />\n",
    "<div id=\"frequentist_intro\" style=\"direction:rtl;line-height:300%;\">\n",
    "\t<font face=\"XB Zar\" size=5>\n",
    "\t\t<p></p>\n",
    "        برای آشنای با زبان \n",
    "        R\n",
    "        یادگیری  کد بالا میتوانید به دفترچه های \n",
    "        \"\n",
    "        مقدمات\n",
    "        R,\n",
    "        نمایش داده با استفاده از \n",
    "        ggplot2\n",
    "        در\n",
    "        R\"\n",
    "        مراجعه کنید.\n",
    "\t\t<hr>\n",
    "    </font>\n",
    "</div>"
   ]
  },
  {
   "cell_type": "markdown",
   "metadata": {},
   "source": [
    "<p></p>\n",
    "<br />\n",
    "<div id=\"bayesian_intro\" style=\"direction:rtl;line-height:300%;\">\n",
    "\t<font face=\"XB Zar\" size=5>\n",
    "\t\t<font color=#FF7500 size=6>\n",
    "فلسفه‌ی بیزین\n",
    "        </font>\n",
    "\t\t<p></p>\n",
    "\t\t<hr>\n",
    "همانطور که تا به اینجا دیدیم آمار و احتمال در مدل کردن نتیجه‌ی پدیده‌هایی که از نظر ما تکرار می‌شوند کارآمد است. اما ریاضی‌دان‌ها به این راضی نبودند. فرض کنید که در جهان ما هشت میلیارد انسان داشته باشیم که دو میلیارد نفر از آن‌ها در فقر زندگی می‌کنند. پس اگر به طور تصادفی از میان انسان‌ها انتخاب کنیم، شخص انتخاب شده به احتمال یک چهارم فقیر خواهد بود. اما انسان‌های مختلف در نقاط مختلف دنیا این احتمال را به طور یکسان برآورد نمی‌کنند. برای روشن شدن منظور من کودکی را در نظر بگیرید که در یکی از مناطق بسیار پردرآمد کره‌ی زمین زندگی می‌کند و تا به حال هیچ انسان فقیری را ندیده است. او نه از فقر چیزی شنیده است و نه تا به حال کودکان فقیر را دیده است. این کودک ممکن است احتمالی را که در بالا مطرح شد به جای یک چهارم، یک هزارم تخمین بزند. اما در عوض کودکی که در یکی از مناطق محروم زندگی می‌کند، احتمال فقیر بودن انسان‌های دنیا را ممکن است بیش از یک چهارم برآورد کند، مخصوصا اگر تا به حال انسان پولداری را در زندگیش مشاهده نکرده باشد. \n",
    "        <hr>\n",
    "        این‌جاست که تعبیر بیزین از احتمال به کار گرفته می‌شود. در فلسفه‌ی بیزین احتمال یک رویداد، به مقدار باور ما به آن رویداد تعبیر می‌شود. پس به تعبیر بیزین وقتی من معتقد هستم که احتمال باران آمدن امروز $\\frac{1}{3}$ است \n",
    "        این بدین معنی است که من به باران آمدن در امروز \n",
    "        $\\frac{1}{3}$\n",
    "         باور دارم\n",
    "\t. \n",
    "    </font>\n",
    "</div>"
   ]
  },
  {
   "cell_type": "markdown",
   "metadata": {},
   "source": [
    "<p></p>\n",
    "<br />\n",
    "<div id=\"bayesian_cons_pros\" style=\"direction:rtl;line-height:300%;\">\n",
    "\t<font face=\"XB Zar\" size=5>\n",
    "\t\t<font color=#FF7500 size=6>\n",
    "بیزین زیر نقد\n",
    "        </font>\n",
    "        <ul>\n",
    "         <li>\n",
    "تعبیر بیزین از احتمال، که در واقع احتمال را به یک ابزار برای ابراز میزان باور، تفسیر می‌کند، مزیت‌های زیادی دارد و راه را برای استفاده‌های بسیاری از آمار و احتمال باز می‌کند. فرض کنید که می‌خواهیم برنامه‌ای بنویسیم که با ورودی گرفتن تصویر یک میوه بگوید که چقدر احتمال دارد که آن میوه کال باشد. در اینجا تعبیر تکرارگرا از آمار و احتمال جمله‌ای نه چندان دلچسب را نتیجه می‌دهد. فرض کنید برنامه‌ی ما احتمال کال بودن میوه را \n",
    "        $0.7$\n",
    "        اعلام می‌کند. \n",
    "        معنای این عدد چیست؟ آیا یعنی برنامه‌ی ما می‌گوید اگر این سیب  را ده بار بچینیم از هر ده بار ۷ بار آن کال خواهد بود؟ یا در واقع اگر بی‌نهایت بار آن را بچینیم، در هفت دهم موارد میوه‌ای کال نصیب ما خواهد شد؟ همانطور که می‌بینید تعبیر بیزین اینجا بسیار کارگشاست در واقع برنامه‌ی ما در اینجا به میزان هفت دهم باور دارد که این میوه کال است.\n",
    "        </li>\n",
    "        <li>\n",
    "             هم‌چنین تعبیر بیزین از آمار و احتمال این دید را \n",
    "             به ما می‌دهد که احتمالی که انسان‌ها یا برنامه‌های مختلف برای رویدادهای یکسان در نظر می‌گیرند می‌تواند متفاوت باشد. برای همین است که کودکی در منطقه‌ای کاملا فقیر درصد فقر در دنیا را بیش از آنچه هست و کودکی در منطقه‌ی پولدار درصد فقر در دنیا را کمتر از آنچه هست تخمین می‌زند. در واقع تعبیر بیزین این قدرت تحلیل را به ما می‌دهد که باور افراد مختلف را با توجه به داده‌هایی که دریافت کرده‌اند تعبیر کنیم. در این زمینه در نوشتار بعدی بیشتر به گفت و گو خواهیم نشست.\n",
    "        </li>\n",
    "        </ul>\n",
    "    </font>\n",
    "</div>"
   ]
  },
  {
   "cell_type": "markdown",
   "metadata": {},
   "source": [
    "<p></p>\n",
    "<br />\n",
    "<div id=\"bayesianـcons_pros\" style=\"direction:rtl;line-height:300%;\">\n",
    "\t<font face=\"XB Zar\" size=5>\n",
    "\t\t<font color=#FF7500 size=6>\n",
    "منابع\n",
    "        </font>\n",
    "        <ul>\n",
    "         <li>\n",
    "             Photo by Malcolm Lightbody on Unsplash\n",
    "         </li>\n",
    "\t\t<p></p>\n",
    "\t\t<hr>\n",
    "        </ul>\n",
    "    </font>\n",
    "</div>"
   ]
  },
  {
   "cell_type": "code",
   "execution_count": null,
   "metadata": {},
   "outputs": [],
   "source": []
  }
 ],
 "metadata": {
  "kernelspec": {
   "display_name": "R",
   "language": "R",
   "name": "ir"
  },
  "language_info": {
   "codemirror_mode": "r",
   "file_extension": ".r",
   "mimetype": "text/x-r-source",
   "name": "R",
   "pygments_lexer": "r",
   "version": "3.4.1"
  },
  "latex_envs": {
   "LaTeX_envs_menu_present": true,
   "autoclose": false,
   "autocomplete": true,
   "bibliofile": "biblio.bib",
   "cite_by": "apalike",
   "current_citInitial": 1,
   "eqLabelWithNumbers": true,
   "eqNumInitial": 1,
   "hotkeys": {
    "equation": "Ctrl-E",
    "itemize": "Ctrl-I"
   },
   "labels_anchors": false,
   "latex_user_defs": false,
   "report_style_numbering": false,
   "user_envs_cfg": false
  },
  "toc": {
   "base_numbering": 1,
   "nav_menu": {},
   "number_sections": true,
   "sideBar": true,
   "skip_h1_title": false,
   "title_cell": "Table of Contents",
   "title_sidebar": "Contents",
   "toc_cell": false,
   "toc_position": {},
   "toc_section_display": true,
   "toc_window_display": false
  },
  "varInspector": {
   "cols": {
    "lenName": 16,
    "lenType": 16,
    "lenVar": 40
   },
   "kernels_config": {
    "python": {
     "delete_cmd_postfix": "",
     "delete_cmd_prefix": "del ",
     "library": "var_list.py",
     "varRefreshCmd": "print(var_dic_list())"
    },
    "r": {
     "delete_cmd_postfix": ") ",
     "delete_cmd_prefix": "rm(",
     "library": "var_list.r",
     "varRefreshCmd": "cat(var_dic_list()) "
    }
   },
   "types_to_exclude": [
    "module",
    "function",
    "builtin_function_or_method",
    "instance",
    "_Feature"
   ],
   "window_display": false
  }
 },
 "nbformat": 4,
 "nbformat_minor": 1
}
