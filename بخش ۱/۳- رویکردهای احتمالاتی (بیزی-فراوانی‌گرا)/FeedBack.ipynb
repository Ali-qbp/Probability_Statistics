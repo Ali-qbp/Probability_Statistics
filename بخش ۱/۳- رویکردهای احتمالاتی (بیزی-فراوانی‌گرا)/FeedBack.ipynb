{
 "cells": [
  {
   "cell_type": "markdown",
   "metadata": {},
   "source": [
    "<div dir = \"rtl\">\n",
    "    <ul> \n",
    "        <li>\n",
    "            همه چیز خیلی عالی بود. دستتون درد نکنه. فقط یه نکته ای قسمتی که کد \n",
    "            R\n",
    "            وجود داره چون تو جزوه مقدمات \n",
    "            R\n",
    "            حرفی از کتابخونه\n",
    "            dplyr\n",
    "            زده نشده ممکنه درک این کد برای افرادی که قراره آمارو از روی این دفترچه ها یادبگیرین سخت باشه. اگه ممکنه \n",
    "        این قسمت رو بدون استفاده ازین کتابخونه بنویسین.\n",
    "            همچنین چون توابعی مثل\n",
    "            rbinom\n",
    "            رو توی بخش دو قراره پوشش بدیم، یه توضیحی خیلی مختصر بنویسین که این تابع چیکار داره میکنه و بعدا دقیق تر آشنا میشیم باهاش.\n",
    "        </li>\n",
    "    </ul>\n",
    "    </div>"
   ]
  },
  {
   "cell_type": "code",
   "execution_count": null,
   "metadata": {},
   "outputs": [],
   "source": []
  }
 ],
 "metadata": {
  "kernelspec": {
   "display_name": "R",
   "language": "R",
   "name": "ir"
  },
  "language_info": {
   "codemirror_mode": "r",
   "file_extension": ".r",
   "mimetype": "text/x-r-source",
   "name": "R",
   "pygments_lexer": "r",
   "version": "3.5.1"
  },
  "latex_envs": {
   "LaTeX_envs_menu_present": true,
   "autoclose": false,
   "autocomplete": true,
   "bibliofile": "biblio.bib",
   "cite_by": "apalike",
   "current_citInitial": 1,
   "eqLabelWithNumbers": true,
   "eqNumInitial": 1,
   "hotkeys": {
    "equation": "Ctrl-E",
    "itemize": "Ctrl-I"
   },
   "labels_anchors": false,
   "latex_user_defs": false,
   "report_style_numbering": false,
   "user_envs_cfg": false
  },
  "toc": {
   "base_numbering": 1,
   "nav_menu": {},
   "number_sections": true,
   "sideBar": true,
   "skip_h1_title": false,
   "title_cell": "Table of Contents",
   "title_sidebar": "Contents",
   "toc_cell": false,
   "toc_position": {},
   "toc_section_display": true,
   "toc_window_display": false
  },
  "varInspector": {
   "cols": {
    "lenName": 16,
    "lenType": 16,
    "lenVar": 40
   },
   "kernels_config": {
    "python": {
     "delete_cmd_postfix": "",
     "delete_cmd_prefix": "del ",
     "library": "var_list.py",
     "varRefreshCmd": "print(var_dic_list())"
    },
    "r": {
     "delete_cmd_postfix": ") ",
     "delete_cmd_prefix": "rm(",
     "library": "var_list.r",
     "varRefreshCmd": "cat(var_dic_list()) "
    }
   },
   "types_to_exclude": [
    "module",
    "function",
    "builtin_function_or_method",
    "instance",
    "_Feature"
   ],
   "window_display": false
  }
 },
 "nbformat": 4,
 "nbformat_minor": 2
}
