{
 "cells": [
  {
   "cell_type": "markdown",
   "metadata": {},
   "source": [
    "<div dir = \"rtl\">\n",
    "    <ul> \n",
    "        <li>\n",
    "            همه چیز خیلی عالی بود. دستتون درد نکنه. فقط یه نکته ای قسمتی که کد \n",
    "            R\n",
    "            وجود داره چون تو جزوه مقدمات \n",
    "            R\n",
    "            حرفی از کتابخونه\n",
    "            dplyr\n",
    "            زده نشده ممکنه درک این کد برای افرادی که قراره آمارو از روی این دفترچه ها یادبگیرین سخت باشه. اگه ممکنه \n",
    "        این قسمت رو بدون استفاده ازین کتابخونه بنویسین.\n",
    "            همچنین چون توابعی مثل\n",
    "            rbinom\n",
    "            رو توی بخش دو قراره پوشش بدیم، یه توضیحی خیلی مختصر بنویسین که این تابع چیکار داره میکنه و بعدا دقیق تر آشنا میشیم باهاش.\n",
    "        </li>\n",
    "    </ul>\n",
    "    </div>"
   ]
  },
  {
   "cell_type": "code",
   "execution_count": null,
   "metadata": {},
   "outputs": [],
   "source": []
  }
 ],
 "metadata": {
  "kernelspec": {
   "display_name": "R",
   "language": "R",
   "name": "ir"
  },
  "language_info": {
   "codemirror_mode": "r",
   "file_extension": ".r",
   "mimetype": "text/x-r-source",
   "name": "R",
   "pygments_lexer": "r",
   "version": "3.4.1"
  }
 },
 "nbformat": 4,
 "nbformat_minor": 2
}
