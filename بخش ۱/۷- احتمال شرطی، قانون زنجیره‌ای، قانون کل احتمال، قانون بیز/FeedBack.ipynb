{
 "cells": [
  {
   "cell_type": "markdown",
   "metadata": {},
   "source": [
    "<div dir = \"rtl\">\n",
    "    <ul> \n",
    "        <li>\n",
    "            خیلی عالی بود همه چیز. خسته نباشید.\n",
    "        </li>\n",
    "                <li>\n",
    "                    یه نکته ای، تو کل دفترچه جایی به مستقل بودن دوتا متغیر تصادفی اشاره نشد. اگه ممکنه این بخشو هم اضافه کنین چون جلوتر تو فصل دوم درس به این مفهوم برمیخورن و خوبه توی این بخش بدون دونستن \n",
    "                    f(x)\n",
    "                    یه اشاره ای به مفهوم مستقل بودن دوتا متغیر تصادفی بشه.\n",
    "        </li>\n",
    "    </ul>\n",
    "</div>\n"
   ]
  },
  {
   "cell_type": "markdown",
   "metadata": {},
   "source": [
    "<div dir = \"rtl\">\n",
    "    <ul> \n",
    "        <li>\n",
    "            دستتون درد نکنه. خیلی تر و تمیز.\n",
    "        </li>\n",
    "                <li>\n",
    "                    فکر کنم اونجا که نوشته شده $P(A|B) = \\frac{P(A \\cap B)}{P(B)}$\n",
    "                    یک نمودار ون هم بذاریم که ببینن احتمال شرطی یعنی فضای A که داخل B دیده میشه عالی بشه.\n",
    "        </li>\n",
    "        <li>\n",
    "کنجکاوی‌ها عالی‌اند        </li>\n",
    "    <li>\n",
    "        اگه رنگ «مثال» ها هم عوض شه عالی میشه. یه کم الان متن و مثال جدا نمیشن.\n",
    "</li>\n",
    "    <li>\n",
    "خلاصه و نتیجه گیری بهتره طوری باشه که واقعا خلاصه باشه. مثلا فرمول‌ها و کلیات حتما باید توش بیاد.\n",
    "    </li>\n",
    "    </ul>\n",
    "</div>\n"
   ]
  },
  {
   "cell_type": "code",
   "execution_count": null,
   "metadata": {},
   "outputs": [],
   "source": []
  }
 ],
 "metadata": {
  "kernelspec": {
   "display_name": "R",
   "language": "R",
   "name": "ir"
  },
  "language_info": {
   "codemirror_mode": "r",
   "file_extension": ".r",
   "mimetype": "text/x-r-source",
   "name": "R",
   "pygments_lexer": "r",
   "version": "3.4.1"
  },
  "latex_envs": {
   "LaTeX_envs_menu_present": true,
   "autoclose": false,
   "autocomplete": true,
   "bibliofile": "biblio.bib",
   "cite_by": "apalike",
   "current_citInitial": 1,
   "eqLabelWithNumbers": true,
   "eqNumInitial": 1,
   "hotkeys": {
    "equation": "Ctrl-E",
    "itemize": "Ctrl-I"
   },
   "labels_anchors": false,
   "latex_user_defs": false,
   "report_style_numbering": false,
   "user_envs_cfg": false
  },
  "toc": {
   "base_numbering": 1,
   "nav_menu": {},
   "number_sections": true,
   "sideBar": true,
   "skip_h1_title": false,
   "title_cell": "Table of Contents",
   "title_sidebar": "Contents",
   "toc_cell": false,
   "toc_position": {},
   "toc_section_display": true,
   "toc_window_display": false
  },
  "varInspector": {
   "cols": {
    "lenName": 16,
    "lenType": 16,
    "lenVar": 40
   },
   "kernels_config": {
    "python": {
     "delete_cmd_postfix": "",
     "delete_cmd_prefix": "del ",
     "library": "var_list.py",
     "varRefreshCmd": "print(var_dic_list())"
    },
    "r": {
     "delete_cmd_postfix": ") ",
     "delete_cmd_prefix": "rm(",
     "library": "var_list.r",
     "varRefreshCmd": "cat(var_dic_list()) "
    }
   },
   "types_to_exclude": [
    "module",
    "function",
    "builtin_function_or_method",
    "instance",
    "_Feature"
   ],
   "window_display": false
  }
 },
 "nbformat": 4,
 "nbformat_minor": 2
}
