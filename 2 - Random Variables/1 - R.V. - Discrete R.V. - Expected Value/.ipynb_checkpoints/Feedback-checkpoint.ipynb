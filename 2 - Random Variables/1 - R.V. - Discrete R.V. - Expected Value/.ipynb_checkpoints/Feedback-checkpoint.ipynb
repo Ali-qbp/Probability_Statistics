{
 "cells": [
  {
   "cell_type": "markdown",
   "metadata": {},
   "source": [
    "# بازخورد اول ۲۳ مهر"
   ]
  },
  {
   "cell_type": "markdown",
   "metadata": {},
   "source": [
    "<div dir=rtl>\n",
    "<ul>\n",
    "    <li>\n",
    "مرسی از زحمتی که کشیدی\n",
    "</li>\n",
    "    <li>\n",
    " فکر کنم تعریف متغیر تصادفی یه کم نادقیقه. (البته تعریف دقیقش measure theory میخاد :دی)\n",
    "به نظرم این تعریف ویکی پدیا فوق العادست:\n",
    "A random variable is defined as a function that maps the outcomes of unpredictable processes to numerical quantities (labels), typically real numbers. \n",
    "</li>\n",
    "<li>\n",
    "بهتره به جای دو تابرای تاکید به جای دو تا پرانتز میشه از «» یا دستورات html استفاده شه.\n",
    "</li>\n",
    "<li>\n",
    "    خوبه توی مقدمه اول نیاز گفته شه. که گاهی دوست داریم روی مفهوم نقاط در فضای احتمال اعمال حسابی انجام بدیم و این کارها معنا دار هم هستند.\n",
    "</li>\n",
    "<li>\n",
    "    این قسمت به نظرت حذف شه بهتر نیست؟\n",
    "    «توجه کنید که در این جا متغیر تصادفی حقیقی مد نظر ماست؛ متغیر تصادفی مختلط به هر یک از نقاط دامنه عددی مختلط را نسبت می‌دهد»\n",
    "</li>\n",
    "<li>\n",
    "    فکر کنم این کد R خیلی گیج کننده است.\n",
    "    قشنگ داره از مفهوم تابعی از چند متغیر تصادفی استفاده می‌کنه.\n",
    "</li>\n",
    "<li>\n",
    "    خلاصه و نتیجه گیری خوبه حاوی اطلاعات باشه نه این که با فلان آشنا شدیم.\n",
    "</li>\n",
    "</ul>\n",
    "</div>"
   ]
  },
  {
   "cell_type": "markdown",
   "metadata": {},
   "source": [
    "# بازخورد دوم 24 مهر"
   ]
  },
  {
   "cell_type": "markdown",
   "metadata": {},
   "source": [
    "<div dir = \"rtl\">\n",
    "<ul> \n",
    "    <li>به نظرم بهتر میشه اگه بخش متغیر تصادفی پیوسته و گسسته رو با یه تیتری چیزی از هم جدا کرد. الان یه حالت خیلی پشت سر هم و طولانی داره. اگه بتونین بشکونینش به بخش های کوچیکتر خیلی خوب میشه</li>\n",
    "<li>  اگه قراره قسمت کد بمونه نموداراش رو یکم کوچیکتر کنین. یکمم رنگی باشه  نمودارا جلوش بیشتره.</li>\n",
    "<li> کلن یکم سعی کنین تصویر اضافه کنین به جزوه بهتر میشه.</li>\n",
    "</ul>\n",
    "</div>"
   ]
  },
  {
   "cell_type": "code",
   "execution_count": null,
   "metadata": {},
   "outputs": [],
   "source": []
  }
 ],
 "metadata": {
  "kernelspec": {
   "display_name": "R",
   "language": "R",
   "name": "ir"
  },
  "language_info": {
   "codemirror_mode": "r",
   "file_extension": ".r",
   "mimetype": "text/x-r-source",
   "name": "R",
   "pygments_lexer": "r",
   "version": "3.4.1"
  },
  "latex_envs": {
   "LaTeX_envs_menu_present": true,
   "autoclose": false,
   "autocomplete": true,
   "bibliofile": "biblio.bib",
   "cite_by": "apalike",
   "current_citInitial": 1,
   "eqLabelWithNumbers": true,
   "eqNumInitial": 1,
   "hotkeys": {
    "equation": "Ctrl-E",
    "itemize": "Ctrl-I"
   },
   "labels_anchors": false,
   "latex_user_defs": false,
   "report_style_numbering": false,
   "user_envs_cfg": false
  },
  "toc": {
   "base_numbering": 1,
   "nav_menu": {},
   "number_sections": true,
   "sideBar": true,
   "skip_h1_title": false,
   "title_cell": "Table of Contents",
   "title_sidebar": "Contents",
   "toc_cell": false,
   "toc_position": {},
   "toc_section_display": true,
   "toc_window_display": false
  },
  "varInspector": {
   "cols": {
    "lenName": 16,
    "lenType": 16,
    "lenVar": 40
   },
   "kernels_config": {
    "python": {
     "delete_cmd_postfix": "",
     "delete_cmd_prefix": "del ",
     "library": "var_list.py",
     "varRefreshCmd": "print(var_dic_list())"
    },
    "r": {
     "delete_cmd_postfix": ") ",
     "delete_cmd_prefix": "rm(",
     "library": "var_list.r",
     "varRefreshCmd": "cat(var_dic_list()) "
    }
   },
   "types_to_exclude": [
    "module",
    "function",
    "builtin_function_or_method",
    "instance",
    "_Feature"
   ],
   "window_display": false
  }
 },
 "nbformat": 4,
 "nbformat_minor": 2
}
