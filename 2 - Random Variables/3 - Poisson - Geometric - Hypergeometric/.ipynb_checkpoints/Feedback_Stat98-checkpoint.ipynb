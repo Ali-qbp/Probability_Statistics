{
 "cells": [
  {
   "cell_type": "markdown",
   "metadata": {},
   "source": [
    "# بازخورد اول ۲۵ مهر"
   ]
  },
  {
   "cell_type": "markdown",
   "metadata": {},
   "source": [
    "<div dir=rtl>\n",
    "<ul>\n",
    "    <li>\n",
    "خیلی جالب بود. احسنت\n",
    "    </li>\n",
    "    <li>\n",
    "ایرادات ریز نگارشی رو برطرف کردم.\n",
    "    </li>\n",
    "    <li>\n",
    "یکم اصطلاحات تخصصی چگالی زیادی داشت که یکم خوندن جزوه رو سخت می‌کرد.\n",
    "    </li>\n",
    "</ul>\n",
    "</div>"
   ]
  },
  {
   "cell_type": "markdown",
   "metadata": {},
   "source": [
    "# بازخورد دوم ۲۶ مهر"
   ]
  },
  {
   "cell_type": "markdown",
   "metadata": {},
   "source": [
    "<div dir=rtl>\n",
    "<ul>\n",
    "        <li>\n",
    "جزوه جالبی شده. خسته نباشی.\n",
    "    </li>\n",
    "    <li>\n",
    "عکس‌ها رو فکر کنم آپلود نکردید\n",
    "    </li>\n",
    "    <li>\n",
    "خوبه توی اون نمودار که تاثیر lambda رو داری نشون میدی نقاط به هم وصل شن تا بهتر دیده شه\n",
    "    مثل این عکس:\n",
    "    https://upload.wikimedia.org/wikipedia/commons/thumb/1/16/Poisson_pmf.svg/325px-Poisson_pmf.svg.png</li>\n",
    "    <li>\n",
    "        این که جمع دو تا پواسون پواسون میشه رو هم شاید بد نباشه اشاره و اثبات کنی. (اگه فکر می‌کنی زیاده میتونی توی یک بخش (برای مطالعه بیشتر) بذاری.\n",
    "    </li>\n",
    "</ul>\n",
    "</div>"
   ]
  },
  {
   "cell_type": "markdown",
   "metadata": {},
   "source": []
  },
  {
   "cell_type": "markdown",
   "metadata": {},
   "source": [
    "### Stat 98"
   ]
  },
  {
   "cell_type": "markdown",
   "metadata": {},
   "source": [
    "<div dir=rtl>\n",
    "<ul>\n",
    "    <li>\n",
    "        لطفا نام افرادی که از جزوه پارسال آن‌ها استفاده شده است را اضافه کنید . :))\n",
    "    </li>\n",
    "    <li>\n",
    "        قسمت‌هایی که \"تمرین\" نوشته شده است را با یک رنگ دیگر مشخص کنید تا قابل تشخیص باشند.\n",
    "    </li>\n",
    "    <li>\n",
    "        در بخشی که  نوشته شده است توزیع هندسی معمولا به دو صورت زیر مطرح می‌شود، دو جمله ابتدایی دقیقا یکسان است که به نظر باید اصلاح شود.\n",
    "    </li>\n",
    "    <li>\n",
    "        برای سوال‌ها یک سلول خالی قرار داده شده است که جواب را در آنجا قرار دهند. با توجه به آنکه جزوه‌ها ماهیت تحویلی ندارند به نظرم لزومی به وجود آن‌ها نیست. اگر فکر می‌کنید بهتر است وجود داشته باشند، نوع سلول سوال‌های تشریحی را از \n",
    "        code \n",
    "        به \n",
    "        markdown\n",
    "        تغییر دهید\n",
    "    </li>\n",
    "    <li>\n",
    "        یک مثال با پیاده‌سازی عملی با شکل اضافه کنید. مثال موجود خیلی کمکی به فهم بهتر توزیع نمی‌کند.\n",
    "    </li>\n",
    "    <li>\n",
    "         امید ریاضی متغیر تصادفی هندسی  و نحوه بدست آوردن آن را به صورت جزوه اضافه کنید و تمرین آن را حذف کنید..\n",
    "    </li>\n",
    "    <li>\n",
    "        با توجه به آنکه تا اینجای درس تابعی از متغیر تصادفی درس نداده شده است، پس محاسبه واریانس بدون این ویژگی ممکن نیست. تمرین آن را پاک یا عوض کنید.\n",
    "    </li>\n",
    "    <li>\n",
    "        یک مقدمه کوتاه راجع به بی‌حافظه بودن توزیع هندسی بنویسید و بگویید که در آینده با این ویژگی بیشتر آشنا خواهند شد.\n",
    "    </li>\n",
    "    <li>\n",
    "        راجع به توزیع فوق‌هندسی تفاوت آن را با توزیع باینومیال توضیح دهید. یعنی توضیح دهید چرا در توزیع فوق‌هندسی ، هر \n",
    "        trial\n",
    "        از \n",
    "        trial\n",
    "        دیگر برخلاف توزیع بانومیال ، مستقل نیست. \n",
    "    </li>\n",
    "</ul>\n",
    "</div>"
   ]
  },
  {
   "cell_type": "code",
   "execution_count": null,
   "metadata": {},
   "outputs": [],
   "source": []
  }
 ],
 "metadata": {
  "kernelspec": {
   "display_name": "R",
   "language": "R",
   "name": "ir"
  },
  "language_info": {
   "codemirror_mode": "r",
   "file_extension": ".r",
   "mimetype": "text/x-r-source",
   "name": "R",
   "pygments_lexer": "r",
   "version": "3.6.1"
  },
  "latex_envs": {
   "LaTeX_envs_menu_present": true,
   "autoclose": false,
   "autocomplete": true,
   "bibliofile": "biblio.bib",
   "cite_by": "apalike",
   "current_citInitial": 1,
   "eqLabelWithNumbers": true,
   "eqNumInitial": 1,
   "hotkeys": {
    "equation": "Ctrl-E",
    "itemize": "Ctrl-I"
   },
   "labels_anchors": false,
   "latex_user_defs": false,
   "report_style_numbering": false,
   "user_envs_cfg": false
  },
  "toc": {
   "base_numbering": 1,
   "nav_menu": {},
   "number_sections": true,
   "sideBar": true,
   "skip_h1_title": false,
   "title_cell": "Table of Contents",
   "title_sidebar": "Contents",
   "toc_cell": false,
   "toc_position": {},
   "toc_section_display": true,
   "toc_window_display": false
  },
  "varInspector": {
   "cols": {
    "lenName": 16,
    "lenType": 16,
    "lenVar": 40
   },
   "kernels_config": {
    "python": {
     "delete_cmd_postfix": "",
     "delete_cmd_prefix": "del ",
     "library": "var_list.py",
     "varRefreshCmd": "print(var_dic_list())"
    },
    "r": {
     "delete_cmd_postfix": ") ",
     "delete_cmd_prefix": "rm(",
     "library": "var_list.r",
     "varRefreshCmd": "cat(var_dic_list()) "
    }
   },
   "types_to_exclude": [
    "module",
    "function",
    "builtin_function_or_method",
    "instance",
    "_Feature"
   ],
   "window_display": false
  }
 },
 "nbformat": 4,
 "nbformat_minor": 2
}
