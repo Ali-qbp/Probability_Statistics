{
 "cells": [
  {
   "cell_type": "markdown",
   "metadata": {},
   "source": [
    "<div style=\"direction:rtl;line-height:300%;\">\n",
    "\t<font face=\"XB Zar\" size=5>\n",
    "\t\t<div align=center>\n",
    "\t\t\t<font face=\"IranNastaliq\" size=30>\n",
    "\t\t\t\t<p></p>\n",
    "\t\t\t\t<p></p>\n",
    "به نام خدا\n",
    "\t\t\t\t<p></p>\n",
    "\t\t\t</font>\n",
    "\t\t\t<font color=#FF7500>\n",
    "دانشگاه صنعتی شریف - دانشکده مهندسی کامپیوتر\n",
    "            </font>\n",
    "\t\t\t<p></p>\n",
    "\t\t\t<font color=blue>\n",
    "آمار و احتمال مهندسی\n",
    "            </font>\n",
    "\t\t\t<br />\n",
    "\t\t\t<br />\n",
    "پاییز ۱۳۹۸\n",
    "\t\t</div>\n",
    "\t\t<hr/>\n",
    "\t\t<font color=red size=6>\n",
    "\t\t\t<br />\n",
    "\t\t\t<div align=center>\n",
    "توزیع پوآسون، هندسی و فوق‌هندسی            </div>\n",
    "\t\t</font>\n",
    "\t\t<br />\n",
    "\t\t<div align=center>\n",
    "وحید بالازاده\n",
    "        <br />\n",
    "امیرحسین بهرامی\n",
    "        </div>\n",
    "\t\t<hr />\n",
    "\t\t<style type=\"text/css\" scoped>\n",
    "        p{\n",
    "        border: 1px solid #a2a9b1;background-color: #f8f9fa;display: inline-block;\n",
    "        };\n",
    "        </style>\n",
    "\t\t<div>\n",
    "\t\t\t<h3>فهرست مطالب</h3>\n",
    "\t\t\t<ul style=\"margin-right: 0;\">\n",
    "\t\t\t\t<li>\n",
    "                    <a href=\"#sec_intro\">\n",
    "                        ماشین‌بازی میلاد و سینا\n",
    "                    </a>\n",
    "                </li>\n",
    "                <li>\n",
    "                    <a href=\"#sec_def\">\n",
    "                     با یک فایل پر از زمان ماشین‌های عبوری چه می‌توان کرد؟\n",
    "                    </a>\n",
    "                </li>\n",
    "                <li>\n",
    "                    <a href=\"#sec_pois\">\n",
    "                       فرایند پوآسون تقریبی و توزیع‌های پوآسون\n",
    "                    </a>\n",
    "                </li>\n",
    "                <li>\n",
    "                    <a href=\"#sec_pois_eg\">\n",
    "                        یک مثال\n",
    "                    </a>\n",
    "                </li>\n",
    "                <li>\n",
    "                    <a href=\"#sec_geo\">\n",
    "                        توزیع‌های هندسی\n",
    "                    </a>\n",
    "                </li>\n",
    "                <li>\n",
    "                    <a href=\"#sec_geo_eg\">\n",
    "                        یک مثال\n",
    "                    </a>\n",
    "                </li>\n",
    "                 <li>\n",
    "                    <a href=\"#sec_hypergeo\">\n",
    "                        آشنایی با توزیع‌های فوق هندسی\n",
    "                    </a>\n",
    "                </li>\n",
    "                <li>\n",
    "                    <a href=\"#sec_refs\">\n",
    "                        منابع\n",
    "                    </a>\n",
    "                </li>\n",
    "\t\t\t</ul>\n",
    "\t\t</div>\n",
    "\t</font>\n",
    "</div>"
   ]
  },
  {
   "cell_type": "markdown",
   "metadata": {},
   "source": [
    "<p></p>\n",
    "<br />\n",
    "<div id=\"sec_intro\" style=\"direction:rtl;line-height:300%;\">\n",
    "\t<font face=\"XB Zar\" size=5>\n",
    "\t\t<font color=#FF7500 size=6>\n",
    "ماشین‌بازی میلاد و سینا\n",
    "        </font>\n",
    "\t\t<p></p>\n",
    "\t\t<hr>\n",
    "        استاد درس نبود. دو تا دانشجوی متعهد انتخاب کرد که بروند احتمال درس بدهند. میلاد که خلاقیتش زیاد بود رفت یک گوشه شهر، خیابانی پیدا کرد و دوربین به‌دست ایستاد و شروع کرد فیلم‌گرفتن از ماشین‌های رهگذر. سینا خبر نداشت. میلاد آمد اما نمی‌دانست با یک فیلم پر از ماشین چه کند. به سینا گفت و نشستند ماشین‌ها را شمردند و یک فایل درست کردند که لحظه گذر هر ماشین از جلوی دوربین میلاد بود. \n",
    "        حالا سینا و میلاد نمیدانستند با یک فایل پر از زمان عبوری ماشین‌ها چه کنند...\n",
    "  \t</font>\n",
    "</div>"
   ]
  },
  {
   "cell_type": "markdown",
   "metadata": {},
   "source": [
    "<p></p>\n",
    "<br />\n",
    "<div id=\"sec_def\" style=\"direction:rtl;line-height:300%;\">\n",
    "\t<font face=\"XB Zar\" size=5>\n",
    "\t\t<font color=#FF7500 size=6>\n",
    "            با یک فایل پر از زمان ماشین‌های عبوری چه می‌توان کرد؟        </font>\n",
    "\t\t<p></p>\n",
    "\t\t<hr>\n",
    "       «دانشجو» در یک استارتاپ مسیریابی کار می‌کند. مدیرش از او خواسته‌است تا روشی پیدا کند که بتوان مقدار پرترافیک بودن هر خیابان را مشخص کرد. دانشجو با دیدن میلاد و سینا به خود می‌آید و تصمیم می‌گیرد از داده آنها برای کارش استفاده کند. او معیار پرترافیک بودن هر خیابان را \n",
    "        <b> متوسط تعداد ماشین‌های عبوری در یک مدت زمان معین</b> از آن خیابان در نظر می‌گیرد (مثلا یک دقیقه). \n",
    "        <br>\n",
    "         در زیر ترافیک خیابانی که میلاد از آن فیلم گرفته بود را طبق معیار دانشجو حساب میکنیم:(هر سطر در داده‌ها نشان‌دهنده زمان لحظه‌ای عبور یک ماشین است) \n",
    "\t</font>\n",
    "</div>"
   ]
  },
  {
   "cell_type": "code",
   "execution_count": 1,
   "metadata": {},
   "outputs": [
    {
     "data": {
      "text/html": [
       "<table>\n",
       "<caption>A data.frame: 6 × 2</caption>\n",
       "<thead>\n",
       "\t<tr><th scope=col>minute</th><th scope=col>second</th></tr>\n",
       "\t<tr><th scope=col>&lt;int&gt;</th><th scope=col>&lt;int&gt;</th></tr>\n",
       "</thead>\n",
       "<tbody>\n",
       "\t<tr><td>0</td><td>0</td></tr>\n",
       "\t<tr><td>0</td><td>1</td></tr>\n",
       "\t<tr><td>0</td><td>2</td></tr>\n",
       "\t<tr><td>0</td><td>3</td></tr>\n",
       "\t<tr><td>0</td><td>3</td></tr>\n",
       "\t<tr><td>0</td><td>4</td></tr>\n",
       "</tbody>\n",
       "</table>\n"
      ],
      "text/latex": [
       "A data.frame: 6 × 2\n",
       "\\begin{tabular}{r|ll}\n",
       " minute & second\\\\\n",
       " <int> & <int>\\\\\n",
       "\\hline\n",
       "\t 0 & 0\\\\\n",
       "\t 0 & 1\\\\\n",
       "\t 0 & 2\\\\\n",
       "\t 0 & 3\\\\\n",
       "\t 0 & 3\\\\\n",
       "\t 0 & 4\\\\\n",
       "\\end{tabular}\n"
      ],
      "text/markdown": [
       "\n",
       "A data.frame: 6 × 2\n",
       "\n",
       "| minute &lt;int&gt; | second &lt;int&gt; |\n",
       "|---|---|\n",
       "| 0 | 0 |\n",
       "| 0 | 1 |\n",
       "| 0 | 2 |\n",
       "| 0 | 3 |\n",
       "| 0 | 3 |\n",
       "| 0 | 4 |\n",
       "\n"
      ],
      "text/plain": [
       "  minute second\n",
       "1 0      0     \n",
       "2 0      1     \n",
       "3 0      2     \n",
       "4 0      3     \n",
       "5 0      3     \n",
       "6 0      4     "
      ]
     },
     "metadata": {},
     "output_type": "display_data"
    }
   ],
   "source": [
    "cars <- read.csv('data/car.csv')\n",
    "head(cars)"
   ]
  },
  {
   "cell_type": "code",
   "execution_count": 2,
   "metadata": {},
   "outputs": [
    {
     "data": {
      "text/html": [
       "35.1"
      ],
      "text/latex": [
       "35.1"
      ],
      "text/markdown": [
       "35.1"
      ],
      "text/plain": [
       "[1] 35.1"
      ]
     },
     "metadata": {},
     "output_type": "display_data"
    }
   ],
   "source": [
    "traffic <- nrow(cars) / length(unique(cars$minute))\n",
    "traffic"
   ]
  },
  {
   "cell_type": "markdown",
   "metadata": {},
   "source": [
    "<p></p>\n",
    "<br />\n",
    "<div id=\"sec_def\" style=\"direction:rtl;line-height:300%;\">\n",
    "\t<font face=\"XB Zar\" size=5>\n",
    "\t\t<p></p>\n",
    "        اما دانشجو که آدم محتاطی است، تصمیم می‌گیرد این عدد را به مدیرش گزارش نکند و به‌جای استفاده از یک عدد به عنوان ترافیک خیابان‌ها از یک مدل احتمالاتی استفاده کند. در واقع سعی می‌کند به جای اتکای خالص بر داده‌ها کمی هم  شهودش را به کار گیرد. پس تلاش می‌کند به تعداد ماشین‌های عبوری در مدت زمان معین از یک خیابان یک احتمال نسبت دهد.<br>\n",
    "         برای این‌کار فرض‌های زیر را روی عبور ماشین‌ها در یک بازه زمانی معین(مثلا یک دقیقه) در نظر می‌گیرد:\n",
    "        <br>\n",
    "        <li>\n",
    "            تعداد ماشین‌های عبوری در بازه‌های زمانی <b>ناهم‌پوش </b>از بازه معین شده، از یکدیگر <b>مستقل</b> باشند. برای مثال دانستن اینکه در یک ثانیه قبل چند ماشین از این خیابان عبور کرده اند دانش ما درباره ثانیه بعد را تحت تاثیر قرار ندهد. (البته این فرض به طور واضح درباره مثال ماشین‌ها اشتباه است. مثلا فرض کنید ماشینها پشت چراغ قرمز بودند و پس از سبز شدن چراغ اولین ماشین را مشاهده میکنیم. بنابراین پس از مشاهده پی به سبز شدن چراغ و در نتیجه ورود ماشینهای بیشتر به خیابان خواهیم برد. به هرحال گاهی چنین فرضهایی در نتیجه عملی کارساز است)         </li>\n",
    "        <br>\n",
    "        <li>\n",
    "            احتمال گذر <b>دقیقا یک</b> ماشین در یک بازه زمانی <b> کوتاه </b> به طول $h = \\frac{1}{n}$ دقیقه، به طور تقریبی <b>متناسب با طول بازه</b> باشد. برای سادگی فرض میکنیم ضریب این تناسب یک مقدار ثابت $\\lambda > 0$ است. بنابراین احتمال گذر دقیقا یک ماشین در بازه کوتاه $h$ تقریبا برابر $\\lambda h = \\frac{\\lambda}{n}$ است.\n",
    "            <br>\n",
    "            به نظر شما این فرض منطقی است؟\n",
    "        </li>\n",
    "        <br>\n",
    "        <li>\n",
    "            احتمال عبور <b>دو یا بیش‌تر</b> ماشین در یک بازه زمانی <b>کوتاه</b> (مثلا $h$) <b>صفر</b> باشد. در واقع بتوان بازه‌ها را آنقدر کوچک کرد که در هر بازه تنها حداکثر یک رخداد روی دهد. این فرض درباره حرکت ماشین‌ها تا حدی منطقی است. در واقع این‌که دو یا چند ماشین دقیقا در یک لحظه از جلوی دوربین(به عنوان یک نقطه) عبور کنند نامحتمل است.\n",
    "        </li>\n",
    "\t</font>\n",
    "</div>\n"
   ]
  },
  {
   "cell_type": "markdown",
   "metadata": {},
   "source": [
    "<p></p>\n",
    "<br />\n",
    "<div id=\"sec_pois\" style=\"direction:rtl;line-height:300%;\">\n",
    "\t<font face=\"XB Zar\" size=5>\n",
    "\t\t<font color=#FF7500 size=6>\n",
    "           فرایند پوآسون تقریبی و توزیع‌های پوآسون       </font>\n",
    "\t\t<p></p>\n",
    "\t\t<hr>\n",
    "        اگر $X$ را یک متغیر تصادفی در نظر بگیریم که تعداد وقوع یک رخداد را در یک بازه پیوسته (زمانی و یا مکانی)  نشان می‌دهد، می‌گوییم $X$ از یک فرایند پوآسون تقریبی پیروی می‌کند اگر سه فرضی که در انتهای قسمت قبل گفته شد برقرار باشد. ($X$ در مثال بالا تعداد ماشین‌های عبوری از جلوی دوربین در یک بازه زمانی پیوسته است.)\n",
    "        <br>\n",
    "        بازه‌ی معینی که متغیر $X$ روی آن تعریف شده را در نظر بگیرید. (مثلا یک دقیقه) آن را به $n$ قسمت تقسیم می‌کنیم طوری که بازه‌های به طول $h = \\frac{1}{n}$ دقیقه در فرض‌های دو و سه صدق کنند.\n",
    "                <img src=\"figure/poisson.png\" width=\"500\">\n",
    "        <br>\n",
    "        وقوع یک رخداد در هر کدام از این بازه‌ها با توجه به فرض دو و سه از یک توزیع برنولی با پارامتر $\\frac{\\lambda}{n}$ می‌آید.(در هر بازه کوچک احتمال وقوع یک رخداد برابر $\\frac{\\lambda}{n}$ و احتمال وقوع بیش از یک رخداد برابر صفر است). بنابراین پیشامد وقوع $k$ رخداد در بازه یک دقیقه برابر پیشامد وقوع یک رخداد در $k$ بازه کوچک\n",
    "         از $n$ بازه است. از طرفی طبق فرق مستقل بودن تعداد رخدادها در این بازه‌های کوچک(فرض اول) داریم:\n",
    "        <br>\n",
    "        <center>\n",
    "        $P(X=k) = P((k) \\text{ success and }(n-k) \\text{ failure}) = \\binom{n}{k} (\\frac{\\lambda}{n})^{k} (1 - \\frac{\\lambda}{n})^{n-k}$\n",
    "        </center>\n",
    "\t</font>\n",
    "</div>"
   ]
  },
  {
   "cell_type": "markdown",
   "metadata": {},
   "source": [
    "<p></p>\n",
    "<br />\n",
    "<div id=\"sec_def\" style=\"direction:rtl;line-height:300%;\">\n",
    "\t<font face=\"XB Zar\" size=5>\n",
    "        <ul>\n",
    "            حال اگر اندازه بازه‌ها را به طور دلخواه کوچک کنیم ($n\\rightarrow \\infty$) خواهیم داشت:<br>\n",
    "            <center>\n",
    "            $lim_{n\\to\\infty} \\binom{n}{k} (\\frac{\\lambda}{n})^{k} (1 - \\frac{\\lambda}{n})^{n-k} = lim_{n\\to\\infty} \\frac{n!}{k!(n-k)!} (\\frac{\\lambda^k}{n^k}) (1 - \\frac{\\lambda}{n})^{n}(1 - \\frac{\\lambda}{n})^{-k} = lim_{n\\to\\infty}\\frac{\\lambda^k}{k!} \\frac{n(n-1)(n-2)\\dots(n-k+1)}{n\\cdot n\\cdot n \\dots n} (1 - \\frac{\\lambda}{n})^{n}(1 - \\frac{\\lambda}{n})^{-k}$\n",
    "            </center>\n",
    "        </ul>\n",
    "\t</font>\n",
    "</div>"
   ]
  },
  {
   "cell_type": "markdown",
   "metadata": {},
   "source": [
    "<p></p>\n",
    "<br />\n",
    "<div id=\"sec_def\" style=\"direction:rtl;line-height:300%;\">\n",
    "\t<font face=\"XB Zar\" size=5>\n",
    "        از ریاضیات دبیرستان می‌دانیم $\\lim_{n\\to\\infty} (1-\\frac{\\lambda}{n})^n = e^{-\\lambda}$ از طرفی با توجه به ثابت بودن $k$ خواهیم داشت:<br>\n",
    "        <center>$\\lim_{n\\to\\infty} (1-\\frac{\\lambda}{n})^{-k} = 1^{-k} = 1$</center><br>\n",
    "        <center>$\\lim_{n\\to\\infty} \\frac{n(n-1)(n-2)\\dots(n-k+1)}{n\\cdot n\\cdot n \\dots n} = \\lim_{n\\to\\infty}1(1-\\frac{1}{n})(1-\\frac{2}{n})\\dots(1-\\frac{k-1}{n}) = 1$</center><br>\n",
    "\t</font>\n",
    "</div>"
   ]
  },
  {
   "cell_type": "markdown",
   "metadata": {},
   "source": [
    "<p></p>\n",
    "<br />\n",
    "<div id=\"sec_def\" style=\"direction:rtl;line-height:300%;\">\n",
    "\t<font face=\"XB Zar\" size=5>\n",
    "        با توجه به روابط بالا دانشجو سرانجام به فرمول زیر برای محاسبه احتمال تعداد ماشین‌های عبوری از یک خیابان در مدت یک دقیقه رسید:<br>\n",
    "        <center>\n",
    "            $P(X=k) = e^{-\\lambda}\\frac{\\lambda^k}{k!}\\quad k=0,1,2,\\dots$\n",
    "            </center>\n",
    "        <br>\n",
    "        <font color='blue'>تمرین: ثابت کنید فرمول به دست‌آمده برای توزیع پوآسون ویژگی‌های یک p.m.f را دارد( مثبت بودن و جمع برابر یک).</font>\n",
    "        <br>\n",
    "                اما هنوز یک مشکل وجود دارد. پارامتر $\\lambda$ که در فرض دوم به عنوان یک ضریب ثابت احتمال بازه‌های کوچک بود هنوز مجهول است. در واقع این $\\lambda$ است که توزیع تعداد ماشین‌های عبوری برای خیابان‌های مختلف را متمایز می‌کند. دانشجو تصمیم می‌گیرد مقدار مناسب را برای خیابان میلاد حساب کند. او قبلا متوسط تعداد ماشین‌های عبوری در یک دقیقه را حساب کرده بود. تلاش می‌کند تا این متوسط را از روی توزیع احتمال به‌دست بیاورد.<br>\n",
    " <font color='blue'>تمرین: ثابت کنید امیدریاضی (متوسط) متغیر تصادفی $X$ برابر $\\lambda$ است . سعی کنید واریانس این توزیع را نیز بدست آورید.</font>\n",
    " پس معنی پارامتر $\\lambda$ در توزیع پوآسون، متوسط تعداد رخدادها در مدت زمان معین‌شده (مثلا یک دقیقه در مثال خیابان میلاد) است.<br>\n",
    "        در زیر نمودار توزیع پوآسون به‌ازای $\\lambda$ های مختلف رسم شده‌است. محور افقی نشان‌دهنده مقادیر مختلف متغیر تصادفی $X$ است و محور عمودی احتمال هر کدام از این مقادیر را نشان می‌دهد. هر کدام از رنگ‌ها یک توزیع پوآسون خاص($\\lambda$ خاص) را نمایش می‌دهد. <br>\n",
    "        سوال: به نظر شما چرا با افزایش مقدار $\\lambda$ توزیع متقارن‌تر نمایش داده می‌شود؟ به طور کلی آیا توزیع پوآسون می‌تواند یک توزیع متقارن باشد؟\n",
    "\t</font>\n",
    "</div>"
   ]
  },
  {
   "cell_type": "code",
   "execution_count": 1,
   "metadata": {},
   "outputs": [
    {
     "data": {
      "image/png": "[encoded data removed]",
      "text/plain": [
       "plot without title"
      ]
     },
     "metadata": {},
     "output_type": "display_data"
    }
   ],
   "source": [
    "color_set <- c('steelblue', 'firebrick', 'forestgreen')\n",
    "lambdas <- c(1,5,10)\n",
    "x <- seq(1, 20)\n",
    "plot(dpois(x=x, lambda = lambdas[1]), col = color_set[1], xlab = \"k\", ylab = \"P(X=k)\")\n",
    "points(dpois(x=x, lambda = lambdas[2]), col = color_set[2])\n",
    "points(dpois(x=x, lambda = lambdas[3]), col = color_set[3])\n",
    "legend('topright', legend=lambdas, title = \"Lambda\", col = color_set, pch = c(1, 1, 1), lwd = c(NA, NA, NA))"
   ]
  },
  {
   "cell_type": "markdown",
   "metadata": {},
   "source": [
    "<p></p>\n",
    "<br />\n",
    "<div id=\"sec_def\" style=\"direction:rtl;line-height:300%;\">\n",
    "\t<font face=\"XB Zar\" size=5>\n",
    " در مثال ماشین‌های میلاد متوسط تعداد ماشینهای عبوری در یک دقیقه برابر 35.1 محاسبه شد.<br> در زیر توزیع پوآسون با مقدار $\\lambda=35.1$ رسم شده است (نقاط قرمز در نمودار زیر). علاوه بر این با استفاده از داده‌های میلاد، تعداد ماشین‌های عبوری در دقایق مختلف (ده دقیقه) به دست آمده و نمودار مستطیلی احتمال این داده‌ها رسم شده است. (مستطیلهای آبی)\t\n",
    " </font>\n",
    "</div>"
   ]
  },
  {
   "cell_type": "code",
   "execution_count": 2,
   "metadata": {},
   "outputs": [
    {
     "ename": "ERROR",
     "evalue": "Error in hist.default(Ks, bins, probability = T, ylab = \"P(X=k)\", xlab = \"k\", : invalid number of 'breaks'\n",
     "output_type": "error",
     "traceback": [
      "Error in hist.default(Ks, bins, probability = T, ylab = \"P(X=k)\", xlab = \"k\", : invalid number of 'breaks'\nTraceback:\n",
      "1. plot_hist_pois(Ks, lambda)",
      "2. hist(Ks, bins, probability = T, ylab = \"P(X=k)\", xlab = \"k\", \n .     col = color_set[1], main = \"\")   # at line 6 of file <text>",
      "3. hist.default(Ks, bins, probability = T, ylab = \"P(X=k)\", xlab = \"k\", \n .     col = color_set[1], main = \"\")",
      "4. stop(\"invalid number of 'breaks'\")"
     ]
    }
   ],
   "source": [
    "# Function for plotting histogram of data and Poisson density\n",
    "plot_hist_pois <- function(Ks, lambda) {\n",
    "bins <- (max(Ks) - min(Ks)) / 2\n",
    "rng <- c((min(Ks) - 1): (max(Ks) + 1))\n",
    "probs <- dpois(x=rng, lambda = lambda)\n",
    "hist(Ks, bins, probability = T, ylab = \"P(X=k)\", xlab = \"k\", col = color_set[1], main = \"\")\n",
    "points(rng, probs, col = color_set[2], pch=19)\n",
    "legend(\"topright\", legend=c(\"Observed data\", \"Poisson dist\"), lty = c(1, NA), \n",
    "       pch = c(NA, 19), col = color_set)\n",
    "}\n",
    "# Number of passing cars per minute\n",
    "Ks <- sapply(c(0:9), function(x) sum(cars$minute==x))\n",
    "lambda <- 35.1\n",
    "plot_hist_pois(Ks, lambda)"
   ]
  },
  {
   "cell_type": "markdown",
   "metadata": {},
   "source": [
    "<div id=\"simple_sample_question\" style=\"direction:rtl;line-height:300%;\">\n",
    "\t<font face=\"XB Zar\" size=5>\n",
    "        <ul style=\"margin-right: 0;\">\n",
    "               دانشجو به این فکر می‌کند که تا به حال تمام مدلش را در زمان یک دقیقه در نظر گرفته بود. در واقع در  فرایند رسیدن به توزیع پوآسون واحد زمان یک دقیقه بود. دانشجو اما حوصله دوباره حساب کردن مقدار $\\lambda$ را برای مقادیر مختلف زمان (مثلا در 30 ثانیه) ندارد و می‌خواهد از همین عدد به دست آمده در یک دقیقه ($\\lambda=35.1$) استفاده کند. با توجه به اینکه $\\lambda$ میانگین تعداد ماشین‌ها در این زمان است به نظرش میرسد که برای 30 ثانیه احتمالا این میانگین نصف شود. (سعی کنید این نتیجه‌گیری را صرفا با استفاده از فرایند اثبات توزیع پوآسون هم ثابت کنید)\n",
    "            <br>\n",
    "            در زیر با استفاده از داده‌های میلاد تعداد ماشین‌های گذرنده در بازه‌های 30 ثانیه محاسبه و نمودار بالا  یکبار برای مقدار $\\lambda=35.1$ و یکبار برای $\\lambda=\\frac{35.1}{2}$ رسم شده است. \n",
    "        </ul>\n",
    "\t</font>\n",
    "</div>"
   ]
  },
  {
   "cell_type": "code",
   "execution_count": 5,
   "metadata": {},
   "outputs": [
    {
     "data": {
      "image/png": "[encoded data removed]",
      "text/plain": [
       "Plot with title \"\""
      ]
     },
     "metadata": {
      "image/png": {
       "height": 420,
       "width": 420
      },
      "text/plain": {
       "height": 420,
       "width": 420
      }
     },
     "output_type": "display_data"
    },
    {
     "data": {
      "image/png": "[encoded data removed]",
      "text/plain": [
       "Plot with title \"\""
      ]
     },
     "metadata": {
      "image/png": {
       "height": 420,
       "width": 420
      },
      "text/plain": {
       "height": 420,
       "width": 420
      }
     },
     "output_type": "display_data"
    }
   ],
   "source": [
    "# Number of passing cars per 30 seconds\n",
    "new_Ks <- unlist(sapply(c(0:9), function(x) list(sum(cars$minute==x & cars$second < 30), \n",
    "                                sum(cars$minute==x & cars$second >= 30))))\n",
    "plot_hist_pois(new_Ks, lambda)\n",
    "plot_hist_pois(new_Ks, lambda / 2)"
   ]
  },
  {
   "cell_type": "markdown",
   "metadata": {},
   "source": [
    "<p></p>\n",
    "<br />\n",
    "<div id=\"sec_pois_eg\" style=\"direction:rtl;line-height:300%;\">\n",
    "\t<font face=\"XB Zar\" size=5>\n",
    "\t\t<font color=#FF7500 size=6>\n",
    "           یک مثال       </font>\n",
    "\t\t<p></p>\n",
    "\t\t<hr>\n",
    "        فرض کنید $X$ نشان‌دهنده تعداد غلطهای املایی در یک صفحه چاپی با میانگین 5 غلط باشد. احتمال این‌که در سه صفحه چاپی تصادفی مجموعا بیش از 10 غلط املایی وجود داشته باشد چقدر است؟\n",
    "        <br>\n",
    "        پاسخ: اولا در نظر بگیرید که $X$ می‌تواند از توزیع پوآسون پیروی کند(تعداد رخدادها(غلط املایی) در یک بازه مکانی(صفحه چاپی). سعی کنید سه فرض فرایند تقریبی پوآسون را با این مساله چک کنید)\n",
    "        <br>\n",
    "        اما $X$ نشان‌دهنده تعداد غلط‌های املایی در یک صفحه است و نه سه صفحه. متغیر تصادفی $Y$ را تعداد غلطهای املایی در سه صفحه تصادفی تعریف می‌کنیم. با توجه به قسمت قبل می‌دانیم $Y$ از یک توزیع پوآسون می‌آید طوری که:<br>\n",
    "        <center>\n",
    "            $\\lambda_{Y} = 3\\lambda{x} = 3 \\times 5 = 15$\n",
    "        </center> \n",
    "        <br>\n",
    "         <center>\n",
    "            $P(Y>10) = 1 - P(Y\\leq10) = 1 - \\sum_{k=0}^{10} P(Y=k) =  1 - \\sum_{k=0}^{10} e^{-15}\\frac{15^k}{k!}$\n",
    "        </center> \n",
    "        <br>\n",
    "        در زبان R با تکه کد زیر می‌توان حاصل این احتمال را حساب کرد.\n",
    "\t</font>\n",
    "</div>"
   ]
  },
  {
   "cell_type": "code",
   "execution_count": 6,
   "metadata": {},
   "outputs": [
    {
     "data": {
      "text/html": [
       "0.881535588470985"
      ],
      "text/latex": [
       "0.881535588470985"
      ],
      "text/markdown": [
       "0.881535588470985"
      ],
      "text/plain": [
       "[1] 0.8815356"
      ]
     },
     "metadata": {},
     "output_type": "display_data"
    },
    {
     "data": {
      "text/html": [
       "0.881535588470985"
      ],
      "text/latex": [
       "0.881535588470985"
      ],
      "text/markdown": [
       "0.881535588470985"
      ],
      "text/plain": [
       "[1] 0.8815356"
      ]
     },
     "metadata": {},
     "output_type": "display_data"
    }
   ],
   "source": [
    "# using poisson dist function\n",
    "1 - ppois(10, lambda=15, lower.tail = T)\n",
    "# using formula\n",
    "pois_prob <- function(k, lambda) {return(exp(-lambda) * (lambda**k) / factorial(k) )}\n",
    "1 - sum(sapply(c(0:10), function(x) pois_prob(x, lambda = 15)))"
   ]
  },
  {
   "cell_type": "markdown",
   "metadata": {},
   "source": [
    "<p></p>\n",
    "<br />\n",
    "<div id=\"sec_geo\" style=\"direction:rtl;line-height:300%;\">\n",
    "\t<font face=\"XB Zar\" size=5>\n",
    "\t\t<font color=#FF7500 size=6>\n",
    "توزیع‌های هندسی\n",
    "        </font>\n",
    "\t\t<p></p>\n",
    "\t\t<hr>\n",
    "        در نظریه احتمال واژه \"توزیع هندسی\" به بررسی مسئله‌ای با شرایط محیطی زیر می‌پردازد:\n",
    "        <ul style=\"margin-right: 0;\">\n",
    "            <li>\n",
    "                یک کار به صورت پشت‌سرهم تکرار می‌شود به صورتی که نتیجه هر بار انجام آن‌کار کاملا مستقل از دفعات قبل است که این کار می‌تواند پرتاب مکرر یک سکه و یا اجرای تست‌های گوناگون بر روی یک سیستم و اعمالی نظیر این دو باشد.همان طور که احتمالا مشخص است در هر دو مثال مطرح شده خروجی هر بار پرتاب سکه و خروجی هر بار اجرای یک تست گوناگون بر روی یک سیستم کاملا مستقل از پرتاب‌ها و تست‌های قبل است.\n",
    "            </li>\n",
    "            <li>\n",
    "                خروجی‌های کار انجام‌شده هر چیز که باشد بتوان آن را در یکی از گروه‌های \"موفقیت\" و \"شکست\" قرار داد. برای نمونه در دو مثال سکه \"آمدن شیر\" را \"موفقیت\" و \"آمدن خط\" را \"شکست\" در نظر بگیریم یا در مثال تست سیستم \"اجرای کامل تست\" را \"موفقیت\" و \"عدم اجرای کامل تست\" را \"شکست\" در نظر بگیریم. مهم نیست که چند نوع خروجی در گروه موفقیت و یا شکست قرار می‌گیرد بلکه توانایی در دسته‌بندی خروجی‌ها به این شکل مد نظر است. بنابراین منظور از استقلال در بالا این است که احتمال موفقیت و شکست در هر بار انجام کار برابر با احتمال موفقیت و شکست در دفعات قبل باشد.\n",
    "            </li>\n",
    "        </ul>\n",
    "        نکته مهمی که احتمالا تاکنون متوجه شدید این است که در بررسی \"توزیع گسسته هندسی\" به جزئیات خروجی‌های یک کار پرداخته نمی‌شود و تنها موفقیت و یا شکست آن مد نظر است. برای مثال در پرتاب یک تاس ممکن است ۶ خروجی متفاوت حاصل شود، حال فرض کنید با مسئله زیر روبرو می‌شویم:\n",
    "        یک تاس را دو بار می‌اندازیم، به چه احتمالی هر دو بار ۶ ظاهر می‌شود؟\n",
    "        طبق سوالی که در این مسئله مطرح شده است، ظاهر شدن ۶ به منزله‌ی موفقیت و ظاهر شدن هر عددی غیر از ۶ به منرله‌ای شکست تلقی می‌شود و از آن‌جا که هر بار پرتاب تاس مستقل از دفعات قبل است بنابراین مسئله ذکر شده در شرایط محیطی توزیع هندسی صدق می‌کند.\n",
    "     </font>\n",
    "</div>\n",
    "\n"
   ]
  },
  {
   "cell_type": "markdown",
   "metadata": {},
   "source": [
    "<p></p>\n",
    "<br />\n",
    "<div id=\"sec_def_geometric\" style=\"direction:rtl;line-height:300%;\">\n",
    "\t<font face=\"XB Zar\" size=5>\n",
    "\t\t<font color=#FF7500 size=6>\n",
    "تعریف دقیق\n",
    "        </font>\n",
    "\t\t<p></p>\n",
    "\t\t<hr>\n",
    "        معمولا توزیع هندسی به یکی از دو شکل زیر مطرح می‌شود:\n",
    "        <ul style=\"margin-right: 0;\">\n",
    "            <li>\n",
    "                توزیع احتمالاتی تعداد X کارآزمایی های برنولی برای دستیابی به یک موفقیت مورد نیاز. فرض کنید احتمال موفقیت p و در نتیجه احتمال شکست (1-p) می‌باشد و در این حالت ما (K-1) شکست و یک موفقیت نیاز داریم بنابراین احتمال مورد نظر ما برابر است با: \n",
    "            </li>\n",
    "        </ul>\n",
    "\t</font>\n",
    "</div>"
   ]
  },
  {
   "cell_type": "markdown",
   "metadata": {},
   "source": [
    "$Pr(X=k) = (1-p)^{k-1}p$"
   ]
  },
  {
   "cell_type": "markdown",
   "metadata": {},
   "source": [
    "<p></p>\n",
    "<br />\n",
    "<div id=\"sec_def\" style=\"direction:rtl;line-height:300%;\">\n",
    "\t<font face=\"XB Zar\" size=5>\n",
    "        <ul style=\"margin-right: 0;\">\n",
    "            <li>\n",
    "                احتمال وقوع K شکست قبل از وقوع اولین موفقیت. در این حالت ما به K شکست و سپس یک موفقیت نیاز داریم  بنابراین احتمال مورد نظر برابر است با:\n",
    "            </li>\n",
    "        </ul>\n",
    "\t</font>\n",
    "</div>"
   ]
  },
  {
   "cell_type": "markdown",
   "metadata": {},
   "source": [
    "$P(Y=k) = (1-p)^{k}p$"
   ]
  },
  {
   "cell_type": "markdown",
   "metadata": {},
   "source": [
    "<p></p>\n",
    "<br />\n",
    "<div id=\"sec_uniform\" style=\"direction:rtl;line-height:300%;\">\n",
    "\t<font face=\"XB Zar\" size=5 color='blue'>\n",
    "        <b>\n",
    "            سوال: \n",
    "        </b>\n",
    "        تفاوت توزیع هندسی و برنولی در چیست؟\n",
    "    <br>\n",
    "    </font>\n",
    "</div>"
   ]
  },
  {
   "cell_type": "markdown",
   "metadata": {},
   "source": [
    "<p></p>\n",
    "<br />\n",
    "<div id=\"sec_geo_eg\" style=\"direction:rtl;line-height:300%;\">\n",
    "\t<font face=\"XB Zar\" size=5>\n",
    "\t\t<font color=#FF7500 size=6>\n",
    "           یک مثال       </font>\n",
    "\t\t<p></p>\n",
    "\t\t<hr>\n",
    "         مهران، دانشجوی دانشکده کامپیوتر می‌خواهد بداند چرا و به چه دلیل سایت دانشکده را نصف کرده‌اند. او تصمیم می‌گیرد از شورای دانشکده این سوال را بپرسد. به اتاق شورا مراجعه می‌کند اما همه افراد آن‌جا مدعی می‌شوند که آن‌ها اعضای انجمن علمی هستند و اصلا نمی‌دانند شورا چیست. حال مهران تصمیم می‌گیرد در لابی دانشکده به صورت تصادفی از افراد بپرسد که آیا آن‌ها عضو شورا هستند یا خیر تا بتواند سوالش را بپرسد.فرض کنید احتمال موفقیت او در یافتن چنین شخصی 0.2 باشد و بگذارید X تعداد افرادی که او از آن‌ها سوال می‌پرسد تا اولین عضو شورا را پیدا کند، را بیان کند.احتمال اینکه مهران چهار نفر را قبل از پیدا کردن عضوی از شورا مورد سوال قرار دهد چقدر است؟\n",
    "       <br>\n",
    "        پاسخ:\n",
    "        \n",
    "      \n",
    "</div>"
   ]
  },
  {
   "cell_type": "markdown",
   "metadata": {},
   "source": [
    "  $P(X=4) =(0.8)^3 (0.2)=0.1024 $"
   ]
  },
  {
   "cell_type": "markdown",
   "metadata": {},
   "source": [
    "<p></p>\n",
    "<br />\n",
    "<div id=\"sec_geo_eg\" style=\"direction:rtl;line-height:300%;\">\n",
    "\t<font face=\"XB Zar\" size=5 color='blue'>\n",
    "\t\t<p></p>\n",
    "\t\t<hr>\n",
    "        تمرین : احتمال اینکه مهران بیشتر از 6 نفر را قبل از پیدا کردن عضوی از شورا مورد پرسش قرار دهد چقدر است ؟\n",
    "        \n",
    "      \n",
    "</div>"
   ]
  },
  {
   "cell_type": "markdown",
   "metadata": {},
   "source": [
    "<p></p>\n",
    "<br />\n",
    "<div id=\"sec_geo_eg\" style=\"direction:rtl;line-height:300%;\">\n",
    "\t<font face=\"XB Zar\" size=5 >\n",
    "\t\t<p></p>\n",
    "\t\t<hr>\n",
    "       ثابت کنید امید ریاضی متغیر تصادفی هندسی با پارامتر p برابر است با $\\frac{1}{p}$\n",
    "          \\begin{align*}P(X=k)=p(1-p)^{k-1}.\\\\ E(X)&=\\sum_{k=1}^{\\infty}kp(1-p)^{k-1} \\\\ &=p\\sum_{k=1}^{\\infty}k(1-p)^{k-1} \\\\ &=p\\left(-\\frac{d}{dp}\\sum_{k=1}^{\\infty}(1-p)^k\\right) \\\\ &=p\\left(-\\frac{d}{dp}\\frac{1-p}{p}\\right) \\\\ &=p\\left(\\frac{d}{dp}\\left(1-\\frac{1}{p}\\right)\\right)=p\\left(\\frac{1}{p^2}\\right)=\\frac1p\\end{align*}\n",
    "      \n",
    "</div>"
   ]
  },
  {
   "cell_type": "markdown",
   "metadata": {},
   "source": [
    "<p></p>\n",
    "<br />\n",
    "<div id=\"sec_geo_eg\" style=\"direction:rtl;line-height:300%;\">\n",
    "\t<font face=\"XB Zar\" size=5 color='blue'>\n",
    "\t\t<p></p>\n",
    "\t\t<hr>\n",
    "    تمرین: فرض کنید می‌دانیم مهران بیش از n نفر را مورد سوال قرار داده است. احتمال اینکه اون از بیش از n+m نفر سوال بپرسد تا به عضوی از شورا برسد را محاسبه کنید.\n",
    "        <br>\n",
    "        <font color='purple'>راهنمایی: باید احتمال $P(X > n+m | X > n) $ را محاسبه کنید.</font>\n",
    "        <br>\n",
    "        - احتمال بدست آمده تابع کدام متغییر هاست؟ \n",
    "        <br>\n",
    "        - آیا می‌توان گفت که توزیع هندسی حافظه ندارد؟\n",
    "        <br>\n",
    "        در جلسات بعدی بیشتر در مورد این مفهوم صحبت خواهیم کرد.\n",
    "        \n",
    "      \n",
    "</div>"
   ]
  },
  {
   "cell_type": "markdown",
   "metadata": {},
   "source": [
    "<p></p>\n",
    "<br />\n",
    "<div id=\"sec_hypergeo\" style=\"direction:rtl;line-height:300%;\">\n",
    "\t<font face=\"XB Zar\" size=5>\n",
    "\t\t<font color=#FF7500 size=6>\n",
    "آشنایی با توزیع‌های فوق هندسی\n",
    "        </font>\n",
    "\t\t<p></p>\n",
    "           فرض کنید ظرفی مانند شکل زیر دارید که در آن دو نوع توپ وجود دارد. به طوری که تعداد توپ های آبی $N_1$ و تعداد توپ های قرمز $N_2$ است.وN تعداد کل توپ هاست. حال متغیر تصادفی که حضور دقیقا x توپ قرمز را پس از n انتخاب بدون جاگذاری بیان میکند از نوع فوق هندسی می‌باشد. \n",
    "               <br>      \n",
    "        <img src=\"figure/hypergeo.png\" width=\"500\">\n",
    "         </font>\n",
    "</div>\n",
    "\n"
   ]
  },
  {
   "cell_type": "markdown",
   "metadata": {},
   "source": [
    "<p></p>\n",
    "<br />\n",
    "<div id=\"sec_hypergeo\" style=\"direction:ltl;line-height:300%;\">\n",
    "\t<font face=\"XB Zar\" size=5>\n",
    "\t\t<font color=#FF7500 size=6>\n",
    "        </font>\n",
    "               <br>       \n",
    "                 $ P(X=x) = \\frac{{N_1 \\choose x }{N_2 \\choose n-x}}{N \\choose n}$\n",
    "         </font>\n",
    "</div>\n"
   ]
  },
  {
   "cell_type": "markdown",
   "metadata": {},
   "source": [
    "<p></p>\n",
    "<br />\n",
    "<div id=\"sec_hypergeo\" style=\"direction:rtl;line-height:300%;\">\n",
    "\t<font face=\"XB Zar\" size=5  >\n",
    "        <font size=6 color='navy'> تفاوت با توزیع باینومیال </font>\n",
    "        <br>\n",
    "       همانطور که در بالا اشاره شد در توزیع فوق‌هندسی جایگذاری نداریم.\n",
    "        <br>\n",
    "        این توزیع برای جمعیت کم کاربرد دارد، جایی که عدم جایگذاری در احتمال های ترایال های بعدی موثر باشد.\n",
    "        <br>\n",
    "        اما در توزیع باینومیال جمعیت کل بی نهایت تصور می‌شود و این عدم جایگذاری تاثیری در احتمال ترایال بعدی نمی‌گذارد.\n",
    "              \n",
    "         \n",
    "</div>\n"
   ]
  },
  {
   "cell_type": "markdown",
   "metadata": {},
   "source": [
    "<p></p>\n",
    "<br/>\n",
    "<div id=\"sec_refs\" style=\"direction:rtl;line-height:300%;\">\n",
    "\t<font face=\"XB Zar\" size=5>\n",
    "\t\t<font color=#FF7500 size=6>\n",
    "منابع\n",
    "        </font>\n",
    "\t\t<hr>       \n",
    "        <ul>\n",
    "            <li>\n",
    "                https://newonlinecourses.science.psu.edu/stat414\n",
    "            </li>\n",
    "            <li>\n",
    "                https://www.rdocumentation.org/\n",
    "            </li>\n",
    "        </ul>\n",
    "\t</font>\n",
    "</div>"
   ]
  }
 ],
 "metadata": {
  "kernelspec": {
   "display_name": "R",
   "language": "R",
   "name": "ir"
  },
  "language_info": {
   "codemirror_mode": "r",
   "file_extension": ".r",
   "mimetype": "text/x-r-source",
   "name": "R",
   "pygments_lexer": "r",
   "version": "3.5.1"
  },
  "latex_envs": {
   "LaTeX_envs_menu_present": true,
   "autoclose": false,
   "autocomplete": true,
   "bibliofile": "biblio.bib",
   "cite_by": "apalike",
   "current_citInitial": 1,
   "eqLabelWithNumbers": true,
   "eqNumInitial": 1,
   "hotkeys": {
    "equation": "Ctrl-E",
    "itemize": "Ctrl-I"
   },
   "labels_anchors": false,
   "latex_user_defs": false,
   "report_style_numbering": false,
   "user_envs_cfg": false
  },
  "toc": {
   "base_numbering": 1,
   "nav_menu": {},
   "number_sections": true,
   "sideBar": true,
   "skip_h1_title": false,
   "title_cell": "Table of Contents",
   "title_sidebar": "Contents",
   "toc_cell": false,
   "toc_position": {},
   "toc_section_display": true,
   "toc_window_display": false
  },
  "varInspector": {
   "cols": {
    "lenName": 16,
    "lenType": 16,
    "lenVar": 40
   },
   "kernels_config": {
    "python": {
     "delete_cmd_postfix": "",
     "delete_cmd_prefix": "del ",
     "library": "var_list.py",
     "varRefreshCmd": "print(var_dic_list())"
    },
    "r": {
     "delete_cmd_postfix": ") ",
     "delete_cmd_prefix": "rm(",
     "library": "var_list.r",
     "varRefreshCmd": "cat(var_dic_list()) "
    }
   },
   "types_to_exclude": [
    "module",
    "function",
    "builtin_function_or_method",
    "instance",
    "_Feature"
   ],
   "window_display": false
  }
 },
 "nbformat": 4,
 "nbformat_minor": 1
}
