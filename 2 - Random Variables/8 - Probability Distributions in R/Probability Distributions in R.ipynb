{
 "cells": [
  {
   "cell_type": "markdown",
   "metadata": {},
   "source": [
    "<div style=\"direction:rtl;line-height:300%;\">\n",
    "\t<font face=\"XB Zar\" size=5>\n",
    "\t\t<div align=center>\n",
    "\t\t\t<font face=\"IranNastaliq\" size=30>\n",
    "\t\t\t\t<p></p>\n",
    "\t\t\t\t<p></p>\n",
    "به نام خدا\n",
    "\t\t\t\t<p></p>\n",
    "\t\t\t</font>\n",
    "\t\t\t<font color=#FF7500>\n",
    "دانشگاه صنعتی شریف - دانشکده مهندسی کامپیوتر\n",
    "            </font>\n",
    "\t\t\t<p></p>\n",
    "\t\t\t<font color=blue>\n",
    "آمار و احتمال مهندسی\n",
    "            </font>\n",
    "\t\t\t<br />\n",
    "\t\t\t<br />\n",
    "پاییز ۱۳۹۷\n",
    "\t\t</div>\n",
    "\t\t<hr/>\n",
    "\t\t<font color=red size=6>\n",
    "\t\t\t<br />\n",
    "\t\t\t<div align=center>\n",
    "آشنایی با توزیع ها\n",
    "                در\n",
    "                R\n",
    "            </div>\n",
    "\t\t</font>\n",
    "        <br />\n",
    "                    \t\t<div align=center>\n",
    "            رضا یاربخش و آیدا رمضانی\n",
    "           </div>\n",
    "\t\t<br />\n",
    "\t\t<hr />\n",
    "\t\t<style type=\"text/css\" scoped>\n",
    "        p{\n",
    "        border: 1px solid #a2a9b1;background-color: #f8f9fa;display: inline-block;\n",
    "        };\n",
    "        </style>\n",
    "\t\t<div>\n",
    "\t\t\t<h3>فهرست مطالب</h3>\n",
    "\t\t\t<ul style=\"margin-right: 0;\">\n",
    "                <li>\n",
    "\t\t\t\t\t<a href=\"#sec_intro\">\n",
    "                        مقدمه\n",
    "                    </a>\n",
    "\t\t\t\t</li>\n",
    "                <li>\n",
    "\t\t\t\t\t<a href=\"#sec_R\">\n",
    "                        انواع توزیع ها در\n",
    "                        R\n",
    "                    </a>\n",
    "\t\t\t\t</li>\n",
    "                <li><a href = \"#sec_binomial\">  توزیع دو جمله ای </a></li>\n",
    "                <li><a href = \"#sec_poisson\">\n",
    "                    توزیع پوآسون\n",
    "                    </a>\n",
    "                </li>\n",
    "                <li> <a href =\"#sec_uniform\"> \n",
    "                    توزیع یکنواخت  \n",
    "                </a>\n",
    "                </li>\n",
    "                <li> <a href =\"#sec_normal\"> توزیع نرمال</a></li>\n",
    "                <li> <a href =\"#sec_exponential\"> توزیع نمایی</a> </li>\n",
    "                <li><a href =\"#sec_geometric\"> توزیع هندسی </a></li>\n",
    "                <li>\n",
    "\t\t\t\t\t<a href=\"#sec_con\">\n",
    "خلاصه و نتیجه‌گیری \n",
    "                    </a>\n",
    "\t\t\t\t</li>\n",
    "                <li>\n",
    "\t\t\t\t\t<a href=\"#sec_resources\">\n",
    "منابع\n",
    "                    </a>\n",
    "\t\t\t\t</li>\n",
    "\t\t\t</ul>\n",
    "\t\t</div>\n",
    "\t</font>\n",
    "</div>"
   ]
  },
  {
   "cell_type": "markdown",
   "metadata": {},
   "source": [
    "<p></p>\n",
    "<br />\n",
    "<div id=\"sec_intro\" style=\"direction:rtl;line-height:300%;\">\n",
    "\t<font face=\"XB Zar\" size=5>\n",
    "\t\t<font color=#FF7500 size=6>\n",
    "مقدمه\n",
    "        </font>\n",
    "\t\t<p></p>\n",
    "\t\t<hr>\n",
    "        همان طور که قبلاً مشاهده کردید توزیع یک احتمال نشان دهنده  احتمال وقوع مقادیر ممکن برای آن است. همچنین یاد گرفته اید که رویداد های متفاوت چه توزیعی دارند. مثلا میدانید در پرتاب متوالی یک سکه، متغیر تصادفی تعداد شیر (یا خط) های آمده از توزیع دو جمله ای پیروی میکند. \n",
    "<br/>\n",
    "در این قسمت قصد داریم نشان دهیم چگونه میتوان با استفاده از ابزار های موجود در\n",
    "        R\n",
    "        برخی توزیع های معروف را که با آن ها بیشتر در مطالعات آماری سر و کار داریم محاسبه کرد. \n",
    "<br/><br/>\n",
    "\t</font>\n",
    "</div>"
   ]
  },
  {
   "cell_type": "markdown",
   "metadata": {},
   "source": [
    "<p></p>\n",
    "<br />\n",
    "<div id=\"sec_R\" style=\"direction:rtl;line-height:300%;\">\n",
    "\t<font face=\"XB Zar\" size=5>\n",
    "\t\t<font color=#FF7500 size=6>\n",
    "آشنایی با توزیع ها در \n",
    "            R\n",
    "        </font>\n",
    "\t\t<p></p>\n",
    "\t\t<hr> \n",
    "        توزیع هایی که به آن ها خواهیم پرداخت عبارت اند از:\n",
    "        <ul>\n",
    "            <li> توزیع دو جمله ای</li>\n",
    "            <li>توزیع پوآسون </li>\n",
    "            <li>توزیع یکنواخت </li>\n",
    "            <li> توزیع نرمال</li>\n",
    "            <li>توزیع نمایی </li>\n",
    "            <li> توزیع هندسی</li>\n",
    "            <li> توزیع گاما</li>\n",
    "            <li> توزیع بتا</li>\n",
    "        </ul>\n",
    "\t</font>\n",
    "</div>"
   ]
  },
  {
   "cell_type": "markdown",
   "metadata": {},
   "source": [
    "<p></p>\n",
    "<br />\n",
    "<div id=\"sec_binomial\" style=\"direction:rtl;line-height:300%;\">\n",
    "\t<font face=\"XB Zar\" size=5>\n",
    "\t\t<font color=#FF7500 size=6>\n",
    "توزیع دو جمله ای\n",
    "        </font>\n",
    "\t\t<p></p>\n",
    "\t\t<hr>  \n",
    "        فرض کنید در یک آزمون 4 گزینه ای، 10 عدد سوال دارید و میخواهید به طور رندوم به این سوال ها پاسخ دهید. احتمال اینکه تعداد جواب های درست شما کمتر مساوی 6 باشد چقدر است؟\n",
    "<br/>\n",
    "        پاسخ:میدانید که توزیع تعداد سوال های درست، توزیع دو جمله ای با پارامتر\n",
    "        0.25\n",
    "        است. (زیرا تنها یک گزینه از 4 گزینه صحیح میباشد)\n",
    "        احتمال داشتن 6 پاسخ درست در امتحان برابر است با:\n",
    "        <br/>\n",
    "        <div dir = \"ltr\">\n",
    "        $P(x \\, = 6) = \\binom{10}{6} \\times p^6 \\times (1 - p)^4$\n",
    " </div>\n",
    " جواب این عبارت را در\n",
    " R\n",
    " به صورت زیر حساب میکنیم:\n",
    "    <br/>\n",
    "\t</font>\n",
    "</div>"
   ]
  },
  {
   "cell_type": "code",
   "execution_count": 22,
   "metadata": {},
   "outputs": [
    {
     "data": {
      "text/html": [
       "0.0162220001220703"
      ],
      "text/latex": [
       "0.0162220001220703"
      ],
      "text/markdown": [
       "0.0162220001220703"
      ],
      "text/plain": [
       "[1] 0.016222"
      ]
     },
     "metadata": {},
     "output_type": "display_data"
    }
   ],
   "source": [
    "dbinom(6, size=10, prob=0.25) "
   ]
  },
  {
   "cell_type": "markdown",
   "metadata": {},
   "source": [
    "<div dir = \"rtl\">\n",
    "\t<font face=\"XB Zar\" size=5>\n",
    "\t\t<font color=#FF7500 size=6>\n",
    "        </font>\n",
    "        همچنین برای حساب کردن احتمال داشتن کمتر مساوی 6 پاسخ درست داریم:\n",
    "\t\t <br/>\n",
    "\t</font>\n",
    "</div>"
   ]
  },
  {
   "cell_type": "code",
   "execution_count": 23,
   "metadata": {},
   "outputs": [
    {
     "data": {
      "text/html": [
       "0.996494293212891"
      ],
      "text/latex": [
       "0.996494293212891"
      ],
      "text/markdown": [
       "0.996494293212891"
      ],
      "text/plain": [
       "[1] 0.9964943"
      ]
     },
     "metadata": {},
     "output_type": "display_data"
    }
   ],
   "source": [
    "dbinom(6, size=10, prob=0.25) +\n",
    "dbinom(5, size=10, prob=0.25) +\n",
    "dbinom(4, size=10, prob=0.25) +\n",
    "dbinom(3, size=10, prob=0.25) +\n",
    "dbinom(2, size=10, prob=0.25) +\n",
    "dbinom(1, size=10, prob=0.25) +\n",
    "dbinom(0, size=10, prob=0.25) "
   ]
  },
  {
   "cell_type": "markdown",
   "metadata": {},
   "source": [
    "<div dir = \"rtl\">\n",
    "\t<font face=\"XB Zar\" size=5>\n",
    "\t\t<font color=#FF7500 size=6>\n",
    "        </font>\n",
    "        یا با استفاده از تابع توزیع تجمعی (CDF):\n",
    "\t\t <br/>\n",
    "\t</font>\n",
    "</div>"
   ]
  },
  {
   "cell_type": "code",
   "execution_count": 24,
   "metadata": {},
   "outputs": [
    {
     "data": {
      "text/html": [
       "0.996494293212891"
      ],
      "text/latex": [
       "0.996494293212891"
      ],
      "text/markdown": [
       "0.996494293212891"
      ],
      "text/plain": [
       "[1] 0.9964943"
      ]
     },
     "metadata": {},
     "output_type": "display_data"
    }
   ],
   "source": [
    "pbinom(6, size=10, prob=0.25) "
   ]
  },
  {
   "cell_type": "markdown",
   "metadata": {},
   "source": [
    "<div dir = \"rtl\" style=\"direction:rtl;line-height:300%;\">\n",
    "\t<font face=\"XB Zar\" size=5>\n",
    "\t\t<font color=#FF7500 size=6>\n",
    "        </font>\n",
    "        امکان دیگری در \n",
    "        R\n",
    "      وجود دارد که به ما اجازه میدهد از توزیع ها نمونه تصادفی بگیریم. برای مثال برای توزیع دو جمله ای میتوانیم به طور \n",
    "        تصادفی 1000 نمونه گرفته که هر کدام نشان دهنده تعداد پاسخ های درست در یک امتحان 4 گزینه ای 10 سواله هستند\n",
    "        .\n",
    "\t\t <br/>\n",
    "\t</font>\n",
    "</div>"
   ]
  },
  {
   "cell_type": "code",
   "execution_count": 25,
   "metadata": {},
   "outputs": [
    {
     "data": {
      "text/html": [
       "<ol class=list-inline>\n",
       "\t<li>4</li>\n",
       "\t<li>5</li>\n",
       "\t<li>1</li>\n",
       "\t<li>4</li>\n",
       "\t<li>5</li>\n",
       "\t<li>3</li>\n",
       "\t<li>5</li>\n",
       "\t<li>4</li>\n",
       "\t<li>1</li>\n",
       "\t<li>2</li>\n",
       "\t<li>2</li>\n",
       "\t<li>4</li>\n",
       "\t<li>4</li>\n",
       "\t<li>1</li>\n",
       "\t<li>2</li>\n",
       "\t<li>3</li>\n",
       "\t<li>2</li>\n",
       "\t<li>3</li>\n",
       "\t<li>2</li>\n",
       "\t<li>4</li>\n",
       "\t<li>0</li>\n",
       "\t<li>5</li>\n",
       "\t<li>3</li>\n",
       "\t<li>2</li>\n",
       "\t<li>4</li>\n",
       "\t<li>4</li>\n",
       "\t<li>5</li>\n",
       "\t<li>2</li>\n",
       "\t<li>3</li>\n",
       "\t<li>3</li>\n",
       "\t<li>1</li>\n",
       "\t<li>3</li>\n",
       "\t<li>1</li>\n",
       "\t<li>1</li>\n",
       "\t<li>4</li>\n",
       "\t<li>2</li>\n",
       "\t<li>5</li>\n",
       "\t<li>3</li>\n",
       "\t<li>2</li>\n",
       "\t<li>2</li>\n",
       "\t<li>3</li>\n",
       "\t<li>3</li>\n",
       "\t<li>5</li>\n",
       "\t<li>0</li>\n",
       "\t<li>5</li>\n",
       "\t<li>3</li>\n",
       "\t<li>1</li>\n",
       "\t<li>1</li>\n",
       "\t<li>1</li>\n",
       "\t<li>3</li>\n",
       "</ol>\n"
      ],
      "text/latex": [
       "\\begin{enumerate*}\n",
       "\\item 4\n",
       "\\item 5\n",
       "\\item 1\n",
       "\\item 4\n",
       "\\item 5\n",
       "\\item 3\n",
       "\\item 5\n",
       "\\item 4\n",
       "\\item 1\n",
       "\\item 2\n",
       "\\item 2\n",
       "\\item 4\n",
       "\\item 4\n",
       "\\item 1\n",
       "\\item 2\n",
       "\\item 3\n",
       "\\item 2\n",
       "\\item 3\n",
       "\\item 2\n",
       "\\item 4\n",
       "\\item 0\n",
       "\\item 5\n",
       "\\item 3\n",
       "\\item 2\n",
       "\\item 4\n",
       "\\item 4\n",
       "\\item 5\n",
       "\\item 2\n",
       "\\item 3\n",
       "\\item 3\n",
       "\\item 1\n",
       "\\item 3\n",
       "\\item 1\n",
       "\\item 1\n",
       "\\item 4\n",
       "\\item 2\n",
       "\\item 5\n",
       "\\item 3\n",
       "\\item 2\n",
       "\\item 2\n",
       "\\item 3\n",
       "\\item 3\n",
       "\\item 5\n",
       "\\item 0\n",
       "\\item 5\n",
       "\\item 3\n",
       "\\item 1\n",
       "\\item 1\n",
       "\\item 1\n",
       "\\item 3\n",
       "\\end{enumerate*}\n"
      ],
      "text/markdown": [
       "1. 4\n",
       "2. 5\n",
       "3. 1\n",
       "4. 4\n",
       "5. 5\n",
       "6. 3\n",
       "7. 5\n",
       "8. 4\n",
       "9. 1\n",
       "10. 2\n",
       "11. 2\n",
       "12. 4\n",
       "13. 4\n",
       "14. 1\n",
       "15. 2\n",
       "16. 3\n",
       "17. 2\n",
       "18. 3\n",
       "19. 2\n",
       "20. 4\n",
       "21. 0\n",
       "22. 5\n",
       "23. 3\n",
       "24. 2\n",
       "25. 4\n",
       "26. 4\n",
       "27. 5\n",
       "28. 2\n",
       "29. 3\n",
       "30. 3\n",
       "31. 1\n",
       "32. 3\n",
       "33. 1\n",
       "34. 1\n",
       "35. 4\n",
       "36. 2\n",
       "37. 5\n",
       "38. 3\n",
       "39. 2\n",
       "40. 2\n",
       "41. 3\n",
       "42. 3\n",
       "43. 5\n",
       "44. 0\n",
       "45. 5\n",
       "46. 3\n",
       "47. 1\n",
       "48. 1\n",
       "49. 1\n",
       "50. 3\n",
       "\n",
       "\n"
      ],
      "text/plain": [
       " [1] 4 5 1 4 5 3 5 4 1 2 2 4 4 1 2 3 2 3 2 4 0 5 3 2 4 4 5 2 3 3 1 3 1 1 4 2 5 3\n",
       "[39] 2 2 3 3 5 0 5 3 1 1 1 3"
      ]
     },
     "metadata": {},
     "output_type": "display_data"
    }
   ],
   "source": [
    "rbinom(n = 1000, size = 10,p =  0.25) -> data_binomial\n",
    "data_binomial[1:50]"
   ]
  },
  {
   "cell_type": "markdown",
   "metadata": {},
   "source": [
    "<div dir = \"rtl\" style=\"direction:rtl;line-height:300%;\">\n",
    "\t<font face=\"XB Zar\" size=5>\n",
    "\t\t<font color=#FF7500 size=6>\n",
    "        </font>\n",
    "       برای درک بیشتر نمودار فراوانی نمونه به دست آمده را میکشیم\n",
    "         .\n",
    "         <br/>\n",
    "\t</font>\n",
    "</div>"
   ]
  },
  {
   "cell_type": "code",
   "execution_count": 26,
   "metadata": {},
   "outputs": [
    {
     "data": {
      "image/png": "[encoded data removed]",
      "text/plain": [
       "Plot with title “Histogram of data_binomial”"
      ]
     },
     "metadata": {},
     "output_type": "display_data"
    }
   ],
   "source": [
    "options(repr.plot.width=4.5, repr.plot.height=4.5)\n",
    "hist(data_binomial, col = \"violet\")"
   ]
  },
  {
   "cell_type": "markdown",
   "metadata": {},
   "source": [
    "<p></p>\n",
    "<br />\n",
    "<div id=\"sec_poisson\" style=\"direction:rtl;line-height:300%;\">\n",
    "\t<font face=\"XB Zar\" size=5>\n",
    "\t\t<font color=#FF7500 size=6>\n",
    "توزیع پوآسون\n",
    "        </font>\n",
    "\t\t<hr>  \n",
    "                $$\n",
    "        \\begin{aligned}\n",
    "        \\end{aligned}\n",
    "        $$\n",
    "         فرض کنید در هر دقیقه به طور متوسط 12 ماشین از روی پلی عبور میکنند. احتمال اینکه\n",
    "        17 \n",
    "        ماشین یا بیشتر در یک دقیقه مشخص از روی این پل عبور کنند چقدر است؟\n",
    "    <br/>\n",
    "        پاسخ:برای حل این سوال به سراغ توزیع پواسون میرویم. چون در این توزیع امید ریاضی برابر با مولفه \n",
    "        $\\lambda$\n",
    "        میباشد در نتیجه \n",
    "        $\\lambda = 12$.\n",
    "<br/>\n",
    "        همچنین میدانیم در توزیع پواسون، احتمال عبور 16 ماشین از روی پل در یک دقیقه مشخص برابر است با:\n",
    "        <div dir = \"ltr\">\n",
    "        $P(x \\, = \\, 16) = \\frac{e^{-\\lambda} \\times \\lambda ^ {16}}{16!}$\n",
    "</div>\n",
    "و احتمال عبور کردن 16 ماشین یا کمتر بر روی پل برابر است با:\n",
    "<div dir = \"ltr\">\n",
    "    $\\sum_{i = 0 }^{16} P(x \\, = \\,i)$\n",
    "</div>\n",
    "در \n",
    "R\n",
    "میتوان عبارت های نوشته شده را به ترتیب  به صورت زیر حساب کرد:\n",
    "\t</font>\n",
    "</div>"
   ]
  },
  {
   "cell_type": "code",
   "execution_count": 27,
   "metadata": {},
   "outputs": [
    {
     "data": {
      "text/html": [
       "0.0542933401099791"
      ],
      "text/latex": [
       "0.0542933401099791"
      ],
      "text/markdown": [
       "0.0542933401099791"
      ],
      "text/plain": [
       "[1] 0.05429334"
      ]
     },
     "metadata": {},
     "output_type": "display_data"
    }
   ],
   "source": [
    "dpois(x = 16, lambda = 12)"
   ]
  },
  {
   "cell_type": "code",
   "execution_count": 7,
   "metadata": {},
   "outputs": [
    {
     "data": {
      "text/html": [
       "0.898708992560162"
      ],
      "text/latex": [
       "0.898708992560162"
      ],
      "text/markdown": [
       "0.898708992560162"
      ],
      "text/plain": [
       "[1] 0.898709"
      ]
     },
     "metadata": {},
     "output_type": "display_data"
    }
   ],
   "source": [
    "ppois(16, lambda=12) #lower tail"
   ]
  },
  {
   "cell_type": "markdown",
   "metadata": {},
   "source": [
    "<div dir = \"rtl\" style=\"direction:rtl;line-height:300%;\">\n",
    "\t<font face=\"XB Zar\" size=5>\n",
    "\t\t<font color=#FF7500 size=6>\n",
    "        </font>\n",
    "      برای به دست آوردن احتمال رد شدن بیش از 16 اتوموبیل بر روی پل داریم:\n",
    "         <br/>\n",
    "\t</font>\n",
    "</div>"
   ]
  },
  {
   "cell_type": "code",
   "execution_count": 8,
   "metadata": {},
   "outputs": [
    {
     "data": {
      "text/html": [
       "0.101291007439838"
      ],
      "text/latex": [
       "0.101291007439838"
      ],
      "text/markdown": [
       "0.101291007439838"
      ],
      "text/plain": [
       "[1] 0.101291"
      ]
     },
     "metadata": {},
     "output_type": "display_data"
    }
   ],
   "source": [
    "1 - ppois(16, lambda=12) #lower tail"
   ]
  },
  {
   "cell_type": "markdown",
   "metadata": {},
   "source": [
    "<div dir = \"rtl\" style=\"direction:rtl;line-height:300%;\">\n",
    "\t<font face=\"XB Zar\" size=5>\n",
    "\t\t<font color=#FF7500 size=6>\n",
    "        </font>\n",
    "      و یا:\n",
    "         <br/>\n",
    "\t</font>\n",
    "</div>"
   ]
  },
  {
   "cell_type": "code",
   "execution_count": 9,
   "metadata": {},
   "outputs": [
    {
     "data": {
      "text/html": [
       "0.101291007439838"
      ],
      "text/latex": [
       "0.101291007439838"
      ],
      "text/markdown": [
       "0.101291007439838"
      ],
      "text/plain": [
       "[1] 0.101291"
      ]
     },
     "metadata": {},
     "output_type": "display_data"
    }
   ],
   "source": [
    "ppois(16, lambda=12, lower=FALSE) #upper tail"
   ]
  },
  {
   "cell_type": "markdown",
   "metadata": {},
   "source": [
    "<div dir = \"rtl\" style=\"direction:rtl;line-height:300%;\">\n",
    "\t<font face=\"XB Zar\" size=5>\n",
    "\t\t<font color=#FF7500 size=6>\n",
    "        </font>\n",
    "      برای گرفتن نمونه تصادفی از توزیع پوآسون نیز داریم:\n",
    "      <br/>\n",
    "\t</font>\n",
    "</div>"
   ]
  },
  {
   "cell_type": "code",
   "execution_count": 28,
   "metadata": {},
   "outputs": [
    {
     "data": {
      "text/html": [
       "<ol class=list-inline>\n",
       "\t<li>13</li>\n",
       "\t<li>10</li>\n",
       "\t<li>13</li>\n",
       "\t<li>14</li>\n",
       "\t<li>13</li>\n",
       "\t<li>12</li>\n",
       "\t<li>9</li>\n",
       "\t<li>14</li>\n",
       "\t<li>16</li>\n",
       "\t<li>9</li>\n",
       "\t<li>14</li>\n",
       "\t<li>21</li>\n",
       "\t<li>5</li>\n",
       "\t<li>11</li>\n",
       "\t<li>15</li>\n",
       "\t<li>14</li>\n",
       "\t<li>6</li>\n",
       "\t<li>15</li>\n",
       "\t<li>8</li>\n",
       "\t<li>15</li>\n",
       "\t<li>9</li>\n",
       "\t<li>15</li>\n",
       "\t<li>16</li>\n",
       "\t<li>13</li>\n",
       "\t<li>14</li>\n",
       "\t<li>16</li>\n",
       "\t<li>15</li>\n",
       "\t<li>7</li>\n",
       "\t<li>11</li>\n",
       "\t<li>13</li>\n",
       "\t<li>7</li>\n",
       "\t<li>14</li>\n",
       "\t<li>16</li>\n",
       "\t<li>14</li>\n",
       "\t<li>11</li>\n",
       "\t<li>12</li>\n",
       "\t<li>9</li>\n",
       "\t<li>5</li>\n",
       "\t<li>11</li>\n",
       "\t<li>12</li>\n",
       "\t<li>16</li>\n",
       "\t<li>9</li>\n",
       "\t<li>9</li>\n",
       "\t<li>11</li>\n",
       "\t<li>21</li>\n",
       "\t<li>11</li>\n",
       "\t<li>7</li>\n",
       "\t<li>14</li>\n",
       "\t<li>9</li>\n",
       "\t<li>8</li>\n",
       "</ol>\n"
      ],
      "text/latex": [
       "\\begin{enumerate*}\n",
       "\\item 13\n",
       "\\item 10\n",
       "\\item 13\n",
       "\\item 14\n",
       "\\item 13\n",
       "\\item 12\n",
       "\\item 9\n",
       "\\item 14\n",
       "\\item 16\n",
       "\\item 9\n",
       "\\item 14\n",
       "\\item 21\n",
       "\\item 5\n",
       "\\item 11\n",
       "\\item 15\n",
       "\\item 14\n",
       "\\item 6\n",
       "\\item 15\n",
       "\\item 8\n",
       "\\item 15\n",
       "\\item 9\n",
       "\\item 15\n",
       "\\item 16\n",
       "\\item 13\n",
       "\\item 14\n",
       "\\item 16\n",
       "\\item 15\n",
       "\\item 7\n",
       "\\item 11\n",
       "\\item 13\n",
       "\\item 7\n",
       "\\item 14\n",
       "\\item 16\n",
       "\\item 14\n",
       "\\item 11\n",
       "\\item 12\n",
       "\\item 9\n",
       "\\item 5\n",
       "\\item 11\n",
       "\\item 12\n",
       "\\item 16\n",
       "\\item 9\n",
       "\\item 9\n",
       "\\item 11\n",
       "\\item 21\n",
       "\\item 11\n",
       "\\item 7\n",
       "\\item 14\n",
       "\\item 9\n",
       "\\item 8\n",
       "\\end{enumerate*}\n"
      ],
      "text/markdown": [
       "1. 13\n",
       "2. 10\n",
       "3. 13\n",
       "4. 14\n",
       "5. 13\n",
       "6. 12\n",
       "7. 9\n",
       "8. 14\n",
       "9. 16\n",
       "10. 9\n",
       "11. 14\n",
       "12. 21\n",
       "13. 5\n",
       "14. 11\n",
       "15. 15\n",
       "16. 14\n",
       "17. 6\n",
       "18. 15\n",
       "19. 8\n",
       "20. 15\n",
       "21. 9\n",
       "22. 15\n",
       "23. 16\n",
       "24. 13\n",
       "25. 14\n",
       "26. 16\n",
       "27. 15\n",
       "28. 7\n",
       "29. 11\n",
       "30. 13\n",
       "31. 7\n",
       "32. 14\n",
       "33. 16\n",
       "34. 14\n",
       "35. 11\n",
       "36. 12\n",
       "37. 9\n",
       "38. 5\n",
       "39. 11\n",
       "40. 12\n",
       "41. 16\n",
       "42. 9\n",
       "43. 9\n",
       "44. 11\n",
       "45. 21\n",
       "46. 11\n",
       "47. 7\n",
       "48. 14\n",
       "49. 9\n",
       "50. 8\n",
       "\n",
       "\n"
      ],
      "text/plain": [
       " [1] 13 10 13 14 13 12  9 14 16  9 14 21  5 11 15 14  6 15  8 15  9 15 16 13 14\n",
       "[26] 16 15  7 11 13  7 14 16 14 11 12  9  5 11 12 16  9  9 11 21 11  7 14  9  8"
      ]
     },
     "metadata": {},
     "output_type": "display_data"
    }
   ],
   "source": [
    "rpois(n = 1000, lambda = 12) -> data_poi\n",
    "data_poi[1:50]"
   ]
  },
  {
   "cell_type": "code",
   "execution_count": 29,
   "metadata": {},
   "outputs": [
    {
     "data": {
      "image/png": "[encoded data removed]",
      "text/plain": [
       "Plot with title “Histogram of data_poi”"
      ]
     },
     "metadata": {},
     "output_type": "display_data"
    }
   ],
   "source": [
    "hist(data_poi, col = \"violet\")"
   ]
  },
  {
   "cell_type": "markdown",
   "metadata": {},
   "source": [
    "<div dir = \"rtl\" style=\"direction:rtl;line-height:300%;\">\n",
    "\t<font face=\"XB Zar\" size=5>\n",
    "\t\t<font color=#FF7500 size=6>\n",
    "        </font>\n",
    "      دقت کنید که در نمودار کشیده شده این 1000 نمونه تصادفی، تعداد نمونه هایی که 12 شده اند بیشتر از بقیه اعداد است. دلیل این اتفاق چیست؟\n",
    "      <br/>\n",
    "\t</font>\n",
    "</div>"
   ]
  },
  {
   "cell_type": "markdown",
   "metadata": {},
   "source": [
    "<p></p>\n",
    "<br />\n",
    "<div id=\"sec_uniform\" style=\"direction:rtl;line-height:300%;\">\n",
    "\t<font face=\"XB Zar\" size=5>\n",
    "\t\t<font color=#FF7500 size=6>\n",
    "توزیع یکنواخت\n",
    "        </font>\n",
    "\t\t<hr>  \n",
    "        میدانید در توزیع یکنواخت احتمال هر کدام از اعداد داخل محدوده با هم یکسان است.\n",
    "        R\n",
    "    این امکان را به ما میدهد تا در بازه های دلخواه اعداد رندوم تولید کنیم.\n",
    "        برای مثال میخواهیم در باز 0 تا 10 \n",
    "\t،\n",
    "        1000 \n",
    "        عدد رندوم تولید کنیم:\n",
    "    </font>\n",
    "</div>"
   ]
  },
  {
   "cell_type": "code",
   "execution_count": 32,
   "metadata": {},
   "outputs": [
    {
     "data": {
      "text/html": [
       "<ol class=list-inline>\n",
       "\t<li>0.399844845989719</li>\n",
       "\t<li>2.05572706391104</li>\n",
       "\t<li>2.30349634937011</li>\n",
       "\t<li>2.30378638487309</li>\n",
       "\t<li>2.28083705878817</li>\n",
       "\t<li>0.659369770204648</li>\n",
       "\t<li>0.0774583595339209</li>\n",
       "\t<li>2.3345132865943</li>\n",
       "\t<li>1.96241657948121</li>\n",
       "\t<li>0.247728748479858</li>\n",
       "\t<li>0.371545390924439</li>\n",
       "\t<li>2.24865657370538</li>\n",
       "\t<li>1.7448635220062</li>\n",
       "\t<li>1.87515960959718</li>\n",
       "\t<li>0.882821753388271</li>\n",
       "\t<li>0.60010337177664</li>\n",
       "\t<li>1.64751984947361</li>\n",
       "\t<li>1.00512531353161</li>\n",
       "\t<li>2.58794292365201</li>\n",
       "\t<li>0.918248257599771</li>\n",
       "\t<li>0.523692364571616</li>\n",
       "\t<li>0.396487141493708</li>\n",
       "\t<li>1.41949603683315</li>\n",
       "\t<li>2.53736224863678</li>\n",
       "\t<li>2.53072835644707</li>\n",
       "\t<li>1.56846583960578</li>\n",
       "\t<li>2.37151097157039</li>\n",
       "\t<li>1.07083925418556</li>\n",
       "\t<li>1.26514451578259</li>\n",
       "\t<li>1.54430840397254</li>\n",
       "\t<li>1.6859342569951</li>\n",
       "\t<li>2.34873304911889</li>\n",
       "\t<li>1.55457581137307</li>\n",
       "\t<li>1.77792170131579</li>\n",
       "\t<li>0.0440866390708834</li>\n",
       "\t<li>0.270883507328108</li>\n",
       "\t<li>1.11900288239121</li>\n",
       "\t<li>1.49591567530297</li>\n",
       "\t<li>1.5654240322765</li>\n",
       "\t<li>2.74692151718773</li>\n",
       "\t<li>1.9743068323005</li>\n",
       "\t<li>0.162289469037205</li>\n",
       "\t<li>2.43657644069754</li>\n",
       "\t<li>0.00553612690418959</li>\n",
       "\t<li>2.19946023914963</li>\n",
       "\t<li>1.19151665526442</li>\n",
       "\t<li>2.49722847319208</li>\n",
       "\t<li>1.6663018274121</li>\n",
       "\t<li>0.0898412538226694</li>\n",
       "\t<li>2.32115978049114</li>\n",
       "</ol>\n"
      ],
      "text/latex": [
       "\\begin{enumerate*}\n",
       "\\item 0.399844845989719\n",
       "\\item 2.05572706391104\n",
       "\\item 2.30349634937011\n",
       "\\item 2.30378638487309\n",
       "\\item 2.28083705878817\n",
       "\\item 0.659369770204648\n",
       "\\item 0.0774583595339209\n",
       "\\item 2.3345132865943\n",
       "\\item 1.96241657948121\n",
       "\\item 0.247728748479858\n",
       "\\item 0.371545390924439\n",
       "\\item 2.24865657370538\n",
       "\\item 1.7448635220062\n",
       "\\item 1.87515960959718\n",
       "\\item 0.882821753388271\n",
       "\\item 0.60010337177664\n",
       "\\item 1.64751984947361\n",
       "\\item 1.00512531353161\n",
       "\\item 2.58794292365201\n",
       "\\item 0.918248257599771\n",
       "\\item 0.523692364571616\n",
       "\\item 0.396487141493708\n",
       "\\item 1.41949603683315\n",
       "\\item 2.53736224863678\n",
       "\\item 2.53072835644707\n",
       "\\item 1.56846583960578\n",
       "\\item 2.37151097157039\n",
       "\\item 1.07083925418556\n",
       "\\item 1.26514451578259\n",
       "\\item 1.54430840397254\n",
       "\\item 1.6859342569951\n",
       "\\item 2.34873304911889\n",
       "\\item 1.55457581137307\n",
       "\\item 1.77792170131579\n",
       "\\item 0.0440866390708834\n",
       "\\item 0.270883507328108\n",
       "\\item 1.11900288239121\n",
       "\\item 1.49591567530297\n",
       "\\item 1.5654240322765\n",
       "\\item 2.74692151718773\n",
       "\\item 1.9743068323005\n",
       "\\item 0.162289469037205\n",
       "\\item 2.43657644069754\n",
       "\\item 0.00553612690418959\n",
       "\\item 2.19946023914963\n",
       "\\item 1.19151665526442\n",
       "\\item 2.49722847319208\n",
       "\\item 1.6663018274121\n",
       "\\item 0.0898412538226694\n",
       "\\item 2.32115978049114\n",
       "\\end{enumerate*}\n"
      ],
      "text/markdown": [
       "1. 0.399844845989719\n",
       "2. 2.05572706391104\n",
       "3. 2.30349634937011\n",
       "4. 2.30378638487309\n",
       "5. 2.28083705878817\n",
       "6. 0.659369770204648\n",
       "7. 0.0774583595339209\n",
       "8. 2.3345132865943\n",
       "9. 1.96241657948121\n",
       "10. 0.247728748479858\n",
       "11. 0.371545390924439\n",
       "12. 2.24865657370538\n",
       "13. 1.7448635220062\n",
       "14. 1.87515960959718\n",
       "15. 0.882821753388271\n",
       "16. 0.60010337177664\n",
       "17. 1.64751984947361\n",
       "18. 1.00512531353161\n",
       "19. 2.58794292365201\n",
       "20. 0.918248257599771\n",
       "21. 0.523692364571616\n",
       "22. 0.396487141493708\n",
       "23. 1.41949603683315\n",
       "24. 2.53736224863678\n",
       "25. 2.53072835644707\n",
       "26. 1.56846583960578\n",
       "27. 2.37151097157039\n",
       "28. 1.07083925418556\n",
       "29. 1.26514451578259\n",
       "30. 1.54430840397254\n",
       "31. 1.6859342569951\n",
       "32. 2.34873304911889\n",
       "33. 1.55457581137307\n",
       "34. 1.77792170131579\n",
       "35. 0.0440866390708834\n",
       "36. 0.270883507328108\n",
       "37. 1.11900288239121\n",
       "38. 1.49591567530297\n",
       "39. 1.5654240322765\n",
       "40. 2.74692151718773\n",
       "41. 1.9743068323005\n",
       "42. 0.162289469037205\n",
       "43. 2.43657644069754\n",
       "44. 0.00553612690418959\n",
       "45. 2.19946023914963\n",
       "46. 1.19151665526442\n",
       "47. 2.49722847319208\n",
       "48. 1.6663018274121\n",
       "49. 0.0898412538226694\n",
       "50. 2.32115978049114\n",
       "\n",
       "\n"
      ],
      "text/plain": [
       " [1] 0.399844846 2.055727064 2.303496349 2.303786385 2.280837059 0.659369770\n",
       " [7] 0.077458360 2.334513287 1.962416579 0.247728748 0.371545391 2.248656574\n",
       "[13] 1.744863522 1.875159610 0.882821753 0.600103372 1.647519849 1.005125314\n",
       "[19] 2.587942924 0.918248258 0.523692365 0.396487141 1.419496037 2.537362249\n",
       "[25] 2.530728356 1.568465840 2.371510972 1.070839254 1.265144516 1.544308404\n",
       "[31] 1.685934257 2.348733049 1.554575811 1.777921701 0.044086639 0.270883507\n",
       "[37] 1.119002882 1.495915675 1.565424032 2.746921517 1.974306832 0.162289469\n",
       "[43] 2.436576441 0.005536127 2.199460239 1.191516655 2.497228473 1.666301827\n",
       "[49] 0.089841254 2.321159780"
      ]
     },
     "metadata": {},
     "output_type": "display_data"
    }
   ],
   "source": [
    "runif(1000, min = 0 , max = 3) -> data_unif \n",
    "data_unif[1:50]"
   ]
  },
  {
   "cell_type": "code",
   "execution_count": 33,
   "metadata": {},
   "outputs": [
    {
     "data": {
      "image/png": "[encoded data removed]",
      "text/plain": [
       "Plot with title “Histogram of data_unif”"
      ]
     },
     "metadata": {},
     "output_type": "display_data"
    }
   ],
   "source": [
    "hist(data_unif, col = \"violet\")"
   ]
  },
  {
   "cell_type": "markdown",
   "metadata": {},
   "source": [
    "<p></p>\n",
    "<br />\n",
    "<div id=\"sec_normal\" style=\"direction:rtl;line-height:300%;\">\n",
    "\t<font face=\"XB Zar\" size=5>\n",
    "\t\t<font color=#FF7500 size=6>\n",
    "توزیع نرمال\n",
    "        </font>\n",
    "\t\t<hr> \n",
    "        فرض کنید نتایج یک امتحان از توزیع نرمال پیروی میکنند. در این امتحان متوسط نمره دانشجویان 48 و واریانس آن 17 بوده است.\n",
    "       احتمال اینکه دانشجویی در این امتحان نمره 80 به بالا بگیرد چقدر است؟\n",
    "          <br/>\n",
    "        پاسخ:با توجه به توزیع نرمال داریم:\n",
    "        <div dir = \"ltr\">\n",
    "        $f(x) = \\frac{1}{\\sqrt{2 \\, \\pi \\, \\sigma^2}}e^{\\frac{(x - \\mu)^2}{2\\sigma^2}}$\n",
    " </div>\n",
    "    پس احتمال اینکه دانشجویی در این امتحان نمره بالا تر از 80 بگیرد برابر است با:\n",
    "    <div dir = \"ltr\">\n",
    "    $F(80) = P(x >= 80) =  \\int_{80}^{100} f(x) dx$ \n",
    "</div>\n",
    "میتوان این عبارت را در \n",
    "R\n",
    "به صورت زیر محاسبه کرد:\n",
    "    </font>\n",
    "</div>"
   ]
  },
  {
   "cell_type": "code",
   "execution_count": 34,
   "metadata": {},
   "outputs": [
    {
     "data": {
      "text/html": [
       "0.0298940554132321"
      ],
      "text/latex": [
       "0.0298940554132321"
      ],
      "text/markdown": [
       "0.0298940554132321"
      ],
      "text/plain": [
       "[1] 0.02989406"
      ]
     },
     "metadata": {},
     "output_type": "display_data"
    }
   ],
   "source": [
    "pnorm(80, mean=48, sd=17, lower.tail=FALSE) "
   ]
  },
  {
   "cell_type": "markdown",
   "metadata": {},
   "source": [
    "<div dir = \"rtl\" style=\"direction:rtl;line-height:300%;\">\n",
    "\t<font face=\"XB Zar\" size=5>\n",
    "\t\t<font color=#FF7500 size=6>\n",
    "        </font>\n",
    "    همچنین میتوان احتمال نقطه‌ای را اینگونه محاسبه کرد :\n",
    "   <br/>\n",
    "\t</font>\n",
    "</div>"
   ]
  },
  {
   "cell_type": "code",
   "execution_count": 15,
   "metadata": {},
   "outputs": [
    {
     "data": {
      "text/html": [
       "<ol class=list-inline>\n",
       "\t<li>0.00604482187806372</li>\n",
       "\t<li>0.00610356665538927</li>\n",
       "\t<li>0.0061626690812723</li>\n",
       "\t<li>0.00622212850905189</li>\n",
       "\t<li>0.00628194424857958</li>\n",
       "\t<li>0.00634211556589579</li>\n",
       "\t<li>0.00640264168291074</li>\n",
       "\t<li>0.00646352177708994</li>\n",
       "\t<li>0.00652475498114445</li>\n",
       "\t<li>0.00658634038272588</li>\n",
       "\t<li>0.00664827702412648</li>\n",
       "\t<li>0.00671056390198408</li>\n",
       "\t<li>0.00677319996699239</li>\n",
       "\t<li>0.00683618412361639</li>\n",
       "\t<li>0.00689951522981323</li>\n",
       "\t<li>0.00696319209675853</li>\n",
       "\t<li>0.00702721348857828</li>\n",
       "\t<li>0.00709157812208647</li>\n",
       "\t<li>0.00715628466652855</li>\n",
       "\t<li>0.00722133174333068</li>\n",
       "\t<li>0.00728671792585516</li>\n",
       "\t<li>0.00735244173916185</li>\n",
       "\t<li>0.00741850165977593</li>\n",
       "\t<li>0.00748489611546189</li>\n",
       "\t<li>0.00755162348500407</li>\n",
       "\t<li>0.00761868209799363</li>\n",
       "\t<li>0.00768607023462227</li>\n",
       "\t<li>0.00775378612548261</li>\n",
       "\t<li>0.00782182795137549</li>\n",
       "\t<li>0.0078901938431242</li>\n",
       "\t<li>0.00795888188139572</li>\n",
       "\t<li>0.00802789009652917</li>\n",
       "\t<li>0.00809721646837145</li>\n",
       "\t<li>0.00816685892612031</li>\n",
       "\t<li>0.00823681534817476</li>\n",
       "\t<li>0.00830708356199309</li>\n",
       "\t<li>0.00837766134395848</li>\n",
       "\t<li>0.00844854641925238</li>\n",
       "\t<li>0.00851973646173567</li>\n",
       "\t<li>0.00859122909383772</li>\n",
       "\t<li>0.0086630218864535</li>\n",
       "\t<li>0.00873511235884873</li>\n",
       "\t<li>0.00880749797857323</li>\n",
       "\t<li>0.0088801761613825</li>\n",
       "\t<li>0.00895314427116771</li>\n",
       "\t<li>0.00902639961989406</li>\n",
       "\t<li>0.00909993946754765</li>\n",
       "\t<li>0.00917376102209103</li>\n",
       "\t<li>0.00924786143942728</li>\n",
       "\t<li>0.00932223782337301</li>\n",
       "</ol>\n"
      ],
      "text/latex": [
       "\\begin{enumerate*}\n",
       "\\item 0.00604482187806372\n",
       "\\item 0.00610356665538927\n",
       "\\item 0.0061626690812723\n",
       "\\item 0.00622212850905189\n",
       "\\item 0.00628194424857958\n",
       "\\item 0.00634211556589579\n",
       "\\item 0.00640264168291074\n",
       "\\item 0.00646352177708994\n",
       "\\item 0.00652475498114445\n",
       "\\item 0.00658634038272588\n",
       "\\item 0.00664827702412648\n",
       "\\item 0.00671056390198408\n",
       "\\item 0.00677319996699239\n",
       "\\item 0.00683618412361639\n",
       "\\item 0.00689951522981323\n",
       "\\item 0.00696319209675853\n",
       "\\item 0.00702721348857828\n",
       "\\item 0.00709157812208647\n",
       "\\item 0.00715628466652855\n",
       "\\item 0.00722133174333068\n",
       "\\item 0.00728671792585516\n",
       "\\item 0.00735244173916185\n",
       "\\item 0.00741850165977593\n",
       "\\item 0.00748489611546189\n",
       "\\item 0.00755162348500407\n",
       "\\item 0.00761868209799363\n",
       "\\item 0.00768607023462227\n",
       "\\item 0.00775378612548261\n",
       "\\item 0.00782182795137549\n",
       "\\item 0.0078901938431242\n",
       "\\item 0.00795888188139572\n",
       "\\item 0.00802789009652917\n",
       "\\item 0.00809721646837145\n",
       "\\item 0.00816685892612031\n",
       "\\item 0.00823681534817476\n",
       "\\item 0.00830708356199309\n",
       "\\item 0.00837766134395848\n",
       "\\item 0.00844854641925238\n",
       "\\item 0.00851973646173567\n",
       "\\item 0.00859122909383772\n",
       "\\item 0.0086630218864535\n",
       "\\item 0.00873511235884873\n",
       "\\item 0.00880749797857323\n",
       "\\item 0.0088801761613825\n",
       "\\item 0.00895314427116771\n",
       "\\item 0.00902639961989406\n",
       "\\item 0.00909993946754765\n",
       "\\item 0.00917376102209103\n",
       "\\item 0.00924786143942728\n",
       "\\item 0.00932223782337301\n",
       "\\end{enumerate*}\n"
      ],
      "text/markdown": [
       "1. 0.00604482187806372\n",
       "2. 0.00610356665538927\n",
       "3. 0.0061626690812723\n",
       "4. 0.00622212850905189\n",
       "5. 0.00628194424857958\n",
       "6. 0.00634211556589579\n",
       "7. 0.00640264168291074\n",
       "8. 0.00646352177708994\n",
       "9. 0.00652475498114445\n",
       "10. 0.00658634038272588\n",
       "11. 0.00664827702412648\n",
       "12. 0.00671056390198408\n",
       "13. 0.00677319996699239\n",
       "14. 0.00683618412361639\n",
       "15. 0.00689951522981323\n",
       "16. 0.00696319209675853\n",
       "17. 0.00702721348857828\n",
       "18. 0.00709157812208647\n",
       "19. 0.00715628466652855\n",
       "20. 0.00722133174333068\n",
       "21. 0.00728671792585516\n",
       "22. 0.00735244173916185\n",
       "23. 0.00741850165977593\n",
       "24. 0.00748489611546189\n",
       "25. 0.00755162348500407\n",
       "26. 0.00761868209799363\n",
       "27. 0.00768607023462227\n",
       "28. 0.00775378612548261\n",
       "29. 0.00782182795137549\n",
       "30. 0.0078901938431242\n",
       "31. 0.00795888188139572\n",
       "32. 0.00802789009652917\n",
       "33. 0.00809721646837145\n",
       "34. 0.00816685892612031\n",
       "35. 0.00823681534817476\n",
       "36. 0.00830708356199309\n",
       "37. 0.00837766134395848\n",
       "38. 0.00844854641925238\n",
       "39. 0.00851973646173567\n",
       "40. 0.00859122909383772\n",
       "41. 0.0086630218864535\n",
       "42. 0.00873511235884873\n",
       "43. 0.00880749797857323\n",
       "44. 0.0088801761613825\n",
       "45. 0.00895314427116771\n",
       "46. 0.00902639961989406\n",
       "47. 0.00909993946754765\n",
       "48. 0.00917376102209103\n",
       "49. 0.00924786143942728\n",
       "50. 0.00932223782337301\n",
       "\n",
       "\n"
      ],
      "text/plain": [
       " [1] 0.006044822 0.006103567 0.006162669 0.006222129 0.006281944 0.006342116\n",
       " [7] 0.006402642 0.006463522 0.006524755 0.006586340 0.006648277 0.006710564\n",
       "[13] 0.006773200 0.006836184 0.006899515 0.006963192 0.007027213 0.007091578\n",
       "[19] 0.007156285 0.007221332 0.007286718 0.007352442 0.007418502 0.007484896\n",
       "[25] 0.007551623 0.007618682 0.007686070 0.007753786 0.007821828 0.007890194\n",
       "[31] 0.007958882 0.008027890 0.008097216 0.008166859 0.008236815 0.008307084\n",
       "[37] 0.008377661 0.008448546 0.008519736 0.008591229 0.008663022 0.008735112\n",
       "[43] 0.008807498 0.008880176 0.008953144 0.009026400 0.009099939 0.009173761\n",
       "[49] 0.009247861 0.009322238"
      ]
     },
     "metadata": {},
     "output_type": "display_data"
    }
   ],
   "source": [
    "y <- dnorm(seq(20, 60, by = .1), mean = 48, sd = 17)\n",
    "y[1:50]"
   ]
  },
  {
   "cell_type": "code",
   "execution_count": 16,
   "metadata": {},
   "outputs": [
    {
     "data": {
      "image/png": "[encoded data removed]",
      "text/plain": [
       "plot without title"
      ]
     },
     "metadata": {},
     "output_type": "display_data"
    }
   ],
   "source": [
    "plot(seq(20, 60, by = .1), y, col = \"purple\")\n"
   ]
  },
  {
   "cell_type": "markdown",
   "metadata": {},
   "source": [
    "<div dir = \"rtl\" style=\"direction:rtl;line-height:300%;\">\n",
    "\t<font face=\"XB Zar\" size=5>\n",
    "\t\t<font color=#FF7500 size=6>\n",
    "        </font>\n",
    "        همچنین برای توزیع نرمال استاندارد داریم:\n",
    "        <br/>\n",
    "\t</font>\n",
    "</div>"
   ]
  },
  {
   "cell_type": "code",
   "execution_count": 16,
   "metadata": {},
   "outputs": [
    {
     "data": {
      "image/png": "[encoded data removed]",
      "text/plain": [
       "plot without title"
      ]
     },
     "metadata": {},
     "output_type": "display_data"
    }
   ],
   "source": [
    "dnorm(x = seq(-3, 3, by = 0.05)) -> y_standard_normal\n",
    "plot(seq(-3,3, by = 0.05), y_standard_normal, col = \"purple\")"
   ]
  },
  {
   "cell_type": "markdown",
   "metadata": {},
   "source": [
    "<div dir = \"rtl\" style=\"direction:rtl;line-height:300%;\">\n",
    "\t<font face=\"XB Zar\" size=5>\n",
    "\t\t<font color=#FF7500 size=6>\n",
    "        </font>\n",
    "        مانند قبل میتوانیم نمونه تصادفی از توزیع نرمال بگیریم.\n",
    "      <br/>\n",
    "\t</font>\n",
    "</div>"
   ]
  },
  {
   "cell_type": "code",
   "execution_count": 17,
   "metadata": {},
   "outputs": [
    {
     "data": {
      "text/html": [
       "<ol class=list-inline>\n",
       "\t<li>70.8380718221703</li>\n",
       "\t<li>64.7809531104389</li>\n",
       "\t<li>55.6990413528636</li>\n",
       "\t<li>32.2378479236845</li>\n",
       "\t<li>42.3939274243368</li>\n",
       "\t<li>53.1162789594132</li>\n",
       "\t<li>55.7429654840325</li>\n",
       "\t<li>35.4793727680203</li>\n",
       "\t<li>45.8169395700667</li>\n",
       "\t<li>33.9866275048777</li>\n",
       "\t<li>75.5795000144372</li>\n",
       "\t<li>57.9978020958734</li>\n",
       "\t<li>62.9093170657972</li>\n",
       "\t<li>49.1238474394842</li>\n",
       "\t<li>45.5121919190742</li>\n",
       "\t<li>59.8270473990201</li>\n",
       "\t<li>26.2555455479486</li>\n",
       "\t<li>64.6610448013114</li>\n",
       "\t<li>23.4404480715573</li>\n",
       "\t<li>73.5309983626694</li>\n",
       "\t<li>37.7515753520277</li>\n",
       "\t<li>52.6656109904593</li>\n",
       "\t<li>57.1619597987384</li>\n",
       "\t<li>36.427335972245</li>\n",
       "\t<li>59.0721414575564</li>\n",
       "\t<li>50.5159086133966</li>\n",
       "\t<li>42.5943472638788</li>\n",
       "\t<li>81.9257123506511</li>\n",
       "\t<li>66.0595125602071</li>\n",
       "\t<li>64.5139041335184</li>\n",
       "\t<li>61.2018204904202</li>\n",
       "\t<li>44.9161793641915</li>\n",
       "\t<li>37.2131902615426</li>\n",
       "\t<li>66.1904070367548</li>\n",
       "\t<li>42.409852540102</li>\n",
       "\t<li>45.0394856513526</li>\n",
       "\t<li>27.627532109305</li>\n",
       "\t<li>36.884161588431</li>\n",
       "\t<li>39.3575992649345</li>\n",
       "\t<li>81.0669060828812</li>\n",
       "\t<li>26.2748972180826</li>\n",
       "\t<li>44.5236375765147</li>\n",
       "\t<li>31.9111554920759</li>\n",
       "\t<li>60.6549478494567</li>\n",
       "\t<li>72.9443288014709</li>\n",
       "\t<li>39.9963252085421</li>\n",
       "\t<li>64.4500890525521</li>\n",
       "\t<li>46.3316874740472</li>\n",
       "\t<li>40.4047570050516</li>\n",
       "\t<li>70.1060500214195</li>\n",
       "</ol>\n"
      ],
      "text/latex": [
       "\\begin{enumerate*}\n",
       "\\item 70.8380718221703\n",
       "\\item 64.7809531104389\n",
       "\\item 55.6990413528636\n",
       "\\item 32.2378479236845\n",
       "\\item 42.3939274243368\n",
       "\\item 53.1162789594132\n",
       "\\item 55.7429654840325\n",
       "\\item 35.4793727680203\n",
       "\\item 45.8169395700667\n",
       "\\item 33.9866275048777\n",
       "\\item 75.5795000144372\n",
       "\\item 57.9978020958734\n",
       "\\item 62.9093170657972\n",
       "\\item 49.1238474394842\n",
       "\\item 45.5121919190742\n",
       "\\item 59.8270473990201\n",
       "\\item 26.2555455479486\n",
       "\\item 64.6610448013114\n",
       "\\item 23.4404480715573\n",
       "\\item 73.5309983626694\n",
       "\\item 37.7515753520277\n",
       "\\item 52.6656109904593\n",
       "\\item 57.1619597987384\n",
       "\\item 36.427335972245\n",
       "\\item 59.0721414575564\n",
       "\\item 50.5159086133966\n",
       "\\item 42.5943472638788\n",
       "\\item 81.9257123506511\n",
       "\\item 66.0595125602071\n",
       "\\item 64.5139041335184\n",
       "\\item 61.2018204904202\n",
       "\\item 44.9161793641915\n",
       "\\item 37.2131902615426\n",
       "\\item 66.1904070367548\n",
       "\\item 42.409852540102\n",
       "\\item 45.0394856513526\n",
       "\\item 27.627532109305\n",
       "\\item 36.884161588431\n",
       "\\item 39.3575992649345\n",
       "\\item 81.0669060828812\n",
       "\\item 26.2748972180826\n",
       "\\item 44.5236375765147\n",
       "\\item 31.9111554920759\n",
       "\\item 60.6549478494567\n",
       "\\item 72.9443288014709\n",
       "\\item 39.9963252085421\n",
       "\\item 64.4500890525521\n",
       "\\item 46.3316874740472\n",
       "\\item 40.4047570050516\n",
       "\\item 70.1060500214195\n",
       "\\end{enumerate*}\n"
      ],
      "text/markdown": [
       "1. 70.8380718221703\n",
       "2. 64.7809531104389\n",
       "3. 55.6990413528636\n",
       "4. 32.2378479236845\n",
       "5. 42.3939274243368\n",
       "6. 53.1162789594132\n",
       "7. 55.7429654840325\n",
       "8. 35.4793727680203\n",
       "9. 45.8169395700667\n",
       "10. 33.9866275048777\n",
       "11. 75.5795000144372\n",
       "12. 57.9978020958734\n",
       "13. 62.9093170657972\n",
       "14. 49.1238474394842\n",
       "15. 45.5121919190742\n",
       "16. 59.8270473990201\n",
       "17. 26.2555455479486\n",
       "18. 64.6610448013114\n",
       "19. 23.4404480715573\n",
       "20. 73.5309983626694\n",
       "21. 37.7515753520277\n",
       "22. 52.6656109904593\n",
       "23. 57.1619597987384\n",
       "24. 36.427335972245\n",
       "25. 59.0721414575564\n",
       "26. 50.5159086133966\n",
       "27. 42.5943472638788\n",
       "28. 81.9257123506511\n",
       "29. 66.0595125602071\n",
       "30. 64.5139041335184\n",
       "31. 61.2018204904202\n",
       "32. 44.9161793641915\n",
       "33. 37.2131902615426\n",
       "34. 66.1904070367548\n",
       "35. 42.409852540102\n",
       "36. 45.0394856513526\n",
       "37. 27.627532109305\n",
       "38. 36.884161588431\n",
       "39. 39.3575992649345\n",
       "40. 81.0669060828812\n",
       "41. 26.2748972180826\n",
       "42. 44.5236375765147\n",
       "43. 31.9111554920759\n",
       "44. 60.6549478494567\n",
       "45. 72.9443288014709\n",
       "46. 39.9963252085421\n",
       "47. 64.4500890525521\n",
       "48. 46.3316874740472\n",
       "49. 40.4047570050516\n",
       "50. 70.1060500214195\n",
       "\n",
       "\n"
      ],
      "text/plain": [
       " [1] 70.83807 64.78095 55.69904 32.23785 42.39393 53.11628 55.74297 35.47937\n",
       " [9] 45.81694 33.98663 75.57950 57.99780 62.90932 49.12385 45.51219 59.82705\n",
       "[17] 26.25555 64.66104 23.44045 73.53100 37.75158 52.66561 57.16196 36.42734\n",
       "[25] 59.07214 50.51591 42.59435 81.92571 66.05951 64.51390 61.20182 44.91618\n",
       "[33] 37.21319 66.19041 42.40985 45.03949 27.62753 36.88416 39.35760 81.06691\n",
       "[41] 26.27490 44.52364 31.91116 60.65495 72.94433 39.99633 64.45009 46.33169\n",
       "[49] 40.40476 70.10605"
      ]
     },
     "metadata": {},
     "output_type": "display_data"
    }
   ],
   "source": [
    "rnorm(n = 1000, mean = 48, sd = 17) -> data_normal\n",
    "data_normal[1:50]"
   ]
  },
  {
   "cell_type": "code",
   "execution_count": 19,
   "metadata": {},
   "outputs": [
    {
     "data": {
      "image/png": "[encoded data removed]",
      "text/plain": [
       "Plot with title \"Histogram of data_normal\""
      ]
     },
     "metadata": {},
     "output_type": "display_data"
    }
   ],
   "source": [
    "hist(data_normal, col = \"violet\")"
   ]
  },
  {
   "cell_type": "markdown",
   "metadata": {},
   "source": [
    "<div id=\"sec_exponential\" style=\"direction:rtl;line-height:300%;\">\n",
    "\t<font face=\"XB Zar\" size=5>\n",
    "\t\t<font color=#FF7500 size=6>\n",
    "توزیع نمایی\n",
    "        </font>\n",
    "\t\t<p></p>\n",
    "\t\t<hr> \n",
    "            فرض کنید متوسط انجام سفارش یک مشتری در یک مغازه 3 دقیقه است. احتمال اینکه سفارش مشتری در کمتر از 2 دقیقه \n",
    "        آماده شود چقدر است؟\n",
    "\t<br/>\n",
    "        پاسخ:میدانید پارامتر توزیع نمایی برابر با معکوس امید ریاضی آن است. پس در اینجا داریم:\n",
    "        <div dir = \"ltr\">\n",
    "            $\\lambda = \\frac{1}{3}$\n",
    "</div>\n",
    "        <div dir = \"ltr\">\n",
    "           $f_{x \\ge 0}(x) = \\lambda e^{-\\lambda x}$\n",
    "</div>\n",
    "        <div dir = \"ltr\">\n",
    "           $f_{x < 0}(x) = 0$\n",
    "</div>\n",
    "        <div dir = \"ltr\">\n",
    "           $F(X) = \\int_{0}^{X} f(x) dx = 1 - e^{-\\lambda X}$\n",
    "</div>\n",
    "در نتیجه جواب مساله برابر است با:\n",
    "        <div dir = \"ltr\">\n",
    "           $F(2) = 1 - e^{-\\frac{1}{3} \\times 2}$\n",
    "</div>\n",
    "و در \n",
    "R\n",
    "برابر است با:\n",
    "    </font>\n",
    "</div>"
   ]
  },
  {
   "cell_type": "code",
   "execution_count": 18,
   "metadata": {},
   "outputs": [
    {
     "data": {
      "text/html": [
       "0.486582880967408"
      ],
      "text/latex": [
       "0.486582880967408"
      ],
      "text/markdown": [
       "0.486582880967408"
      ],
      "text/plain": [
       "[1] 0.4865829"
      ]
     },
     "metadata": {},
     "output_type": "display_data"
    }
   ],
   "source": [
    "pexp(2, rate=1/3) "
   ]
  },
  {
   "cell_type": "markdown",
   "metadata": {},
   "source": [
    "<div dir = \"rtl\" style=\"direction:rtl;line-height:300%;\">\n",
    "\t<font face=\"XB Zar\" size=5>\n",
    "\t\t<font color=#FF7500 size=6>\n",
    "        </font>\n",
    "       همچنین میتوانیم در \n",
    "        R\n",
    "        به تابع توزیع احتمال \n",
    "        (PMF)\n",
    "        این توزیع دسترسی داشته باشیم:\n",
    "      <br/>\n",
    "\t</font>\n",
    "</div>"
   ]
  },
  {
   "cell_type": "code",
   "execution_count": 35,
   "metadata": {},
   "outputs": [
    {
     "data": {
      "image/png": "[encoded data removed]",
      "text/plain": [
       "plot without title"
      ]
     },
     "metadata": {},
     "output_type": "display_data"
    }
   ],
   "source": [
    "exp_x = seq(-1, 5, by = .1)\n",
    "dexp(x = exp_x, rate = 1/3) -> exp_y\n",
    "plot(exp_x, exp_y, col = \"purple\")"
   ]
  },
  {
   "cell_type": "markdown",
   "metadata": {},
   "source": [
    "<div dir = \"rtl\" style=\"direction:rtl;line-height:300%;\">\n",
    "\t<font face=\"XB Zar\" size=5>\n",
    "\t\t<font color=#FF7500 size=6>\n",
    "        </font>\n",
    "      همچنین نمونه گیری تصادفی نیز به صورت زیر است:\n",
    "      <br/>\n",
    "\t</font>\n",
    "</div>"
   ]
  },
  {
   "cell_type": "code",
   "execution_count": 20,
   "metadata": {},
   "outputs": [
    {
     "data": {
      "text/html": [
       "<ol class=list-inline>\n",
       "\t<li>0.232343363575637</li>\n",
       "\t<li>0.114512171217597</li>\n",
       "\t<li>1.04740009508748</li>\n",
       "\t<li>2.88204332131056</li>\n",
       "\t<li>0.490155047737062</li>\n",
       "\t<li>8.76075771085765</li>\n",
       "\t<li>1.20674363197759</li>\n",
       "\t<li>4.97521987988151</li>\n",
       "\t<li>3.36929752013151</li>\n",
       "\t<li>3.74015301267121</li>\n",
       "\t<li>7.70984171106856</li>\n",
       "\t<li>6.73906053631252</li>\n",
       "\t<li>3.64746273948315</li>\n",
       "\t<li>3.52066417770896</li>\n",
       "\t<li>1.49119472270831</li>\n",
       "\t<li>2.23336392266397</li>\n",
       "\t<li>1.0096933376044</li>\n",
       "\t<li>2.58205007749114</li>\n",
       "\t<li>3.73972734330658</li>\n",
       "\t<li>4.46611071079464</li>\n",
       "\t<li>2.59342095056984</li>\n",
       "\t<li>0.408767434302717</li>\n",
       "\t<li>0.284392167696146</li>\n",
       "\t<li>5.20620107498225</li>\n",
       "\t<li>5.4802320371699</li>\n",
       "\t<li>2.10135958424274</li>\n",
       "\t<li>3.92565469151799</li>\n",
       "\t<li>8.83263800242796</li>\n",
       "\t<li>6.79246186613481</li>\n",
       "\t<li>1.68272408377379</li>\n",
       "\t<li>0.784838758874685</li>\n",
       "\t<li>2.12181894375447</li>\n",
       "\t<li>4.80080264967806</li>\n",
       "\t<li>1.16768566193059</li>\n",
       "\t<li>2.02679272089154</li>\n",
       "\t<li>1.89018265670165</li>\n",
       "\t<li>1.45285544916987</li>\n",
       "\t<li>4.74178365779049</li>\n",
       "\t<li>1.49030180834234</li>\n",
       "\t<li>1.19359402544796</li>\n",
       "\t<li>0.816657198127359</li>\n",
       "\t<li>1.06423135707155</li>\n",
       "\t<li>3.4763476390994</li>\n",
       "\t<li>0.466376714607372</li>\n",
       "\t<li>6.97430790364187</li>\n",
       "\t<li>1.4072602847591</li>\n",
       "\t<li>2.14548452112891</li>\n",
       "\t<li>1.47070709941909</li>\n",
       "\t<li>1.04552290728316</li>\n",
       "\t<li>2.97999937633488</li>\n",
       "</ol>\n"
      ],
      "text/latex": [
       "\\begin{enumerate*}\n",
       "\\item 0.232343363575637\n",
       "\\item 0.114512171217597\n",
       "\\item 1.04740009508748\n",
       "\\item 2.88204332131056\n",
       "\\item 0.490155047737062\n",
       "\\item 8.76075771085765\n",
       "\\item 1.20674363197759\n",
       "\\item 4.97521987988151\n",
       "\\item 3.36929752013151\n",
       "\\item 3.74015301267121\n",
       "\\item 7.70984171106856\n",
       "\\item 6.73906053631252\n",
       "\\item 3.64746273948315\n",
       "\\item 3.52066417770896\n",
       "\\item 1.49119472270831\n",
       "\\item 2.23336392266397\n",
       "\\item 1.0096933376044\n",
       "\\item 2.58205007749114\n",
       "\\item 3.73972734330658\n",
       "\\item 4.46611071079464\n",
       "\\item 2.59342095056984\n",
       "\\item 0.408767434302717\n",
       "\\item 0.284392167696146\n",
       "\\item 5.20620107498225\n",
       "\\item 5.4802320371699\n",
       "\\item 2.10135958424274\n",
       "\\item 3.92565469151799\n",
       "\\item 8.83263800242796\n",
       "\\item 6.79246186613481\n",
       "\\item 1.68272408377379\n",
       "\\item 0.784838758874685\n",
       "\\item 2.12181894375447\n",
       "\\item 4.80080264967806\n",
       "\\item 1.16768566193059\n",
       "\\item 2.02679272089154\n",
       "\\item 1.89018265670165\n",
       "\\item 1.45285544916987\n",
       "\\item 4.74178365779049\n",
       "\\item 1.49030180834234\n",
       "\\item 1.19359402544796\n",
       "\\item 0.816657198127359\n",
       "\\item 1.06423135707155\n",
       "\\item 3.4763476390994\n",
       "\\item 0.466376714607372\n",
       "\\item 6.97430790364187\n",
       "\\item 1.4072602847591\n",
       "\\item 2.14548452112891\n",
       "\\item 1.47070709941909\n",
       "\\item 1.04552290728316\n",
       "\\item 2.97999937633488\n",
       "\\end{enumerate*}\n"
      ],
      "text/markdown": [
       "1. 0.232343363575637\n",
       "2. 0.114512171217597\n",
       "3. 1.04740009508748\n",
       "4. 2.88204332131056\n",
       "5. 0.490155047737062\n",
       "6. 8.76075771085765\n",
       "7. 1.20674363197759\n",
       "8. 4.97521987988151\n",
       "9. 3.36929752013151\n",
       "10. 3.74015301267121\n",
       "11. 7.70984171106856\n",
       "12. 6.73906053631252\n",
       "13. 3.64746273948315\n",
       "14. 3.52066417770896\n",
       "15. 1.49119472270831\n",
       "16. 2.23336392266397\n",
       "17. 1.0096933376044\n",
       "18. 2.58205007749114\n",
       "19. 3.73972734330658\n",
       "20. 4.46611071079464\n",
       "21. 2.59342095056984\n",
       "22. 0.408767434302717\n",
       "23. 0.284392167696146\n",
       "24. 5.20620107498225\n",
       "25. 5.4802320371699\n",
       "26. 2.10135958424274\n",
       "27. 3.92565469151799\n",
       "28. 8.83263800242796\n",
       "29. 6.79246186613481\n",
       "30. 1.68272408377379\n",
       "31. 0.784838758874685\n",
       "32. 2.12181894375447\n",
       "33. 4.80080264967806\n",
       "34. 1.16768566193059\n",
       "35. 2.02679272089154\n",
       "36. 1.89018265670165\n",
       "37. 1.45285544916987\n",
       "38. 4.74178365779049\n",
       "39. 1.49030180834234\n",
       "40. 1.19359402544796\n",
       "41. 0.816657198127359\n",
       "42. 1.06423135707155\n",
       "43. 3.4763476390994\n",
       "44. 0.466376714607372\n",
       "45. 6.97430790364187\n",
       "46. 1.4072602847591\n",
       "47. 2.14548452112891\n",
       "48. 1.47070709941909\n",
       "49. 1.04552290728316\n",
       "50. 2.97999937633488\n",
       "\n",
       "\n"
      ],
      "text/plain": [
       " [1] 0.2323434 0.1145122 1.0474001 2.8820433 0.4901550 8.7607577 1.2067436\n",
       " [8] 4.9752199 3.3692975 3.7401530 7.7098417 6.7390605 3.6474627 3.5206642\n",
       "[15] 1.4911947 2.2333639 1.0096933 2.5820501 3.7397273 4.4661107 2.5934210\n",
       "[22] 0.4087674 0.2843922 5.2062011 5.4802320 2.1013596 3.9256547 8.8326380\n",
       "[29] 6.7924619 1.6827241 0.7848388 2.1218189 4.8008026 1.1676857 2.0267927\n",
       "[36] 1.8901827 1.4528554 4.7417837 1.4903018 1.1935940 0.8166572 1.0642314\n",
       "[43] 3.4763476 0.4663767 6.9743079 1.4072603 2.1454845 1.4707071 1.0455229\n",
       "[50] 2.9799994"
      ]
     },
     "metadata": {},
     "output_type": "display_data"
    },
    {
     "data": {
      "image/png": "[encoded data removed]",
      "text/plain": [
       "Plot with title “Histogram of data_exp”"
      ]
     },
     "metadata": {},
     "output_type": "display_data"
    }
   ],
   "source": [
    "rexp(1000, rate = 1/3) -> data_exp\n",
    "data_exp[1:50]\n",
    "hist(data_exp, col = \"violet\")"
   ]
  },
  {
   "cell_type": "markdown",
   "metadata": {},
   "source": [
    "<div id=\"sec_geometric\" style=\"direction:rtl;line-height:300%;\">\n",
    "\t<font face=\"XB Zar\" size=5>\n",
    "\t\t<font color=#FF7500 size=6>\n",
    "توزیع هندسی\n",
    "        </font>\n",
    "\t\t<hr>   \n",
    "        احتمال اینکه در پرتاب یک سکه، اولین باری که شیر می آید پرتاب هشتم باشد را بیابید.\n",
    "    <br/>\n",
    "        میدانید این رخداد از توزیع هندسی پیروی میکند. در نتیجه احتمال آن برابر است با:\n",
    "        <div dir = \"ltr\"> \n",
    "        $P(x = 7) = (1 - \\frac{1}{2})^6 \\times \\frac{1}{2}^1$\n",
    "</div>\n",
    "در\n",
    "R\n",
    "این مقدار به صورت زیر محاسبه میشود:\n",
    "    </font>\n",
    "</div>"
   ]
  },
  {
   "cell_type": "code",
   "execution_count": 21,
   "metadata": {},
   "outputs": [
    {
     "data": {
      "text/html": [
       "0.0078125"
      ],
      "text/latex": [
       "0.0078125"
      ],
      "text/markdown": [
       "0.0078125"
      ],
      "text/plain": [
       "[1] 0.0078125"
      ]
     },
     "metadata": {},
     "output_type": "display_data"
    }
   ],
   "source": [
    "dgeom(x = 6, prob = 1/2)\n",
    "#meaning P(x = 7)"
   ]
  },
  {
   "cell_type": "markdown",
   "metadata": {},
   "source": [
    "<div dir = \"rtl\" style=\"direction:rtl;line-height:300%;\">\n",
    "\t<font face=\"XB Zar\" size=5>\n",
    "        <font color=red size=6>\n",
    "            تمرین:\n",
    "        </font>\n",
    "      <br/>\n",
    "       <ul>\n",
    "           <li>\n",
    "                یک نمونه تصادفی 1000 تایی از توزیع هندسی با پارامتر 0.45 تولید کنید.</li>\n",
    "           <li>\n",
    "               نمودار مستطیلی فراوانی داده به دست آمده را ترسیم کنید.</li>\n",
    "                      <li>\n",
    "                          احتمال اینکه اولین شیر در کمتر از 4 پرتاب مشاهده شود چقدر است؟\n",
    "             </li>\n",
    "           <ul/>\n",
    "\t</font>\n",
    "</div>"
   ]
  },
  {
   "cell_type": "markdown",
   "metadata": {},
   "source": [
    "<div id=\"sec_geometric\" style=\"direction:rtl;line-height:300%;\">\n",
    "\t<font face=\"XB Zar\" size=5>\n",
    "\t\t<font color=#FF7500 size=6>\n",
    "توزیع گاما و بتا\n",
    "        </font>\n",
    "\t\t<hr>   \n",
    "                $$\n",
    "        \\begin{aligned}\n",
    "        \\end{aligned}\n",
    "        $$\n",
    "کلثوم مشغول ماهیگیریست و انتظار دارد هر نیم ساعت یک ماهی بگیرد. احتمال این که مجبور باشد بین 2 تا 4 ساعت برای گرفتن 4 ماهی منتظر بماند چقدر است؟\n",
    "        <br \\>\n",
    "        پاسخ: مدت زمانی که باید برای گرفتن 4 ماهی صبر کنیم از توزیع گاما با پارامتر $\\Theta = 2$ و $k = 4$ پیروی میکند. بنابراین داریم:\n",
    "        <div dir = \"ltr\">\n",
    "           $P(2 \\leq  X \\leq  4) =  F(4) - F(2)$\n",
    "</div>\n",
    "    </font>\n",
    "</div>"
   ]
  },
  {
   "cell_type": "code",
   "execution_count": 24,
   "metadata": {},
   "outputs": [
    {
     "data": {
      "text/html": [
       "0.123888382625299"
      ],
      "text/latex": [
       "0.123888382625299"
      ],
      "text/markdown": [
       "0.123888382625299"
      ],
      "text/plain": [
       "[1] 0.1238884"
      ]
     },
     "metadata": {},
     "output_type": "display_data"
    }
   ],
   "source": [
    "pgamma(4,shape = 4, scale = 2) -\n",
    "pgamma(2,shape = 4, scale = 2)"
   ]
  },
  {
   "cell_type": "markdown",
   "metadata": {},
   "source": [
    "<div dir = \"rtl\" style=\"direction:rtl;line-height:300%;\">\n",
    "\t<font face=\"XB Zar\" size=5>\n",
    "                $$\n",
    "        \\begin{aligned}\n",
    "        \\end{aligned}\n",
    "        $$\n",
    "        در توابع گاما در R سه پارامتر shape($k$ یا $\\alpha$)، scale($\\theta$) و rate($\\beta$) قابل تعیین اند. پارامتر های scale و rate عکس یکدیگرند و مقداردهی به یکی از آن ها کافیست (به طور پیشفرض این دو پارامتر برابر با 1 میباشند). به عنوان مثال در کد بالا میتوانیم به جای پارامتر scale = 2 از پارامتر rate = 0.5 استفاده کنیم.\n",
    "      <br/>\n",
    "        <br/>\n",
    "        <font color=red size=6>\n",
    "            تمرین:\n",
    "        </font>\n",
    "       <ul>\n",
    "           <li>\n",
    "                سعی کنید از توابع dgamma و rgamma  با استفاده از پارامترهای مختلف استفاده کرده و نمودار آن ها را رسم کنید. </li>\n",
    "           <li>\n",
    "               توزیع beta دارای دو پارامتر shape1 و shape2 میباشد. با مطالعه documentation این توزیع در R شیوه استفاده از آن را بیابید.</li>\n",
    "           <ul/>\n",
    "\t</font>\n",
    "</div>"
   ]
  },
  {
   "cell_type": "markdown",
   "metadata": {},
   "source": [
    "<div id=\"sec_con\" style=\"direction:rtl;line-height:300%;\">\n",
    "\t<font face=\"XB Zar\" size=5>\n",
    "\t\t<font color=#FF7500 size=6>\n",
    "خلاصه و نتیجه گیری\n",
    "        </font>\n",
    "\t\t<hr>\n",
    "        اکنون با نحوه استفاده از انواع توزیع ها در \n",
    "        R\n",
    "        آشنا شده اید. این به شما کمک میکند در هنگام مواجه با مسائل جدید بتوانید شهودی از داده ها و توزیع آن داشته باشید ، با دیدی باز تر به سراغ حل مساله بروید و در حل این مسائل از این ابزار های استفاده کنید.\n",
    "        <br/>         \n",
    "  </font>\n",
    "</div>"
   ]
  },
  {
   "cell_type": "markdown",
   "metadata": {},
   "source": [
    "<div dir = \"rtl\" style=\"direction:rtl;line-height:300%;\">\n",
    "\t<font face=\"XB Zar\" size=5>\n",
    "\t\t<font color=#FF7500 size=6>\n",
    "        </font>\n",
    "       توابع مربوط به توزیع ها در \n",
    "        R\n",
    "        را میتوان به طور کلی در جدول زیر خلاصه کرد:\n",
    "\t</font>\n",
    "</div>"
   ]
  },
  {
   "cell_type": "markdown",
   "metadata": {},
   "source": [
    "| پیشوند  | کاربرد|\n",
    "| --- | --- |\n",
    "|  نمونه گیری تصادفی از توزیع مربوطه| r|\n",
    "| توزیع به ازای ورودی داده شده CDF  محاسبه | p |\n",
    "| توزیع به ازای ورودی داده شده PMF محاسبه |d |\n",
    "| !شما بیابید | q |"
   ]
  },
  {
   "cell_type": "markdown",
   "metadata": {},
   "source": [
    "<div dir = \"rtl\" style=\"direction:rtl;line-height:300%;\">\n",
    "\t<font face=\"XB Zar\" size=5>\n",
    "\t\t<font color=blue size=6>\n",
    "کنجکاوی:\n",
    "        </font> \n",
    "        <br />\n",
    "       تمامی توزیع های گفته شده دارای تابعی به صورت \n",
    "        qbinom، qnorm و ...\n",
    "       هستند. این توابع چه عملیاتی را انجام میدهند؟\n",
    "            <font color=red size=6>\n",
    "            تمرین:\n",
    "        </font>\n",
    "    <br />\n",
    "    در نمودارهای رسم شده برای توزیع های مختلف در جزوه با تغییر پارامترها و تعداد نمونه گیری تغییرات را مشاهده کرده و با نمودارهای زیر مقایسه کنید.\n",
    "        </font>\n",
    "</div>"
   ]
  },
  {
   "cell_type": "code",
   "execution_count": 6,
   "metadata": {},
   "outputs": [
    {
     "data": {
      "text/html": [
       "<iframe src=https://seeing-theory.brown.edu/probability-distributions/index.html#section2 width=\"100%\" \n",
       "                height=1250px scrolling=\"no\" style=\"margin-top:-100px;\" frameborder=\"0\"></iframe>"
      ]
     },
     "metadata": {},
     "output_type": "display_data"
    }
   ],
   "source": [
    "library(IRdisplay)\n",
    "iframe = '<iframe src=https://seeing-theory.brown.edu/probability-distributions/index.html#section2 width=\"100%\" \n",
    "                height=1255px scrolling=\"no\" style=\"margin-top:-100px;\" frameborder=\"0\"></iframe>'\n",
    "display_html(iframe)"
   ]
  },
  {
   "cell_type": "markdown",
   "metadata": {},
   "source": [
    "<div id=\"sec_resources\" style=\"direction:rtl;line-height:300%;\">\n",
    "\t<font face=\"XB Zar\" size=5>\n",
    "\t\t<font color=#FF7500 size=6>\n",
    "منابع\n",
    "        </font>\n",
    "\t\t<hr> \n",
    "        <ul> \n",
    "            <li> <a href=\"https://stat.ethz.ch/R-manual/R-devel/library/stats\"> stat.ethz.ch </a></li>\n",
    "            <li><a href= \"https://www.rdocumentation.org\"> r documentation </a> </li>\n",
    "            <li> <a href= \"https://www.r-bloggers.com\"> r bloggers</a> </li>\n",
    "            <li> <a href= \"www.r-tutor.com\"> r tutor </a> </li>\n",
    "            <li> <a href= \"https://seeing-theory.brown.edu/\"> seeing theory </a> </li>\n",
    "            </ul>\n",
    "      </font>\n",
    "</div>"
   ]
  },
  {
   "cell_type": "code",
   "execution_count": null,
   "metadata": {},
   "outputs": [],
   "source": []
  }
 ],
 "metadata": {
  "kernelspec": {
   "display_name": "R",
   "language": "R",
   "name": "ir"
  },
  "language_info": {
   "codemirror_mode": "r",
   "file_extension": ".r",
   "mimetype": "text/x-r-source",
   "name": "R",
   "pygments_lexer": "r",
   "version": "3.5.1"
  },
  "latex_envs": {
   "LaTeX_envs_menu_present": true,
   "autoclose": false,
   "autocomplete": true,
   "bibliofile": "biblio.bib",
   "cite_by": "apalike",
   "current_citInitial": 1,
   "eqLabelWithNumbers": true,
   "eqNumInitial": 1,
   "hotkeys": {
    "equation": "Ctrl-E",
    "itemize": "Ctrl-I"
   },
   "labels_anchors": false,
   "latex_user_defs": false,
   "report_style_numbering": false,
   "user_envs_cfg": false
  },
  "toc": {
   "base_numbering": 1,
   "nav_menu": {},
   "number_sections": true,
   "sideBar": true,
   "skip_h1_title": false,
   "title_cell": "Table of Contents",
   "title_sidebar": "Contents",
   "toc_cell": false,
   "toc_position": {},
   "toc_section_display": true,
   "toc_window_display": false
  },
  "varInspector": {
   "cols": {
    "lenName": 16,
    "lenType": 16,
    "lenVar": 40
   },
   "kernels_config": {
    "python": {
     "delete_cmd_postfix": "",
     "delete_cmd_prefix": "del ",
     "library": "var_list.py",
     "varRefreshCmd": "print(var_dic_list())"
    },
    "r": {
     "delete_cmd_postfix": ") ",
     "delete_cmd_prefix": "rm(",
     "library": "var_list.r",
     "varRefreshCmd": "cat(var_dic_list()) "
    }
   },
   "types_to_exclude": [
    "module",
    "function",
    "builtin_function_or_method",
    "instance",
    "_Feature"
   ],
   "window_display": false
  }
 },
 "nbformat": 4,
 "nbformat_minor": 2
}
