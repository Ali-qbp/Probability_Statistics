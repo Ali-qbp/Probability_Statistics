{
 "cells": [
  {
   "cell_type": "markdown",
   "metadata": {},
   "source": [
    "<div style=\"direction:rtl;line-height:300%;\">\n",
    "\t<font face=\"XB Zar\" size=5>\n",
    "\t\t<div align=center>\n",
    "\t\t\t<font face=\"IranNastaliq\" size=30>\n",
    "\t\t\t\t<p></p>\n",
    "\t\t\t\t<p></p>\n",
    "به نام خدا\n",
    "\t\t\t\t<p></p>\n",
    "\t\t\t</font>\n",
    "\t\t\t<font color=#FF7500>\n",
    "دانشگاه صنعتی شریف - دانشکده مهندسی کامپیوتر\n",
    "            </font>\n",
    "\t\t\t<p></p>\n",
    "\t\t\t<font color=blue>\n",
    "آمار و احتمال مهندسی\n",
    "            </font>\n",
    "\t\t\t<br />\n",
    "\t\t\t<br />\n",
    "پاییز ۱۳۹۷\n",
    "\t\t</div>\n",
    "\t\t<hr/>\n",
    "\t\t<font color=red size=6>\n",
    "\t\t\t<br />\n",
    "\t\t\t<div align=center>\n",
    "آمار و احتمال شیرین\n",
    "            </div>\n",
    "\t\t</font>\n",
    "\t\t<br />\n",
    "\t\t<div align=center>\n",
    "امیرعلی معین‌فر، هوشنگ مرادی کرمانی و علی شریفی زارچی\n",
    "        </div>\n",
    "\t\t<hr />\n",
    "\t\t<style type=\"text/css\" scoped>\n",
    "        p{\n",
    "        border: 1px solid #a2a9b1;background-color: #f8f9fa;display: inline-block;\n",
    "        };\n",
    "        </style>\n",
    "\t\t<div>\n",
    "\t\t\t<h3>فهرست مطالب</h3>\n",
    "\t\t\t<ul style=\"margin-right: 0;\">\n",
    "\t\t\t\t<li>\n",
    "                    <a href=\"#sec_intro\">\n",
    "                        مقدمه‌ای بر مقدمه\n",
    "                    </a>\n",
    "                </li>\n",
    "                <li>\n",
    "\t\t\t\t\t<a href=\"#sec_intro\">\n",
    "                        مقدمه\n",
    "                    </a>\n",
    "\t\t\t\t</li>\n",
    "                <li>\n",
    "\t\t\t\t\t<a href=\"#sec_problem\">\n",
    "                        صورت مسئله\n",
    "                    </a>\n",
    "\t\t\t\t</li>\n",
    "                <li>\n",
    "\t\t\t\t\t<a href=\"#sec_t_test\">\n",
    "                        آزمون تی\n",
    "                    </a>\n",
    "\t\t\t\t</li>\n",
    "                <li>\n",
    "\t\t\t\t\t<a href=\"#sec_jam_again\">\n",
    "بازگشت به مسئله مربا\n",
    "                    </a>\n",
    "\t\t\t\t</li>\n",
    "                <li>\n",
    "\t\t\t\t\t<a href=\"#sec_conc\">\n",
    "خلاصه و نتیجه‌گیری\n",
    "                    </a>\n",
    "\t\t\t\t</li>\n",
    "\t\t\t</ul>\n",
    "\t\t</div>\n",
    "\t</font>\n",
    "</div>"
   ]
  },
  {
   "cell_type": "markdown",
   "metadata": {},
   "source": [
    "<p></p>\n",
    "<br />\n",
    "<div id=\"sec_intro_to_intro\" style=\"direction:rtl;line-height:300%;\">\n",
    "\t<font face=\"XB Zar\" size=5>\n",
    "\t\t<font color=#FF7500 size=6>\n",
    "مقدمه‌ای بر مقدمه\n",
    "        </font>\n",
    "\t\t<p></p>\n",
    "\t\t<hr>\n",
    "         امسال به کمک خدا قصد داریم تا با جزواتی با همین فرمت درس آمار و احتمال مهندسی شیرین و کاربردی‌ای داشته باشیم.\n",
    "        <br/> <br />\n",
    "پیشنهاد و درخواست اصلی این است که هر جزوه با یک سوال واقعی و کاربردی شروع شود، تئوری لازم برای حل مسئله شرح داده شود، و در نهایت راه حل روی داده‌ای ترجیحا واقعی تست شود.\n",
    "ممکن است به خاطر ماهیت تئوری موضوع (مثلا در بعضی سرفصل‌های غیر‌آماری)، قرار گرفتن موضوع به عنوان محور مطلب صحیح نباشد و مخاطب را از اصل مطلب دور کند. در این موارد می‌توان تئوری را محور و مثال‌ها را شاخ و برگ قرار داد. برای مثال در صورتی که جزوه در مورد احتمال شرطی است، پس از قسمت تئوری، مطرح کردن سوال\n",
    "        <a href=\"http://marilynvossavant.com/game-show-problem/\">پوچ کردن جعبه در مسابقه تلویزیونی</a>، حل آن از طریق احتمال شرطی، و پیاده‌سازی یک کد ساده که نشان می‌دهد\n",
    "        <b>واقعا چنین اتفاقی در عمل نیز می‌افتد</b>\n",
    "        بسیار ارزنده است.\n",
    "        <br /> <br />\n",
    "        آنچه یک جزوه خوب را از یک جزوه نه چندان خوب متمایز می‌کند، قابل فهم بودن و نشان دادن ظرافت‌های تئوری با مثال‌های عملی است. بدین منظور پیشنهاد می‌شود مطالب خود را چندین بار ویرایش کنید و هر بار با افزودن مثال‌های جالب و ساده‌سازی مطالب پیچیده نتیجه را بهبود بخشید.\n",
    "        <br /> <br />\n",
    "        لطفا فرمول‌های خود را با $\\LaTeX$ کد‌ها و نمودار‌های خود را با R و شکل‌های خود را با برنامه <a href=\"https://draw.io\">draw.io</a> که هم از طریق وب و هم از  طریق افزونه کروم قابل استفاده است تولید نمایید.\n",
    "\t</font>\n",
    "</div>"
   ]
  },
  {
   "cell_type": "markdown",
   "metadata": {},
   "source": [
    "<p></p>\n",
    "<br />\n",
    "<div id=\"sec_intro\" style=\"direction:rtl;line-height:300%;\">\n",
    "\t<font face=\"XB Zar\" size=5>\n",
    "\t\t<font color=#FF7500 size=6>\n",
    "مقدمه\n",
    "        </font>\n",
    "\t\t<p></p>\n",
    "\t\t<hr>\n",
    "سال‌ها پیش علی کوچولوی قصه‌ی ما با سماجت مثال نزدنی خود راز باز نشدن مرباهای شیرین و خوشمزه را کشف کرد. \n",
    "<br />\n",
    "<img src=\"figs/sweet_jam_cover.jpg\" style=\"float:center; width:20%\"/>\n",
    "<br />\n",
    "او که امروز دیگر برای خود مردی شده‌است و او را مهندس علی صدا می‌کنند، در همان کارخانه کار می‌کند و مسئول کنترل کیفی محصولات است.\n",
    "<br/><br/>\n",
    "در گیر و دار گرانی‌ها و کم‌فروشی‌ها، چنین نامه‌ای به دست مهندس علی می‌رسد:\n",
    "        <pre>\n",
    "سلام.\n",
    "امیدوارم حالتان خوب باشد.\n",
    "ما مرباهای شما را دوست داریم و هر ماه یک دانه از آن بزرگ‌هایش را می‌خوریم.\n",
    "اما چهار ماه است که مزه این مرباها کم شده. خواهرم می‌گوید مامان در آن آب می‌ریزد اما من خودم چهارچشمی این آخری را پاییدم.\n",
    "این نامه را زدم تا خواهش کنم دوباره مرباهایتان را خوب کنید.\n",
    "\n",
    "دوستدار مرباهای شما\n",
    "علی\n",
    "        </pre>\n",
    "\t</font>\n",
    "</div>"
   ]
  },
  {
   "cell_type": "markdown",
   "metadata": {},
   "source": [
    "<p></p>\n",
    "<br />\n",
    "<div id=\"sec_problem\" style=\"direction:rtl;line-height:300%;\">\n",
    "\t<font face=\"XB Zar\" size=5>\n",
    "\t\t<font color=#FF7500 size=6>\n",
    "صورت مسئله\n",
    "        </font>\n",
    "\t\t<p></p>\n",
    "\t\t<hr>\n",
    "        مهندس از یخچال کارخانه ۱۰ عدد مربای نمونه مربوط به ۱۰ ماه گذشته بیرون می‌آورد و میزان قند در ۱۰۰ گرم هر کدام را آزمایش می‌کند. توجه می‌کنیم که این مقادیر، نمونه‌هایی از متغیر‌هایی تصادفی هستند. به عبارت دیگر چنانچه برای ماه اول از شیشه مربای دیگری استفاده کنیم، یا یک شیشه مربا را دوباره بررسی کنیم ممکن است نتایج مختلفی حاصل شود. برای مثال ممکن است با محاسبه دوباره شیرینی مربای انتخاب شده از ماه اول سال جاری، مقدار انداه‌گیری شده از حدود ۲۹.۸ به ۲۸.۹ کاهش یابد. نتایج به شرح زیر است:\n",
    "\t</font>\n",
    "</div>"
   ]
  },
  {
   "cell_type": "code",
   "execution_count": 1,
   "metadata": {},
   "outputs": [
    {
     "ename": "NameError",
     "evalue": "name 'library' is not defined",
     "output_type": "error",
     "traceback": [
      "\u001b[1;31m---------------------------------------------------------------------------\u001b[0m",
      "\u001b[1;31mNameError\u001b[0m                                 Traceback (most recent call last)",
      "\u001b[1;32m<ipython-input-1-d07fe0f25a9d>\u001b[0m in \u001b[0;36m<module>\u001b[1;34m\u001b[0m\n\u001b[1;32m----> 1\u001b[1;33m \u001b[0mlibrary\u001b[0m\u001b[1;33m(\u001b[0m\u001b[0mggplot2\u001b[0m\u001b[1;33m)\u001b[0m\u001b[1;33m\u001b[0m\u001b[1;33m\u001b[0m\u001b[0m\n\u001b[0m",
      "\u001b[1;31mNameError\u001b[0m: name 'library' is not defined"
     ]
    }
   ],
   "source": [
    "library(ggplot2)"
   ]
  },
  {
   "cell_type": "code",
   "execution_count": null,
   "metadata": {},
   "outputs": [],
   "source": [
    "data=read.csv(\"./data/jam_history.csv\")\n",
    "data$cat = ifelse(data$Month > 6, \"new\", \"old\")\n",
    "data"
   ]
  },
  {
   "cell_type": "markdown",
   "metadata": {},
   "source": [
    "<div style=\"direction:rtl;line-height:300%;\">\n",
    "\t<font face=\"XB Zar\" size=5>\n",
    "\t\tبرای به دست آوردن شهود بهتر:\n",
    "\t</font>\n",
    "</div>"
   ]
  },
  {
   "cell_type": "code",
   "execution_count": null,
   "metadata": {},
   "outputs": [],
   "source": [
    "ggplot(data, aes(x=Month, y=Grams.of.Sugar, \n",
    "                 color=cat)) + geom_point(size=4)"
   ]
  },
  {
   "cell_type": "markdown",
   "metadata": {},
   "source": [
    "<br />\n",
    "<div style=\"direction:rtl;line-height:300%;\">\n",
    "\t<font face=\"XB Zar\" size=5>\n",
    "        او به دنبال طرح آزمایشی است که به کمک آن و ۱۰ نمونه در دست بتواند تعیین کند که آیا میزان شکر مرباها در ۴ ماه اخیر نسبت به ۶ ماه قبل به طور معناداری کاهش یافته است یا نه. بنابر این او به دنبال بررسی صحت این فرضیه است:<br/>\n",
    "        <ul>\n",
    "            <li>\n",
    "مربا‌های ۴ ماه اخیر کمتر از ۶ ماه قبل آن شکر دارند.\n",
    "            </li>\n",
    "        </ul>\n",
    "        <br/>\n",
    "وی برای بررسی این فرضیه میانگین میزان شیرینی مرباهای ۴ ماه اخیر را با ۶ ماه قبل از آن مقایسه می‌کند:\n",
    "    </font>\n",
    "</div>"
   ]
  },
  {
   "cell_type": "code",
   "execution_count": null,
   "metadata": {},
   "outputs": [],
   "source": [
    "print(paste0(\"mean(Grams.of.Sugar) in old samples: \", \n",
    "             mean(data$Grams.of.Sugar[data$cat == \"old\"])))\n",
    "print(paste0(\"mean(Grams.of.Sugar) in new samples: \", \n",
    "             mean(data$Grams.of.Sugar[data$cat == \"new\"])))"
   ]
  },
  {
   "cell_type": "markdown",
   "metadata": {},
   "source": [
    "<div style=\"direction:rtl;line-height:300%;\">\n",
    "\t<font face=\"XB Zar\" size=5>\n",
    " سوال: آیا با این حساب، مهندس علی می‌تواند نتیجه بگیرد که میزان شکر در چهار ماه اخیر کم شده‌است؟ اگر اختلاف این دو میانگین ۰.۰۱ گرم بود چطور؟\n",
    "    <br/><b>\n",
    "توجه می‌کنیم که هر کدام از مقادیر اندازه‌گیری شده نمونه‌هایی از یک متغیر تصادفی بوده‌اند. پس آیا ممکن است این اختلاف ناشی از واریانس نمونه‌برداری بوده‌باشند؟\n",
    "        </b>\n",
    "    </font>\n",
    "</div>"
   ]
  },
  {
   "cell_type": "markdown",
   "metadata": {},
   "source": [
    "<div style=\"direction:rtl;line-height:300%;\">\n",
    "\t<font face=\"XB Zar\" size=5>\n",
    "        در چنین شرایطی یک راه بسیار منطقی مدلسازی مسئله (در نظر گرفتن فرض‌های معقول) و بررسی فرض‌های مختلف در این چهارچوب است.\n",
    "        <br/>\n",
    "        پس مهندس قصه‌ی ما فرض می‌کند داده‌های به دست‌آمده برای هر ماه از یک توزیع نرمال با واریانس ثابت به دست می‌آیند و با توجه به سوال مطرح شده، او این توزیع‌ها را برای شش‌ماه ابتدای سال و چهار‌ماه بعدی یکسان در نظر می‌گیرد.\n",
    "<br/><br/>\n",
    "با این اوصاف منطقی است فرض نخست از فرض‌های زیر را ناقض کاهش شیرینی مربا‌ها و فرض دوم را معادل با کاهش شیرینی مربا‌ها در نظر بگیرم.\n",
    "        <ul>\n",
    "            <li>\n",
    "میزان شکر مربا‌های ۴ ماه اخیر و ۶ ماه قبل آن نیز از یک توزیع آمده‌اند.\n",
    "            </li>\n",
    "            <li>\n",
    "مربا‌های ۴ ماه اخیر کمتر از ۶ ماه قبل آن شکر دارند.\n",
    "            </li>\n",
    "        </ul>\n",
    "    </font>\n",
    "</div>"
   ]
  },
  {
   "cell_type": "markdown",
   "metadata": {},
   "source": [
    "\n",
    "<div style=\"direction:rtl;line-height:300%;\">\n",
    "\t<font face=\"XB Zar\" size=5>\n",
    "\t\t<font color=blue size=6>\n",
    "کنجکاوی:\n",
    "        </font><br/>\n",
    "فرض‌های بالا تا چه حد معقول هستند؟\n",
    "        <br/>\n",
    "آیا توزیع‌هایی بهتر از توزیع نرمال می‌توان در نظر گرفت؟\n",
    "        <br/>\n",
    "با فرض برابر نبودن توزیع نمونه‌های شش ماه اول سال، چه محدودیتی در استنتاج ایجاد می‌شود؟\n",
    "        <br/>\n",
    "آیا لزومی به مدلسازی وجود دارد؟\n",
    "\t</font>\n",
    "</div>\n",
    "\n"
   ]
  },
  {
   "cell_type": "markdown",
   "metadata": {},
   "source": [
    "<p></p>\n",
    "<br />\n",
    "<div id=\"sec_t_test\" style=\"direction:rtl;line-height:300%;\">\n",
    "\t<font face=\"XB Zar\" size=5>\n",
    "\t\t<font color=#FF7500 size=6>\n",
    "آزمون تی\n",
    "        </font>\n",
    "\t\t<p></p>\n",
    "\t\t<hr>\n",
    "        t-test \n",
    "        یک تست آماری برای انتخاب فرض معقول‌تر در مسائلی چون مسئله بالا است.\n",
    "        <br/>\n",
    "        در این تست فرض می‌شود:\n",
    "        <ul>\n",
    "            <li>\n",
    "                داده شامل نمونه‌های\n",
    "        $x_1, \\ldots, x_n$ و\n",
    "        $y_1, \\ldots, y_m$ است.\n",
    "            </li>\n",
    "            <li>\n",
    "            در مورد توزیع $x_i$ها و $y_i$ها می‌دانیم:\n",
    "            <br/>\n",
    "            $x_i \\sim \\mathcal{N}(\\mu_x, \\sigma^2)$ <br/>\n",
    "            $y_i \\sim \\mathcal{N}(\\mu_y, \\sigma^2)$</li>\n",
    "            <li>\n",
    "            فرض صفر عبارت است از: $\\mu_x = \\mu_y$\n",
    "            </li>\n",
    "            <li>\n",
    "            فرض جایگزین برابر یکی از حالات زیر است: \n",
    "            <ul>\n",
    "            <li>\n",
    "            $\\mu_x \\neq \\mu_y$.\n",
    "            این فرض، فرض جایگزین دوطرفه نامیده می‌شود.\n",
    "            </li>\n",
    "            <li>\n",
    "            $\\mu_x > \\mu_y$ این فرض، فرض جایگزین یک‌طرفه (بزرگتر) نامیده می‌شود.\n",
    "            </li>\n",
    "            <li>\n",
    "            $\\mu_x < \\mu_y$ این فرض، فرض جایگزین یک‌طرفه (کوچکتر) نامیده می‌شود.\n",
    "            </li>\n",
    "            </ul>\n",
    "            </li>\n",
    "        </ul>\n",
    "        فرض صفر یعنی فرضی که به صورت پیشفرض (و معمولاً به خاطر سادگی) آن را می‌پذیریم و فرض جایگزین فرضی است که در صورت معقول نبودن فرض اول از نظر آماری (مثلا از این طریق که احتمال صحت فرض اول کمتر از ۰.۰۵ است) این فرض پذیرفته می‌شود.\n",
    "        <br/><br/>\n",
    "        با این مفروضات اگر تعریف کنیم:<br/>\n",
    "        $$t = \\frac{\\overline{x}-\\overline{y}}{S_p}$$<br>\n",
    "        $$S_p = \\frac{\\sum_{i=1}^{n}(x_i-\\overline{x})^2 + \\sum_{j=1}^{m}(y_j-\\overline{y})^2}{n+m+2}\\left(\\frac{1}{n}+\\frac{1}{m}\\right)$$<br> در این صورت توزیع متغیر $t$ با پذیرش فرض صفر برابر توزیع t-student با درجه آزادی $(m+n-2)$ خواهد بود.\n",
    "        <br/><br/>\n",
    "        از این رو ....\n",
    "        <font color=red size=6>\n",
    "        [ادامه این بخش]\n",
    "        </font>\n",
    "\t</font>\n",
    "</div>\n",
    "\n"
   ]
  },
  {
   "cell_type": "markdown",
   "metadata": {},
   "source": [
    "<p></p>\n",
    "<br />\n",
    "<div id=\"sec_jam_again\" style=\"direction:rtl;line-height:300%;\">\n",
    "\t<font face=\"XB Zar\" size=5>\n",
    "\t\t<font color=#FF7500 size=6>\n",
    "بازگشت به مسئله مربا\n",
    "        </font>\n",
    "\t\t<p></p>\n",
    "\t\t<hr>\n",
    "       در زبان R \n",
    "برای اجرای آزمون تی بر روی یک داده دوبخشی\n",
    "        تابع ساده‌ای در نظر گرفته شده‌است. برای اجرای این دستور کافی است دو بخش داده و نوع فرض جایگزین به تابع پاس داده شود. پس برای مسئله مربا خواهیم داشت:\n",
    "\t</font>\n",
    "</div>"
   ]
  },
  {
   "cell_type": "code",
   "execution_count": null,
   "metadata": {},
   "outputs": [],
   "source": [
    "X = data$Grams.of.Sugar[data$cat == \"old\"]\n",
    "Y = data$Grams.of.Sugar[data$cat == \"new\"]\n",
    "\n",
    "t.test(X, Y, alternative = \"greater\")"
   ]
  },
  {
   "cell_type": "markdown",
   "metadata": {},
   "source": [
    "<div style=\"direction:rtl;line-height:300%;\">\n",
    "\t<font face=\"XB Zar\" size=5>\n",
    "نتیجه بالا نشان می‌دهد که فرض صفر (برابر بودن توزیع شیرینی مرباهای ۶ ماه نخست و ۴ ماه بعد) با اطمینان  ۰.۹۷۵ نادرست است. به عبارت دیگر ... <font color=red size=6>\n",
    "        [ادامه این بخش]\n",
    "        </font>\n",
    "\t</font>\n",
    "</div>"
   ]
  },
  {
   "cell_type": "markdown",
   "metadata": {},
   "source": [
    "\n",
    "<div style=\"direction:rtl;line-height:300%;\">\n",
    "\t<font face=\"XB Zar\" size=5>\n",
    "\t\t<font color=blue size=6>\n",
    "کنجکاوی:\n",
    "        </font>\n",
    "در خروجی دیده شده، $\\text{df} = 7.9804$ به چه معناست؟\n",
    "\t</font>\n",
    "</div>\n"
   ]
  },
  {
   "cell_type": "markdown",
   "metadata": {},
   "source": [
    "\n",
    "<div style=\"direction:rtl;line-height:300%;\">\n",
    "\t<font face=\"XB Zar\" size=5>\n",
    "\t\t<font color=darkpink size=6>\n",
    "تمرین:\n",
    "        </font>\n",
    "برای داده‌های زیر کد را طوری ادامه دهید که آزمون تی انجام شود. مقدار پی را محاسبه کنید.\n",
    "</font>\n",
    "</div>\n",
    "\n"
   ]
  },
  {
   "cell_type": "code",
   "execution_count": null,
   "metadata": {},
   "outputs": [],
   "source": [
    "x = rnorm(100)\n",
    "y = runif(100)"
   ]
  },
  {
   "cell_type": "markdown",
   "metadata": {},
   "source": [
    "<p></p>\n",
    "<br/>\n",
    "<div id=\"sec_conc\" style=\"direction:rtl;line-height:300%;\">\n",
    "\t<font face=\"XB Zar\" size=5>\n",
    "\t\t<font color=#FF7500 size=6>\n",
    "خلاصه و نتیجه‌گیری\n",
    "        </font>\n",
    "\t\t<p></p>\n",
    "\t\t<hr>\n",
    "        در این بخش با موارد زیر آشنا شدیم:\n",
    "        <ul>\n",
    "            <li>\n",
    "            کتاب مربای شیرین\n",
    "            </li>\n",
    "            <li>\n",
    "            آزمون تی\n",
    "            </li>\n",
    "            <li>\n",
    "            انواع فرض جایگزین و تفاوت آن‌ها\n",
    "            </li>\n",
    "            <li>\n",
    "            خطاهای نوع اول و دوم\n",
    "            </li>\n",
    "            <li>\n",
    "            پیاده سازی آزمون تی در R\n",
    "            </li>\n",
    "        </ul>\n",
    "\t</font>\n",
    "</div>"
   ]
  },
  {
   "cell_type": "markdown",
   "metadata": {},
   "source": [
    "<p></p>\n",
    "<br/>\n",
    "<div id=\"sec_refs\" style=\"direction:rtl;line-height:300%;\">\n",
    "\t<font face=\"XB Zar\" size=5>\n",
    "\t\t<font color=#FF7500 size=6>\n",
    "منابع\n",
    "        </font>\n",
    "\t\t<hr>       \n",
    "        <ul>\n",
    "            <li>\n",
    "            کتاب مربای شیرین\n",
    "            </li>\n",
    "            <li>\n",
    "            Jeremy Orloff, and Jonathan Bloom. 18.05 Introduction to Probability and Statistics. Spring 2014. Massachusetts Institute of Technology: MIT OpenCourseWare, https://ocw.mit.edu. License: Creative Commons BY-NC-SA.\n",
    "            </li>\n",
    "            <li>\n",
    "R Core Team (2018). R: A language and environment for statistical\n",
    "  computing. R Foundation for Statistical Computing, Vienna, Austria.\n",
    "  URL https://www.R-project.org/.\n",
    "            </li>\n",
    "        </ul>\n",
    "\t</font>\n",
    "</div>"
   ]
  },
  {
   "cell_type": "code",
   "execution_count": null,
   "metadata": {},
   "outputs": [],
   "source": []
  },
  {
   "cell_type": "code",
   "execution_count": null,
   "metadata": {},
   "outputs": [],
   "source": []
  }
 ],
 "metadata": {
  "kernelspec": {
   "display_name": "Python 3",
   "language": "python",
   "name": "python3"
  },
  "language_info": {
   "codemirror_mode": {
    "name": "ipython",
    "version": 3
   },
   "file_extension": ".py",
   "mimetype": "text/x-python",
   "name": "python",
   "nbconvert_exporter": "python",
   "pygments_lexer": "ipython3",
   "version": "3.7.1"
  },
  "latex_envs": {
   "LaTeX_envs_menu_present": true,
   "autoclose": false,
   "autocomplete": true,
   "bibliofile": "biblio.bib",
   "cite_by": "apalike",
   "current_citInitial": 1,
   "eqLabelWithNumbers": true,
   "eqNumInitial": 1,
   "hotkeys": {
    "equation": "Ctrl-E",
    "itemize": "Ctrl-I"
   },
   "labels_anchors": false,
   "latex_user_defs": false,
   "report_style_numbering": false,
   "user_envs_cfg": false
  },
  "toc": {
   "base_numbering": 1,
   "nav_menu": {},
   "number_sections": true,
   "sideBar": true,
   "skip_h1_title": false,
   "title_cell": "Table of Contents",
   "title_sidebar": "Contents",
   "toc_cell": false,
   "toc_position": {},
   "toc_section_display": true,
   "toc_window_display": false
  },
  "varInspector": {
   "cols": {
    "lenName": 16,
    "lenType": 16,
    "lenVar": 40
   },
   "kernels_config": {
    "python": {
     "delete_cmd_postfix": "",
     "delete_cmd_prefix": "del ",
     "library": "var_list.py",
     "varRefreshCmd": "print(var_dic_list())"
    },
    "r": {
     "delete_cmd_postfix": ") ",
     "delete_cmd_prefix": "rm(",
     "library": "var_list.r",
     "varRefreshCmd": "cat(var_dic_list()) "
    }
   },
   "types_to_exclude": [
    "module",
    "function",
    "builtin_function_or_method",
    "instance",
    "_Feature"
   ],
   "window_display": false
  }
 },
 "nbformat": 4,
 "nbformat_minor": 1
}
