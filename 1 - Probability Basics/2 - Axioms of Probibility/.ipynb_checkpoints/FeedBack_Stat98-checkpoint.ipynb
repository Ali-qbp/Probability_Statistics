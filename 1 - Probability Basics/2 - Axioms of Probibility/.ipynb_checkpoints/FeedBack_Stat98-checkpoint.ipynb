{
 "cells": [
  {
   "cell_type": "markdown",
   "metadata": {},
   "source": [
    "<div dir=\"rtl\">\n",
    "    <ul>\n",
    "        <li>\n",
    "     قسمت های کنجکاوی، اندازه مجموعه ها و نمودار ون درست اجرا نمیشن. و عکس هم نمایش داده نمیشه.\n",
    "        </li>\n",
    "        <li>\n",
    "            به نظرم اسم قسمت کنجکاوی بشه تمرین بهتره\n",
    "        </li>\n",
    "        <li>\n",
    "            قسمت یاد آوری نظریه مجموعه ها به نظرم یکم پشت سر شده. اگه بشه یه ترتیبی داده بهشون مثل استفاده از \n",
    "            ul , li\n",
    "            خیلی خوندنش \n",
    "             راحت تر میشه.\n",
    "        </li>\n",
    "        <li>\n",
    "            یه سری قسمت ها توی متن قرار بوده که\n",
    "            enter\n",
    "            بخورن اما توی متن عبارت\n",
    "            br\n",
    "            .دیده میشه\n",
    "        </li>\n",
    "        <li>\n",
    "            یه سری اشکالات نگارشی و تایپی توی متن وجود داره.ممنون میشم یبار دیگه متنو بررسی کنید و این اشکالات رو برطرف کنید.\n",
    "        </li>\n",
    "        <li>\n",
    "            بخش خلاصه بهتره یه\n",
    "            summary\n",
    "            از موضوعات گفته شده بده.\n",
    "        </li>\n",
    "    </ul>\n",
    "    </div>"
   ]
  },
  {
   "cell_type": "markdown",
   "metadata": {},
   "source": [
    "<div dir=\"rtl\">\n",
    "    <ul>\n",
    "        <li>\n",
    "            اول این که خسته نباشید به ویژه این که این جزوه تو مرحله قبلی تهیه نشده بود و از اول زدید. امیدوارم همینطوری ادامه بدید و در ادامه به یک جزوه عااالی برسیم.\n",
    "        </li>\n",
    "        <li>\n",
    "            یکی از مهمترین ویژگی‌های نظریه مجموعه‌ها که باهاش تدریس می‌کنن اینه که میشه به صورت گرافیکی یکسری مفاهیم رو توش دید. فکر کنم خوب میشه اگه شکل‌ها بیشتر شن. مثلا تو قسمت یادآوری میشه اشتراک و ... رو شکلی نشون داد. شکل فقط به یادگیری کمک نمیکنه. به این هم کمک میکنه که اگه کسی اینا رو بلد بود به شکل نگاه کنه و از روی مطلب رد شه.\n",
    "        </li>\n",
    "        <li>\n",
    "   استقلال و وابستگی پوشش داده نشده. لطفا اضافه کنید.\n",
    "        </li>\n",
    "        <li>\n",
    "           فکر کنم خوبه مفهوم احتمال (از دیدگاه فراوانی) قبل از تعریف با نظریه مجموعه‌ها جا بیافته.\n",
    "           </li>\n",
    "    </ul>\n",
    "    </div>"
   ]
  },
  {
   "cell_type": "markdown",
   "metadata": {},
   "source": [
    "<div dir = \"rtl\">\n",
    "دستتون درد نکنه. چند تا مورد دیگه مونده اگه اینارو هم درست کنین عالی میشه.\n",
    "    <li>\n",
    "        بخش خلاصه رو اگه ممکنه یه جمع آوری کلی و کوتاه از جزوه باشه\n",
    "    </li>\n",
    "    <li>\n",
    "        یه کمی بخش \n",
    "        subjective\n",
    "        فهمش سخت بود. اگه بتونین یکم روون تر بنویسین خیلی بهتر میشه.\n",
    "    </li>\n",
    "    </div>"
   ]
  },
  {
   "cell_type": "markdown",
   "metadata": {},
   "source": [
    "### Stat98"
   ]
  },
  {
   "cell_type": "markdown",
   "metadata": {},
   "source": [
    "<div dir=\"rtl\">\n",
    "    <ul>\n",
    "        <li>\n",
    "            برای توضیح \n",
    "            set theory\n",
    "            همچنین از سایت \n",
    "            seeing thoery\n",
    "            در جوپیتر خود کمک بگیرید. لینک آن دراپ‌باکس و گروه درس موجود. است.\n",
    "        </li>\n",
    "        <li>\n",
    "            در قسمت تعریف فضای احتمال، کلمه پیشامد را نیز به کلمه واقعه اضافه کنید.\n",
    "        </li>\n",
    "        <li>\n",
    "            در قسمت تعریف فضای احتمال، به نظرم به‌جای آنکه \n",
    "            P(A)\n",
    "            را یک عدد بخوانید، \n",
    "            P\n",
    "            را یک تابع تعریف کنید که دامنه آن یک پیشامد است و برد آن عددی میان صفر و یک.\n",
    "        </li>\n",
    "        <li>\n",
    "            موضوع تفاوت میان دو دیدگاه \n",
    "            frequentist\n",
    "            و \n",
    "            bayesian\n",
    "            را به جزوه اضافه کنید. توجه کنید که با توجه به اهمیت آن بسیار شهودی و واضح باید توضیح داده شود.\n",
    "        </li>\n",
    "        <li>\n",
    "            شمول و عدم شمول در احتمال را از قسمت تمرین خارج کنید و به صورت جداگانه بررسی کنید. حالت تعمیم‌یافته آنرا نیز بررسی کنید. همچنین یک مثال از شمول و عدم شمول نیز حل کنید.\n",
    "        </li>\n",
    "    </ul>\n",
    "</div>"
   ]
  },
  {
   "cell_type": "code",
   "execution_count": null,
   "metadata": {},
   "outputs": [],
   "source": []
  }
 ],
 "metadata": {
  "kernelspec": {
   "display_name": "R",
   "language": "R",
   "name": "ir"
  },
  "language_info": {
   "codemirror_mode": "r",
   "file_extension": ".r",
   "mimetype": "text/x-r-source",
   "name": "R",
   "pygments_lexer": "r",
   "version": "3.6.1"
  },
  "latex_envs": {
   "LaTeX_envs_menu_present": true,
   "autoclose": false,
   "autocomplete": true,
   "bibliofile": "biblio.bib",
   "cite_by": "apalike",
   "current_citInitial": 1,
   "eqLabelWithNumbers": true,
   "eqNumInitial": 1,
   "hotkeys": {
    "equation": "Ctrl-E",
    "itemize": "Ctrl-I"
   },
   "labels_anchors": false,
   "latex_user_defs": false,
   "report_style_numbering": false,
   "user_envs_cfg": false
  },
  "toc": {
   "base_numbering": 1,
   "nav_menu": {},
   "number_sections": true,
   "sideBar": true,
   "skip_h1_title": false,
   "title_cell": "Table of Contents",
   "title_sidebar": "Contents",
   "toc_cell": false,
   "toc_position": {},
   "toc_section_display": true,
   "toc_window_display": false
  },
  "varInspector": {
   "cols": {
    "lenName": 16,
    "lenType": 16,
    "lenVar": 40
   },
   "kernels_config": {
    "python": {
     "delete_cmd_postfix": "",
     "delete_cmd_prefix": "del ",
     "library": "var_list.py",
     "varRefreshCmd": "print(var_dic_list())"
    },
    "r": {
     "delete_cmd_postfix": ") ",
     "delete_cmd_prefix": "rm(",
     "library": "var_list.r",
     "varRefreshCmd": "cat(var_dic_list()) "
    }
   },
   "types_to_exclude": [
    "module",
    "function",
    "builtin_function_or_method",
    "instance",
    "_Feature"
   ],
   "window_display": false
  }
 },
 "nbformat": 4,
 "nbformat_minor": 2
}
